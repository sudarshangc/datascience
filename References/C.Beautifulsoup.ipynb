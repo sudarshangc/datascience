{
 "cells": [
  {
   "cell_type": "markdown",
   "metadata": {
    "collapsed": true
   },
   "source": [
    "BeautifulSoup\n",
    "---\n",
    "\n",
    "Docs: https://www.crummy.com/software/BeautifulSoup/bs4/doc/"
   ]
  },
  {
   "cell_type": "code",
   "execution_count": 1,
   "metadata": {
    "collapsed": true
   },
   "outputs": [],
   "source": [
    "# view-source:https://creativecommons.org/\n",
    "html = '''\n",
    "<!DOCTYPE html>\n",
    "<html lang=\"en-US\" prefix=\"og: http://ogp.me/ns#\" class=\"no-js\">\n",
    "<head>\n",
    "<meta charset=\"UTF-8\">\n",
    "<meta name=\"viewport\" content=\"width=device-width, initial-scale=1\">\n",
    "<link rel=\"profile\" href=\"http://gmpg.org/xfn/11\">\n",
    "<script>(function(html){html.className = html.className.replace(/\\bno-js\\b/,'js')})(document.documentElement);</script>\n",
    "<title>When we share, everyone wins - Creative Commons</title>\n",
    " \n",
    "<link rel=\"canonical\" href=\"https://creativecommons.org/\"/>\n",
    "<meta property=\"og:locale\" content=\"en_US\"/>\n",
    "<meta property=\"og:type\" content=\"website\"/>\n",
    "<meta property=\"og:title\" content=\"When we share, everyone wins - Creative Commons\"/>\n",
    "<meta property=\"og:description\" content=\"When we share, everyone wins Creative Commons helps you legally share your knowledge and creativity to build a more equitable, accessible, and innovative world &#8212; unlocking the full potential of the internet to drive a new era of development, growth and productivity. Learn More\"/>\n",
    "<meta property=\"og:url\" content=\"https://creativecommons.org/\"/>\n",
    "<meta property=\"og:site_name\" content=\"Creative Commons\"/>\n",
    "<meta name=\"twitter:card\" content=\"summary\"/>\n",
    "<meta name=\"twitter:description\" content=\"When we share, everyone wins Creative Commons helps you legally share your knowledge and creativity to build a more equitable, accessible, and innovative world &#8212; unlocking the full potential of the internet to drive a new era of development, growth and productivity. Learn More\"/>\n",
    "<meta name=\"twitter:title\" content=\"When we share, everyone wins - Creative Commons\"/>\n",
    "<script type='application/ld+json'>{\"@context\":\"http:\\/\\/schema.org\",\"@type\":\"WebSite\",\"url\":\"https:\\/\\/creativecommons.org\\/\",\"name\":\"Creative Commons\",\"potentialAction\":{\"@type\":\"SearchAction\",\"target\":\"https:\\/\\/creativecommons.org\\/?s={search_term_string}\",\"query-input\":\"required name=search_term_string\"}}</script>\n",
    " \n",
    "<link rel=\"alternate\" type=\"application/rss+xml\" title=\"Creative Commons &raquo; Feed\" href=\"https://creativecommons.org/feed/\"/>\n",
    "<link rel=\"alternate\" type=\"application/rss+xml\" title=\"Creative Commons &raquo; Comments Feed\" href=\"https://creativecommons.org/comments/feed/\"/>\n",
    "<script type=\"text/javascript\">\n",
    "\t\t\twindow._wpemojiSettings = {\"baseUrl\":\"https:\\/\\/s.w.org\\/images\\/core\\/emoji\\/72x72\\/\",\"ext\":\".png\",\"source\":{\"wpemoji\":\"https:\\/\\/creativecommons.org\\/wordpress\\/wp-includes\\/js\\/wp-emoji.js?ver=4.5.3\",\"twemoji\":\"https:\\/\\/creativecommons.org\\/wordpress\\/wp-includes\\/js\\/twemoji.js?ver=4.5.3\"}};\n",
    "\t\t\t( function( window, document, settings ) {\n",
    "\tvar src, ready, ii, tests;\n",
    "\n",
    "\t/**\n",
    "\t * Detect if the browser supports rendering emoji or flag emoji. Flag emoji are a single glyph\n",
    "\t * made of two characters, so some browsers (notably, Firefox OS X) don't support them.\n",
    "\t *\n",
    "\t * @since 4.2.0\n",
    "\t *\n",
    "\t * @param type {String} Whether to test for support of \"simple\", \"flag\", \"diversity\" or \"unicode8\" emoji.\n",
    "\t * @return {Boolean} True if the browser can render emoji, false if it cannot.\n",
    "\t */\n",
    "\tfunction browserSupportsEmoji( type ) {\n",
    "\t\tvar canvas = document.createElement( 'canvas' ),\n",
    "\t\t\tcontext = canvas.getContext && canvas.getContext( '2d' ),\n",
    "\t\t\tstringFromCharCode = String.fromCharCode,\n",
    "\t\t\ttonedata, tone, tone2;\n",
    "\n",
    "\t\tif ( ! context || ! context.fillText ) {\n",
    "\t\t\treturn false;\n",
    "\t\t}\n",
    "\n",
    "\t\t/*\n",
    "\t\t * Chrome on OS X added native emoji rendering in M41. Unfortunately,\n",
    "\t\t * it doesn't work when the font is bolder than 500 weight. So, we\n",
    "\t\t * check for bold rendering support to avoid invisible emoji in Chrome.\n",
    "\t\t */\n",
    "\t\tcontext.textBaseline = 'top';\n",
    "\t\tcontext.font = '600 32px Arial';\n",
    "\n",
    "\t\tswitch ( type ) {\n",
    "\t\t\tcase 'flag':\n",
    "\t\t\t\t/*\n",
    "\t\t\t\t * This works because the image will be one of three things:\n",
    "\t\t\t\t * - Two empty squares, if the browser doesn't render emoji\n",
    "\t\t\t\t * - Two squares with 'A' and 'U' in them, if the browser doesn't render flag emoji\n",
    "\t\t\t\t * - The Australian flag\n",
    "\t\t\t\t *\n",
    "\t\t\t\t * The first two will encode to small images (1-2KB data URLs), the third will encode\n",
    "\t\t\t\t * to a larger image (4-5KB data URL).\n",
    "\t\t\t\t */\n",
    "\t\t\t\tcontext.fillText( stringFromCharCode( 55356, 56806, 55356, 56826 ), 0, 0 );\n",
    "\t\t\t\treturn canvas.toDataURL().length > 3000;\n",
    "\t\t\tcase 'diversity':\n",
    "\t\t\t\t/*\n",
    "\t\t\t\t * This tests if the browser supports the Emoji Diversity specification, by rendering an\n",
    "\t\t\t\t * emoji with no skin tone specified (in this case, Santa). It then adds a skin tone, and\n",
    "\t\t\t\t * compares if the emoji rendering has changed.\n",
    "\t\t\t\t */\n",
    "\t\t\t\tcontext.fillText( stringFromCharCode( 55356, 57221 ), 0, 0 );\n",
    "\t\t\t\ttonedata = context.getImageData( 16, 16, 1, 1 ).data;\n",
    "\t\t\t\ttone = tonedata[0] + ',' + tonedata[1] + ',' + tonedata[2] + ',' + tonedata[3];\n",
    "\n",
    "\t\t\t\tcontext.fillText( stringFromCharCode( 55356, 57221, 55356, 57343 ), 0, 0 );\n",
    "\t\t\t\t// Chrome has issues comparing arrays, and Safari has issues converting arrays to strings.\n",
    "\t\t\t\t// So, we create our own string and compare that, instead.\n",
    "\t\t\t\ttonedata = context.getImageData( 16, 16, 1, 1 ).data;\n",
    "\t\t\t\ttone2 = tonedata[0] + ',' + tonedata[1] + ',' + tonedata[2] + ',' + tonedata[3];\n",
    "\n",
    "\t\t\t\treturn tone !== tone2;\n",
    "\t\t\tcase 'simple':\n",
    "\t\t\t\t/*\n",
    "\t\t\t\t * This creates a smiling emoji, and checks to see if there is any image data in the\n",
    "\t\t\t\t * center pixel. In browsers that don't support emoji, the character will be rendered\n",
    "\t\t\t\t * as an empty square, so the center pixel will be blank.\n",
    "\t\t\t\t */\n",
    "\t\t\t\tcontext.fillText( stringFromCharCode( 55357, 56835 ), 0, 0 );\n",
    "\t\t\t\treturn context.getImageData( 16, 16, 1, 1 ).data[0] !== 0;\n",
    "\t\t\tcase 'unicode8':\n",
    "\t\t\t\t/*\n",
    "\t\t\t\t * To check for Unicode 8 support, let's try rendering the most important advancement\n",
    "\t\t\t\t * that the Unicode Consortium have made in years: the burrito.\n",
    "\t\t\t\t */\n",
    "\t\t\t\tcontext.fillText( stringFromCharCode( 55356, 57135 ), 0, 0 );\n",
    "\t\t\t\treturn context.getImageData( 16, 16, 1, 1 ).data[0] !== 0;\n",
    "\t\t}\n",
    "\n",
    "\t\treturn false;\n",
    "\t}\n",
    "\n",
    "\tfunction addScript( src ) {\n",
    "\t\tvar script = document.createElement( 'script' );\n",
    "\n",
    "\t\tscript.src = src;\n",
    "\t\tscript.type = 'text/javascript';\n",
    "\t\tdocument.getElementsByTagName( 'head' )[0].appendChild( script );\n",
    "\t}\n",
    "\n",
    "\ttests = Array( 'simple', 'flag', 'unicode8', 'diversity' );\n",
    "\n",
    "\tsettings.supports = {\n",
    "\t\teverything: true,\n",
    "\t\teverythingExceptFlag: true\n",
    "\t};\n",
    "\n",
    "\tfor( ii = 0; ii < tests.length; ii++ ) {\n",
    "\t\tsettings.supports[ tests[ ii ] ] = browserSupportsEmoji( tests[ ii ] );\n",
    "\n",
    "\t\tsettings.supports.everything = settings.supports.everything && settings.supports[ tests[ ii ] ];\n",
    "\n",
    "\t\tif ( 'flag' !== tests[ ii ] ) {\n",
    "\t\t\tsettings.supports.everythingExceptFlag = settings.supports.everythingExceptFlag && settings.supports[ tests[ ii ] ];\n",
    "\t\t}\n",
    "\t}\n",
    "\n",
    "\tsettings.supports.everythingExceptFlag = settings.supports.everythingExceptFlag && ! settings.supports.flag;\n",
    "\n",
    "\tsettings.DOMReady = false;\n",
    "\tsettings.readyCallback = function() {\n",
    "\t\tsettings.DOMReady = true;\n",
    "\t};\n",
    "\n",
    "\tif ( ! settings.supports.everything ) {\n",
    "\t\tready = function() {\n",
    "\t\t\tsettings.readyCallback();\n",
    "\t\t};\n",
    "\n",
    "\t\tif ( document.addEventListener ) {\n",
    "\t\t\tdocument.addEventListener( 'DOMContentLoaded', ready, false );\n",
    "\t\t\twindow.addEventListener( 'load', ready, false );\n",
    "\t\t} else {\n",
    "\t\t\twindow.attachEvent( 'onload', ready );\n",
    "\t\t\tdocument.attachEvent( 'onreadystatechange', function() {\n",
    "\t\t\t\tif ( 'complete' === document.readyState ) {\n",
    "\t\t\t\t\tsettings.readyCallback();\n",
    "\t\t\t\t}\n",
    "\t\t\t} );\n",
    "\t\t}\n",
    "\n",
    "\t\tsrc = settings.source || {};\n",
    "\n",
    "\t\tif ( src.concatemoji ) {\n",
    "\t\t\taddScript( src.concatemoji );\n",
    "\t\t} else if ( src.wpemoji && src.twemoji ) {\n",
    "\t\t\taddScript( src.twemoji );\n",
    "\t\t\taddScript( src.wpemoji );\n",
    "\t\t}\n",
    "\t}\n",
    "\n",
    "} )( window, document, window._wpemojiSettings );\n",
    "\t\t</script>\n",
    "<style type=\"text/css\">img.wp-smiley,img.emoji{display:inline!important;border:none!important;box-shadow:none!important;height:1em!important;width:1em!important;margin:0 .07em!important;vertical-align:-0.1em!important;background:none!important;padding:0!important;}</style>\n",
    "<link rel='stylesheet' id='twentysixteen-jetpack-css' href='https://creativecommons.org/wp-content/plugins/jetpack/modules/theme-tools/compat/twentysixteen.css?ver=4.0.4' type='text/css' media='all'/>\n",
    "<link rel='stylesheet' id='cc-donate-css' href='https://creativecommons.org/wp-content/plugins/cc-donate/css/cc-donate.css?ver=4.5.3' type='text/css' media='all'/>\n",
    "<link rel='stylesheet' id='parent-style-css' href='https://creativecommons.org/wp-content/themes/twentysixteen/style.css?ver=4.5.3' type='text/css' media='all'/>\n",
    "<link rel='stylesheet' id='cc-google-fonts-css' href='//fonts.googleapis.com/css?family=Source+Sans+Pro%3A400%2C600%2C700%7CRoboto+Condensed&#038;ver=4.5.3' type='text/css' media='all'/>\n",
    "<link rel='stylesheet' id='cc-fontello-css' href='https://creativecommons.org/wp-content/themes/cc/fonts/fontello/css/cc-fontello.css?ver=4.5.3' type='text/css' media='all'/>\n",
    "<link rel='stylesheet' id='cc-style-css' href='https://creativecommons.org/wp-content/themes/cc/css/app.css?ver=20160622' type='text/css' media='all'/>\n",
    "<link rel='stylesheet' id='twentysixteen-style-css' href='https://creativecommons.org/wp-content/themes/cc/style.css?ver=4.5.3' type='text/css' media='all'/>\n",
    "<!--[if lt IE 10]>\n",
    "<link rel='stylesheet' id='twentysixteen-ie-css'  href='https://creativecommons.org/wp-content/themes/twentysixteen/css/ie.css?ver=20160412' type='text/css' media='all' />\n",
    "<![endif]-->\n",
    "<!--[if lt IE 9]>\n",
    "<link rel='stylesheet' id='twentysixteen-ie8-css'  href='https://creativecommons.org/wp-content/themes/twentysixteen/css/ie8.css?ver=20160412' type='text/css' media='all' />\n",
    "<![endif]-->\n",
    "<!--[if lt IE 8]>\n",
    "<link rel='stylesheet' id='twentysixteen-ie7-css'  href='https://creativecommons.org/wp-content/themes/twentysixteen/css/ie7.css?ver=20160412' type='text/css' media='all' />\n",
    "<![endif]-->\n",
    "<link rel='stylesheet' id='jetpack-responsive-videos-style-css' href='https://creativecommons.org/wp-content/plugins/jetpack/modules/theme-tools/responsive-videos/responsive-videos.css?ver=4.5.3' type='text/css' media='all'/>\n",
    " \n",
    "<script type=\"text/javascript\">\n",
    "\t(function(i,s,o,g,r,a,m){i['GoogleAnalyticsObject']=r;i[r]=i[r]||function(){\n",
    "\t\t(i[r].q=i[r].q||[]).push(arguments)},i[r].l=1*new Date();a=s.createElement(o),\n",
    "\t\tm=s.getElementsByTagName(o)[0];a.async=1;a.src=g;m.parentNode.insertBefore(a,m)\n",
    "\t})(window,document,'script','//www.google-analytics.com/analytics.js','__gaTracker');\n",
    "\n",
    "\t__gaTracker('create', 'UA-2010376-1', 'auto');\n",
    "\t__gaTracker('set', 'forceSSL', true);\n",
    "\t__gaTracker('send','pageview');\n",
    "\n",
    "</script>\n",
    " \n",
    "<script type='text/javascript' src='https://creativecommons.org/wordpress/wp-includes/js/jquery/jquery.js?ver=1.12.4'></script>\n",
    "<script type='text/javascript' src='https://creativecommons.org/wordpress/wp-includes/js/jquery/jquery-migrate.js?ver=1.4.1'></script>\n",
    "<!--[if lt IE 9]>\n",
    "<script type='text/javascript' src='https://creativecommons.org/wp-content/themes/twentysixteen/js/html5.js?ver=3.7.3'></script>\n",
    "<![endif]-->\n",
    "<link rel='https://api.w.org/' href='https://creativecommons.org/wp-json/'/>\n",
    "<link rel=\"EditURI\" type=\"application/rsd+xml\" title=\"RSD\" href=\"https://creativecommons.org/wordpress/xmlrpc.php?rsd\"/>\n",
    "<link rel=\"wlwmanifest\" type=\"application/wlwmanifest+xml\" href=\"https://creativecommons.org/wordpress/wp-includes/wlwmanifest.xml\"/>\n",
    "<meta name=\"generator\" content=\"WordPress 4.5.3\"/>\n",
    "<link rel='shortlink' href='https://wp.me/P76yF2-cHi'/>\n",
    "<link rel=\"alternate\" type=\"application/json+oembed\" href=\"https://creativecommons.org/wp-json/oembed/1.0/embed?url=https%3A%2F%2Fcreativecommons.org%2F\"/>\n",
    "<link rel=\"alternate\" type=\"text/xml+oembed\" href=\"https://creativecommons.org/wp-json/oembed/1.0/embed?url=https%3A%2F%2Fcreativecommons.org%2F&#038;format=xml\"/>\n",
    "<link rel='dns-prefetch' href='//v0.wordpress.com'>\n",
    "<style type='text/css'>img#wpstats{display:none}</style><link rel=\"icon\" href=\"https://creativecommons.org/wp-content/uploads/2016/05/cc-site-icon-150x150.png\" sizes=\"32x32\"/>\n",
    "<link rel=\"icon\" href=\"https://creativecommons.org/wp-content/uploads/2016/05/cc-site-icon-300x300.png\" sizes=\"192x192\"/>\n",
    "<link rel=\"apple-touch-icon-precomposed\" href=\"https://creativecommons.org/wp-content/uploads/2016/05/cc-site-icon-300x300.png\"/>\n",
    "<meta name=\"msapplication-TileImage\" content=\"https://creativecommons.org/wp-content/uploads/2016/05/cc-site-icon-300x300.png\"/>\n",
    "<link rel=\"stylesheet\" href=\"https://maxcdn.bootstrapcdn.com/font-awesome/4.6.1/css/font-awesome.min.css\">\n",
    "</head>\n",
    "<body class=\"home page page-id-48812 page-template-default wp-custom-logo group-blog\">\n",
    "<div id=\"page\" class=\"site\">\n",
    "<div class=\"site-inner\">\n",
    "<a class=\"skip-link screen-reader-text\" href=\"#content\">Skip to content</a>\n",
    "<div class=\"site-header-wrapper\">\n",
    "<header id=\"masthead\" class=\"site-header sticky-nav-main\" role=\"banner\">\n",
    "<div class=\"site-header-main\">\n",
    "<div class=\"site-branding\">\n",
    "<a class=\"cc-site-logo-link\" href=\"https://creativecommons.org/\" rel=\"home\">\n",
    "<img class=\"cc-site-logo\" alt=\"Creative Commons\" width=\"303\" height=\"72\" src=\"https://creativecommons.org/wp-content/themes/cc/images/cc.logo.white.svg\">\n",
    "</a>\n",
    "</div> \n",
    "<button id=\"menu-toggle\" class=\"menu-toggle\"><i class=\"cc-icon-menu\"></i> <span>Menu</span></button>\n",
    "<div id=\"site-header-menu\" class=\"site-header-menu\">\n",
    "<nav id=\"mobile-navigation\" class=\"mobile-navigation\" role=\"navigation\" aria-label=\"Mobile Menu\">\n",
    "<div class=\"menu-mobile-menu-container\"><ul id=\"menu-mobile-menu\" class=\"mobile-menu\"><li id=\"menu-item-48798\" class=\"menu-item menu-item-type-post_type menu-item-object-page menu-item-48798\"><a href=\"https://creativecommons.org/share-your-work/\">Share your work</a></li>\n",
    "<li id=\"menu-item-48799\" class=\"menu-item menu-item-type-post_type menu-item-object-page menu-item-48799\"><a href=\"https://creativecommons.org/use-remix/\">Use &#038; remix</a></li>\n",
    "<li id=\"menu-item-48800\" class=\"menu-item menu-item-type-post_type menu-item-object-page menu-item-48800\"><a href=\"https://creativecommons.org/about/\">What we do</a></li>\n",
    "<li id=\"menu-item-48801\" class=\"menu-item menu-item-type-post_type menu-item-object-page menu-item-48801\"><a href=\"https://creativecommons.org/blog/\">Blog</a></li>\n",
    "<li id=\"menu-item-48802\" class=\"menu-item menu-item-type-post_type menu-item-object-page menu-item-48802\"><a href=\"https://creativecommons.org/about/global-affiliate-network/\">Global Affiliate Network</a></li>\n",
    "<li id=\"menu-item-48803\" class=\"menu-item menu-item-type-post_type menu-item-object-page menu-item-48803\"><a href=\"https://creativecommons.org/use-remix/search-the-commons/\">Search the Commons</a></li>\n",
    "</ul></div> </nav> \n",
    "<nav id=\"site-navigation\" class=\"main-navigation\" role=\"navigation\" aria-label=\"Primary Menu\">\n",
    "<div class=\"menu-primary-menu-container\"><ul id=\"menu-primary-menu\" class=\"primary-menu\"><li id=\"menu-item-48791\" class=\"menu-item menu-item-type-post_type menu-item-object-page menu-item-48791\"><a href=\"https://creativecommons.org/share-your-work/\">Share your work</a></li>\n",
    "<li id=\"menu-item-48792\" class=\"menu-item menu-item-type-post_type menu-item-object-page menu-item-48792\"><a href=\"https://creativecommons.org/use-remix/\">Use &#038; remix</a></li>\n",
    "<li id=\"menu-item-48570\" class=\"menu-item menu-item-type-post_type menu-item-object-page menu-item-48570\"><a href=\"https://creativecommons.org/about/\">What we do</a></li>\n",
    "<li id=\"menu-item-48793\" class=\"menu-item menu-item-type-post_type menu-item-object-page menu-item-48793\"><a href=\"https://creativecommons.org/blog/\">Blog</a></li>\n",
    "</ul></div> </nav> \n",
    "<nav id=\"secondary-navigation\" class=\"secondary-navigation\" role=\"navigation\" aria-label=\"Secondary Menu\">\n",
    "<div class=\"menu-secondary-menu-container\"><ul id=\"menu-secondary-menu\" class=\"secondary-menu\"><li id=\"menu-item-48804\" class=\"menu-item menu-item-type-post_type menu-item-object-page menu-item-48804\"><a href=\"https://creativecommons.org/about/global-affiliate-network/\">Global Affiliate Network</a></li>\n",
    "<li id=\"menu-item-48805\" class=\"menu-item menu-item-type-post_type menu-item-object-page menu-item-48805\"><a href=\"https://creativecommons.org/use-remix/search-the-commons/\">Search the Commons</a></li>\n",
    "<li id=\"menu-item-48806\" class=\"menu-item menu-item-type-post_type menu-item-object-page menu-item-48806\"><a href=\"https://creativecommons.org/about/contact/\">Contact</a></li>\n",
    "</ul></div> </nav> \n",
    "<nav id=\"social-navigation\" class=\"social-navigation\" role=\"navigation\" aria-label=\"Social Links Menu\">\n",
    "<div class=\"menu-social-links-container\"><ul id=\"menu-social-links\" class=\"social-links-menu\"><li id=\"menu-item-48807\" class=\"menu-item menu-item-type-custom menu-item-object-custom menu-item-48807\"><a href=\"http://www.facebook.com/creativecommons\"><span class=\"screen-reader-text\">Facebook</span></a></li>\n",
    "<li id=\"menu-item-48808\" class=\"menu-item menu-item-type-custom menu-item-object-custom menu-item-48808\"><a href=\"http://twitter.com/creativecommons\"><span class=\"screen-reader-text\">Twitter</span></a></li>\n",
    "<li id=\"menu-item-48809\" class=\"menu-item menu-item-type-custom menu-item-object-custom menu-item-48809\"><a href=\"mailto:info@creativecommons.org\"><span class=\"screen-reader-text\">Mail</span></a></li>\n",
    "</ul></div> </nav> \n",
    "</div> \n",
    "</div> \n",
    "</header> \n",
    "</div> \n",
    "<div id=\"content\" class=\"site-content\">\n",
    " \n",
    "<aside id=\"header-below\" class=\"widget-area\">\n",
    "<section id=\"text-3\" class=\"widget-1 widget-first widget-last widget-odd widget widget_text\"> <div class=\"textwidget\"> <div id=\"donation-bar-wrapper\" class=\"donation-bar-wrapper\">\n",
    "<div id=\"donation-bar-inner\" class=\"donation-bar-inner\">\n",
    "<p class=\"donate-text\">Help us build a vibrant, collaborative global commons</p>\n",
    "<div class=\"donate-action\"><a href=\"/donate\" class=\"button donate arrow\">Donate<span class=\"hide-on-mobile\"> Now</span></a></div>\n",
    "</div>\n",
    "</div></div>\n",
    "</section> </aside> \n",
    " \n",
    "<div id=\"primary\" class=\"content-area\">\n",
    "<main id=\"main\" class=\"site-main\" role=\"main\">\n",
    "<article id=\"post-48812\" class=\"post-48812 page type-page status-publish hentry\">\n",
    "<header class=\"entry-header\">\n",
    "<h1 class=\"entry-title\">When we share, everyone wins</h1> </header> \n",
    "<div class=\"entry-content\">\n",
    "<div class=\"jetpack-video-wrapper\">\n",
    "<div class=\"embed-vimeo\" style=\"text-align: center;\"><iframe src=\"https://player.vimeo.com/video/151666798\" width=\"840\" height=\"473\" frameborder=\"0\" webkitallowfullscreen mozallowfullscreen allowfullscreen></iframe></div>\n",
    "</div>\n",
    "<div>\n",
    "<h2>When we share, everyone wins</h2>\n",
    "<p>Creative Commons helps you legally share your knowledge and creativity to build a more equitable, accessible, and innovative world &#8212; unlocking the full potential of the internet to drive a new era of development, growth and productivity.</p>\n",
    "<p><a class=\"button primary arrow\" href=\"/about\">Learn More</a></p>\n",
    "</div>\n",
    "</div> \n",
    "</article> \n",
    "</main> \n",
    "</div> \n",
    " \n",
    "<div id=\"home-content-below\" class=\"widget-area\">\n",
    "<div id=\"text-4\" class=\"widget-1 widget-first widget-odd homepage-sharing-widget widget_text\"><h2 class=\"rounded\">Share your work</h2> <div class=\"textwidget\"><div class=\"homepage-sharing-widget-inner\">\n",
    "<div class=\"column\">\n",
    "<div class=\"service-box\">\n",
    "<img class=\"alignnone size-full wp-image-586\" src=\"/wp-content/uploads/2016/05/icon_share.png\" alt=\"icon_share\" width=\"90\" height=\"82\"/>\n",
    "<h3>Share your work</h3>\n",
    "<ul>\n",
    "<li><a href=\"\"><a href=\"/share-your-work/\">Choose license</a></a></li>\n",
    "<li><a href=\"\"><a href=\"/about/contact/\">Connect with CC</a></a></li>\n",
    "<li><a href=\"\"><a href=\"/share-your-work/public-domain/\">Learn about public domain</a></a></li>\n",
    "</ul>\n",
    "</div>\n",
    "</div>\n",
    "<div class=\"column\">\n",
    "<div class=\"service-box\">\n",
    "<img src=\"/wp-content/uploads/2016/05/icon_find.png\" alt=\"icon_find\" width=\"81\" height=\"82\" class=\"alignnone size-full wp-image-581\"/>\n",
    "<h3>Use & remix</h3>\n",
    "<ul>\n",
    "<li><a href=\"\"><a href=\"/use-remix/search-the-commons/\" target=\"_blank\">Search</a></a></li>\n",
    "<li><a href=\"\"><a href=\"/share-your-work/places-to-share/\">Explore CC platforms</a></a></li>\n",
    "<li><a href=\"\"><a href=\"/use-remix/\">Search by topic</a></a></li>\n",
    "</ul>\n",
    "</div>\n",
    "</div>\n",
    "<div class=\"column\">\n",
    "<div class=\"service-box\">\n",
    "<img class=\"alignnone size-full wp-image-582\" src=\"/wp-content/uploads/2016/05/icon_getinvolved.png\" alt=\"icon_getinvolved\" width=\"97\" height=\"86\"/>\n",
    "<h3>Get involved</h3>\n",
    "<ul>\n",
    "<li><a href=\"\"><a href=\"/donate/\">Donate</a></a></li>\n",
    "<li><a href=\"\"><a href=\"/about/platform/\">Partner with CC</a></a></li>\n",
    "<li><a href=\"\"><a href=\"/about/program-areas/\">Program areas</a></a></li>\n",
    "</ul>\n",
    "</div>\n",
    "</div>\n",
    "</div></div>\n",
    "</div><div id=\"creativecommons_homepage_whatshappening_widget-3\" class=\"widget-2 widget-even widget_creativecommons_homepage_whatshappening_widget\">\n",
    "<div class=\"homepage-whatshappening-widget\">\n",
    "<div class=\"homepage-whatshappening-widget-inner\">\n",
    "<h2 class=\"txt-hero\"> What's<br/>Happening</h2>\n",
    "<div class=\"post-hero\">\n",
    "<div class=\"item\">\n",
    "<div class=\"thumbnail\">\n",
    "<a href=\"https://creativecommons.org/2016/08/02/open_building_institute/\"><img width=\"680\" height=\"383\" src=\"https://creativecommons.org/wp-content/uploads/2016/08/modular-house.jpg\" class=\"attachment-large size-large wp-post-image\" alt=\"modular house\" srcset=\"https://creativecommons.org/wp-content/uploads/2016/08/modular-house.jpg 680w, https://creativecommons.org/wp-content/uploads/2016/08/modular-house-300x169.jpg 300w, https://creativecommons.org/wp-content/uploads/2016/08/modular-house-71x40.jpg 71w, https://creativecommons.org/wp-content/uploads/2016/08/modular-house-50x28.jpg 50w, https://creativecommons.org/wp-content/uploads/2016/08/modular-house-270x152.jpg 270w\" sizes=\"(max-width: 709px) 85vw, (max-width: 909px) 67vw, (max-width: 984px) 61vw, (max-width: 1362px) 45vw, 600px\"/></a>\n",
    "</div>\n",
    "<div class=\"teaser\">\n",
    "<h3 class=\"title\"><a href=\"https://creativecommons.org/2016/08/02/open_building_institute/\">The future of housing is here: CC Talks with the Open Building Institute</a></h3>\n",
    "<div class=\"excerpt\"><p>What if the future of eco-housing is remixable, inexpensive, collaborative, open sourced, freely licensed, and accessible to all?</p>\n",
    "</div>\n",
    "<div class=\"category\"><a href=\"https://creativecommons.org/category/open-access/\">Open access</a></div>\n",
    "</div>\n",
    "</div>\n",
    "</div>\n",
    "<div class=\"posts-featured\">\n",
    "<div class=\"item\">\n",
    "<div class=\"thumbnail\">\n",
    "<a href=\"https://creativecommons.org/2016/08/16/u-s-moves-ahead-limited-code-sharing-policy/\"><img width=\"1200\" height=\"801\" src=\"https://creativecommons.org/wp-content/uploads/2016/08/photo-1461749280684-dccba630e2f6-1200x801.jpeg\" class=\"attachment-post-thumbnail size-post-thumbnail wp-post-image\" alt=\"photo-1461749280684-dccba630e2f6\" srcset=\"https://creativecommons.org/wp-content/uploads/2016/08/photo-1461749280684-dccba630e2f6-1200x801.jpeg 1200w, https://creativecommons.org/wp-content/uploads/2016/08/photo-1461749280684-dccba630e2f6-300x200.jpeg 300w, https://creativecommons.org/wp-content/uploads/2016/08/photo-1461749280684-dccba630e2f6-768x513.jpeg 768w, https://creativecommons.org/wp-content/uploads/2016/08/photo-1461749280684-dccba630e2f6-1024x684.jpeg 1024w, https://creativecommons.org/wp-content/uploads/2016/08/photo-1461749280684-dccba630e2f6-60x40.jpeg 60w, https://creativecommons.org/wp-content/uploads/2016/08/photo-1461749280684-dccba630e2f6-50x33.jpeg 50w, https://creativecommons.org/wp-content/uploads/2016/08/photo-1461749280684-dccba630e2f6-232x155.jpeg 232w\" sizes=\"(max-width: 709px) 85vw, (max-width: 909px) 67vw, (max-width: 984px) 60vw, (max-width: 1362px) 62vw, 840px\"/></a>\n",
    "</div>\n",
    "<div class=\"teaser\">\n",
    "<h3 class=\"title\"><a href=\"https://creativecommons.org/2016/08/16/u-s-moves-ahead-limited-code-sharing-policy/\">U.S. Moves Ahead with Limited Code Sharing Policy</a></h3>\n",
    "<div class=\"category\"><a href=\"https://creativecommons.org/category/policy-advocacy-copyright-reform/\">Policy / advocacy / copyright reform</a></div>\n",
    "</div>\n",
    "</div>\n",
    "<div class=\"item\">\n",
    "<div class=\"thumbnail\">\n",
    "<a href=\"https://creativecommons.org/2016/08/11/exploring-open-textbooks-improve-education-uganda/\"><img width=\"1200\" height=\"899\" src=\"https://creativecommons.org/wp-content/uploads/2016/08/kizza-3-1200x899.png\" class=\"attachment-post-thumbnail size-post-thumbnail wp-post-image\" alt=\"kizza 3\" srcset=\"https://creativecommons.org/wp-content/uploads/2016/08/kizza-3-1200x899.png 1200w, https://creativecommons.org/wp-content/uploads/2016/08/kizza-3-300x225.png 300w, https://creativecommons.org/wp-content/uploads/2016/08/kizza-3-768x575.png 768w, https://creativecommons.org/wp-content/uploads/2016/08/kizza-3-1024x767.png 1024w, https://creativecommons.org/wp-content/uploads/2016/08/kizza-3-53x40.png 53w, https://creativecommons.org/wp-content/uploads/2016/08/kizza-3-50x37.png 50w, https://creativecommons.org/wp-content/uploads/2016/08/kizza-3-207x155.png 207w, https://creativecommons.org/wp-content/uploads/2016/08/kizza-3.png 1244w\" sizes=\"(max-width: 709px) 85vw, (max-width: 909px) 67vw, (max-width: 984px) 60vw, (max-width: 1362px) 62vw, 840px\"/></a>\n",
    "</div>\n",
    "<div class=\"teaser\">\n",
    "<h3 class=\"title\"><a href=\"https://creativecommons.org/2016/08/11/exploring-open-textbooks-improve-education-uganda/\">Exploring open textbooks to improve education in Uganda</a></h3>\n",
    "<div class=\"category\"><a href=\"https://creativecommons.org/category/education-oer/\">Education / OER</a></div>\n",
    "</div>\n",
    "</div>\n",
    "<div class=\"item\">\n",
    "<div class=\"thumbnail\">\n",
    "<a href=\"https://creativecommons.org/2016/08/09/show-support-diego-gomez-week/\"><img width=\"1200\" height=\"630\" src=\"https://creativecommons.org/wp-content/uploads/2016/08/standwithdiego_twittershare-1200x630.png\" class=\"attachment-post-thumbnail size-post-thumbnail wp-post-image\" alt=\"standwithdiego_twittershare\" srcset=\"https://creativecommons.org/wp-content/uploads/2016/08/standwithdiego_twittershare.png 1200w, https://creativecommons.org/wp-content/uploads/2016/08/standwithdiego_twittershare-300x158.png 300w, https://creativecommons.org/wp-content/uploads/2016/08/standwithdiego_twittershare-768x403.png 768w, https://creativecommons.org/wp-content/uploads/2016/08/standwithdiego_twittershare-1024x538.png 1024w, https://creativecommons.org/wp-content/uploads/2016/08/standwithdiego_twittershare-76x40.png 76w, https://creativecommons.org/wp-content/uploads/2016/08/standwithdiego_twittershare-50x26.png 50w, https://creativecommons.org/wp-content/uploads/2016/08/standwithdiego_twittershare-270x142.png 270w\" sizes=\"(max-width: 709px) 85vw, (max-width: 909px) 67vw, (max-width: 984px) 60vw, (max-width: 1362px) 62vw, 840px\"/></a>\n",
    "</div>\n",
    "<div class=\"teaser\">\n",
    "<h3 class=\"title\"><a href=\"https://creativecommons.org/2016/08/09/show-support-diego-gomez-week/\">Show your support for Diego Gomez this week!</a></h3>\n",
    "<div class=\"category\"><a href=\"https://creativecommons.org/category/open-access/\">Open access</a></div>\n",
    "</div>\n",
    "</div>\n",
    "<div class=\"item\">\n",
    "<div class=\"thumbnail\">\n",
    "<a href=\"https://creativecommons.org/2016/08/03/changing-role-publisher-age-plenty/\"><img width=\"640\" height=\"480\" src=\"https://creativecommons.org/wp-content/uploads/2016/08/5488975286_339e3f3c06_z.jpg\" class=\"attachment-post-thumbnail size-post-thumbnail wp-post-image\" alt=\"5488975286_339e3f3c06_z\" srcset=\"https://creativecommons.org/wp-content/uploads/2016/08/5488975286_339e3f3c06_z.jpg 640w, https://creativecommons.org/wp-content/uploads/2016/08/5488975286_339e3f3c06_z-300x225.jpg 300w, https://creativecommons.org/wp-content/uploads/2016/08/5488975286_339e3f3c06_z-53x40.jpg 53w, https://creativecommons.org/wp-content/uploads/2016/08/5488975286_339e3f3c06_z-50x38.jpg 50w, https://creativecommons.org/wp-content/uploads/2016/08/5488975286_339e3f3c06_z-207x155.jpg 207w\" sizes=\"(max-width: 709px) 85vw, (max-width: 909px) 67vw, (max-width: 984px) 60vw, (max-width: 1362px) 62vw, 840px\"/></a>\n",
    "</div>\n",
    "<div class=\"teaser\">\n",
    "<h3 class=\"title\"><a href=\"https://creativecommons.org/2016/08/03/changing-role-publisher-age-plenty/\">The changing role of the publisher in the age of plenty</a></h3>\n",
    "<div class=\"category\"><a href=\"https://creativecommons.org/category/education-oer/\">Education / OER</a></div>\n",
    "</div>\n",
    "</div>\n",
    "</div>\n",
    "<div class=\"more\"><a href=\"/blog\">More News<i class=\"cc-icon-right-dir\"></i></a></div>\n",
    "</div>\n",
    "</div>\n",
    "</div><div id=\"text-13\" class=\"widget-3 widget-odd widget_text\"> <div class=\"textwidget\"><h2><span>Stay Tuned</span> <span>to the Commons</span></h2><form style=\"margin: 0 auto; padding: 0; max-width: 20em;\" id=\"Edit\" action=\"https://donate.creativecommons.org/civicrm/profile/create?gid=29&amp;reset=1\" method=\"post\" name=\"Edit\">\n",
    "<input name=\"group[121]\" value=\"1\" type=\"hidden\">\n",
    "<div class=\"input-group\">\n",
    "<input tabindex=\"0\" id=\"email-Primary\" class=\"form-control\" maxlength=\"64\" name=\"email-Primary\" size=\"30\" placeholder=\"Your email\" type=\"email\" required>\n",
    "<span class=\"input-group-btn\">\n",
    "<button id=\"_qf_Edit_next\" accesskey=\"S\" name=\"_qf_Edit_next\" class=\"button primary arrow\" value=\"Sign up\" type=\"submit\">Sign up</button>\n",
    "</span>\n",
    "</div></div>\n",
    "</div><div id=\"gform_widget-3\" class=\"widget-4 widget-even gform_widget\"><link rel='stylesheet' id='gforms_reset_css-css' href='https://creativecommons.org/wp-content/plugins/gravityforms/css/formreset.css?ver=1.9.19' type='text/css' media='all'/>\n",
    "<link rel='stylesheet' id='gforms_formsmain_css-css' href='https://creativecommons.org/wp-content/plugins/gravityforms/css/formsmain.css?ver=1.9.19' type='text/css' media='all'/>\n",
    "<link rel='stylesheet' id='gforms_ready_class_css-css' href='https://creativecommons.org/wp-content/plugins/gravityforms/css/readyclass.css?ver=1.9.19' type='text/css' media='all'/>\n",
    "<link rel='stylesheet' id='gforms_browsers_css-css' href='https://creativecommons.org/wp-content/plugins/gravityforms/css/browsers.css?ver=1.9.19' type='text/css' media='all'/>\n",
    "<div class=\"widget-inner\">\n",
    "<div class='gf_browser_gecko gform_wrapper' id='gform_wrapper_2'><form method='post' enctype='multipart/form-data' id='gform_2' action='/'>\n",
    "<div class='gform_body'><ul id='gform_fields_2' class='gform_fields top_label form_sublabel_below description_below'><li id='field_2_2' class='gfield gfield_html gfield_html_formatted gfield_no_follows_desc field_sublabel_below field_description_below'><h2><span>Donate to help keep the internet free and open!</span></h2></li><li id='field_2_1' class='gfield field_sublabel_below field_description_below'><label class='gfield_label'></label><div class='ginput_container ginput_container_radio'><ul class='gfield_radio' id='input_2_1'><li class='gchoice_2_1_0'><input name='input_1' type='radio' value='$100' id='choice_2_1_0' tabindex='1'/><label for='choice_2_1_0' id='label_2_1_0'>$100</label></li><li class='gchoice_2_1_1'><input name='input_1' type='radio' value='$50' checked='checked' id='choice_2_1_1' tabindex='2'/><label for='choice_2_1_1' id='label_2_1_1'>$50</label></li><li class='gchoice_2_1_2'><input name='input_1' type='radio' value='$25' id='choice_2_1_2' tabindex='3'/><label for='choice_2_1_2' id='label_2_1_2'>$25</label></li><li class='gchoice_2_1_3'><input name='input_1' type='radio' value='$5' id='choice_2_1_3' tabindex='4'/><label for='choice_2_1_3' id='label_2_1_3'>$5</label></li><li class='gchoice_2_1_4'><input name='input_1' type='radio' value='gf_other_choice' id='choice_2_1_4' tabindex='5' onfocus=\"jQuery(this).next('input').focus();\"/><input id='input_2_1_other' name='input_1_other' type='text' value='Other' aria-label='Other' onfocus='jQuery(this).prev(\"input\")[0].click(); if(jQuery(this).val() == \"Other\") { jQuery(this).val(\"\"); }' onblur='if(jQuery(this).val().replace(\" \", \"\") == \"\") { jQuery(this).val(\"Other\"); }' tabindex='5'/></li></ul></div></li><li id='field_2_3' class='gfield gform_validation_container field_sublabel_below field_description_below'><label class='gfield_label' for='input_2_3'>Phone</label><div class='ginput_container'><input name='input_3' id='input_2_3' type='text' value=''/></div><div class='gfield_description'>This field is for validation purposes and should be left unchanged.</div></li>\n",
    "</ul></div>\n",
    "<div class='gform_footer top_label'> <input type='submit' id='gform_submit_button_2' class='gform_button button' value='Next' tabindex='6' onclick='if(window[\"gf_submitting_2\"]){return false;}  window[\"gf_submitting_2\"]=true;  '/>\n",
    "<input type='hidden' class='gform_hidden' name='is_submit_2' value='1'/>\n",
    "<input type='hidden' class='gform_hidden' name='gform_submit' value='2'/>\n",
    "<input type='hidden' class='gform_hidden' name='gform_unique_id' value=''/>\n",
    "<input type='hidden' class='gform_hidden' name='state_2' value='WyJbXSIsImZlZjcyZWE3NTkyZTgyYWE0NDVlZTQ4ODgyZGEyMGEzIl0='/>\n",
    "<input type='hidden' class='gform_hidden' name='gform_target_page_number_2' id='gform_target_page_number_2' value='0'/>\n",
    "<input type='hidden' class='gform_hidden' name='gform_source_page_number_2' id='gform_source_page_number_2' value='1'/>\n",
    "<input type='hidden' name='gform_field_values' value=''/>\n",
    "</div>\n",
    "</form>\n",
    "</div><script type='text/javascript'> jQuery(document).bind('gform_post_render', function(event, formId, currentPage){if(formId == 2) {} } );jQuery(document).bind('gform_post_conditional_logic', function(event, formId, fields, isInit){} );</script><script type='text/javascript'> jQuery(document).ready(function(){jQuery(document).trigger('gform_post_render', [2, 1]) } ); </script></div></div><div id=\"text-6\" class=\"widget-5 widget-odd cc-widget-homepage-supporters widget_text\"><h2 class=\"rounded\">Thank you to our supporters</h2> <div class=\"textwidget\"><ul>\n",
    "<li><a href=\"http://www.hewlett.org/\"><img src=\"/wp-content/uploads/2016/05/Hewlett.png\"></a></li>\n",
    "<li><a href=\"http://www.arcadiafund.org.uk/about-arcadia/about-arcadia/.aspx\"><img src=\"/wp-content/uploads/2016/05/Arcadia.png\"></a></li>\n",
    "<li><img src=\"/wp-content/uploads/2016/05/BrianWojcicki.png\"></li>\n",
    "<li><a href=\"https://www.google.org/\"><img src=\"/wp-content/uploads/2016/05/google.png\"></a></li>\n",
    "<li><a href=\"https://www.imls.gov/\"><img src=\"/wp-content/uploads/2016/05/Museum_Library.png\"></a></li>\n",
    "<li><a href=\"https://www.privateinternetaccess.com/\"><img src=\"/wp-content/uploads/2016/07/PIA_new_rev.png\"></a></li>\n",
    "</ul>\n",
    "<h2>and thousands of donors like you!</h2>\n",
    "<div class=\"more\"><a href=\"/supporters/\">See all our supporters<i class=\" cc-icon-right-dir\"></i></a></div></div>\n",
    "</div><div id=\"creativecommons_resource_homepage_widget-3\" class=\"widget-6 widget-last widget-even widget_creativecommons_resource_homepage_widget\"><div class=\"homepage-resources-widget\"><div class=\"widget-header\"><h2 class=\"rounded\">The growing commons</h2><div class=\"intro\"><p><strong>1.1 billion works and counting</strong>. Explore these featured Creative Commons Licensed resources below &mdash; from literary works, to videos, photos, audio, open education, scientific research and more! Or you can <a href=\"/share-your-work\">share your work</a>, and help light up the global commons!</p>\n",
    "</div></div><div class=\"cc-footer-float-from\"></div><div class=\"resource-list\"></div></div></div> </div> \n",
    " \n",
    "</div> \n",
    "<div class=\"site-footer-wrapper\">\n",
    "<footer id=\"colophon\" class=\"site-footer sticky-nav-main\" role=\"contentinfo\">\n",
    "<div class=\"cc-footer\">\n",
    "<div class=\"column cc-footer-main\">\n",
    "<div class=\"cc-footer-logo\">\n",
    "<a href=\"https://creativecommons.org/\" class=\"custom-logo-link\" rel=\"home\" itemprop=\"url\"><img width=\"980\" height=\"240\" src=\"https://creativecommons.org/wp-content/uploads/2016/06/cc.logo_.white_.png\" class=\"custom-logo\" alt=\"cc.logo.white\" itemprop=\"logo\" srcset=\"https://creativecommons.org/wp-content/uploads/2016/06/cc.logo_.white_.png 980w, https://creativecommons.org/wp-content/uploads/2016/06/cc.logo_.white_-300x73.png 300w, https://creativecommons.org/wp-content/uploads/2016/06/cc.logo_.white_-768x188.png 768w, https://creativecommons.org/wp-content/uploads/2016/06/cc.logo_.white_-140x34.png 140w, https://creativecommons.org/wp-content/uploads/2016/06/cc.logo_.white_-50x12.png 50w, https://creativecommons.org/wp-content/uploads/2016/06/cc.logo_.white_-270x66.png 270w, https://creativecommons.org/wp-content/uploads/2016/06/cc.logo_.white_-245x60.png 245w\" sizes=\"(max-width: 709px) 85vw, (max-width: 909px) 67vw, (max-width: 1362px) 62vw, 840px\"/></a> </div>\n",
    "<div class=\"cc-footer-links\">\n",
    "<div class=\"menu-footer-links-container\"><ul id=\"menu-footer-links\" class=\"menu\"><li id=\"menu-item-48794\" class=\"menu-item menu-item-type-post_type menu-item-object-page menu-item-48794\"><a href=\"https://creativecommons.org/about/contact/\">Contact</a></li>\n",
    "<li id=\"menu-item-48795\" class=\"menu-item menu-item-type-post_type menu-item-object-page menu-item-48795\"><a href=\"https://creativecommons.org/privacy/\">Privacy</a></li>\n",
    "<li id=\"menu-item-48796\" class=\"menu-item menu-item-type-post_type menu-item-object-page menu-item-48796\"><a href=\"https://creativecommons.org/policies/\">Policies</a></li>\n",
    "<li id=\"menu-item-48797\" class=\"menu-item menu-item-type-post_type menu-item-object-page menu-item-48797\"><a href=\"https://creativecommons.org/terms/\">Terms</a></li>\n",
    "</ul></div> <div class=\"cc-footer-links-search\">\n",
    "<form role=\"search\" method=\"get\" class=\"search-form\" action=\"https://creativecommons.org/\"> <label> <span class=\"screen-reader-text\">Search for:</span> <input type=\"search\" class=\"search-field\" placeholder=\"Search the website\" value=\"\" name=\"s\" title=\"Search for:\"/> </label> <button type=\"submit\" class=\"search-submit\" value=\"Search\"> <span class=\"screen-reader-text\">Search</span> </button></form> </div>\n",
    "</div>\n",
    "</div>\n",
    "<div class=\"column cc-footer-contact\">\n",
    "<h6><a href=\"/about/contact\">We'd love to hear from you!</a></h6>\n",
    "<address>\n",
    "Creative Commons<br/>\n",
    "PO Box 1866, Mountain View, CA 94042\n",
    "</address>\n",
    "<ul>\n",
    "<li><a href=\"mailto:info@creativecommons.org\" class=\"mail\">info@creativecommons.org</a></li>\n",
    "<li><a href=\"tel:1-415-429-6753\">1-415-429-6753</a></li>\n",
    "<li><a style=\"color: white\" href=\"/faq\">Frequently Asked Questions</a></li>\n",
    "</ul>\n",
    "</div>\n",
    "<div class=\"column cc-footer-license\">\n",
    "<div class=\"license-icons\">\n",
    "<a rel=\"license\" href=\"https://creativecommons.org/licenses/by/4.0/\" title=\"Creative Commons Attribution 4.0 International license\">\n",
    "<i class=\"cc-icon-cc\"></i><i class=\"cc-icon-cc-by\"></i>\n",
    "</a>\n",
    "</div>\n",
    "<aside>\n",
    "<div xmlns:cc=\"https://creativecommons.org/ns#\" about=\"https://creativecommons.org\">\n",
    "<p>Except where otherwise <a class=\"subfoot\" href=\"/policies#license\">noted</a>, content on this site is licensed under a <a class=\"subfoot\" href=\"https://creativecommons.org/licenses/by/4.0/\" rel=\"license\">Creative Commons Attribution 4.0 International license</a>. <a class=\"subfoot\" href=\"/website-icons\" target=\"blank\">Icons</a> by The Noun Project.</p>\n",
    "<p class=\"website-credit\">Website by <a class=\"subfoot\" href=\"http://affinitybridge.com/\" target=\"blank\"> Affinity Bridge</a>.</p>\n",
    "</div>\n",
    "</aside>\n",
    "</div>\n",
    "<div class=\"column cc-footer-search\">\n",
    "<form role=\"search\" method=\"get\" class=\"search-form\" action=\"https://creativecommons.org/\"> <label> <span class=\"screen-reader-text\">Search for:</span> <input type=\"search\" class=\"search-field\" placeholder=\"Search the website\" value=\"\" name=\"s\" title=\"Search for:\"/> </label> <button type=\"submit\" class=\"search-submit\" value=\"Search\"> <span class=\"screen-reader-text\">Search</span> </button></form> </div>\n",
    "</div>\n",
    "</footer> \n",
    "</div> \n",
    "</div> \n",
    "</div> \n",
    "<div style=\"display:none\">\n",
    "</div>\n",
    "<script type='text/javascript' src='https://creativecommons.org/wp-content/themes/cc/js/cc.js?ver=20160622'></script>\n",
    "<script type='text/javascript' src='https://creativecommons.org/wp-content/plugins/cc-donate/js/cc-donate.js?ver=201606013'></script>\n",
    "<script type='text/javascript' src='https://s0.wp.com/wp-content/js/devicepx-jetpack.js?ver=201633'></script>\n",
    "<script type='text/javascript' src='https://creativecommons.org/wp-content/themes/cc/js/breakpoint-body-class.js?ver=20160622'></script>\n",
    "<script type='text/javascript' src='https://creativecommons.org/wp-content/themes/cc/js/sticky-nav.js?ver=20160622'></script>\n",
    "<script type='text/javascript' src='https://creativecommons.org/wp-content/themes/cc/js/toggle-search.js?ver=20160622'></script>\n",
    "<script type='text/javascript' src='https://creativecommons.org/wp-content/themes/cc/js/donation.js?ver=20160622'></script>\n",
    "<script type='text/javascript' src='https://creativecommons.org/wp-content/themes/twentysixteen/js/skip-link-focus-fix.js?ver=20160412'></script>\n",
    "<script type='text/javascript'>\n",
    "/* <![CDATA[ */\n",
    "var screenReaderText = {\"expand\":\"expand child menu\",\"collapse\":\"collapse child menu\"};\n",
    "/* ]]> */\n",
    "</script>\n",
    "<script type='text/javascript' src='https://creativecommons.org/wp-content/themes/twentysixteen/js/functions.js?ver=20160412'></script>\n",
    "<script type='text/javascript' src='https://creativecommons.org/wp-content/plugins/jetpack/modules/theme-tools/responsive-videos/responsive-videos.min.js?ver=1.2'></script>\n",
    "<script type='text/javascript' src='https://creativecommons.org/wordpress/wp-includes/js/wp-embed.js?ver=4.5.3'></script>\n",
    "<script type='text/javascript'>\n",
    "/* <![CDATA[ */\n",
    "var CC_RESOURCE = {\"ajaxurl\":\"https:\\/\\/creativecommons.org\\/wordpress\\/wp-admin\\/admin-ajax.php\",\"initial\":{\"resources\":[{\"id\":50036,\"url\":\"https:\\/\\/www.tribeofnoise.com\\/Solstar\",\"title\":\"Solstar\",\"descriptionHtml\":\"\",\"image\":{\"src\":\"https:\\/\\/creativecommons.org\\/wp-content\\/uploads\\/2016\\/06\\/Solstar.png\",\"width\":332,\"height\":331,\"srcset\":\"https:\\/\\/creativecommons.org\\/wp-content\\/uploads\\/2016\\/06\\/Solstar.png 332w, https:\\/\\/creativecommons.org\\/wp-content\\/uploads\\/2016\\/06\\/Solstar-150x150.png 150w, https:\\/\\/creativecommons.org\\/wp-content\\/uploads\\/2016\\/06\\/Solstar-300x300.png 300w, https:\\/\\/creativecommons.org\\/wp-content\\/uploads\\/2016\\/06\\/Solstar-40x40.png 40w, https:\\/\\/creativecommons.org\\/wp-content\\/uploads\\/2016\\/06\\/Solstar-50x50.png 50w, https:\\/\\/creativecommons.org\\/wp-content\\/uploads\\/2016\\/06\\/Solstar-155x155.png 155w\",\"sizes\":\"(max-width: 332px) 85vw, 332px\"},\"imageTitleHtml\":\"Solstar\",\"imageCaptionHtml\":\"<a href=\\\"https:\\/\\/archive.org\\/details\\/GetCreative\\\">Rough Patches <\\/a>by <a href=\\\"https:\\/\\/www.tribeofnoise.com\\/Solstar\\\">Solstar<\\/a> is licensed under <a href=\\\"http:\\/\\/creativecommons.org\\/licenses\\/by-sa\\/4.0\\/\\\">CC BY SA 4.0<\\/a>\",\"imageDescriptionHtml\":\"\",\"type\":\"music\",\"typeName\":\"Music\",\"typeColor\":\"01C5ED\",\"typeIcon\":{\"src\":\"https:\\/\\/creativecommons.org\\/wp-content\\/uploads\\/2016\\/06\\/music-3-50x50.png\",\"width\":50,\"height\":50,\"srcset\":\"https:\\/\\/creativecommons.org\\/wp-content\\/uploads\\/2016\\/06\\/music-3-50x50.png 50w, https:\\/\\/creativecommons.org\\/wp-content\\/uploads\\/2016\\/06\\/music-3-150x150.png 150w, https:\\/\\/creativecommons.org\\/wp-content\\/uploads\\/2016\\/06\\/music-3-40x40.png 40w, https:\\/\\/creativecommons.org\\/wp-content\\/uploads\\/2016\\/06\\/music-3-155x155.png 155w, https:\\/\\/creativecommons.org\\/wp-content\\/uploads\\/2016\\/06\\/music-3.png 200w\",\"sizes\":\"(max-width: 50px) 85vw, 50px\"},\"platform\":\"jamendo\",\"platformName\":\"Jamendo\",\"platformLogo\":{\"src\":\"https:\\/\\/creativecommons.org\\/wp-content\\/uploads\\/2016\\/06\\/jamendo_gs.png\",\"width\":81,\"height\":19,\"srcset\":\"https:\\/\\/creativecommons.org\\/wp-content\\/uploads\\/2016\\/06\\/jamendo_gs.png 81w, https:\\/\\/creativecommons.org\\/wp-content\\/uploads\\/2016\\/06\\/jamendo_gs-50x12.png 50w\",\"sizes\":\"(max-width: 81px) 85vw, 81px\"}},{\"id\":50024,\"url\":\"https:\\/\\/commons.wikimedia.org\\/wiki\\/File:Hummingbird.jpg\",\"title\":\"Hummingbird\",\"descriptionHtml\":\"\",\"image\":{\"src\":\"https:\\/\\/creativecommons.org\\/wp-content\\/uploads\\/2016\\/06\\/Hummingbird-350x350.png\",\"width\":350,\"height\":350,\"srcset\":\"https:\\/\\/creativecommons.org\\/wp-content\\/uploads\\/2016\\/06\\/Hummingbird-350x350.png 350w, https:\\/\\/creativecommons.org\\/wp-content\\/uploads\\/2016\\/06\\/Hummingbird-150x150.png 150w, https:\\/\\/creativecommons.org\\/wp-content\\/uploads\\/2016\\/06\\/Hummingbird-300x300.png 300w, https:\\/\\/creativecommons.org\\/wp-content\\/uploads\\/2016\\/06\\/Hummingbird-40x40.png 40w, https:\\/\\/creativecommons.org\\/wp-content\\/uploads\\/2016\\/06\\/Hummingbird-50x50.png 50w, https:\\/\\/creativecommons.org\\/wp-content\\/uploads\\/2016\\/06\\/Hummingbird-155x155.png 155w, https:\\/\\/creativecommons.org\\/wp-content\\/uploads\\/2016\\/06\\/Hummingbird.png 517w\",\"sizes\":\"(max-width: 350px) 85vw, 350px\"},\"imageTitleHtml\":\"Hummingbird\",\"imageCaptionHtml\":\"<a href=\\\"https:\\/\\/commons.wikimedia.org\\/wiki\\/File:Hummingbird.jpg\\\">Hummingbird<\\/a> by <a href=\\\"http:\\/\\/www.pdphoto.org\\/PictureDetail.php?mat=pdef&amp;pg=7917\\\">PD Photo.org<\\/a> is licensed under <a href=\\\"http:\\/\\/creativecommons.org\\/publicdomain\\/mark\\/1.0\\/\\\">Public Domain<\\/a>\",\"imageDescriptionHtml\":\"\",\"type\":\"photo\",\"typeName\":\"Photo\",\"typeColor\":\"249EB4\",\"typeIcon\":{\"src\":\"https:\\/\\/creativecommons.org\\/wp-content\\/uploads\\/2016\\/06\\/photo-6-50x50.png\",\"width\":50,\"height\":50,\"srcset\":\"https:\\/\\/creativecommons.org\\/wp-content\\/uploads\\/2016\\/06\\/photo-6-50x50.png 50w, https:\\/\\/creativecommons.org\\/wp-content\\/uploads\\/2016\\/06\\/photo-6-150x150.png 150w, https:\\/\\/creativecommons.org\\/wp-content\\/uploads\\/2016\\/06\\/photo-6-40x40.png 40w, https:\\/\\/creativecommons.org\\/wp-content\\/uploads\\/2016\\/06\\/photo-6-155x155.png 155w, https:\\/\\/creativecommons.org\\/wp-content\\/uploads\\/2016\\/06\\/photo-6.png 200w\",\"sizes\":\"(max-width: 50px) 85vw, 50px\"},\"platform\":\"wikimedia-commons\",\"platformName\":\"Wikimedia-Commons\",\"platformLogo\":{\"src\":\"https:\\/\\/creativecommons.org\\/wp-content\\/uploads\\/2016\\/06\\/wikimedia_gs-28x40.png\",\"width\":28,\"height\":40,\"srcset\":\"https:\\/\\/creativecommons.org\\/wp-content\\/uploads\\/2016\\/06\\/wikimedia_gs-28x40.png 28w, https:\\/\\/creativecommons.org\\/wp-content\\/uploads\\/2016\\/06\\/wikimedia_gs.png 32w\",\"sizes\":\"(max-width: 28px) 85vw, 28px\"}},{\"id\":49908,\"url\":\"https:\\/\\/www.skillscommons.org\\/handle\\/taaccct\\/4632\",\"title\":\"John Wood Community College: SLF 120 Introduction to Small Farm Viability\",\"descriptionHtml\":\"<a href=\\\"https:\\/\\/www.skillscommons.org\\/handle\\/taaccct\\/4632\\\">John Wood Community College: SLF 120 Introduction to Small Farm Viability<\\/a> by <a href=\\\"https:\\/\\/www.skillscommons.org\\/handle\\/taaccct\\/4632#\\\">Jeff Bash<\\/a> is licensed under <a href=\\\"http:\\/\\/creativecommons.org\\/licenses\\/by\\/4.0\\/\\\">CC BY 4.0<\\/a>\",\"type\":\"education-material\",\"typeName\":\"Education Material\",\"typeColor\":\"F15640\",\"typeIcon\":{\"src\":\"https:\\/\\/creativecommons.org\\/wp-content\\/uploads\\/2016\\/06\\/educational-material-50x50.png\",\"width\":50,\"height\":50,\"srcset\":\"https:\\/\\/creativecommons.org\\/wp-content\\/uploads\\/2016\\/06\\/educational-material-50x50.png 50w, https:\\/\\/creativecommons.org\\/wp-content\\/uploads\\/2016\\/06\\/educational-material-150x150.png 150w, https:\\/\\/creativecommons.org\\/wp-content\\/uploads\\/2016\\/06\\/educational-material-40x40.png 40w, https:\\/\\/creativecommons.org\\/wp-content\\/uploads\\/2016\\/06\\/educational-material-155x155.png 155w, https:\\/\\/creativecommons.org\\/wp-content\\/uploads\\/2016\\/06\\/educational-material.png 200w\",\"sizes\":\"(max-width: 50px) 85vw, 50px\"},\"platform\":\"skills-commons\",\"platformName\":\"Skills Commons\",\"platformLogo\":{\"src\":\"https:\\/\\/creativecommons.org\\/wp-content\\/uploads\\/2016\\/06\\/skills_commons_gs.png\",\"width\":131,\"height\":28,\"srcset\":\"https:\\/\\/creativecommons.org\\/wp-content\\/uploads\\/2016\\/06\\/skills_commons_gs.png 131w, https:\\/\\/creativecommons.org\\/wp-content\\/uploads\\/2016\\/06\\/skills_commons_gs-50x11.png 50w\",\"sizes\":\"(max-width: 131px) 85vw, 131px\"}},{\"id\":49905,\"url\":\"https:\\/\\/openstax.org\\/details\\/biology\",\"title\":\"Biology\",\"descriptionHtml\":\"\",\"image\":{\"src\":\"https:\\/\\/creativecommons.org\\/wp-content\\/uploads\\/2016\\/06\\/biology-350x350.png\",\"width\":350,\"height\":350,\"srcset\":\"https:\\/\\/creativecommons.org\\/wp-content\\/uploads\\/2016\\/06\\/biology-350x350.png 350w, https:\\/\\/creativecommons.org\\/wp-content\\/uploads\\/2016\\/06\\/biology-150x150.png 150w, https:\\/\\/creativecommons.org\\/wp-content\\/uploads\\/2016\\/06\\/biology-300x300.png 300w, https:\\/\\/creativecommons.org\\/wp-content\\/uploads\\/2016\\/06\\/biology-155x155.png 155w, https:\\/\\/creativecommons.org\\/wp-content\\/uploads\\/2016\\/06\\/biology.png 396w\",\"sizes\":\"(max-width: 350px) 85vw, 350px\"},\"imageTitleHtml\":\"biology\",\"imageCaptionHtml\":\"<a href=\\\"https:\\/\\/openstax.org\\/details\\/biology\\\">Biology<\\/a> by <a href=\\\"https:\\/\\/openstax.org\\\">OpenStax College<\\/a> is licensed under <a href=\\\"http:\\/\\/creativecommons.org\\/licenses\\/by\\/4.0\\/\\\">CC BY 4.0<\\/a>\",\"imageDescriptionHtml\":\"\",\"type\":\"education-material\",\"typeName\":\"Education Material\",\"typeColor\":\"F15640\",\"typeIcon\":{\"src\":\"https:\\/\\/creativecommons.org\\/wp-content\\/uploads\\/2016\\/06\\/educational-material-50x50.png\",\"width\":50,\"height\":50,\"srcset\":\"https:\\/\\/creativecommons.org\\/wp-content\\/uploads\\/2016\\/06\\/educational-material-50x50.png 50w, https:\\/\\/creativecommons.org\\/wp-content\\/uploads\\/2016\\/06\\/educational-material-150x150.png 150w, https:\\/\\/creativecommons.org\\/wp-content\\/uploads\\/2016\\/06\\/educational-material-40x40.png 40w, https:\\/\\/creativecommons.org\\/wp-content\\/uploads\\/2016\\/06\\/educational-material-155x155.png 155w, https:\\/\\/creativecommons.org\\/wp-content\\/uploads\\/2016\\/06\\/educational-material.png 200w\",\"sizes\":\"(max-width: 50px) 85vw, 50px\"},\"platform\":\"openstax-college\",\"platformName\":\"OpenStax College\",\"platformLogo\":{\"src\":\"https:\\/\\/creativecommons.org\\/wp-content\\/uploads\\/2016\\/06\\/openstax_gs.png\",\"width\":122,\"height\":28,\"srcset\":\"https:\\/\\/creativecommons.org\\/wp-content\\/uploads\\/2016\\/06\\/openstax_gs.png 122w, https:\\/\\/creativecommons.org\\/wp-content\\/uploads\\/2016\\/06\\/openstax_gs-50x11.png 50w\",\"sizes\":\"(max-width: 122px) 85vw, 122px\"}},{\"id\":49903,\"url\":\"https:\\/\\/500px.com\\/photo\\/156643821\\/the-first-step-towards-getting-somewhere-is-to-decide-that-you-re-not-staying-where-you-are-by-oscar-nilsson?ctx_page=1&from=search&ctx_type=photos\",\"title\":\"The first step towards getting somewhere is to decide that you&#8217;re not staying where you are\",\"descriptionHtml\":\"\",\"image\":{\"src\":\"https:\\/\\/creativecommons.org\\/wp-content\\/uploads\\/2016\\/06\\/stock-photo-156643821-350x350.jpg\",\"width\":350,\"height\":350,\"srcset\":\"https:\\/\\/creativecommons.org\\/wp-content\\/uploads\\/2016\\/06\\/stock-photo-156643821-350x350.jpg 350w, https:\\/\\/creativecommons.org\\/wp-content\\/uploads\\/2016\\/06\\/stock-photo-156643821-150x150.jpg 150w\",\"sizes\":\"(max-width: 350px) 85vw, 350px\"},\"imageTitleHtml\":\"stock-photo-156643821\",\"imageCaptionHtml\":\"<a href=\\\"https:\\/\\/500px.com\\/photo\\/156643821\\/the-first-step-towards-getting-somewhere-is-to-decide-that-you-re-not-staying-where-you-are-by-oscar-nilsson?ctx_page=1&amp;from=search&amp;ctx_type=photos\\\">The first step towards getting somewhere is to decide that you're not staying where you are<\\/a> by <a href=\\\"https:\\/\\/500px.com\\/oscarwastaken\\\">Oscar Nilsson <\\/a>is licensed under <a href=\\\"http:\\/\\/creativecommons.org\\/licenses\\/by-nd\\/3.0\\/\\\">CC BY ND 3.0<\\/a>\",\"imageDescriptionHtml\":\"\",\"type\":\"photo\",\"typeName\":\"Photo\",\"typeColor\":\"249EB4\",\"typeIcon\":{\"src\":\"https:\\/\\/creativecommons.org\\/wp-content\\/uploads\\/2016\\/06\\/photo-6-50x50.png\",\"width\":50,\"height\":50,\"srcset\":\"https:\\/\\/creativecommons.org\\/wp-content\\/uploads\\/2016\\/06\\/photo-6-50x50.png 50w, https:\\/\\/creativecommons.org\\/wp-content\\/uploads\\/2016\\/06\\/photo-6-150x150.png 150w, https:\\/\\/creativecommons.org\\/wp-content\\/uploads\\/2016\\/06\\/photo-6-40x40.png 40w, https:\\/\\/creativecommons.org\\/wp-content\\/uploads\\/2016\\/06\\/photo-6-155x155.png 155w, https:\\/\\/creativecommons.org\\/wp-content\\/uploads\\/2016\\/06\\/photo-6.png 200w\",\"sizes\":\"(max-width: 50px) 85vw, 50px\"},\"platform\":\"500px\",\"platformName\":\"500px\",\"platformLogo\":{\"src\":\"https:\\/\\/creativecommons.org\\/wp-content\\/uploads\\/2016\\/06\\/500pixels_gs.png\",\"width\":45,\"height\":22}},{\"id\":49902,\"url\":\"https:\\/\\/www.boundless.com\\/users\\/233403\\/textbooks\\/producing-open-source-software\\/\",\"title\":\"Producing Open Source Software\",\"descriptionHtml\":\"<a href=\\\"https:\\/\\/www.boundless.com\\/users\\/233403\\/textbooks\\/producing-open-source-software\\/\\\">Producing Open Source Software<\\/a> by <a href=\\\"https:\\/\\/www.boundless.com\\/users\\/233403\\/\\\">Karl Fogel<\\/a> is licensed under <a href=\\\"http:\\/\\/creativecommons.org\\/licenses\\/by-sa\\/3.0\\/\\\">CC BY-SA<\\/a>\",\"type\":\"education-material\",\"typeName\":\"Education Material\",\"typeColor\":\"F15640\",\"typeIcon\":{\"src\":\"https:\\/\\/creativecommons.org\\/wp-content\\/uploads\\/2016\\/06\\/educational-material-50x50.png\",\"width\":50,\"height\":50,\"srcset\":\"https:\\/\\/creativecommons.org\\/wp-content\\/uploads\\/2016\\/06\\/educational-material-50x50.png 50w, https:\\/\\/creativecommons.org\\/wp-content\\/uploads\\/2016\\/06\\/educational-material-150x150.png 150w, https:\\/\\/creativecommons.org\\/wp-content\\/uploads\\/2016\\/06\\/educational-material-40x40.png 40w, https:\\/\\/creativecommons.org\\/wp-content\\/uploads\\/2016\\/06\\/educational-material-155x155.png 155w, https:\\/\\/creativecommons.org\\/wp-content\\/uploads\\/2016\\/06\\/educational-material.png 200w\",\"sizes\":\"(max-width: 50px) 85vw, 50px\"},\"platform\":\"boundless\",\"platformName\":\"Boundless\",\"platformLogo\":{\"src\":\"https:\\/\\/creativecommons.org\\/wp-content\\/uploads\\/2016\\/06\\/boundless_gs-1.png\",\"width\":44,\"height\":38}},{\"id\":49900,\"url\":\"http:\\/\\/chriszabriskie.bandcamp.com\\/album\\/cylinders\",\"title\":\"Cylinders\",\"descriptionHtml\":\"\",\"image\":{\"src\":\"https:\\/\\/creativecommons.org\\/wp-content\\/uploads\\/2016\\/06\\/a1729008955_16-350x350.jpg\",\"width\":350,\"height\":350,\"srcset\":\"https:\\/\\/creativecommons.org\\/wp-content\\/uploads\\/2016\\/06\\/a1729008955_16-350x350.jpg 350w, https:\\/\\/creativecommons.org\\/wp-content\\/uploads\\/2016\\/06\\/a1729008955_16-150x150.jpg 150w, https:\\/\\/creativecommons.org\\/wp-content\\/uploads\\/2016\\/06\\/a1729008955_16-300x300.jpg 300w, https:\\/\\/creativecommons.org\\/wp-content\\/uploads\\/2016\\/06\\/a1729008955_16-155x155.jpg 155w, https:\\/\\/creativecommons.org\\/wp-content\\/uploads\\/2016\\/06\\/a1729008955_16.jpg 700w\",\"sizes\":\"(max-width: 350px) 85vw, 350px\"},\"imageTitleHtml\":\"a1729008955_16\",\"imageCaptionHtml\":\"<a href=\\\"http:\\/\\/chriszabriskie.bandcamp.com\\/album\\/cylinders\\\">Cylinders <\\/a>by <a href=\\\"http:\\/\\/chriszabriskie.bandcamp.com\\\">Chris Zabriskie<\\/a>is licensed under <a href=\\\"http:\\/\\/creativecommons.org\\/licenses\\/by\\/3.0\\/\\\">CC BY 3.0<\\/a>\",\"imageDescriptionHtml\":\"\",\"type\":\"music\",\"typeName\":\"Music\",\"typeColor\":\"01C5ED\",\"typeIcon\":{\"src\":\"https:\\/\\/creativecommons.org\\/wp-content\\/uploads\\/2016\\/06\\/music-3-50x50.png\",\"width\":50,\"height\":50,\"srcset\":\"https:\\/\\/creativecommons.org\\/wp-content\\/uploads\\/2016\\/06\\/music-3-50x50.png 50w, https:\\/\\/creativecommons.org\\/wp-content\\/uploads\\/2016\\/06\\/music-3-150x150.png 150w, https:\\/\\/creativecommons.org\\/wp-content\\/uploads\\/2016\\/06\\/music-3-40x40.png 40w, https:\\/\\/creativecommons.org\\/wp-content\\/uploads\\/2016\\/06\\/music-3-155x155.png 155w, https:\\/\\/creativecommons.org\\/wp-content\\/uploads\\/2016\\/06\\/music-3.png 200w\",\"sizes\":\"(max-width: 50px) 85vw, 50px\"},\"platform\":\"bandcamp\",\"platformName\":\"Bandcamp\",\"platformLogo\":{\"src\":\"https:\\/\\/creativecommons.org\\/wp-content\\/uploads\\/2016\\/06\\/bandcamp_gs.png\",\"width\":102,\"height\":17,\"srcset\":\"https:\\/\\/creativecommons.org\\/wp-content\\/uploads\\/2016\\/06\\/bandcamp_gs.png 102w, https:\\/\\/creativecommons.org\\/wp-content\\/uploads\\/2016\\/06\\/bandcamp_gs-50x8.png 50w\",\"sizes\":\"(max-width: 102px) 85vw, 102px\"}},{\"id\":49898,\"url\":\"https:\\/\\/swift.hydranodes.de\\/v1\\/AUTH_d93d6cf266c54aa6a1e88541122e4900\\/europeana-portal\\/media_objects\\/000\\/000\\/013\\/files\\/90d1e5ce3e54db4890dfa6fe5758cdb9.original.jpg?1459523698\",\"title\":\"\",\"descriptionHtml\":\"\",\"image\":{\"src\":\"https:\\/\\/creativecommons.org\\/wp-content\\/uploads\\/2016\\/06\\/90d1e5ce3e54db4890dfa6fe5758cdb9.original-350x350.jpg\",\"width\":350,\"height\":350,\"srcset\":\"https:\\/\\/creativecommons.org\\/wp-content\\/uploads\\/2016\\/06\\/90d1e5ce3e54db4890dfa6fe5758cdb9.original-350x350.jpg 350w, https:\\/\\/creativecommons.org\\/wp-content\\/uploads\\/2016\\/06\\/90d1e5ce3e54db4890dfa6fe5758cdb9.original-150x150.jpg 150w\",\"sizes\":\"(max-width: 350px) 85vw, 350px\"},\"imageTitleHtml\":\"90d1e5ce3e54db4890dfa6fe5758cdb9.original\",\"imageCaptionHtml\":\"<a href=\\\"http:\\/\\/www.europeana.eu\\/portal\\/record\\/90402\\/RP_P_2004_508A_2.html\\\">Colourful bird <\\/a>by <a href=\\\"http:\\/\\/www.europeana.eu\\/portal\\/search?q=who%3A%28Bairei%2C+K%C3%B4no%29\\\">Bairei, K&ocirc;no,<\\/a> <a href=\\\"http:\\/\\/www.europeana.eu\\/portal\\/search?q=who%3A%28Aoki+K%C3%B4sabur%C3%B4%29\\\">Aoki K&ocirc;sabur&ocirc; <\\/a> via <a href=\\\"https:\\/\\/www.rijksmuseum.nl\\/nl\\/collectie\\/RP-P-2004-508A-2\\\">Rijks museum<\\/a> in <a href=\\\"http:\\/\\/creativecommons.org\\/publicdomain\\/mark\\/1.0\\/\\\">Public Domain <\\/a>\",\"imageDescriptionHtml\":\"\",\"type\":\"art\",\"typeName\":\"Arts \\/ Culture\",\"typeColor\":\"CD4848\",\"typeIcon\":{\"src\":\"https:\\/\\/creativecommons.org\\/wp-content\\/uploads\\/2016\\/06\\/art-3-50x50.png\",\"width\":50,\"height\":50,\"srcset\":\"https:\\/\\/creativecommons.org\\/wp-content\\/uploads\\/2016\\/06\\/art-3-50x50.png 50w, https:\\/\\/creativecommons.org\\/wp-content\\/uploads\\/2016\\/06\\/art-3-150x150.png 150w, https:\\/\\/creativecommons.org\\/wp-content\\/uploads\\/2016\\/06\\/art-3-40x40.png 40w, https:\\/\\/creativecommons.org\\/wp-content\\/uploads\\/2016\\/06\\/art-3-155x155.png 155w, https:\\/\\/creativecommons.org\\/wp-content\\/uploads\\/2016\\/06\\/art-3.png 200w\",\"sizes\":\"(max-width: 50px) 85vw, 50px\"},\"platform\":\"europeana\",\"platformName\":\"Europeana\",\"platformLogo\":{\"src\":\"https:\\/\\/creativecommons.org\\/wp-content\\/uploads\\/2016\\/06\\/europeana_gs-74x40.png\",\"width\":74,\"height\":40,\"srcset\":\"https:\\/\\/creativecommons.org\\/wp-content\\/uploads\\/2016\\/06\\/europeana_gs.png 74w, https:\\/\\/creativecommons.org\\/wp-content\\/uploads\\/2016\\/06\\/europeana_gs-50x27.png 50w\",\"sizes\":\"(max-width: 74px) 85vw, 74px\"}},{\"id\":49889,\"url\":\"http:\\/\\/blogs.plos.org\\/neuroanthropology\\/the-encultured-brain\\/\",\"title\":\"The Encultured Brain\",\"descriptionHtml\":\"\",\"image\":{\"src\":\"https:\\/\\/creativecommons.org\\/wp-content\\/uploads\\/2016\\/06\\/The-Encultured-Brain.png\",\"width\":300,\"height\":300,\"srcset\":\"https:\\/\\/creativecommons.org\\/wp-content\\/uploads\\/2016\\/06\\/The-Encultured-Brain.png 300w, https:\\/\\/creativecommons.org\\/wp-content\\/uploads\\/2016\\/06\\/The-Encultured-Brain-150x150.png 150w, https:\\/\\/creativecommons.org\\/wp-content\\/uploads\\/2016\\/06\\/The-Encultured-Brain-155x155.png 155w\",\"sizes\":\"(max-width: 300px) 85vw, 300px\"},\"imageTitleHtml\":\"The Encultured Brain\",\"imageCaptionHtml\":\"<a href=\\\"http:\\/\\/blogs.plos.org\\/neuroanthropology\\/the-encultured-brain\\/\\\">The Encultured Brain<\\/a> Edited by <a href=\\\"http:\\/\\/anthropology.usf.edu\\/faculty\\/dlende\\/\\\">Daniel Lende<\\/a> and <a href=\\\"http:\\/\\/www.mq.edu.au\\/about_us\\/faculties_and_departments\\/faculty_of_arts\\/department_of_anthropology\\/staff\\/academic_staff-greg_downey\\\">Greg Downey<\\/a>, and published by <a href=\\\"http:\\/\\/mitpress.mit.edu\\/books\\/encultured-brain-0\\\">MIT Press<\\/a>\",\"imageDescriptionHtml\":\"\",\"type\":\"scientific-research\",\"typeName\":\"Scientific Research\",\"typeColor\":\"FFCE10\",\"typeIcon\":{\"src\":\"https:\\/\\/creativecommons.org\\/wp-content\\/uploads\\/2016\\/06\\/scientific-research-50x50.png\",\"width\":50,\"height\":50,\"srcset\":\"https:\\/\\/creativecommons.org\\/wp-content\\/uploads\\/2016\\/06\\/scientific-research-50x50.png 50w, https:\\/\\/creativecommons.org\\/wp-content\\/uploads\\/2016\\/06\\/scientific-research-150x150.png 150w, https:\\/\\/creativecommons.org\\/wp-content\\/uploads\\/2016\\/06\\/scientific-research-40x40.png 40w, https:\\/\\/creativecommons.org\\/wp-content\\/uploads\\/2016\\/06\\/scientific-research-155x155.png 155w, https:\\/\\/creativecommons.org\\/wp-content\\/uploads\\/2016\\/06\\/scientific-research.png 200w\",\"sizes\":\"(max-width: 50px) 85vw, 50px\"},\"platform\":\"plos\",\"platformName\":\"Public Library of Science\",\"platformLogo\":{\"src\":\"https:\\/\\/creativecommons.org\\/wp-content\\/uploads\\/2016\\/06\\/plos_gs.png\",\"width\":69,\"height\":20,\"srcset\":\"https:\\/\\/creativecommons.org\\/wp-content\\/uploads\\/2016\\/06\\/plos_gs.png 69w, https:\\/\\/creativecommons.org\\/wp-content\\/uploads\\/2016\\/06\\/plos_gs-50x14.png 50w\",\"sizes\":\"(max-width: 69px) 85vw, 69px\"}},{\"id\":49878,\"url\":\"https:\\/\\/www.plos.org\\/publications\",\"title\":\"PLOS Publications\",\"descriptionHtml\":\"Works published by <a href= \\\"https:\\/\\/www.plos.org\\/PLOS\\\"> PLOS<\\/a> are licensed under <a href= \\\"https:\\/\\/creativecommons.org\\/licenses\\/by\\/4.0\\/\\\">CC BY <\\/a>\",\"type\":\"scientific-research\",\"typeName\":\"Scientific Research\",\"typeColor\":\"FFCE10\",\"typeIcon\":{\"src\":\"https:\\/\\/creativecommons.org\\/wp-content\\/uploads\\/2016\\/06\\/scientific-research-50x50.png\",\"width\":50,\"height\":50,\"srcset\":\"https:\\/\\/creativecommons.org\\/wp-content\\/uploads\\/2016\\/06\\/scientific-research-50x50.png 50w, https:\\/\\/creativecommons.org\\/wp-content\\/uploads\\/2016\\/06\\/scientific-research-150x150.png 150w, https:\\/\\/creativecommons.org\\/wp-content\\/uploads\\/2016\\/06\\/scientific-research-40x40.png 40w, https:\\/\\/creativecommons.org\\/wp-content\\/uploads\\/2016\\/06\\/scientific-research-155x155.png 155w, https:\\/\\/creativecommons.org\\/wp-content\\/uploads\\/2016\\/06\\/scientific-research.png 200w\",\"sizes\":\"(max-width: 50px) 85vw, 50px\"}},{\"id\":49868,\"url\":\"https:\\/\\/sketchfab.com\\/models\\/64d0b7662b59417986e9d693624de97a\",\"title\":\"Granite Head of Amenemhat III\",\"descriptionHtml\":\"\",\"image\":{\"src\":\"https:\\/\\/creativecommons.org\\/wp-content\\/uploads\\/2016\\/06\\/Granite-Head-of-Amenemhat-III-350x350.png\",\"width\":350,\"height\":350,\"srcset\":\"https:\\/\\/creativecommons.org\\/wp-content\\/uploads\\/2016\\/06\\/Granite-Head-of-Amenemhat-III-350x350.png 350w, https:\\/\\/creativecommons.org\\/wp-content\\/uploads\\/2016\\/06\\/Granite-Head-of-Amenemhat-III-150x150.png 150w\",\"sizes\":\"(max-width: 350px) 85vw, 350px\"},\"imageTitleHtml\":\"Granite-Head-of-Amenemhat-III\",\"imageCaptionHtml\":\"<a href=\\\"https:\\/\\/sketchfab.com\\/models\\/64d0b7662b59417986e9d693624de97a\\\"> Granite head of Amenemhat III<\\/a> from <a href=\\\"https:\\/\\/sketchfab.com\\/britishmuseum\\\"> The British Museum<\\/a> is licensed under <a href=\\\"http:\\/\\/creativecommons.org\\/licenses\\/by\\/4.0\\/\\\"> CC BY 4.0<\\/a>\",\"imageDescriptionHtml\":\"\",\"type\":\"3d-model\",\"typeName\":\"3D Model\",\"typeColor\":\"A45534\",\"typeIcon\":{\"src\":\"https:\\/\\/creativecommons.org\\/wp-content\\/uploads\\/2016\\/06\\/3d-model-50x50.png\",\"width\":50,\"height\":50,\"srcset\":\"https:\\/\\/creativecommons.org\\/wp-content\\/uploads\\/2016\\/06\\/3d-model-50x50.png 50w, https:\\/\\/creativecommons.org\\/wp-content\\/uploads\\/2016\\/06\\/3d-model-150x150.png 150w, https:\\/\\/creativecommons.org\\/wp-content\\/uploads\\/2016\\/06\\/3d-model-40x40.png 40w, https:\\/\\/creativecommons.org\\/wp-content\\/uploads\\/2016\\/06\\/3d-model-155x155.png 155w, https:\\/\\/creativecommons.org\\/wp-content\\/uploads\\/2016\\/06\\/3d-model.png 200w\",\"sizes\":\"(max-width: 50px) 85vw, 50px\"}},{\"id\":49865,\"url\":\"https:\\/\\/unglue.it\\/work\\/139822\\/\",\"title\":\"Zero Sum Game &#8211; SL Huang\",\"descriptionHtml\":\"<a href=\\\"https:\\/\\/unglue.it\\/work\\/139822\\/\\\">Zero Sum Game<\\/a> by <a href=\\\"http:\\/\\/www.slhuang.com\\/\\\">SL Huang<\\/a> is licensed under <a href=\\\"http:\\/\\/creativecommons.org\\/licenses\\/by-nc-sa\\/4.0\\/\\\">CC BY-NC-SA <\\/a>\",\"type\":\"book\",\"typeName\":\"Book\",\"typeColor\":\"01C5ED\",\"typeIcon\":{\"src\":\"https:\\/\\/creativecommons.org\\/wp-content\\/uploads\\/2016\\/06\\/book-6-50x50.png\",\"width\":50,\"height\":50,\"srcset\":\"https:\\/\\/creativecommons.org\\/wp-content\\/uploads\\/2016\\/06\\/book-6-50x50.png 50w, https:\\/\\/creativecommons.org\\/wp-content\\/uploads\\/2016\\/06\\/book-6-150x150.png 150w, https:\\/\\/creativecommons.org\\/wp-content\\/uploads\\/2016\\/06\\/book-6-40x40.png 40w, https:\\/\\/creativecommons.org\\/wp-content\\/uploads\\/2016\\/06\\/book-6-155x155.png 155w, https:\\/\\/creativecommons.org\\/wp-content\\/uploads\\/2016\\/06\\/book-6.png 200w\",\"sizes\":\"(max-width: 50px) 85vw, 50px\"}},{\"id\":49850,\"url\":\"http:\\/\\/ncase.me\\/polygons\\/\",\"title\":\"Parable of the Polygons\",\"descriptionHtml\":\"\",\"image\":{\"src\":\"https:\\/\\/creativecommons.org\\/wp-content\\/uploads\\/2016\\/05\\/Parable-of-the-Polygons-playable-blog-post-350x350.png\",\"width\":350,\"height\":350,\"srcset\":\"https:\\/\\/creativecommons.org\\/wp-content\\/uploads\\/2016\\/05\\/Parable-of-the-Polygons-playable-blog-post-350x350.png 350w, https:\\/\\/creativecommons.org\\/wp-content\\/uploads\\/2016\\/05\\/Parable-of-the-Polygons-playable-blog-post-150x150.png 150w\",\"sizes\":\"(max-width: 350px) 85vw, 350px\"},\"imageTitleHtml\":\"Parable-of-the-Polygons-playable-blog-post\",\"imageCaptionHtml\":\"Parable of the Polygons by <a href=\\\"http:\\/\\/vihart.com\\/\\\">Vi Hart<\\/a> and <a href=\\\"http:\\/\\/ncase.me\\/\\\">Nicky Case<\\/a> is licensed under <a href=\\\"https:\\/\\/creativecommons.org\\/publicdomain\\/zero\\/1.0\\/\\\">CC0<\\/a>\",\"imageDescriptionHtml\":\"\",\"type\":\"education-material\",\"typeName\":\"Education Material\",\"typeColor\":\"F15640\",\"typeIcon\":{\"src\":\"https:\\/\\/creativecommons.org\\/wp-content\\/uploads\\/2016\\/06\\/educational-material-50x50.png\",\"width\":50,\"height\":50,\"srcset\":\"https:\\/\\/creativecommons.org\\/wp-content\\/uploads\\/2016\\/06\\/educational-material-50x50.png 50w, https:\\/\\/creativecommons.org\\/wp-content\\/uploads\\/2016\\/06\\/educational-material-150x150.png 150w, https:\\/\\/creativecommons.org\\/wp-content\\/uploads\\/2016\\/06\\/educational-material-40x40.png 40w, https:\\/\\/creativecommons.org\\/wp-content\\/uploads\\/2016\\/06\\/educational-material-155x155.png 155w, https:\\/\\/creativecommons.org\\/wp-content\\/uploads\\/2016\\/06\\/educational-material.png 200w\",\"sizes\":\"(max-width: 50px) 85vw, 50px\"}},{\"id\":49846,\"url\":\"https:\\/\\/unsplash.com\\/@lute3d\",\"title\":\"Photo &#8211; Manuel Barroso Parejo\",\"descriptionHtml\":\"\",\"image\":{\"src\":\"https:\\/\\/creativecommons.org\\/wp-content\\/uploads\\/2016\\/05\\/Unsplash-Manuel-Barroso-Parejo-350x350.jpg\",\"width\":350,\"height\":350,\"srcset\":\"https:\\/\\/creativecommons.org\\/wp-content\\/uploads\\/2016\\/05\\/Unsplash-Manuel-Barroso-Parejo-350x350.jpg 350w, https:\\/\\/creativecommons.org\\/wp-content\\/uploads\\/2016\\/05\\/Unsplash-Manuel-Barroso-Parejo-150x150.jpg 150w\",\"sizes\":\"(max-width: 350px) 85vw, 350px\"},\"imageTitleHtml\":\"Unsplash-Manuel-Barroso-Parejo\",\"imageCaptionHtml\":\"Photo from <a href=\\\"https:\\/\\/unsplash.com\\\">Unsplash<\\/a> by <a href=\\\"https:\\/\\/unsplash.com\\/@lute3d\\\">Manuel Barroso Parejo<\\/a> and licencsed under <a href=\\\"https:\\/\\/creativecommons.org\\/publicdomain\\/zero\\/1.0\\/\\\">CC0<\\/a>\",\"imageDescriptionHtml\":\"\",\"type\":\"photo\",\"typeName\":\"Photo\",\"typeColor\":\"249EB4\",\"typeIcon\":{\"src\":\"https:\\/\\/creativecommons.org\\/wp-content\\/uploads\\/2016\\/06\\/photo-6-50x50.png\",\"width\":50,\"height\":50,\"srcset\":\"https:\\/\\/creativecommons.org\\/wp-content\\/uploads\\/2016\\/06\\/photo-6-50x50.png 50w, https:\\/\\/creativecommons.org\\/wp-content\\/uploads\\/2016\\/06\\/photo-6-150x150.png 150w, https:\\/\\/creativecommons.org\\/wp-content\\/uploads\\/2016\\/06\\/photo-6-40x40.png 40w, https:\\/\\/creativecommons.org\\/wp-content\\/uploads\\/2016\\/06\\/photo-6-155x155.png 155w, https:\\/\\/creativecommons.org\\/wp-content\\/uploads\\/2016\\/06\\/photo-6.png 200w\",\"sizes\":\"(max-width: 50px) 85vw, 50px\"}},{\"id\":49841,\"url\":\"http:\\/\\/openattribute.com\\/\",\"title\":\"Open Attribute\",\"descriptionHtml\":\"\",\"image\":{\"src\":\"https:\\/\\/creativecommons.org\\/wp-content\\/uploads\\/2016\\/05\\/open-attribute.jpg\",\"width\":265,\"height\":263,\"srcset\":\"https:\\/\\/creativecommons.org\\/wp-content\\/uploads\\/2016\\/05\\/open-attribute.jpg 265w, https:\\/\\/creativecommons.org\\/wp-content\\/uploads\\/2016\\/05\\/open-attribute-150x150.jpg 150w, https:\\/\\/creativecommons.org\\/wp-content\\/uploads\\/2016\\/05\\/open-attribute-156x155.jpg 156w\",\"sizes\":\"(max-width: 265px) 85vw, 265px\"},\"imageTitleHtml\":\"open-attribute\",\"imageCaptionHtml\":\"<a href=\\\"http:\\/\\/openattribute.com\\/\\\" rel=\\\"cc:attributionURL\\\">Open Attribute<\\/a> is licensed under a <a href=\\\"http:\\/\\/creativecommons.org\\/licenses\\/by\\/3.0\\/\\\" rel=\\\"license\\\">CC BY 3.0<\\/a>\",\"imageDescriptionHtml\":\"\",\"type\":\"tool\",\"typeName\":\"Tool\",\"typeColor\":\"AF2D3A\",\"typeIcon\":{\"src\":\"https:\\/\\/creativecommons.org\\/wp-content\\/uploads\\/2016\\/06\\/tool-4-50x50.png\",\"width\":50,\"height\":50,\"srcset\":\"https:\\/\\/creativecommons.org\\/wp-content\\/uploads\\/2016\\/06\\/tool-4-50x50.png 50w, https:\\/\\/creativecommons.org\\/wp-content\\/uploads\\/2016\\/06\\/tool-4-150x150.png 150w, https:\\/\\/creativecommons.org\\/wp-content\\/uploads\\/2016\\/06\\/tool-4-40x40.png 40w, https:\\/\\/creativecommons.org\\/wp-content\\/uploads\\/2016\\/06\\/tool-4-155x155.png 155w, https:\\/\\/creativecommons.org\\/wp-content\\/uploads\\/2016\\/06\\/tool-4.png 220w\",\"sizes\":\"(max-width: 50px) 85vw, 50px\"}},{\"id\":49838,\"url\":\"https:\\/\\/vimeo.com\\/58460459\",\"title\":\"potus 3012\",\"descriptionHtml\":\"\",\"image\":{\"src\":\"https:\\/\\/creativecommons.org\\/wp-content\\/uploads\\/2016\\/05\\/potus-350x350.png\",\"width\":350,\"height\":350,\"srcset\":\"https:\\/\\/creativecommons.org\\/wp-content\\/uploads\\/2016\\/05\\/potus-350x350.png 350w, https:\\/\\/creativecommons.org\\/wp-content\\/uploads\\/2016\\/05\\/potus-150x150.png 150w\",\"sizes\":\"(max-width: 350px) 85vw, 350px\"},\"imageTitleHtml\":\"potus\",\"imageCaptionHtml\":\"<a href=\\\"https:\\/\\/vimeo.com\\/58460459\\\">potus 3012<\\/a> from <a href=\\\"https:\\/\\/vimeo.com\\/beeple\\\">beeple<\\/a> on <a href=\\\"https:\\/\\/vimeo.com\\\">Vimeo<\\/a> is licensed under <a href=\\\"http:\\/\\/creativecommons.org\\/licenses\\/by\\/3.0\\/\\\">CC BY 3.0<\\/a>\",\"imageDescriptionHtml\":\"\",\"type\":\"video\",\"typeName\":\"Video\",\"typeColor\":\"6F5542\",\"typeIcon\":{\"src\":\"https:\\/\\/creativecommons.org\\/wp-content\\/uploads\\/2016\\/06\\/video-3-50x50.png\",\"width\":50,\"height\":50,\"srcset\":\"https:\\/\\/creativecommons.org\\/wp-content\\/uploads\\/2016\\/06\\/video-3-50x50.png 50w, https:\\/\\/creativecommons.org\\/wp-content\\/uploads\\/2016\\/06\\/video-3-150x150.png 150w, https:\\/\\/creativecommons.org\\/wp-content\\/uploads\\/2016\\/06\\/video-3-40x40.png 40w, https:\\/\\/creativecommons.org\\/wp-content\\/uploads\\/2016\\/06\\/video-3-155x155.png 155w, https:\\/\\/creativecommons.org\\/wp-content\\/uploads\\/2016\\/06\\/video-3.png 200w\",\"sizes\":\"(max-width: 50px) 85vw, 50px\"},\"platform\":\"vimeo\",\"platformName\":\"Vimeo\",\"platformLogo\":{\"src\":\"https:\\/\\/creativecommons.org\\/wp-content\\/uploads\\/2016\\/06\\/vimeo_gs.png\",\"width\":71,\"height\":20,\"srcset\":\"https:\\/\\/creativecommons.org\\/wp-content\\/uploads\\/2016\\/06\\/vimeo_gs.png 71w, https:\\/\\/creativecommons.org\\/wp-content\\/uploads\\/2016\\/06\\/vimeo_gs-50x14.png 50w\",\"sizes\":\"(max-width: 71px) 85vw, 71px\"}},{\"id\":49797,\"url\":\"https:\\/\\/www.flickr.com\\/photos\\/119980645@N06\\/13080698355\",\"title\":\"Chemical structure of Ribose and Deoxyribose\",\"descriptionHtml\":\"\",\"image\":{\"src\":\"https:\\/\\/creativecommons.org\\/wp-content\\/uploads\\/2016\\/05\\/13080698355_66957a87ca_o-350x350.jpg\",\"width\":350,\"height\":350,\"srcset\":\"https:\\/\\/creativecommons.org\\/wp-content\\/uploads\\/2016\\/05\\/13080698355_66957a87ca_o-350x350.jpg 350w, https:\\/\\/creativecommons.org\\/wp-content\\/uploads\\/2016\\/05\\/13080698355_66957a87ca_o-150x150.jpg 150w\",\"sizes\":\"(max-width: 350px) 85vw, 350px\"},\"imageTitleHtml\":\"Chemical structure of Ribose and Deoxyribose\",\"imageCaptionHtml\":\"<a href=\\\"https:\\/\\/www.flickr.com\\/photos\\/119980645@N06\\/13080698355\\\">Chemical structure of Ribose and Deoxyribose<\\/a> by <a href=\\\"https:\\/\\/www.flickr.com\\/photos\\/119980645@N06\\/\\\">Genetics Education<\\/a> is licensed under <a href=\\\"https:\\/\\/creativecommons.org\\/licenses\\/by\\/2.0\\/\\\">CC BY 2.0<\\/a>\",\"imageDescriptionHtml\":\"\",\"type\":\"education-material\",\"typeName\":\"Education Material\",\"typeColor\":\"F15640\",\"typeIcon\":{\"src\":\"https:\\/\\/creativecommons.org\\/wp-content\\/uploads\\/2016\\/06\\/educational-material-50x50.png\",\"width\":50,\"height\":50,\"srcset\":\"https:\\/\\/creativecommons.org\\/wp-content\\/uploads\\/2016\\/06\\/educational-material-50x50.png 50w, https:\\/\\/creativecommons.org\\/wp-content\\/uploads\\/2016\\/06\\/educational-material-150x150.png 150w, https:\\/\\/creativecommons.org\\/wp-content\\/uploads\\/2016\\/06\\/educational-material-40x40.png 40w, https:\\/\\/creativecommons.org\\/wp-content\\/uploads\\/2016\\/06\\/educational-material-155x155.png 155w, https:\\/\\/creativecommons.org\\/wp-content\\/uploads\\/2016\\/06\\/educational-material.png 200w\",\"sizes\":\"(max-width: 50px) 85vw, 50px\"}},{\"id\":49788,\"url\":\"http:\\/\\/www.hovalin.com\\/\",\"title\":\"Hovalin 3d Printed Violin\",\"descriptionHtml\":\"\",\"image\":{\"src\":\"https:\\/\\/creativecommons.org\\/wp-content\\/uploads\\/2016\\/05\\/hovalin-image-350x350.png\",\"width\":350,\"height\":350,\"srcset\":\"https:\\/\\/creativecommons.org\\/wp-content\\/uploads\\/2016\\/05\\/hovalin-image-350x350.png 350w, https:\\/\\/creativecommons.org\\/wp-content\\/uploads\\/2016\\/05\\/hovalin-image-150x150.png 150w\",\"sizes\":\"(max-width: 350px) 85vw, 350px\"},\"imageTitleHtml\":\"hovalin\",\"imageCaptionHtml\":\"<a href=\\\"http:\\/\\/www.hovalin.com\\/\\\">The Hovalin 3d Printed Violin<\\/a> by Matt Hova &amp; Kaitlyn Hova is licensed under <a href=\\\"https:\\/\\/creativecommons.org\\/licenses\\/by-nc-sa\\/4.0\\/\\\">CC BY-NC-SA 4.0<\\/a>\",\"imageDescriptionHtml\":\"\",\"type\":\"3d-model\",\"typeName\":\"3D Model\",\"typeColor\":\"A45534\",\"typeIcon\":{\"src\":\"https:\\/\\/creativecommons.org\\/wp-content\\/uploads\\/2016\\/06\\/3d-model-50x50.png\",\"width\":50,\"height\":50,\"srcset\":\"https:\\/\\/creativecommons.org\\/wp-content\\/uploads\\/2016\\/06\\/3d-model-50x50.png 50w, https:\\/\\/creativecommons.org\\/wp-content\\/uploads\\/2016\\/06\\/3d-model-150x150.png 150w, https:\\/\\/creativecommons.org\\/wp-content\\/uploads\\/2016\\/06\\/3d-model-40x40.png 40w, https:\\/\\/creativecommons.org\\/wp-content\\/uploads\\/2016\\/06\\/3d-model-155x155.png 155w, https:\\/\\/creativecommons.org\\/wp-content\\/uploads\\/2016\\/06\\/3d-model.png 200w\",\"sizes\":\"(max-width: 50px) 85vw, 50px\"}},{\"id\":49785,\"url\":\"https:\\/\\/www.flickr.com\\/photos\\/mikelpierre\\/7180897776\",\"title\":\"Valle de la luna &#8211; La Paz, Bolivia\",\"descriptionHtml\":\"\",\"image\":{\"src\":\"https:\\/\\/creativecommons.org\\/wp-content\\/uploads\\/2016\\/05\\/7180897776_9e91c4d83a_o-350x350.jpg\",\"width\":350,\"height\":350,\"srcset\":\"https:\\/\\/creativecommons.org\\/wp-content\\/uploads\\/2016\\/05\\/7180897776_9e91c4d83a_o-350x350.jpg 350w, https:\\/\\/creativecommons.org\\/wp-content\\/uploads\\/2016\\/05\\/7180897776_9e91c4d83a_o-150x150.jpg 150w\",\"sizes\":\"(max-width: 350px) 85vw, 350px\"},\"imageTitleHtml\":\"valle-de-la-lune\",\"imageCaptionHtml\":\"<a href=\\\"https:\\/\\/www.flickr.com\\/photos\\/mikelpierre\\/7180897776\\\">Valle de la luna - La Paz, Bolivia<\\/a> by <a href=\\\"https:\\/\\/www.flickr.com\\/photos\\/mikelpierre\\/\\\">Mikel Pierre<\\/a> is licensed under <a href=\\\"https:\\/\\/creativecommons.org\\/licenses\\/by-nc\\/2.0\\/\\\">CC BY-NC 2.0<\\/a>\",\"imageDescriptionHtml\":\"\",\"type\":\"photo\",\"typeName\":\"Photo\",\"typeColor\":\"249EB4\",\"typeIcon\":{\"src\":\"https:\\/\\/creativecommons.org\\/wp-content\\/uploads\\/2016\\/06\\/photo-6-50x50.png\",\"width\":50,\"height\":50,\"srcset\":\"https:\\/\\/creativecommons.org\\/wp-content\\/uploads\\/2016\\/06\\/photo-6-50x50.png 50w, https:\\/\\/creativecommons.org\\/wp-content\\/uploads\\/2016\\/06\\/photo-6-150x150.png 150w, https:\\/\\/creativecommons.org\\/wp-content\\/uploads\\/2016\\/06\\/photo-6-40x40.png 40w, https:\\/\\/creativecommons.org\\/wp-content\\/uploads\\/2016\\/06\\/photo-6-155x155.png 155w, https:\\/\\/creativecommons.org\\/wp-content\\/uploads\\/2016\\/06\\/photo-6.png 200w\",\"sizes\":\"(max-width: 50px) 85vw, 50px\"}},{\"id\":49684,\"url\":\"http:\\/\\/costoffreedom.cc\\/\",\"title\":\"The Cost of Freedom\",\"descriptionHtml\":\"\",\"image\":{\"src\":\"https:\\/\\/creativecommons.org\\/wp-content\\/uploads\\/2016\\/05\\/cof-cover-450x600-350x350.jpg\",\"width\":350,\"height\":350,\"srcset\":\"https:\\/\\/creativecommons.org\\/wp-content\\/uploads\\/2016\\/05\\/cof-cover-450x600-350x350.jpg 350w, https:\\/\\/creativecommons.org\\/wp-content\\/uploads\\/2016\\/05\\/cof-cover-450x600-150x150.jpg 150w\",\"sizes\":\"(max-width: 350px) 85vw, 350px\"},\"imageTitleHtml\":\"cost-of-freedom\",\"imageCaptionHtml\":\"<a href=\\\"http:\\/\\/costoffreedom.cc\\/\\\">The Cost of Freedom<\\/a> is licensed under <a href=\\\"http:\\/\\/creativecommons.org\\/publicdomain\\/zero\\/1.0\\/\\\">CC0<\\/a>\",\"imageDescriptionHtml\":\"\",\"type\":\"book\",\"typeName\":\"Book\",\"typeColor\":\"01C5ED\",\"typeIcon\":{\"src\":\"https:\\/\\/creativecommons.org\\/wp-content\\/uploads\\/2016\\/06\\/book-6-50x50.png\",\"width\":50,\"height\":50,\"srcset\":\"https:\\/\\/creativecommons.org\\/wp-content\\/uploads\\/2016\\/06\\/book-6-50x50.png 50w, https:\\/\\/creativecommons.org\\/wp-content\\/uploads\\/2016\\/06\\/book-6-150x150.png 150w, https:\\/\\/creativecommons.org\\/wp-content\\/uploads\\/2016\\/06\\/book-6-40x40.png 40w, https:\\/\\/creativecommons.org\\/wp-content\\/uploads\\/2016\\/06\\/book-6-155x155.png 155w, https:\\/\\/creativecommons.org\\/wp-content\\/uploads\\/2016\\/06\\/book-6.png 200w\",\"sizes\":\"(max-width: 50px) 85vw, 50px\"}},{\"id\":49682,\"url\":\"https:\\/\\/www.flickr.com\\/photos\\/spool32\\/5045502202\\/\",\"title\":\"Birthday Cake\",\"descriptionHtml\":\"\",\"image\":{\"src\":\"https:\\/\\/creativecommons.org\\/wp-content\\/uploads\\/2016\\/05\\/5045502202_41476791a4_o-350x350.jpg\",\"width\":350,\"height\":350,\"srcset\":\"https:\\/\\/creativecommons.org\\/wp-content\\/uploads\\/2016\\/05\\/5045502202_41476791a4_o-350x350.jpg 350w, https:\\/\\/creativecommons.org\\/wp-content\\/uploads\\/2016\\/05\\/5045502202_41476791a4_o-150x150.jpg 150w\",\"sizes\":\"(max-width: 350px) 85vw, 350px\"},\"imageTitleHtml\":\"birthday-cake\",\"imageCaptionHtml\":\"<a href=\\\"https:\\/\\/www.flickr.com\\/photos\\/spool32\\/5045502202\\/\\\">Birthday Cake<\\/a> by <a href=\\\"https:\\/\\/www.flickr.com\\/photos\\/spool32\\/\\\">Will Clayton<\\/a> is licensed under <a href=\\\"https:\\/\\/creativecommons.org\\/licenses\\/by\\/2.0\\/\\\">CC BY 2.0<\\/a>\",\"imageDescriptionHtml\":\"\",\"type\":\"photo\",\"typeName\":\"Photo\",\"typeColor\":\"249EB4\",\"typeIcon\":{\"src\":\"https:\\/\\/creativecommons.org\\/wp-content\\/uploads\\/2016\\/06\\/photo-6-50x50.png\",\"width\":50,\"height\":50,\"srcset\":\"https:\\/\\/creativecommons.org\\/wp-content\\/uploads\\/2016\\/06\\/photo-6-50x50.png 50w, https:\\/\\/creativecommons.org\\/wp-content\\/uploads\\/2016\\/06\\/photo-6-150x150.png 150w, https:\\/\\/creativecommons.org\\/wp-content\\/uploads\\/2016\\/06\\/photo-6-40x40.png 40w, https:\\/\\/creativecommons.org\\/wp-content\\/uploads\\/2016\\/06\\/photo-6-155x155.png 155w, https:\\/\\/creativecommons.org\\/wp-content\\/uploads\\/2016\\/06\\/photo-6.png 200w\",\"sizes\":\"(max-width: 50px) 85vw, 50px\"}},{\"id\":49680,\"url\":\"https:\\/\\/www.flickr.com\\/photos\\/stuckincustoms\\/23426912396\",\"title\":\"The Edges of Dubai\",\"descriptionHtml\":\"\",\"image\":{\"src\":\"https:\\/\\/creativecommons.org\\/wp-content\\/uploads\\/2016\\/05\\/23426912396_fb6039d11e_k-350x350.jpg\",\"width\":350,\"height\":350,\"srcset\":\"https:\\/\\/creativecommons.org\\/wp-content\\/uploads\\/2016\\/05\\/23426912396_fb6039d11e_k-350x350.jpg 350w, https:\\/\\/creativecommons.org\\/wp-content\\/uploads\\/2016\\/05\\/23426912396_fb6039d11e_k-150x150.jpg 150w\",\"sizes\":\"(max-width: 350px) 85vw, 350px\"},\"imageTitleHtml\":\"edges-of-dubai\",\"imageCaptionHtml\":\"<a href=\\\"https:\\/\\/www.flickr.com\\/photos\\/stuckincustoms\\/23426912396\\\">The Edges of Dubai<\\/a> by <a href=\\\"https:\\/\\/www.flickr.com\\/photos\\/stuckincustoms\\/\\\">Trey Ratcliff<\\/a> is licensed under <a href=\\\"https:\\/\\/creativecommons.org\\/licenses\\/by-nc-sa\\/2.0\\/\\\">CC BY-NC-SA 2.0<\\/a>\",\"imageDescriptionHtml\":\"\",\"type\":\"photo\",\"typeName\":\"Photo\",\"typeColor\":\"249EB4\",\"typeIcon\":{\"src\":\"https:\\/\\/creativecommons.org\\/wp-content\\/uploads\\/2016\\/06\\/photo-6-50x50.png\",\"width\":50,\"height\":50,\"srcset\":\"https:\\/\\/creativecommons.org\\/wp-content\\/uploads\\/2016\\/06\\/photo-6-50x50.png 50w, https:\\/\\/creativecommons.org\\/wp-content\\/uploads\\/2016\\/06\\/photo-6-150x150.png 150w, https:\\/\\/creativecommons.org\\/wp-content\\/uploads\\/2016\\/06\\/photo-6-40x40.png 40w, https:\\/\\/creativecommons.org\\/wp-content\\/uploads\\/2016\\/06\\/photo-6-155x155.png 155w, https:\\/\\/creativecommons.org\\/wp-content\\/uploads\\/2016\\/06\\/photo-6.png 200w\",\"sizes\":\"(max-width: 50px) 85vw, 50px\"}},{\"id\":49678,\"url\":\"http:\\/\\/badpandarecords.bandcamp.com\\/album\\/populous-eric-steuer-end-for-sure\",\"title\":\"Populous &#038; Eric Steuer &#8211; End For Sure\",\"descriptionHtml\":\"\",\"image\":{\"src\":\"https:\\/\\/creativecommons.org\\/wp-content\\/uploads\\/2016\\/05\\/end-for-sure-cover-350x350.jpg\",\"width\":350,\"height\":350,\"srcset\":\"https:\\/\\/creativecommons.org\\/wp-content\\/uploads\\/2016\\/05\\/end-for-sure-cover-350x350.jpg 350w, https:\\/\\/creativecommons.org\\/wp-content\\/uploads\\/2016\\/05\\/end-for-sure-cover-150x150.jpg 150w, https:\\/\\/creativecommons.org\\/wp-content\\/uploads\\/2016\\/05\\/end-for-sure-cover-300x300.jpg 300w, https:\\/\\/creativecommons.org\\/wp-content\\/uploads\\/2016\\/05\\/end-for-sure-cover-155x155.jpg 155w, https:\\/\\/creativecommons.org\\/wp-content\\/uploads\\/2016\\/05\\/end-for-sure-cover.jpg 700w\",\"sizes\":\"(max-width: 350px) 85vw, 350px\"},\"imageTitleHtml\":\"end-for-sure-cover\",\"imageCaptionHtml\":\"<a href=\\\"http:\\/\\/badpandarecords.bandcamp.com\\/album\\/populous-eric-steuer-end-for-sure\\\">Populous &amp; Eric Steuer - End For Sure<\\/a> by <a href=\\\"http:\\/\\/badpandarecords.bandcamp.com\\/\\\">Bad Panda<\\/a>\\u00a0is licensed under <a href=\\\"http:\\/\\/creativecommons.org\\/licenses\\/by-nc-sa\\/3.0\\/\\\">CC BY-NC-SA 3.0<\\/a>\",\"imageDescriptionHtml\":\"\",\"type\":\"music\",\"typeName\":\"Music\",\"typeColor\":\"01C5ED\",\"typeIcon\":{\"src\":\"https:\\/\\/creativecommons.org\\/wp-content\\/uploads\\/2016\\/06\\/music-3-50x50.png\",\"width\":50,\"height\":50,\"srcset\":\"https:\\/\\/creativecommons.org\\/wp-content\\/uploads\\/2016\\/06\\/music-3-50x50.png 50w, https:\\/\\/creativecommons.org\\/wp-content\\/uploads\\/2016\\/06\\/music-3-150x150.png 150w, https:\\/\\/creativecommons.org\\/wp-content\\/uploads\\/2016\\/06\\/music-3-40x40.png 40w, https:\\/\\/creativecommons.org\\/wp-content\\/uploads\\/2016\\/06\\/music-3-155x155.png 155w, https:\\/\\/creativecommons.org\\/wp-content\\/uploads\\/2016\\/06\\/music-3.png 200w\",\"sizes\":\"(max-width: 50px) 85vw, 50px\"}},{\"id\":49676,\"url\":\"https:\\/\\/unsplash.com\\/photos\\/19SC2oaVZW0\\/\",\"title\":\"Photo of trees\",\"descriptionHtml\":\"\",\"image\":{\"src\":\"https:\\/\\/creativecommons.org\\/wp-content\\/uploads\\/2016\\/05\\/photo-1440342359743-84fcb8c21f21-350x350.jpeg\",\"width\":350,\"height\":350,\"srcset\":\"https:\\/\\/creativecommons.org\\/wp-content\\/uploads\\/2016\\/05\\/photo-1440342359743-84fcb8c21f21-350x350.jpeg 350w, https:\\/\\/creativecommons.org\\/wp-content\\/uploads\\/2016\\/05\\/photo-1440342359743-84fcb8c21f21-150x150.jpeg 150w\",\"sizes\":\"(max-width: 350px) 85vw, 350px\"},\"imageTitleHtml\":\"photo-trees\",\"imageCaptionHtml\":\"<a href=\\\"https:\\/\\/unsplash.com\\/photos\\/19SC2oaVZW0\\/\\\">Photo of trees<\\/a> by <a href=\\\"https:\\/\\/unsplash.com\\/@kazuend\\\">kazuend<\\/a> is licensed under <a href=\\\"http:\\/\\/creativecommons.org\\/publicdomain\\/zero\\/1.0\\/\\\">CC0 1.0<\\/a>\",\"imageDescriptionHtml\":\"\",\"type\":\"photo\",\"typeName\":\"Photo\",\"typeColor\":\"249EB4\",\"typeIcon\":{\"src\":\"https:\\/\\/creativecommons.org\\/wp-content\\/uploads\\/2016\\/06\\/photo-6-50x50.png\",\"width\":50,\"height\":50,\"srcset\":\"https:\\/\\/creativecommons.org\\/wp-content\\/uploads\\/2016\\/06\\/photo-6-50x50.png 50w, https:\\/\\/creativecommons.org\\/wp-content\\/uploads\\/2016\\/06\\/photo-6-150x150.png 150w, https:\\/\\/creativecommons.org\\/wp-content\\/uploads\\/2016\\/06\\/photo-6-40x40.png 40w, https:\\/\\/creativecommons.org\\/wp-content\\/uploads\\/2016\\/06\\/photo-6-155x155.png 155w, https:\\/\\/creativecommons.org\\/wp-content\\/uploads\\/2016\\/06\\/photo-6.png 200w\",\"sizes\":\"(max-width: 50px) 85vw, 50px\"}}],\"total\":\"48\",\"remaining\":24}};\n",
    "/* ]]> */\n",
    "</script>\n",
    "<script type='text/javascript' src='https://creativecommons.org/wp-content/plugins/cc-resource/widgets/js/cc-resource.js?ver=20160608'></script>\n",
    "<script type='text/javascript' src='https://stats.wp.com/e-201633.js' async defer></script>\n",
    "<script type='text/javascript'>\n",
    "\t_stq = window._stq || [];\n",
    "\t_stq.push([ 'view', {v:'ext',j:'1:4.0.4',blog:'104997560',post:'48812',tz:'-4',srv:'creativecommons.org'} ]);\n",
    "\t_stq.push([ 'clickTrackerInit', '104997560', '48812' ]);\n",
    "</script>\n",
    "</body>\n",
    "</html>\n",
    "'''"
   ]
  },
  {
   "cell_type": "code",
   "execution_count": 2,
   "metadata": {
    "collapsed": true
   },
   "outputs": [],
   "source": [
    "from bs4 import BeautifulSoup"
   ]
  },
  {
   "cell_type": "markdown",
   "metadata": {},
   "source": [
    "*parse html text*"
   ]
  },
  {
   "cell_type": "code",
   "execution_count": 3,
   "metadata": {
    "collapsed": true
   },
   "outputs": [],
   "source": [
    "soup = BeautifulSoup(html, 'html.parser')"
   ]
  },
  {
   "cell_type": "code",
   "execution_count": 4,
   "metadata": {},
   "outputs": [
    {
     "data": {
      "text/plain": [
       "bs4.BeautifulSoup"
      ]
     },
     "execution_count": 4,
     "metadata": {},
     "output_type": "execute_result"
    }
   ],
   "source": [
    "type(soup)"
   ]
  },
  {
   "cell_type": "code",
   "execution_count": 7,
   "metadata": {},
   "outputs": [
    {
     "data": {
      "text/plain": [
       "['ASCII_SPACES',\n",
       " 'DEFAULT_BUILDER_FEATURES',\n",
       " 'HTML_FORMATTERS',\n",
       " 'NO_PARSER_SPECIFIED_WARNING',\n",
       " 'ROOT_TAG_NAME',\n",
       " 'XML_FORMATTERS',\n",
       " '__bool__',\n",
       " '__call__',\n",
       " '__class__',\n",
       " '__contains__',\n",
       " '__copy__',\n",
       " '__delattr__',\n",
       " '__delitem__',\n",
       " '__dict__',\n",
       " '__dir__',\n",
       " '__doc__',\n",
       " '__eq__',\n",
       " '__format__',\n",
       " '__ge__',\n",
       " '__getattr__',\n",
       " '__getattribute__',\n",
       " '__getitem__',\n",
       " '__getstate__',\n",
       " '__gt__',\n",
       " '__hash__',\n",
       " '__init__',\n",
       " '__iter__',\n",
       " '__le__',\n",
       " '__len__',\n",
       " '__lt__',\n",
       " '__module__',\n",
       " '__ne__',\n",
       " '__new__',\n",
       " '__reduce__',\n",
       " '__reduce_ex__',\n",
       " '__repr__',\n",
       " '__setattr__',\n",
       " '__setitem__',\n",
       " '__sizeof__',\n",
       " '__str__',\n",
       " '__subclasshook__',\n",
       " '__unicode__',\n",
       " '__weakref__',\n",
       " '_all_strings',\n",
       " '_attr_value_as_string',\n",
       " '_attribute_checker',\n",
       " '_feed',\n",
       " '_find_all',\n",
       " '_find_one',\n",
       " '_formatter_for_name',\n",
       " '_is_xml',\n",
       " '_lastRecursiveChild',\n",
       " '_last_descendant',\n",
       " '_most_recent_element',\n",
       " '_popToTag',\n",
       " '_select_debug',\n",
       " '_selector_combinators',\n",
       " '_should_pretty_print',\n",
       " '_tag_name_matches_and',\n",
       " 'append',\n",
       " 'attribselect_re',\n",
       " 'attrs',\n",
       " 'builder',\n",
       " 'can_be_empty_element',\n",
       " 'childGenerator',\n",
       " 'children',\n",
       " 'clear',\n",
       " 'contains_replacement_characters',\n",
       " 'contents',\n",
       " 'currentTag',\n",
       " 'current_data',\n",
       " 'declared_html_encoding',\n",
       " 'decode',\n",
       " 'decode_contents',\n",
       " 'decompose',\n",
       " 'descendants',\n",
       " 'encode',\n",
       " 'encode_contents',\n",
       " 'endData',\n",
       " 'extract',\n",
       " 'fetchNextSiblings',\n",
       " 'fetchParents',\n",
       " 'fetchPrevious',\n",
       " 'fetchPreviousSiblings',\n",
       " 'find',\n",
       " 'findAll',\n",
       " 'findAllNext',\n",
       " 'findAllPrevious',\n",
       " 'findChild',\n",
       " 'findChildren',\n",
       " 'findNext',\n",
       " 'findNextSibling',\n",
       " 'findNextSiblings',\n",
       " 'findParent',\n",
       " 'findParents',\n",
       " 'findPrevious',\n",
       " 'findPreviousSibling',\n",
       " 'findPreviousSiblings',\n",
       " 'find_all',\n",
       " 'find_all_next',\n",
       " 'find_all_previous',\n",
       " 'find_next',\n",
       " 'find_next_sibling',\n",
       " 'find_next_siblings',\n",
       " 'find_parent',\n",
       " 'find_parents',\n",
       " 'find_previous',\n",
       " 'find_previous_sibling',\n",
       " 'find_previous_siblings',\n",
       " 'format_string',\n",
       " 'get',\n",
       " 'getText',\n",
       " 'get_text',\n",
       " 'handle_data',\n",
       " 'handle_endtag',\n",
       " 'handle_starttag',\n",
       " 'has_attr',\n",
       " 'has_key',\n",
       " 'hidden',\n",
       " 'index',\n",
       " 'insert',\n",
       " 'insert_after',\n",
       " 'insert_before',\n",
       " 'isSelfClosing',\n",
       " 'is_empty_element',\n",
       " 'is_xml',\n",
       " 'markup',\n",
       " 'name',\n",
       " 'namespace',\n",
       " 'new_string',\n",
       " 'new_tag',\n",
       " 'next',\n",
       " 'nextGenerator',\n",
       " 'nextSibling',\n",
       " 'nextSiblingGenerator',\n",
       " 'next_element',\n",
       " 'next_elements',\n",
       " 'next_sibling',\n",
       " 'next_siblings',\n",
       " 'object_was_parsed',\n",
       " 'original_encoding',\n",
       " 'parent',\n",
       " 'parentGenerator',\n",
       " 'parents',\n",
       " 'parse_only',\n",
       " 'parserClass',\n",
       " 'parser_class',\n",
       " 'popTag',\n",
       " 'prefix',\n",
       " 'preserve_whitespace_tag_stack',\n",
       " 'prettify',\n",
       " 'previous',\n",
       " 'previousGenerator',\n",
       " 'previousSibling',\n",
       " 'previousSiblingGenerator',\n",
       " 'previous_element',\n",
       " 'previous_elements',\n",
       " 'previous_sibling',\n",
       " 'previous_siblings',\n",
       " 'pushTag',\n",
       " 'recursiveChildGenerator',\n",
       " 'renderContents',\n",
       " 'replaceWith',\n",
       " 'replaceWithChildren',\n",
       " 'replace_with',\n",
       " 'replace_with_children',\n",
       " 'reset',\n",
       " 'select',\n",
       " 'select_one',\n",
       " 'setup',\n",
       " 'string',\n",
       " 'strings',\n",
       " 'stripped_strings',\n",
       " 'tagStack',\n",
       " 'tag_name_re',\n",
       " 'text',\n",
       " 'unwrap',\n",
       " 'wrap']"
      ]
     },
     "execution_count": 7,
     "metadata": {},
     "output_type": "execute_result"
    }
   ],
   "source": [
    "dir(soup)"
   ]
  },
  {
   "cell_type": "markdown",
   "metadata": {},
   "source": [
    "*find all the __ul__*"
   ]
  },
  {
   "cell_type": "code",
   "execution_count": 8,
   "metadata": {},
   "outputs": [
    {
     "data": {
      "text/plain": [
       "[<ul class=\"mobile-menu\" id=\"menu-mobile-menu\"><li class=\"menu-item menu-item-type-post_type menu-item-object-page menu-item-48798\" id=\"menu-item-48798\"><a href=\"https://creativecommons.org/share-your-work/\">Share your work</a></li>\n",
       " <li class=\"menu-item menu-item-type-post_type menu-item-object-page menu-item-48799\" id=\"menu-item-48799\"><a href=\"https://creativecommons.org/use-remix/\">Use &amp; remix</a></li>\n",
       " <li class=\"menu-item menu-item-type-post_type menu-item-object-page menu-item-48800\" id=\"menu-item-48800\"><a href=\"https://creativecommons.org/about/\">What we do</a></li>\n",
       " <li class=\"menu-item menu-item-type-post_type menu-item-object-page menu-item-48801\" id=\"menu-item-48801\"><a href=\"https://creativecommons.org/blog/\">Blog</a></li>\n",
       " <li class=\"menu-item menu-item-type-post_type menu-item-object-page menu-item-48802\" id=\"menu-item-48802\"><a href=\"https://creativecommons.org/about/global-affiliate-network/\">Global Affiliate Network</a></li>\n",
       " <li class=\"menu-item menu-item-type-post_type menu-item-object-page menu-item-48803\" id=\"menu-item-48803\"><a href=\"https://creativecommons.org/use-remix/search-the-commons/\">Search the Commons</a></li>\n",
       " </ul>,\n",
       " <ul class=\"primary-menu\" id=\"menu-primary-menu\"><li class=\"menu-item menu-item-type-post_type menu-item-object-page menu-item-48791\" id=\"menu-item-48791\"><a href=\"https://creativecommons.org/share-your-work/\">Share your work</a></li>\n",
       " <li class=\"menu-item menu-item-type-post_type menu-item-object-page menu-item-48792\" id=\"menu-item-48792\"><a href=\"https://creativecommons.org/use-remix/\">Use &amp; remix</a></li>\n",
       " <li class=\"menu-item menu-item-type-post_type menu-item-object-page menu-item-48570\" id=\"menu-item-48570\"><a href=\"https://creativecommons.org/about/\">What we do</a></li>\n",
       " <li class=\"menu-item menu-item-type-post_type menu-item-object-page menu-item-48793\" id=\"menu-item-48793\"><a href=\"https://creativecommons.org/blog/\">Blog</a></li>\n",
       " </ul>,\n",
       " <ul class=\"secondary-menu\" id=\"menu-secondary-menu\"><li class=\"menu-item menu-item-type-post_type menu-item-object-page menu-item-48804\" id=\"menu-item-48804\"><a href=\"https://creativecommons.org/about/global-affiliate-network/\">Global Affiliate Network</a></li>\n",
       " <li class=\"menu-item menu-item-type-post_type menu-item-object-page menu-item-48805\" id=\"menu-item-48805\"><a href=\"https://creativecommons.org/use-remix/search-the-commons/\">Search the Commons</a></li>\n",
       " <li class=\"menu-item menu-item-type-post_type menu-item-object-page menu-item-48806\" id=\"menu-item-48806\"><a href=\"https://creativecommons.org/about/contact/\">Contact</a></li>\n",
       " </ul>,\n",
       " <ul class=\"social-links-menu\" id=\"menu-social-links\"><li class=\"menu-item menu-item-type-custom menu-item-object-custom menu-item-48807\" id=\"menu-item-48807\"><a href=\"http://www.facebook.com/creativecommons\"><span class=\"screen-reader-text\">Facebook</span></a></li>\n",
       " <li class=\"menu-item menu-item-type-custom menu-item-object-custom menu-item-48808\" id=\"menu-item-48808\"><a href=\"http://twitter.com/creativecommons\"><span class=\"screen-reader-text\">Twitter</span></a></li>\n",
       " <li class=\"menu-item menu-item-type-custom menu-item-object-custom menu-item-48809\" id=\"menu-item-48809\"><a href=\"mailto:info@creativecommons.org\"><span class=\"screen-reader-text\">Mail</span></a></li>\n",
       " </ul>,\n",
       " <ul>\n",
       " <li><a href=\"\"><a href=\"/share-your-work/\">Choose license</a></a></li>\n",
       " <li><a href=\"\"><a href=\"/about/contact/\">Connect with CC</a></a></li>\n",
       " <li><a href=\"\"><a href=\"/share-your-work/public-domain/\">Learn about public domain</a></a></li>\n",
       " </ul>,\n",
       " <ul>\n",
       " <li><a href=\"\"><a href=\"/use-remix/search-the-commons/\" target=\"_blank\">Search</a></a></li>\n",
       " <li><a href=\"\"><a href=\"/share-your-work/places-to-share/\">Explore CC platforms</a></a></li>\n",
       " <li><a href=\"\"><a href=\"/use-remix/\">Search by topic</a></a></li>\n",
       " </ul>,\n",
       " <ul>\n",
       " <li><a href=\"\"><a href=\"/donate/\">Donate</a></a></li>\n",
       " <li><a href=\"\"><a href=\"/about/platform/\">Partner with CC</a></a></li>\n",
       " <li><a href=\"\"><a href=\"/about/program-areas/\">Program areas</a></a></li>\n",
       " </ul>,\n",
       " <ul class=\"gform_fields top_label form_sublabel_below description_below\" id=\"gform_fields_2\"><li class=\"gfield gfield_html gfield_html_formatted gfield_no_follows_desc field_sublabel_below field_description_below\" id=\"field_2_2\"><h2><span>Donate to help keep the internet free and open!</span></h2></li><li class=\"gfield field_sublabel_below field_description_below\" id=\"field_2_1\"><label class=\"gfield_label\"></label><div class=\"ginput_container ginput_container_radio\"><ul class=\"gfield_radio\" id=\"input_2_1\"><li class=\"gchoice_2_1_0\"><input id=\"choice_2_1_0\" name=\"input_1\" tabindex=\"1\" type=\"radio\" value=\"$100\"/><label for=\"choice_2_1_0\" id=\"label_2_1_0\">$100</label></li><li class=\"gchoice_2_1_1\"><input checked=\"checked\" id=\"choice_2_1_1\" name=\"input_1\" tabindex=\"2\" type=\"radio\" value=\"$50\"/><label for=\"choice_2_1_1\" id=\"label_2_1_1\">$50</label></li><li class=\"gchoice_2_1_2\"><input id=\"choice_2_1_2\" name=\"input_1\" tabindex=\"3\" type=\"radio\" value=\"$25\"/><label for=\"choice_2_1_2\" id=\"label_2_1_2\">$25</label></li><li class=\"gchoice_2_1_3\"><input id=\"choice_2_1_3\" name=\"input_1\" tabindex=\"4\" type=\"radio\" value=\"$5\"/><label for=\"choice_2_1_3\" id=\"label_2_1_3\">$5</label></li><li class=\"gchoice_2_1_4\"><input id=\"choice_2_1_4\" name=\"input_1\" onfocus=\"jQuery(this).next('input').focus();\" tabindex=\"5\" type=\"radio\" value=\"gf_other_choice\"/><input aria-label=\"Other\" id=\"input_2_1_other\" name=\"input_1_other\" onblur='if(jQuery(this).val().replace(\" \", \"\") == \"\") { jQuery(this).val(\"Other\"); }' onfocus='jQuery(this).prev(\"input\")[0].click(); if(jQuery(this).val() == \"Other\") { jQuery(this).val(\"\"); }' tabindex=\"5\" type=\"text\" value=\"Other\"/></li></ul></div></li><li class=\"gfield gform_validation_container field_sublabel_below field_description_below\" id=\"field_2_3\"><label class=\"gfield_label\" for=\"input_2_3\">Phone</label><div class=\"ginput_container\"><input id=\"input_2_3\" name=\"input_3\" type=\"text\" value=\"\"/></div><div class=\"gfield_description\">This field is for validation purposes and should be left unchanged.</div></li>\n",
       " </ul>,\n",
       " <ul class=\"gfield_radio\" id=\"input_2_1\"><li class=\"gchoice_2_1_0\"><input id=\"choice_2_1_0\" name=\"input_1\" tabindex=\"1\" type=\"radio\" value=\"$100\"/><label for=\"choice_2_1_0\" id=\"label_2_1_0\">$100</label></li><li class=\"gchoice_2_1_1\"><input checked=\"checked\" id=\"choice_2_1_1\" name=\"input_1\" tabindex=\"2\" type=\"radio\" value=\"$50\"/><label for=\"choice_2_1_1\" id=\"label_2_1_1\">$50</label></li><li class=\"gchoice_2_1_2\"><input id=\"choice_2_1_2\" name=\"input_1\" tabindex=\"3\" type=\"radio\" value=\"$25\"/><label for=\"choice_2_1_2\" id=\"label_2_1_2\">$25</label></li><li class=\"gchoice_2_1_3\"><input id=\"choice_2_1_3\" name=\"input_1\" tabindex=\"4\" type=\"radio\" value=\"$5\"/><label for=\"choice_2_1_3\" id=\"label_2_1_3\">$5</label></li><li class=\"gchoice_2_1_4\"><input id=\"choice_2_1_4\" name=\"input_1\" onfocus=\"jQuery(this).next('input').focus();\" tabindex=\"5\" type=\"radio\" value=\"gf_other_choice\"/><input aria-label=\"Other\" id=\"input_2_1_other\" name=\"input_1_other\" onblur='if(jQuery(this).val().replace(\" \", \"\") == \"\") { jQuery(this).val(\"Other\"); }' onfocus='jQuery(this).prev(\"input\")[0].click(); if(jQuery(this).val() == \"Other\") { jQuery(this).val(\"\"); }' tabindex=\"5\" type=\"text\" value=\"Other\"/></li></ul>,\n",
       " <ul>\n",
       " <li><a href=\"http://www.hewlett.org/\"><img src=\"/wp-content/uploads/2016/05/Hewlett.png\"/></a></li>\n",
       " <li><a href=\"http://www.arcadiafund.org.uk/about-arcadia/about-arcadia/.aspx\"><img src=\"/wp-content/uploads/2016/05/Arcadia.png\"/></a></li>\n",
       " <li><img src=\"/wp-content/uploads/2016/05/BrianWojcicki.png\"/></li>\n",
       " <li><a href=\"https://www.google.org/\"><img src=\"/wp-content/uploads/2016/05/google.png\"/></a></li>\n",
       " <li><a href=\"https://www.imls.gov/\"><img src=\"/wp-content/uploads/2016/05/Museum_Library.png\"/></a></li>\n",
       " <li><a href=\"https://www.privateinternetaccess.com/\"><img src=\"/wp-content/uploads/2016/07/PIA_new_rev.png\"/></a></li>\n",
       " </ul>,\n",
       " <ul class=\"menu\" id=\"menu-footer-links\"><li class=\"menu-item menu-item-type-post_type menu-item-object-page menu-item-48794\" id=\"menu-item-48794\"><a href=\"https://creativecommons.org/about/contact/\">Contact</a></li>\n",
       " <li class=\"menu-item menu-item-type-post_type menu-item-object-page menu-item-48795\" id=\"menu-item-48795\"><a href=\"https://creativecommons.org/privacy/\">Privacy</a></li>\n",
       " <li class=\"menu-item menu-item-type-post_type menu-item-object-page menu-item-48796\" id=\"menu-item-48796\"><a href=\"https://creativecommons.org/policies/\">Policies</a></li>\n",
       " <li class=\"menu-item menu-item-type-post_type menu-item-object-page menu-item-48797\" id=\"menu-item-48797\"><a href=\"https://creativecommons.org/terms/\">Terms</a></li>\n",
       " </ul>,\n",
       " <ul>\n",
       " <li><a class=\"mail\" href=\"mailto:info@creativecommons.org\">info@creativecommons.org</a></li>\n",
       " <li><a href=\"tel:1-415-429-6753\">1-415-429-6753</a></li>\n",
       " <li><a href=\"/faq\" style=\"color: white\">Frequently Asked Questions</a></li>\n",
       " </ul>]"
      ]
     },
     "execution_count": 8,
     "metadata": {},
     "output_type": "execute_result"
    }
   ],
   "source": [
    "soup.find_all('ul')"
   ]
  },
  {
   "cell_type": "code",
   "execution_count": 9,
   "metadata": {},
   "outputs": [
    {
     "data": {
      "text/plain": [
       "12"
      ]
     },
     "execution_count": 9,
     "metadata": {},
     "output_type": "execute_result"
    }
   ],
   "source": [
    "len(soup.find_all('ul'))"
   ]
  },
  {
   "cell_type": "markdown",
   "metadata": {},
   "source": [
    "There are 12 such elements"
   ]
  },
  {
   "cell_type": "markdown",
   "metadata": {},
   "source": [
    "*find all __ul__ whose class is __mobile-menu__*"
   ]
  },
  {
   "cell_type": "code",
   "execution_count": 10,
   "metadata": {},
   "outputs": [
    {
     "data": {
      "text/plain": [
       "[<ul class=\"mobile-menu\" id=\"menu-mobile-menu\"><li class=\"menu-item menu-item-type-post_type menu-item-object-page menu-item-48798\" id=\"menu-item-48798\"><a href=\"https://creativecommons.org/share-your-work/\">Share your work</a></li>\n",
       " <li class=\"menu-item menu-item-type-post_type menu-item-object-page menu-item-48799\" id=\"menu-item-48799\"><a href=\"https://creativecommons.org/use-remix/\">Use &amp; remix</a></li>\n",
       " <li class=\"menu-item menu-item-type-post_type menu-item-object-page menu-item-48800\" id=\"menu-item-48800\"><a href=\"https://creativecommons.org/about/\">What we do</a></li>\n",
       " <li class=\"menu-item menu-item-type-post_type menu-item-object-page menu-item-48801\" id=\"menu-item-48801\"><a href=\"https://creativecommons.org/blog/\">Blog</a></li>\n",
       " <li class=\"menu-item menu-item-type-post_type menu-item-object-page menu-item-48802\" id=\"menu-item-48802\"><a href=\"https://creativecommons.org/about/global-affiliate-network/\">Global Affiliate Network</a></li>\n",
       " <li class=\"menu-item menu-item-type-post_type menu-item-object-page menu-item-48803\" id=\"menu-item-48803\"><a href=\"https://creativecommons.org/use-remix/search-the-commons/\">Search the Commons</a></li>\n",
       " </ul>]"
      ]
     },
     "execution_count": 10,
     "metadata": {},
     "output_type": "execute_result"
    }
   ],
   "source": [
    "soup.find_all('ul', attrs={'class': 'mobile-menu'})"
   ]
  },
  {
   "cell_type": "markdown",
   "metadata": {},
   "source": [
    "*Or we can use css selectors*"
   ]
  },
  {
   "cell_type": "code",
   "execution_count": 11,
   "metadata": {},
   "outputs": [
    {
     "data": {
      "text/plain": [
       "[<ul class=\"mobile-menu\" id=\"menu-mobile-menu\"><li class=\"menu-item menu-item-type-post_type menu-item-object-page menu-item-48798\" id=\"menu-item-48798\"><a href=\"https://creativecommons.org/share-your-work/\">Share your work</a></li>\n",
       " <li class=\"menu-item menu-item-type-post_type menu-item-object-page menu-item-48799\" id=\"menu-item-48799\"><a href=\"https://creativecommons.org/use-remix/\">Use &amp; remix</a></li>\n",
       " <li class=\"menu-item menu-item-type-post_type menu-item-object-page menu-item-48800\" id=\"menu-item-48800\"><a href=\"https://creativecommons.org/about/\">What we do</a></li>\n",
       " <li class=\"menu-item menu-item-type-post_type menu-item-object-page menu-item-48801\" id=\"menu-item-48801\"><a href=\"https://creativecommons.org/blog/\">Blog</a></li>\n",
       " <li class=\"menu-item menu-item-type-post_type menu-item-object-page menu-item-48802\" id=\"menu-item-48802\"><a href=\"https://creativecommons.org/about/global-affiliate-network/\">Global Affiliate Network</a></li>\n",
       " <li class=\"menu-item menu-item-type-post_type menu-item-object-page menu-item-48803\" id=\"menu-item-48803\"><a href=\"https://creativecommons.org/use-remix/search-the-commons/\">Search the Commons</a></li>\n",
       " </ul>]"
      ]
     },
     "execution_count": 11,
     "metadata": {},
     "output_type": "execute_result"
    }
   ],
   "source": [
    "soup.select('ul.mobile-menu')"
   ]
  },
  {
   "cell_type": "markdown",
   "metadata": {},
   "source": [
    "**CSS Selectors**\n",
    "\n",
    "works very much similar to how css are defined\n",
    "\n",
    "\n",
    "    .css-class\n",
    "    #css-id"
   ]
  },
  {
   "cell_type": "markdown",
   "metadata": {},
   "source": [
    "**Find single item**"
   ]
  },
  {
   "cell_type": "code",
   "execution_count": 13,
   "metadata": {},
   "outputs": [
    {
     "data": {
      "text/plain": [
       "<ul class=\"mobile-menu\" id=\"menu-mobile-menu\"><li class=\"menu-item menu-item-type-post_type menu-item-object-page menu-item-48798\" id=\"menu-item-48798\"><a href=\"https://creativecommons.org/share-your-work/\">Share your work</a></li>\n",
       "<li class=\"menu-item menu-item-type-post_type menu-item-object-page menu-item-48799\" id=\"menu-item-48799\"><a href=\"https://creativecommons.org/use-remix/\">Use &amp; remix</a></li>\n",
       "<li class=\"menu-item menu-item-type-post_type menu-item-object-page menu-item-48800\" id=\"menu-item-48800\"><a href=\"https://creativecommons.org/about/\">What we do</a></li>\n",
       "<li class=\"menu-item menu-item-type-post_type menu-item-object-page menu-item-48801\" id=\"menu-item-48801\"><a href=\"https://creativecommons.org/blog/\">Blog</a></li>\n",
       "<li class=\"menu-item menu-item-type-post_type menu-item-object-page menu-item-48802\" id=\"menu-item-48802\"><a href=\"https://creativecommons.org/about/global-affiliate-network/\">Global Affiliate Network</a></li>\n",
       "<li class=\"menu-item menu-item-type-post_type menu-item-object-page menu-item-48803\" id=\"menu-item-48803\"><a href=\"https://creativecommons.org/use-remix/search-the-commons/\">Search the Commons</a></li>\n",
       "</ul>"
      ]
     },
     "execution_count": 13,
     "metadata": {},
     "output_type": "execute_result"
    }
   ],
   "source": [
    "soup.find('ul')"
   ]
  },
  {
   "cell_type": "markdown",
   "metadata": {},
   "source": [
    "*find returns first matched item*"
   ]
  },
  {
   "cell_type": "code",
   "execution_count": 14,
   "metadata": {},
   "outputs": [
    {
     "data": {
      "text/plain": [
       "<ul class=\"mobile-menu\" id=\"menu-mobile-menu\"><li class=\"menu-item menu-item-type-post_type menu-item-object-page menu-item-48798\" id=\"menu-item-48798\"><a href=\"https://creativecommons.org/share-your-work/\">Share your work</a></li>\n",
       "<li class=\"menu-item menu-item-type-post_type menu-item-object-page menu-item-48799\" id=\"menu-item-48799\"><a href=\"https://creativecommons.org/use-remix/\">Use &amp; remix</a></li>\n",
       "<li class=\"menu-item menu-item-type-post_type menu-item-object-page menu-item-48800\" id=\"menu-item-48800\"><a href=\"https://creativecommons.org/about/\">What we do</a></li>\n",
       "<li class=\"menu-item menu-item-type-post_type menu-item-object-page menu-item-48801\" id=\"menu-item-48801\"><a href=\"https://creativecommons.org/blog/\">Blog</a></li>\n",
       "<li class=\"menu-item menu-item-type-post_type menu-item-object-page menu-item-48802\" id=\"menu-item-48802\"><a href=\"https://creativecommons.org/about/global-affiliate-network/\">Global Affiliate Network</a></li>\n",
       "<li class=\"menu-item menu-item-type-post_type menu-item-object-page menu-item-48803\" id=\"menu-item-48803\"><a href=\"https://creativecommons.org/use-remix/search-the-commons/\">Search the Commons</a></li>\n",
       "</ul>"
      ]
     },
     "execution_count": 14,
     "metadata": {},
     "output_type": "execute_result"
    }
   ],
   "source": [
    "soup.find(id='menu-mobile-menu')"
   ]
  },
  {
   "cell_type": "markdown",
   "metadata": {},
   "source": [
    "*Every __find__ method returns a soup object, so they can be chained*"
   ]
  },
  {
   "cell_type": "code",
   "execution_count": 17,
   "metadata": {},
   "outputs": [
    {
     "data": {
      "text/plain": [
       "[<li class=\"menu-item menu-item-type-post_type menu-item-object-page menu-item-48801\" id=\"menu-item-48801\"><a href=\"https://creativecommons.org/blog/\">Blog</a></li>]"
      ]
     },
     "execution_count": 17,
     "metadata": {},
     "output_type": "execute_result"
    }
   ],
   "source": [
    "soup.find('ul').find_all('li', string='Blog')"
   ]
  },
  {
   "cell_type": "markdown",
   "metadata": {},
   "source": [
    "find first __ul__, and find all the __li__ whose string is __Blog__ \n",
    "\n",
    "*Note: __find_all__ returns a resultset, ie a collection of soup object*"
   ]
  },
  {
   "cell_type": "markdown",
   "metadata": {},
   "source": [
    "**Let's iterate over form**"
   ]
  },
  {
   "cell_type": "code",
   "execution_count": 18,
   "metadata": {
    "collapsed": true
   },
   "outputs": [],
   "source": [
    "form = soup.find('form')"
   ]
  },
  {
   "cell_type": "code",
   "execution_count": 19,
   "metadata": {},
   "outputs": [
    {
     "data": {
      "text/plain": [
       "<form action=\"https://donate.creativecommons.org/civicrm/profile/create?gid=29&amp;reset=1\" id=\"Edit\" method=\"post\" name=\"Edit\" style=\"margin: 0 auto; padding: 0; max-width: 20em;\">\n",
       "<input name=\"group[121]\" type=\"hidden\" value=\"1\">\n",
       "<div class=\"input-group\">\n",
       "<input class=\"form-control\" id=\"email-Primary\" maxlength=\"64\" name=\"email-Primary\" placeholder=\"Your email\" required=\"\" size=\"30\" tabindex=\"0\" type=\"email\">\n",
       "<span class=\"input-group-btn\">\n",
       "<button accesskey=\"S\" class=\"button primary arrow\" id=\"_qf_Edit_next\" name=\"_qf_Edit_next\" type=\"submit\" value=\"Sign up\">Sign up</button>\n",
       "</span>\n",
       "</input></div></input></form>"
      ]
     },
     "execution_count": 19,
     "metadata": {},
     "output_type": "execute_result"
    }
   ],
   "source": [
    "form"
   ]
  },
  {
   "cell_type": "code",
   "execution_count": 20,
   "metadata": {},
   "outputs": [
    {
     "data": {
      "text/plain": [
       "<list_iterator at 0x7effc4146a58>"
      ]
     },
     "execution_count": 20,
     "metadata": {},
     "output_type": "execute_result"
    }
   ],
   "source": [
    "# get child tags of form\n",
    "form.children"
   ]
  },
  {
   "cell_type": "code",
   "execution_count": 21,
   "metadata": {},
   "outputs": [
    {
     "data": {
      "text/plain": [
       "['\\n', <input name=\"group[121]\" type=\"hidden\" value=\"1\">\n",
       " <div class=\"input-group\">\n",
       " <input class=\"form-control\" id=\"email-Primary\" maxlength=\"64\" name=\"email-Primary\" placeholder=\"Your email\" required=\"\" size=\"30\" tabindex=\"0\" type=\"email\">\n",
       " <span class=\"input-group-btn\">\n",
       " <button accesskey=\"S\" class=\"button primary arrow\" id=\"_qf_Edit_next\" name=\"_qf_Edit_next\" type=\"submit\" value=\"Sign up\">Sign up</button>\n",
       " </span>\n",
       " </input></div></input>]"
      ]
     },
     "execution_count": 21,
     "metadata": {},
     "output_type": "execute_result"
    }
   ],
   "source": [
    "list(form.children)"
   ]
  },
  {
   "cell_type": "code",
   "execution_count": 40,
   "metadata": {},
   "outputs": [],
   "source": [
    "first_child = form.find_next()"
   ]
  },
  {
   "cell_type": "code",
   "execution_count": 41,
   "metadata": {},
   "outputs": [
    {
     "data": {
      "text/plain": [
       "<input name=\"group[121]\" type=\"hidden\" value=\"1\">\n",
       "<div class=\"input-group\">\n",
       "<input class=\"form-control\" id=\"email-Primary\" maxlength=\"64\" name=\"email-Primary\" placeholder=\"Your email\" required=\"\" size=\"30\" tabindex=\"0\" type=\"email\">\n",
       "<span class=\"input-group-btn\">\n",
       "<button accesskey=\"S\" class=\"button primary arrow\" id=\"_qf_Edit_next\" name=\"_qf_Edit_next\" type=\"submit\" value=\"Sign up\">Sign up</button>\n",
       "</span>\n",
       "</input></div></input>"
      ]
     },
     "execution_count": 41,
     "metadata": {},
     "output_type": "execute_result"
    }
   ],
   "source": [
    "first_child"
   ]
  },
  {
   "cell_type": "markdown",
   "metadata": {},
   "source": [
    "*Use __find_next__ to iterate over child nodes*"
   ]
  },
  {
   "cell_type": "code",
   "execution_count": 42,
   "metadata": {},
   "outputs": [
    {
     "data": {
      "text/plain": [
       "<div class=\"input-group\">\n",
       "<input class=\"form-control\" id=\"email-Primary\" maxlength=\"64\" name=\"email-Primary\" placeholder=\"Your email\" required=\"\" size=\"30\" tabindex=\"0\" type=\"email\">\n",
       "<span class=\"input-group-btn\">\n",
       "<button accesskey=\"S\" class=\"button primary arrow\" id=\"_qf_Edit_next\" name=\"_qf_Edit_next\" type=\"submit\" value=\"Sign up\">Sign up</button>\n",
       "</span>\n",
       "</input></div>"
      ]
     },
     "execution_count": 42,
     "metadata": {},
     "output_type": "execute_result"
    }
   ],
   "source": [
    "first_child.find_next()"
   ]
  },
  {
   "cell_type": "code",
   "execution_count": 43,
   "metadata": {},
   "outputs": [
    {
     "data": {
      "text/plain": [
       "<input class=\"form-control\" id=\"email-Primary\" maxlength=\"64\" name=\"email-Primary\" placeholder=\"Your email\" required=\"\" size=\"30\" tabindex=\"0\" type=\"email\">\n",
       "<span class=\"input-group-btn\">\n",
       "<button accesskey=\"S\" class=\"button primary arrow\" id=\"_qf_Edit_next\" name=\"_qf_Edit_next\" type=\"submit\" value=\"Sign up\">Sign up</button>\n",
       "</span>\n",
       "</input>"
      ]
     },
     "execution_count": 43,
     "metadata": {},
     "output_type": "execute_result"
    }
   ],
   "source": [
    "first_child.find_next().find_next()"
   ]
  },
  {
   "cell_type": "code",
   "execution_count": 44,
   "metadata": {},
   "outputs": [
    {
     "data": {
      "text/plain": [
       "<span class=\"input-group-btn\">\n",
       "<button accesskey=\"S\" class=\"button primary arrow\" id=\"_qf_Edit_next\" name=\"_qf_Edit_next\" type=\"submit\" value=\"Sign up\">Sign up</button>\n",
       "</span>"
      ]
     },
     "execution_count": 44,
     "metadata": {},
     "output_type": "execute_result"
    }
   ],
   "source": [
    "first_child.find_next().find_next().find_next()"
   ]
  },
  {
   "cell_type": "markdown",
   "metadata": {},
   "source": [
    "*Find sibling of form*"
   ]
  },
  {
   "cell_type": "code",
   "execution_count": 47,
   "metadata": {},
   "outputs": [],
   "source": [
    "form.next_sibling"
   ]
  },
  {
   "cell_type": "code",
   "execution_count": 48,
   "metadata": {},
   "outputs": [
    {
     "data": {
      "text/plain": [
       "<h2><span>Stay Tuned</span> <span>to the Commons</span></h2>"
      ]
     },
     "execution_count": 48,
     "metadata": {},
     "output_type": "execute_result"
    }
   ],
   "source": [
    "form.previous_sibling"
   ]
  },
  {
   "cell_type": "code",
   "execution_count": 49,
   "metadata": {},
   "outputs": [
    {
     "data": {
      "text/plain": [
       "<div class=\"textwidget\"><h2><span>Stay Tuned</span> <span>to the Commons</span></h2><form action=\"https://donate.creativecommons.org/civicrm/profile/create?gid=29&amp;reset=1\" id=\"Edit\" method=\"post\" name=\"Edit\" style=\"margin: 0 auto; padding: 0; max-width: 20em;\">\n",
       "<input name=\"group[121]\" type=\"hidden\" value=\"1\">\n",
       "<div class=\"input-group\">\n",
       "<input class=\"form-control\" id=\"email-Primary\" maxlength=\"64\" name=\"email-Primary\" placeholder=\"Your email\" required=\"\" size=\"30\" tabindex=\"0\" type=\"email\">\n",
       "<span class=\"input-group-btn\">\n",
       "<button accesskey=\"S\" class=\"button primary arrow\" id=\"_qf_Edit_next\" name=\"_qf_Edit_next\" type=\"submit\" value=\"Sign up\">Sign up</button>\n",
       "</span>\n",
       "</input></div></input></form></div>"
      ]
     },
     "execution_count": 49,
     "metadata": {},
     "output_type": "execute_result"
    }
   ],
   "source": [
    "form.parent"
   ]
  },
  {
   "cell_type": "markdown",
   "metadata": {},
   "source": [
    "*Above, __form__ is last child of parent __div__ so, __next_sibling__ returns null*"
   ]
  },
  {
   "cell_type": "code",
   "execution_count": null,
   "metadata": {
    "collapsed": true
   },
   "outputs": [],
   "source": []
  },
  {
   "cell_type": "markdown",
   "metadata": {},
   "source": [
    "**Let's select all _div_ whose parent is _nav_**"
   ]
  },
  {
   "cell_type": "code",
   "execution_count": 56,
   "metadata": {},
   "outputs": [
    {
     "data": {
      "text/plain": [
       "[<div class=\"menu-mobile-menu-container\"><ul class=\"mobile-menu\" id=\"menu-mobile-menu\"><li class=\"menu-item menu-item-type-post_type menu-item-object-page menu-item-48798\" id=\"menu-item-48798\"><a href=\"https://creativecommons.org/share-your-work/\">Share your work</a></li>\n",
       " <li class=\"menu-item menu-item-type-post_type menu-item-object-page menu-item-48799\" id=\"menu-item-48799\"><a href=\"https://creativecommons.org/use-remix/\">Use &amp; remix</a></li>\n",
       " <li class=\"menu-item menu-item-type-post_type menu-item-object-page menu-item-48800\" id=\"menu-item-48800\"><a href=\"https://creativecommons.org/about/\">What we do</a></li>\n",
       " <li class=\"menu-item menu-item-type-post_type menu-item-object-page menu-item-48801\" id=\"menu-item-48801\"><a href=\"https://creativecommons.org/blog/\">Blog</a></li>\n",
       " <li class=\"menu-item menu-item-type-post_type menu-item-object-page menu-item-48802\" id=\"menu-item-48802\"><a href=\"https://creativecommons.org/about/global-affiliate-network/\">Global Affiliate Network</a></li>\n",
       " <li class=\"menu-item menu-item-type-post_type menu-item-object-page menu-item-48803\" id=\"menu-item-48803\"><a href=\"https://creativecommons.org/use-remix/search-the-commons/\">Search the Commons</a></li>\n",
       " </ul></div>,\n",
       " <div class=\"menu-primary-menu-container\"><ul class=\"primary-menu\" id=\"menu-primary-menu\"><li class=\"menu-item menu-item-type-post_type menu-item-object-page menu-item-48791\" id=\"menu-item-48791\"><a href=\"https://creativecommons.org/share-your-work/\">Share your work</a></li>\n",
       " <li class=\"menu-item menu-item-type-post_type menu-item-object-page menu-item-48792\" id=\"menu-item-48792\"><a href=\"https://creativecommons.org/use-remix/\">Use &amp; remix</a></li>\n",
       " <li class=\"menu-item menu-item-type-post_type menu-item-object-page menu-item-48570\" id=\"menu-item-48570\"><a href=\"https://creativecommons.org/about/\">What we do</a></li>\n",
       " <li class=\"menu-item menu-item-type-post_type menu-item-object-page menu-item-48793\" id=\"menu-item-48793\"><a href=\"https://creativecommons.org/blog/\">Blog</a></li>\n",
       " </ul></div>,\n",
       " <div class=\"menu-secondary-menu-container\"><ul class=\"secondary-menu\" id=\"menu-secondary-menu\"><li class=\"menu-item menu-item-type-post_type menu-item-object-page menu-item-48804\" id=\"menu-item-48804\"><a href=\"https://creativecommons.org/about/global-affiliate-network/\">Global Affiliate Network</a></li>\n",
       " <li class=\"menu-item menu-item-type-post_type menu-item-object-page menu-item-48805\" id=\"menu-item-48805\"><a href=\"https://creativecommons.org/use-remix/search-the-commons/\">Search the Commons</a></li>\n",
       " <li class=\"menu-item menu-item-type-post_type menu-item-object-page menu-item-48806\" id=\"menu-item-48806\"><a href=\"https://creativecommons.org/about/contact/\">Contact</a></li>\n",
       " </ul></div>,\n",
       " <div class=\"menu-social-links-container\"><ul class=\"social-links-menu\" id=\"menu-social-links\"><li class=\"menu-item menu-item-type-custom menu-item-object-custom menu-item-48807\" id=\"menu-item-48807\"><a href=\"http://www.facebook.com/creativecommons\"><span class=\"screen-reader-text\">Facebook</span></a></li>\n",
       " <li class=\"menu-item menu-item-type-custom menu-item-object-custom menu-item-48808\" id=\"menu-item-48808\"><a href=\"http://twitter.com/creativecommons\"><span class=\"screen-reader-text\">Twitter</span></a></li>\n",
       " <li class=\"menu-item menu-item-type-custom menu-item-object-custom menu-item-48809\" id=\"menu-item-48809\"><a href=\"mailto:info@creativecommons.org\"><span class=\"screen-reader-text\">Mail</span></a></li>\n",
       " </ul></div>]"
      ]
     },
     "execution_count": 56,
     "metadata": {},
     "output_type": "execute_result"
    }
   ],
   "source": [
    "soup.select('nav > div')"
   ]
  },
  {
   "cell_type": "markdown",
   "metadata": {},
   "source": [
    "*get all __a__ tags whose attribute __href__ has value that starts with __https__*"
   ]
  },
  {
   "cell_type": "code",
   "execution_count": 69,
   "metadata": {},
   "outputs": [
    {
     "data": {
      "text/plain": [
       "[<a class=\"cc-site-logo-link\" href=\"https://creativecommons.org/\" rel=\"home\">\n",
       " <img alt=\"Creative Commons\" class=\"cc-site-logo\" height=\"72\" src=\"https://creativecommons.org/wp-content/themes/cc/images/cc.logo.white.svg\" width=\"303\">\n",
       " </img></a>,\n",
       " <a href=\"https://creativecommons.org/share-your-work/\">Share your work</a>,\n",
       " <a href=\"https://creativecommons.org/use-remix/\">Use &amp; remix</a>,\n",
       " <a href=\"https://creativecommons.org/about/\">What we do</a>,\n",
       " <a href=\"https://creativecommons.org/blog/\">Blog</a>,\n",
       " <a href=\"https://creativecommons.org/about/global-affiliate-network/\">Global Affiliate Network</a>,\n",
       " <a href=\"https://creativecommons.org/use-remix/search-the-commons/\">Search the Commons</a>,\n",
       " <a href=\"https://creativecommons.org/share-your-work/\">Share your work</a>,\n",
       " <a href=\"https://creativecommons.org/use-remix/\">Use &amp; remix</a>,\n",
       " <a href=\"https://creativecommons.org/about/\">What we do</a>,\n",
       " <a href=\"https://creativecommons.org/blog/\">Blog</a>,\n",
       " <a href=\"https://creativecommons.org/about/global-affiliate-network/\">Global Affiliate Network</a>,\n",
       " <a href=\"https://creativecommons.org/use-remix/search-the-commons/\">Search the Commons</a>,\n",
       " <a href=\"https://creativecommons.org/about/contact/\">Contact</a>,\n",
       " <a href=\"https://creativecommons.org/2016/08/02/open_building_institute/\"><img alt=\"modular house\" class=\"attachment-large size-large wp-post-image\" height=\"383\" sizes=\"(max-width: 709px) 85vw, (max-width: 909px) 67vw, (max-width: 984px) 61vw, (max-width: 1362px) 45vw, 600px\" src=\"https://creativecommons.org/wp-content/uploads/2016/08/modular-house.jpg\" srcset=\"https://creativecommons.org/wp-content/uploads/2016/08/modular-house.jpg 680w, https://creativecommons.org/wp-content/uploads/2016/08/modular-house-300x169.jpg 300w, https://creativecommons.org/wp-content/uploads/2016/08/modular-house-71x40.jpg 71w, https://creativecommons.org/wp-content/uploads/2016/08/modular-house-50x28.jpg 50w, https://creativecommons.org/wp-content/uploads/2016/08/modular-house-270x152.jpg 270w\" width=\"680\"/></a>,\n",
       " <a href=\"https://creativecommons.org/2016/08/02/open_building_institute/\">The future of housing is here: CC Talks with the Open Building Institute</a>,\n",
       " <a href=\"https://creativecommons.org/category/open-access/\">Open access</a>,\n",
       " <a href=\"https://creativecommons.org/2016/08/16/u-s-moves-ahead-limited-code-sharing-policy/\"><img alt=\"photo-1461749280684-dccba630e2f6\" class=\"attachment-post-thumbnail size-post-thumbnail wp-post-image\" height=\"801\" sizes=\"(max-width: 709px) 85vw, (max-width: 909px) 67vw, (max-width: 984px) 60vw, (max-width: 1362px) 62vw, 840px\" src=\"https://creativecommons.org/wp-content/uploads/2016/08/photo-1461749280684-dccba630e2f6-1200x801.jpeg\" srcset=\"https://creativecommons.org/wp-content/uploads/2016/08/photo-1461749280684-dccba630e2f6-1200x801.jpeg 1200w, https://creativecommons.org/wp-content/uploads/2016/08/photo-1461749280684-dccba630e2f6-300x200.jpeg 300w, https://creativecommons.org/wp-content/uploads/2016/08/photo-1461749280684-dccba630e2f6-768x513.jpeg 768w, https://creativecommons.org/wp-content/uploads/2016/08/photo-1461749280684-dccba630e2f6-1024x684.jpeg 1024w, https://creativecommons.org/wp-content/uploads/2016/08/photo-1461749280684-dccba630e2f6-60x40.jpeg 60w, https://creativecommons.org/wp-content/uploads/2016/08/photo-1461749280684-dccba630e2f6-50x33.jpeg 50w, https://creativecommons.org/wp-content/uploads/2016/08/photo-1461749280684-dccba630e2f6-232x155.jpeg 232w\" width=\"1200\"/></a>,\n",
       " <a href=\"https://creativecommons.org/2016/08/16/u-s-moves-ahead-limited-code-sharing-policy/\">U.S. Moves Ahead with Limited Code Sharing Policy</a>,\n",
       " <a href=\"https://creativecommons.org/category/policy-advocacy-copyright-reform/\">Policy / advocacy / copyright reform</a>,\n",
       " <a href=\"https://creativecommons.org/2016/08/11/exploring-open-textbooks-improve-education-uganda/\"><img alt=\"kizza 3\" class=\"attachment-post-thumbnail size-post-thumbnail wp-post-image\" height=\"899\" sizes=\"(max-width: 709px) 85vw, (max-width: 909px) 67vw, (max-width: 984px) 60vw, (max-width: 1362px) 62vw, 840px\" src=\"https://creativecommons.org/wp-content/uploads/2016/08/kizza-3-1200x899.png\" srcset=\"https://creativecommons.org/wp-content/uploads/2016/08/kizza-3-1200x899.png 1200w, https://creativecommons.org/wp-content/uploads/2016/08/kizza-3-300x225.png 300w, https://creativecommons.org/wp-content/uploads/2016/08/kizza-3-768x575.png 768w, https://creativecommons.org/wp-content/uploads/2016/08/kizza-3-1024x767.png 1024w, https://creativecommons.org/wp-content/uploads/2016/08/kizza-3-53x40.png 53w, https://creativecommons.org/wp-content/uploads/2016/08/kizza-3-50x37.png 50w, https://creativecommons.org/wp-content/uploads/2016/08/kizza-3-207x155.png 207w, https://creativecommons.org/wp-content/uploads/2016/08/kizza-3.png 1244w\" width=\"1200\"/></a>,\n",
       " <a href=\"https://creativecommons.org/2016/08/11/exploring-open-textbooks-improve-education-uganda/\">Exploring open textbooks to improve education in Uganda</a>,\n",
       " <a href=\"https://creativecommons.org/category/education-oer/\">Education / OER</a>,\n",
       " <a href=\"https://creativecommons.org/2016/08/09/show-support-diego-gomez-week/\"><img alt=\"standwithdiego_twittershare\" class=\"attachment-post-thumbnail size-post-thumbnail wp-post-image\" height=\"630\" sizes=\"(max-width: 709px) 85vw, (max-width: 909px) 67vw, (max-width: 984px) 60vw, (max-width: 1362px) 62vw, 840px\" src=\"https://creativecommons.org/wp-content/uploads/2016/08/standwithdiego_twittershare-1200x630.png\" srcset=\"https://creativecommons.org/wp-content/uploads/2016/08/standwithdiego_twittershare.png 1200w, https://creativecommons.org/wp-content/uploads/2016/08/standwithdiego_twittershare-300x158.png 300w, https://creativecommons.org/wp-content/uploads/2016/08/standwithdiego_twittershare-768x403.png 768w, https://creativecommons.org/wp-content/uploads/2016/08/standwithdiego_twittershare-1024x538.png 1024w, https://creativecommons.org/wp-content/uploads/2016/08/standwithdiego_twittershare-76x40.png 76w, https://creativecommons.org/wp-content/uploads/2016/08/standwithdiego_twittershare-50x26.png 50w, https://creativecommons.org/wp-content/uploads/2016/08/standwithdiego_twittershare-270x142.png 270w\" width=\"1200\"/></a>,\n",
       " <a href=\"https://creativecommons.org/2016/08/09/show-support-diego-gomez-week/\">Show your support for Diego Gomez this week!</a>,\n",
       " <a href=\"https://creativecommons.org/category/open-access/\">Open access</a>,\n",
       " <a href=\"https://creativecommons.org/2016/08/03/changing-role-publisher-age-plenty/\"><img alt=\"5488975286_339e3f3c06_z\" class=\"attachment-post-thumbnail size-post-thumbnail wp-post-image\" height=\"480\" sizes=\"(max-width: 709px) 85vw, (max-width: 909px) 67vw, (max-width: 984px) 60vw, (max-width: 1362px) 62vw, 840px\" src=\"https://creativecommons.org/wp-content/uploads/2016/08/5488975286_339e3f3c06_z.jpg\" srcset=\"https://creativecommons.org/wp-content/uploads/2016/08/5488975286_339e3f3c06_z.jpg 640w, https://creativecommons.org/wp-content/uploads/2016/08/5488975286_339e3f3c06_z-300x225.jpg 300w, https://creativecommons.org/wp-content/uploads/2016/08/5488975286_339e3f3c06_z-53x40.jpg 53w, https://creativecommons.org/wp-content/uploads/2016/08/5488975286_339e3f3c06_z-50x38.jpg 50w, https://creativecommons.org/wp-content/uploads/2016/08/5488975286_339e3f3c06_z-207x155.jpg 207w\" width=\"640\"/></a>,\n",
       " <a href=\"https://creativecommons.org/2016/08/03/changing-role-publisher-age-plenty/\">The changing role of the publisher in the age of plenty</a>,\n",
       " <a href=\"https://creativecommons.org/category/education-oer/\">Education / OER</a>,\n",
       " <a href=\"https://www.google.org/\"><img src=\"/wp-content/uploads/2016/05/google.png\"/></a>,\n",
       " <a href=\"https://www.imls.gov/\"><img src=\"/wp-content/uploads/2016/05/Museum_Library.png\"/></a>,\n",
       " <a href=\"https://www.privateinternetaccess.com/\"><img src=\"/wp-content/uploads/2016/07/PIA_new_rev.png\"/></a>,\n",
       " <a class=\"custom-logo-link\" href=\"https://creativecommons.org/\" itemprop=\"url\" rel=\"home\"><img alt=\"cc.logo.white\" class=\"custom-logo\" height=\"240\" itemprop=\"logo\" sizes=\"(max-width: 709px) 85vw, (max-width: 909px) 67vw, (max-width: 1362px) 62vw, 840px\" src=\"https://creativecommons.org/wp-content/uploads/2016/06/cc.logo_.white_.png\" srcset=\"https://creativecommons.org/wp-content/uploads/2016/06/cc.logo_.white_.png 980w, https://creativecommons.org/wp-content/uploads/2016/06/cc.logo_.white_-300x73.png 300w, https://creativecommons.org/wp-content/uploads/2016/06/cc.logo_.white_-768x188.png 768w, https://creativecommons.org/wp-content/uploads/2016/06/cc.logo_.white_-140x34.png 140w, https://creativecommons.org/wp-content/uploads/2016/06/cc.logo_.white_-50x12.png 50w, https://creativecommons.org/wp-content/uploads/2016/06/cc.logo_.white_-270x66.png 270w, https://creativecommons.org/wp-content/uploads/2016/06/cc.logo_.white_-245x60.png 245w\" width=\"980\"/></a>,\n",
       " <a href=\"https://creativecommons.org/about/contact/\">Contact</a>,\n",
       " <a href=\"https://creativecommons.org/privacy/\">Privacy</a>,\n",
       " <a href=\"https://creativecommons.org/policies/\">Policies</a>,\n",
       " <a href=\"https://creativecommons.org/terms/\">Terms</a>,\n",
       " <a href=\"https://creativecommons.org/licenses/by/4.0/\" rel=\"license\" title=\"Creative Commons Attribution 4.0 International license\">\n",
       " <i class=\"cc-icon-cc\"></i><i class=\"cc-icon-cc-by\"></i>\n",
       " </a>,\n",
       " <a class=\"subfoot\" href=\"https://creativecommons.org/licenses/by/4.0/\" rel=\"license\">Creative Commons Attribution 4.0 International license</a>]"
      ]
     },
     "execution_count": 69,
     "metadata": {},
     "output_type": "execute_result"
    }
   ],
   "source": [
    "soup.select('a[href^=\"https\"]')"
   ]
  },
  {
   "cell_type": "markdown",
   "metadata": {},
   "source": [
    "See: http://www.w3schools.com/cssref/css_selectors.asp for what css selectors does.\n",
    "\n",
    "Note: *Remember css selectors used by javascript like :active ... so on wont work here.*"
   ]
  },
  {
   "cell_type": "markdown",
   "metadata": {},
   "source": [
    "**Loop through selected elements and get text**"
   ]
  },
  {
   "cell_type": "code",
   "execution_count": 73,
   "metadata": {},
   "outputs": [
    {
     "name": "stdout",
     "output_type": "stream",
     "text": [
      "\n",
      "\n",
      "\n",
      "Share your work\n",
      "Use & remix\n",
      "What we do\n",
      "Blog\n",
      "Global Affiliate Network\n",
      "Search the Commons\n",
      "Share your work\n",
      "Use & remix\n",
      "What we do\n",
      "Blog\n",
      "Global Affiliate Network\n",
      "Search the Commons\n",
      "Contact\n",
      "\n",
      "The future of housing is here: CC Talks with the Open Building Institute\n",
      "Open access\n",
      "\n",
      "U.S. Moves Ahead with Limited Code Sharing Policy\n",
      "Policy / advocacy / copyright reform\n",
      "\n",
      "Exploring open textbooks to improve education in Uganda\n",
      "Education / OER\n",
      "\n",
      "Show your support for Diego Gomez this week!\n",
      "Open access\n",
      "\n",
      "The changing role of the publisher in the age of plenty\n",
      "Education / OER\n",
      "\n",
      "\n",
      "\n",
      "\n",
      "Contact\n",
      "Privacy\n",
      "Policies\n",
      "Terms\n",
      "\n",
      "\n",
      "\n",
      "Creative Commons Attribution 4.0 International license\n"
     ]
    }
   ],
   "source": [
    "for a in soup.select('a[href^=\"https\"]'):\n",
    "    print(a.get_text())"
   ]
  },
  {
   "cell_type": "code",
   "execution_count": null,
   "metadata": {
    "collapsed": true
   },
   "outputs": [],
   "source": []
  }
 ],
 "metadata": {
  "anaconda-cloud": {},
  "kernelspec": {
   "display_name": "Python 3",
   "language": "python",
   "name": "python3"
  },
  "language_info": {
   "codemirror_mode": {
    "name": "ipython",
    "version": 3
   },
   "file_extension": ".py",
   "mimetype": "text/x-python",
   "name": "python",
   "nbconvert_exporter": "python",
   "pygments_lexer": "ipython3",
   "version": "3.6.2"
  }
 },
 "nbformat": 4,
 "nbformat_minor": 1
}
