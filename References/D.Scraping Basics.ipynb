{
 "cells": [
  {
   "cell_type": "markdown",
   "metadata": {},
   "source": [
    "# Collecting data from internet\n",
    "---"
   ]
  },
  {
   "cell_type": "markdown",
   "metadata": {},
   "source": [
    "Web scraping consists of \n",
    "\n",
    "- obtaining raw data from source ( requests )\n",
    "- filtering out useful data from garbage ( beautifulsoup4 )\n",
    "- saving into appropriate format ( csv/json )\n",
    "\n",
    "`scrapy` is scrapping framework which extends above libraries"
   ]
  },
  {
   "cell_type": "code",
   "execution_count": 1,
   "metadata": {
    "collapsed": true
   },
   "outputs": [],
   "source": [
    "# requests is http library for python\n",
    "# requests makes http easier than builtin urllib\n",
    "import requests"
   ]
  },
  {
   "cell_type": "code",
   "execution_count": 2,
   "metadata": {
    "collapsed": true
   },
   "outputs": [],
   "source": [
    "url = 'http://www.mfd.gov.np'"
   ]
  },
  {
   "cell_type": "code",
   "execution_count": 3,
   "metadata": {
    "collapsed": true
   },
   "outputs": [],
   "source": [
    "req = requests.get(url)"
   ]
  },
  {
   "cell_type": "code",
   "execution_count": 4,
   "metadata": {},
   "outputs": [
    {
     "data": {
      "text/plain": [
       "<Response [200]>"
      ]
     },
     "execution_count": 4,
     "metadata": {},
     "output_type": "execute_result"
    }
   ],
   "source": [
    "req"
   ]
  },
  {
   "cell_type": "code",
   "execution_count": 5,
   "metadata": {},
   "outputs": [
    {
     "data": {
      "text/plain": [
       "['__attrs__',\n",
       " '__bool__',\n",
       " '__class__',\n",
       " '__delattr__',\n",
       " '__dict__',\n",
       " '__dir__',\n",
       " '__doc__',\n",
       " '__eq__',\n",
       " '__format__',\n",
       " '__ge__',\n",
       " '__getattribute__',\n",
       " '__getstate__',\n",
       " '__gt__',\n",
       " '__hash__',\n",
       " '__init__',\n",
       " '__iter__',\n",
       " '__le__',\n",
       " '__lt__',\n",
       " '__module__',\n",
       " '__ne__',\n",
       " '__new__',\n",
       " '__nonzero__',\n",
       " '__reduce__',\n",
       " '__reduce_ex__',\n",
       " '__repr__',\n",
       " '__setattr__',\n",
       " '__setstate__',\n",
       " '__sizeof__',\n",
       " '__str__',\n",
       " '__subclasshook__',\n",
       " '__weakref__',\n",
       " '_content',\n",
       " '_content_consumed',\n",
       " 'apparent_encoding',\n",
       " 'close',\n",
       " 'connection',\n",
       " 'content',\n",
       " 'cookies',\n",
       " 'elapsed',\n",
       " 'encoding',\n",
       " 'headers',\n",
       " 'history',\n",
       " 'is_permanent_redirect',\n",
       " 'is_redirect',\n",
       " 'iter_content',\n",
       " 'iter_lines',\n",
       " 'json',\n",
       " 'links',\n",
       " 'ok',\n",
       " 'raise_for_status',\n",
       " 'raw',\n",
       " 'reason',\n",
       " 'request',\n",
       " 'status_code',\n",
       " 'text',\n",
       " 'url']"
      ]
     },
     "execution_count": 5,
     "metadata": {},
     "output_type": "execute_result"
    }
   ],
   "source": [
    "dir(req)"
   ]
  },
  {
   "cell_type": "code",
   "execution_count": 6,
   "metadata": {},
   "outputs": [
    {
     "data": {
      "text/plain": [
       "{'Connection': 'close', 'Date': 'Wed, 22 Jun 2016 01:50:03 GMT', 'Set-Cookie': 'PHPSESSID=o1pnh3ebttfbb8d889rldcoe01; path=/', 'Cache-Control': 'no-store, no-cache, must-revalidate, post-check=0, pre-check=0', 'X-Powered-By': 'PHP/5.3.3', 'Pragma': 'no-cache', 'Content-Type': 'text/html; charset=utf-8', 'Expires': 'Thu, 19 Nov 1981 08:52:00 GMT', 'Transfer-Encoding': 'chunked', 'Server': 'Apache/2.2.15 (CentOS)'}"
      ]
     },
     "execution_count": 6,
     "metadata": {},
     "output_type": "execute_result"
    }
   ],
   "source": [
    "req.headers"
   ]
  },
  {
   "cell_type": "code",
   "execution_count": 7,
   "metadata": {},
   "outputs": [
    {
     "data": {
      "text/plain": [
       "200"
      ]
     },
     "execution_count": 7,
     "metadata": {},
     "output_type": "execute_result"
    }
   ],
   "source": [
    "req.status_code"
   ]
  },
  {
   "cell_type": "code",
   "execution_count": 8,
   "metadata": {},
   "outputs": [
    {
     "data": {
      "text/plain": [
       "'<!DOCTYPE html>\\n<html>\\n<head>\\n<title>Meteorological Forecasting Division</title>\\n\\n\\t<meta name=\"viewport\"\\n\\tcontent=\"width=device-width, initial-scale=1.0, user-scalable=no\">\\n  <meta http-equiv=\"Content-Type\" content=\"text/html;charset=utf-8\"/>\\n\\t<link href=\"/mfd.gov.np/_bootstrap/css/bootstrap.css\"\\n\\trel=\"stylesheet\">\\n\\t<link href=\"/mfd.gov.np/_stylesheets/mfd.css\" rel=\"stylesheet\">\\n\\t<link rel=\"icon\"\\n      type=\"image/png\" \\n      href=\"/mfd.gov.np/_req/favicon.png\">\\n\\t\\t\\t\\t\\t\\t\\n\\t<!-- HTML5 Shim and Respond.js IE8 support of HTML5 elements and media queries -->\\n    <!-- WARNING: Respond.js doesn\\'t work if you view the page via file:// -->\\n    <!--[if lt IE 9]>\\n\\t<script src=\"/mfd.gov.np/_js/html5shiv.js\"></script>\\n\\t<script src=\"/mfd.gov.np/_js/respond.min.js\"></script>\\n\\n\\n\\t<![endif]-->\\n</head>\\n\\n<body>\\n<div class=\"site-header\">\\n\\t<div class=\"container\">\\n\\t\\t<img width=\"64px\" src=\"/mfd.gov.np/_req/logo.png\" />\\n\\t\\t<h2 style=\"margin-bottom: 5px\">Government of Nepal</h2>\\n\\t\\t<h2>Department of Hydrology and Meteorology</h2>\\n\\t\\t<h1>Meteorological Forecasting Division</h1>\\n\\n\\t</div>\\n\\t<div class=\"container\">\\n\\t\\t<div class=\"navbar navbar-inverse navbar-static-top\" role=\"navigation\">\\n\\t\\t\\t<div class=\"navbar-header\">\\n\\t\\t\\t\\t<button type=\"button\" class=\"navbar-toggle\" data-toggle=\"collapse\"\\n\\t\\t\\t\\t\\t\\tdata-target=\".navbar-collapse\">\\n\\t\\t\\t\\t\\t<span class=\"sr-only\">Toggle navigation</span> <span\\n\\t\\t\\t\\t\\t\\t\\tclass=\"icon-bar\"></span> <span class=\"icon-bar\"></span> <span\\n\\t\\t\\t\\t\\t\\t\\tclass=\"icon-bar\"></span>\\n\\t\\t\\t\\t</button>\\n\\t\\t\\t\\t<!-- <a class=\"navbar-brand\" href=\"#\">MFD</a> -->\\n\\t\\t\\t</div>\\n\\t\\t\\t<div class=\"navbar-collapse collapse\">\\n\\t\\t\\t\\t<ul class=\"nav navbar-nav\">\\n\\t\\t\\t\\t\\t<li><a href=\"/\">Home</a></li><li><a href=\"/weather/\">Weather</a></li><li><a href=\"/satellite/\">Satellite</a></li><li><a href=\"/mountaineering/\">Mountaineering</a></li><li><a href=\"/report/\">Archives</a></li>\\n\\t\\t\\t\\t</ul>\\n\\t\\t\\t</div>\\n\\t\\t</div>\\n\\t</div>\\n</div>\\n\\t\\n<DIV class=\"carousel slide\" id=\"mainCarousel\" data-ride=\"carousel\"><ol class=\"carousel-indicators\"><li class=\"active\" data-target=\"#mainCarousel\" data-slide-to=\"0\" data-ride=\"carousel\"></li><li data-target=\"#mainCarousel\" data-slide-to=\"1\" data-ride=\"carousel\"></li><li data-target=\"#mainCarousel\" data-slide-to=\"2\" data-ride=\"carousel\"></li><li data-target=\"#mainCarousel\" data-slide-to=\"3\" data-ride=\"carousel\"></li></ol><div class=\"carousel-inner\"><div class=\"item active\"><img data-src=\"holder.js/749x500/audo/#666:#6a6a/text:SomeText\" src=\"/mfd.gov.np/_files/3f08cf63ac0295beb40cc32bf5762af4.jpg\"></img><div class=\"container\"><div class=\"carousel-caption\"><div class=\"station-highlight\"><a href=\"city?id=22\"><h1>Dipayal</h1></a><div class=\"WeatherNow\"><img src=\"/mfd.gov.np/_req/weather_icons/3-sun-64.png\" /><div>At <strong>5:45 am</strong>,</div><div><label>Temperature: </label><strong>23.6 °C</strong></div><div><label>Humidity: </label><strong>100 %</strong></div><hr/></div><div><div class=\"SunInfo\">Sunrise: <strong>5:23 am</strong>, Sunset: <strong>7:24 pm</strong></div><div><a href=\"city?id=22\">Read More...</a></div></div></div></div></div></div><div class=\"item\"><img data-src=\"holder.js/749x500/audo/#666:#6a6a/text:SomeText\" src=\"/mfd.gov.np/_files/f927b55f77a8cf4ad32cdd88d3b6feae.jpg\"></img><div class=\"container\"><div class=\"carousel-caption\"><div class=\"station-highlight\"><a href=\"city?id=24\"><h1>Birendranagar</h1></a><div class=\"WeatherNow\"><img src=\"/mfd.gov.np/_req/weather_icons/3-sun-64.png\" /><div>At <strong>5:45 am</strong>,</div><div><label>Temperature: </label><strong>23.3 °C</strong></div><div><label>Humidity: </label><strong>98 %</strong></div><hr/></div><div><div class=\"SunInfo\">Sunrise: <strong>5:22 am</strong>, Sunset: <strong>7:20 pm</strong></div><div><a href=\"city?id=24\">Read More...</a></div></div></div></div></div></div><div class=\"item\"><img data-src=\"holder.js/749x500/audo/#666:#6a6a/text:SomeText\" src=\"/mfd.gov.np/_files/0f8207ee86bf76097055c962df157415.jpg\"></img><div class=\"container\"><div class=\"carousel-caption\"><div class=\"station-highlight\"><a href=\"city?id=28\"><h1>Pokhara</h1></a><div class=\"WeatherNow\"><img src=\"/mfd.gov.np/_req/weather_icons/3-sun-64.png\" /><div>At <strong>5:45 am</strong>,</div><div><label>Temperature: </label><strong>22.9 °C</strong></div><div><label>Humidity: </label><strong>96 %</strong></div><hr/></div><div><div class=\"SunInfo\">Sunrise: <strong>5:14 am</strong>, Sunset: <strong>7:10 pm</strong></div><div><a href=\"city?id=28\">Read More...</a></div></div></div></div></div></div><div class=\"item\"><img data-src=\"holder.js/749x500/audo/#666:#6a6a/text:SomeText\" src=\"/mfd.gov.np/_files/bf0ccd1466119e6785c7bc576b88851e.jpg\"></img><div class=\"container\"><div class=\"carousel-caption\"><div class=\"station-highlight\"><a href=\"city?id=31\"><h1>Kathmandu</h1></a><div class=\"WeatherNow\"><img src=\"/mfd.gov.np/_req/weather_icons/3-sun-64.png\" /><div>At <strong>5:45 am</strong>,</div><div><label>Temperature: </label><strong>20 °C</strong></div><div><label>Humidity: </label><strong>96 %</strong></div><hr/></div><div><div class=\"SunInfo\">Sunrise: <strong>5:09 am</strong>, Sunset: <strong>7:03 pm</strong></div><div><a href=\"city?id=31\">Read More...</a></div></div></div></div></div></div></div><a class=\"left carousel-control\" href=\"#mainCarousel\" data-slide=\"prev\"><span class=\"glyphicon glyphicon-chevron-left\"></span></a><a class=\"right carousel-control\" href=\"#mainCarousel\" data-slide=\"next\"><span class=\"glyphicon glyphicon-chevron-right\"></span></a></DIV><DIV class=\"container main-body\"><div class=\"row\"><div class=\"col-md-4\"><DIV class=\"highlight-box forecast-box\"><h3>Forecasts <em>2016-06-22 06:00 NPT</em></h3><div></div><div class=\"carousel slide\" data-ride=\"carousel\" id=\"forecast_carousel_1\"><ol class=\"carousel-indicators\"><li data-target=\"#forecast_carousel_1\" data-slide-to=\"0\" data-ride=\"carousel\" data-toggle=\"tooltip\" data-placement=\"top\" title=\"Nepal\" class=\"active\"></li></ol><div class=\"carousel-inner\"><div class=\"item active\"><div><h4>Nepal</h4><b>Today</b><p>Generally cloudy throughout the country. Rain likely to occur at some places of the western region and light to moderate rain likely to occur at some places of the eastern and central regions. </p><b>Tonight</b><p>Generally cloudy throughout the country. Brief rain or thundershowers likely to occur at some places in the country. </p></div></div></div><div class=\"text-center\"><a class=\"btn btn-info\" href=\"/weather/#forecasts\">More detail...</a></div></div></DIV></div><div class=\"col-md-4\"><DIV class=\"highlight-box recent-news-box\"><h3>Featured</h3><div class=\"content\"><div class=\"content-preview\"><a href=\"/content/?id=134\"><img class=\"thumb-left\"></img></a><div class=\"content-preview-text\"><h4><a href=\"/content/?id=134\">Monsoon Onset in Nepal (2015)</a></h4><p>A weak surge of monsoon has entered in the eastern parts of Nepal today</p></div></div><div class=\"content-preview\"><a href=\"/content/?id=116\"><img class=\"thumb-right\"></img></a><div class=\"content-preview-text\"><h4><a href=\"/content/?id=116\">Landslides block Kali Gandaki, locals flee for safety</a></h4><p>A massive landslide has blocked Kali Gandaki River at Baisari in Bhagwati VDC of  .................</p></div></div><div class=\"content-preview\"><a href=\"/content/?id=115\"><img class=\"thumb-left\"></img></a><div class=\"content-preview-text\"><h4><a href=\"/content/?id=115\">हावाहुरी र वर्षाले जनजीवन प्रभावित</a></h4><p> काठमाडौं उपत्यकासहित देशभर हावाहुरीसँगै परेको पानीले  जनजीवन प्रभावित ..................</p></div></div></div></DIV></div><div class=\"col-md-4\"><DIV class=\"highlight-box forecast-box\"><h3>Mountain <em>2016-06-21 18:00 NPT</em></h3><div class=\"carousel slide\" data-ride=\"carousel\" id=\"forecast_carousel_2\"><ol class=\"carousel-indicators\"><li data-target=\"#forecast_carousel_2\" data-slide-to=\"0\" data-ride=\"carousel\" data-toggle=\"tooltip\" data-placement=\"top\" class=\"active\"></li></ol><div class=\"carousel-inner\"><div class=\"item active\"><div><h4>Forecasts for Expedition</h4><b>Western Region</b><p>Mostly cloudy with light to moderate snowfall at some places.</p><b>Central Region</b><p>Mostly cloudy with light to moderate snowfall at many places.</p><b>Eastern Region</b><p>Mostly cloudy with light to moderate snowfall at many places.</p><p style=\"border-top: 1px solid #eee; text-align:center\"><small>Valid for next 24 hours</small></p></div></div></div><div class=\"text-center\"><a class=\"btn btn-info\" href=\"/mountaineering\">More detail...</a></div></div></DIV></div></div><div class=\"row\"><div class=\"col-md-4\"><DIV class=\"highlight-box weather-data-table\"><h3>Observations <em>2016-06-21 17:45 NPT</em></h3><table class=\"table\" style=\"margin-bottom: 0px\"><tr><th>Station</th><th class=\"center\">Maximum Temp.<br/>(°C)</th><th class=\"center\">Minimum Temp.<br/>(°C)</th><th class=\"center\">24 hrs Rainfall<br/>(mm)</th></tr><tr><td>Dadeldhura</td><td class=\"center\">19.4</td><td class=\"center\">18.1</td><td class=\"center\">13.0</td></tr><tr><td>Dipayal</td><td class=\"center\">28.0</td><td class=\"center\">25.2</td><td class=\"center\">9.6</td></tr><tr><td>Dhangadi</td><td class=\"center\">28.7</td><td class=\"center\">24.0</td><td class=\"center\">88.3</td></tr><tr><td>Birendranagar</td><td class=\"center\">27.2</td><td class=\"center\">23.4</td><td class=\"center\">29.3</td></tr><tr><td>Nepalgunj</td><td class=\"center\">29.7</td><td class=\"center\">25.5</td><td class=\"center\">21.4</td></tr><tr><td>Jumla</td><td class=\"center\">23.7</td><td class=\"center\">16.5</td><td class=\"center\">6.2</td></tr><tr><td>Dang</td><td class=\"center\">29.2</td><td class=\"center\">24.5</td><td class=\"center\">5.4</td></tr><tr><td>Pokhara</td><td class=\"center\">25.7</td><td class=\"center\">22.4</td><td class=\"center\">24.5</td></tr><tr><td>Bhairahawa</td><td class=\"center\">27.6</td><td class=\"center\">27.5</td><td class=\"center\">73.5</td></tr><tr><td>Simara</td><td class=\"center\">31.8</td><td class=\"center\">27.0</td><td class=\"center\">29.2</td></tr><tr><td>Kathmandu</td><td class=\"center\">26.5</td><td class=\"center\">20.2</td><td class=\"center\">39.7</td></tr><tr><td>Okhaldhunga</td><td class=\"center\">24.5</td><td class=\"center\">18.0</td><td class=\"center\">21.4</td></tr><tr><td>Taplejung</td><td class=\"center\">23.5</td><td class=\"center\">18.2</td><td class=\"center\">2.0</td></tr><tr><td>Dhankuta</td><td class=\"center\">26.0</td><td class=\"center\">20.5</td><td class=\"center\">47.4</td></tr><tr><td>Biratnagar</td><td class=\"center\">26.3</td><td class=\"center\">25.2</td><td class=\"center\">62.9</td></tr><tr><td>Jomsom</td><td class=\"center\">21.5</td><td class=\"center\">13.4</td><td class=\"center\">7.0*</td></tr><tr><td>Dharan</td><td class=\"center\">28.5</td><td class=\"center\">22.9</td><td class=\"center\">109.6*</td></tr><tr><td>Lumle</td><td class=\"center\">21.0</td><td class=\"center\">18.0</td><td class=\"center\">32.0*</td></tr><tr><td>Jankapur</td><td class=\"center\">29.0</td><td class=\"center\">27.0</td><td class=\"center\">62.8*</td></tr><tr><td align=\"right\" colspan=\"4\"><small>* Daily rainfall data ending at 08:45 AM NPT</small></td></tr></table></DIV></div><div class=\"col-md-4\"><DIV class=\"highlight-box recent-news-box\"><h3>Recent News and Releases</h3><div class=\"content\"><div class=\"content-preview\"><a href=\"/content/?id=240\"><img class=\"thumb-left\"></img></a><div class=\"content-preview-text\"><h4><a href=\"/content/?id=240\">मनसून Update</a></h4><p>यस वर्षको मनसून आज असार ५ गते (जुन १९), आइतबार, देशको सुदूर पश्चिम क्षेत्र सम्म पुगेको छ |</p></div></div><div class=\"content-preview\"><a href=\"/content/?id=239\"><img class=\"thumb-right\"></img></a><div class=\"content-preview-text\"><h4><a href=\"/content/?id=239\">मनसुन Watch</a></h4><p>नेपालमा यस वर्षको मनसुन असार १ गते (१५ जुन), बुधबारदेखि पूर्वी क्षेत्रबाट प्रवेश गरेको छ। मौसमी नक्सा, भू-उपग्रहहरूबाट प्राप्त बादलका तस्विरका आधारमा आगामी केही दिन भित्रै मध्य क्षेत्र हुँदै मनसुन पश्चिम क्षेत्रसम्म पुग्ने आँकलन गरिएको छ।</p></div></div><div class=\"content-preview\"><a href=\"/content/?id=233\"><img src=\"/mfd.gov.np/_files/117beaaed8700b9f8817de04656b451f.gif\" class=\"thumb-left\"></img></a><div class=\"content-preview-text\"><h4><a href=\"/content/?id=233\">यस वर्षको मनसुनको सरदर वर्षाको आंकलन</a></h4><p>साधरणतया जुन देखि सेप्टेम्वरको चार महिना सम्मको समयलाई दक्षिण एशियाली मानसुनको अवधि भनिन्छ। उक्त समयमा नेपालमा वार्षिक वर्षाको करिब ८०% वर्षा हुने गर्दछ।</p></div></div><div class=\"content-preview\"><a href=\"/content/?id=235\"><img class=\"thumb-right\"></img></a><div class=\"content-preview-text\"><h4><a href=\"/content/?id=235\">प्रेश विज्ञप्ती</a></h4><p>सामान्यतया १० जुनमा पूर्वी नेपालवाट मनसुन प्रवेशगरि केहि दिनमा देशभर फैलिने गर्दछ। तर, यस वर्ष नेपालमा मनसुन सामान्य भन्दा केहि दिन ढिलो शुरु हुने अनूमान छ।</p></div></div><div class=\"content-preview\"><a href=\"/content/?id=232\"><img class=\"thumb-left\"></img></a><div class=\"content-preview-text\"><h4><a href=\"/content/?id=232\">WEATHER UPDATE</a></h4><p>‘’ROANU’’ नामक चक्रवातले आज विहान ५ बजेर ४५ मिनेट मा भारतको Imphal मा ‘’DEPRESSION’’ को रुप लिइसकेको र अझै पुर्व उत्तर पुर्व तिर जाने क्रममा रहेको हँदा यसको प्रभाव नेपालमा नरहने देखिएको छ</p></div></div></div></DIV></div><div class=\"col-md-4\"><div><div><DIV class=\"highlight-box satellite-box\"><h3>Satellite Image</h3><a href=\"satellite/\"><img src=\"/mfd.gov.np/_files/images/FY2E_2016_06_22_00_46_L_PJ1_IR1.JPG\"></img></a></DIV></div><div></div></div></div></div><div class=\"row\"></div></DIV><footer>\\n\\t<div class=\"container\">\\n\\t\\t<div class=\"row\">\\n\\t\\t\\t<div class=\"col-sm-6\">\\n\\t\\t\\t\\t<h3>Contact Us</h3>\\n\\t\\t\\t\\t<h4>Meteorological Forecasting Division</h4>\\n\\t\\t\\t\\t<p>Gauchar, Tribhuvan International Airport<br/>\\n\\t\\t\\t\\t\\tKathmandu, Nepal<br/>\\n\\t\\t\\t\\t\\t<abbr title=\"Phone\"><span class=\"glyphicon glyphicon-earphone\"></span></abbr>:\\n\\t\\t\\t\\t\\t+977 1 4486869<br/>\\n\\t\\t\\t\\t\\t<abbr title=\"Email\"><span class=\"glyphicon glyphicon-envelope\"></span></abbr>:\\n\\t\\t\\t\\t\\t<a href=\"mailto:info@mfd.gov.np\">info@mfd.gov.np</a>\\n\\t\\t\\t\\t</p>\\n\\t\\t\\t\\t<p><b>Please dial and listen to us for notice board service</b>\\n\\t\\t\\t\\t<dl class=\"footer-number-list dl-horizontal\">\\n\\t\\t\\t\\t\\t<dt>Kathmandu:</dt><dd>1618 07 07 33333 (for daily weather updates)</dd>\\n\\t\\t\\t\\t\\t<dt>Surkhet:</dt><dd>1618 083 523519 (for daily weather data)</dd>\\n\\t\\t\\t\\t\\t<dt>Pokhara:</dt><dd>1618 061 465299 (for daily weather data)</dd>\\n\\t\\t\\t\\t\\t<dt>Dharan:</dt><dd>1618 025 520272 (for daily weather data)</dd>\\n\\t\\t\\t\\t</dl>\\n\\t\\t\\t</div>\\n\\t\\t\\t<div class=\"col-sm-6\">\\n\\t\\t\\t\\t<h3>Links</h3>\\n\\t\\t\\t\\t<h4>\\n\\t\\t\\t\\t\\t<a target=\"_blank\" href=\"http://www.dhm.gov.np\">Department of Hydrology and\\n\\t\\t\\t\\t\\t\\tMeteorology</a>\\n\\t\\t\\t\\t</h4>\\n\\n\\t\\t\\t\\t<h4>\\n\\t\\t\\t\\t\\t<a target=\"_blank\" href=\"http://www.hydrology.gov.np\">Flood        Forecasting Division</a>\\n\\t\\t\\t\\t</h4>\\n\\t\\t\\t\\t<h4>\\n\\t\\t\\t\\t\\t<a target=\"_blank\" href=\"http://www.mope.gov.np\">Ministry of Population and Environment</a>\\n\\t\\t\\t\\t</h4>\\n\\t\\t\\t</div>\\n\\t\\t</div>\\n\\t</div>\\n<iframe src =\"http://dhm.gov.np/commonfooter.php\" style=\"width:100%; border:none\" ></iframe>\\n\\n\\n</footer>\\n<div class=\"copyright-line\">\\n\\t<div class=\"container\">\\n\\n\\t\\t<div class=\"row\">\\n\\n\\t\\t\\t<div class=\"col-sm-6\">\\n\\n\\t\\t\\t\\t<p><small>Copyright &copy; 2016 Meteorological Forecasting Divison, DHM</small></p>\\n\\t\\t\\t</div>\\n\\n\\t\\t\\t<div class=\"col-sm-6\">\\n\\n\\t\\t\\t\\t<p><small>\\n\\n\\t\\t\\t\\t\\t\\tDesigned and developed by <a href=\"http://www.rts.com.np\">Real\\n\\n\\t\\t\\t\\t\\t\\t\\tTime Solutions Pvt. Ltd.</a></small>\\n\\t\\t\\t\\t</p>\\n\\t\\t\\t</div>\\n\\t\\t</div>\\n\\t</div>\\n</div>\\n<script src=\"/mfd.gov.np/_jquery/jquery-1.11.0.min.js\"></script>\\n<script src=\"/mfd.gov.np/_bootstrap/js/bootstrap.min.js\"></script>\\n\\n\\n\\n<script src=\"/mfd.gov.np/_js/highstock.js\"></script>\\n\\n<script > $(\\'li\\').tooltip(); </script>\\r\\n\\t\\n<script>\\n\\t(function(i,s,o,g,r,a,m){i[\\'GoogleAnalyticsObject\\']=r;i[r]=i[r]||function(){\\n\\t\\t\\t(i[r].q=i[r].q||[]).push(arguments)},i[r].l=1*new Date();a=s.createElement(o),\\n\\t\\t\\tm=s.getElementsByTagName(o)[0];a.async=1;a.src=g;m.parentNode.insertBefore(a,m)\\n\\t})(window,document,\\'script\\',\\'//www.google-analytics.com/analytics.js\\',\\'ga\\');\\n\\n\\tga(\\'create\\', \\'UA-48154100-1\\', \\'www.mfd.gov.np\\');\\n\\tga(\\'send\\', \\'pageview\\');\\n\\n</script>\\n\\n</body>\\n</html>'"
      ]
     },
     "execution_count": 8,
     "metadata": {},
     "output_type": "execute_result"
    }
   ],
   "source": [
    "req.text"
   ]
  },
  {
   "cell_type": "code",
   "execution_count": 9,
   "metadata": {
    "collapsed": true
   },
   "outputs": [],
   "source": [
    "from bs4 import BeautifulSoup"
   ]
  },
  {
   "cell_type": "code",
   "execution_count": 10,
   "metadata": {},
   "outputs": [],
   "source": [
    "soup = BeautifulSoup(req.text, \"html.parser\")"
   ]
  },
  {
   "cell_type": "markdown",
   "metadata": {},
   "source": [
    "*you can use `lxml` instead of `html.parser` which is must faster for large html content*"
   ]
  },
  {
   "cell_type": "code",
   "execution_count": 11,
   "metadata": {},
   "outputs": [
    {
     "data": {
      "text/plain": [
       "<!DOCTYPE html>\n",
       "\n",
       "<html>\n",
       "<head>\n",
       "<title>Meteorological Forecasting Division</title>\n",
       "<meta content=\"width=device-width, initial-scale=1.0, user-scalable=no\" name=\"viewport\">\n",
       "<meta content=\"text/html;charset=utf-8\" http-equiv=\"Content-Type\"/>\n",
       "<link href=\"/mfd.gov.np/_bootstrap/css/bootstrap.css\" rel=\"stylesheet\">\n",
       "<link href=\"/mfd.gov.np/_stylesheets/mfd.css\" rel=\"stylesheet\">\n",
       "<link href=\"/mfd.gov.np/_req/favicon.png\" rel=\"icon\" type=\"image/png\">\n",
       "<!-- HTML5 Shim and Respond.js IE8 support of HTML5 elements and media queries -->\n",
       "<!-- WARNING: Respond.js doesn't work if you view the page via file:// -->\n",
       "<!--[if lt IE 9]>\n",
       "\t<script src=\"/mfd.gov.np/_js/html5shiv.js\"></script>\n",
       "\t<script src=\"/mfd.gov.np/_js/respond.min.js\"></script>\n",
       "\n",
       "\n",
       "\t<![endif]-->\n",
       "</link></link></link></meta></head>\n",
       "<body>\n",
       "<div class=\"site-header\">\n",
       "<div class=\"container\">\n",
       "<img src=\"/mfd.gov.np/_req/logo.png\" width=\"64px\"/>\n",
       "<h2 style=\"margin-bottom: 5px\">Government of Nepal</h2>\n",
       "<h2>Department of Hydrology and Meteorology</h2>\n",
       "<h1>Meteorological Forecasting Division</h1>\n",
       "</div>\n",
       "<div class=\"container\">\n",
       "<div class=\"navbar navbar-inverse navbar-static-top\" role=\"navigation\">\n",
       "<div class=\"navbar-header\">\n",
       "<button class=\"navbar-toggle\" data-target=\".navbar-collapse\" data-toggle=\"collapse\" type=\"button\">\n",
       "<span class=\"sr-only\">Toggle navigation</span> <span class=\"icon-bar\"></span> <span class=\"icon-bar\"></span> <span class=\"icon-bar\"></span>\n",
       "</button>\n",
       "<!-- <a class=\"navbar-brand\" href=\"#\">MFD</a> -->\n",
       "</div>\n",
       "<div class=\"navbar-collapse collapse\">\n",
       "<ul class=\"nav navbar-nav\">\n",
       "<li><a href=\"/\">Home</a></li><li><a href=\"/weather/\">Weather</a></li><li><a href=\"/satellite/\">Satellite</a></li><li><a href=\"/mountaineering/\">Mountaineering</a></li><li><a href=\"/report/\">Archives</a></li>\n",
       "</ul>\n",
       "</div>\n",
       "</div>\n",
       "</div>\n",
       "</div>\n",
       "<div class=\"carousel slide\" data-ride=\"carousel\" id=\"mainCarousel\"><ol class=\"carousel-indicators\"><li class=\"active\" data-ride=\"carousel\" data-slide-to=\"0\" data-target=\"#mainCarousel\"></li><li data-ride=\"carousel\" data-slide-to=\"1\" data-target=\"#mainCarousel\"></li><li data-ride=\"carousel\" data-slide-to=\"2\" data-target=\"#mainCarousel\"></li><li data-ride=\"carousel\" data-slide-to=\"3\" data-target=\"#mainCarousel\"></li></ol><div class=\"carousel-inner\"><div class=\"item active\"><img data-src=\"holder.js/749x500/audo/#666:#6a6a/text:SomeText\" src=\"/mfd.gov.np/_files/3f08cf63ac0295beb40cc32bf5762af4.jpg\"/><div class=\"container\"><div class=\"carousel-caption\"><div class=\"station-highlight\"><a href=\"city?id=22\"><h1>Dipayal</h1></a><div class=\"WeatherNow\"><img src=\"/mfd.gov.np/_req/weather_icons/3-sun-64.png\"/><div>At <strong>5:45 am</strong>,</div><div><label>Temperature: </label><strong>23.6 °C</strong></div><div><label>Humidity: </label><strong>100 %</strong></div><hr/></div><div><div class=\"SunInfo\">Sunrise: <strong>5:23 am</strong>, Sunset: <strong>7:24 pm</strong></div><div><a href=\"city?id=22\">Read More...</a></div></div></div></div></div></div><div class=\"item\"><img data-src=\"holder.js/749x500/audo/#666:#6a6a/text:SomeText\" src=\"/mfd.gov.np/_files/f927b55f77a8cf4ad32cdd88d3b6feae.jpg\"/><div class=\"container\"><div class=\"carousel-caption\"><div class=\"station-highlight\"><a href=\"city?id=24\"><h1>Birendranagar</h1></a><div class=\"WeatherNow\"><img src=\"/mfd.gov.np/_req/weather_icons/3-sun-64.png\"/><div>At <strong>5:45 am</strong>,</div><div><label>Temperature: </label><strong>23.3 °C</strong></div><div><label>Humidity: </label><strong>98 %</strong></div><hr/></div><div><div class=\"SunInfo\">Sunrise: <strong>5:22 am</strong>, Sunset: <strong>7:20 pm</strong></div><div><a href=\"city?id=24\">Read More...</a></div></div></div></div></div></div><div class=\"item\"><img data-src=\"holder.js/749x500/audo/#666:#6a6a/text:SomeText\" src=\"/mfd.gov.np/_files/0f8207ee86bf76097055c962df157415.jpg\"/><div class=\"container\"><div class=\"carousel-caption\"><div class=\"station-highlight\"><a href=\"city?id=28\"><h1>Pokhara</h1></a><div class=\"WeatherNow\"><img src=\"/mfd.gov.np/_req/weather_icons/3-sun-64.png\"/><div>At <strong>5:45 am</strong>,</div><div><label>Temperature: </label><strong>22.9 °C</strong></div><div><label>Humidity: </label><strong>96 %</strong></div><hr/></div><div><div class=\"SunInfo\">Sunrise: <strong>5:14 am</strong>, Sunset: <strong>7:10 pm</strong></div><div><a href=\"city?id=28\">Read More...</a></div></div></div></div></div></div><div class=\"item\"><img data-src=\"holder.js/749x500/audo/#666:#6a6a/text:SomeText\" src=\"/mfd.gov.np/_files/bf0ccd1466119e6785c7bc576b88851e.jpg\"/><div class=\"container\"><div class=\"carousel-caption\"><div class=\"station-highlight\"><a href=\"city?id=31\"><h1>Kathmandu</h1></a><div class=\"WeatherNow\"><img src=\"/mfd.gov.np/_req/weather_icons/3-sun-64.png\"/><div>At <strong>5:45 am</strong>,</div><div><label>Temperature: </label><strong>20 °C</strong></div><div><label>Humidity: </label><strong>96 %</strong></div><hr/></div><div><div class=\"SunInfo\">Sunrise: <strong>5:09 am</strong>, Sunset: <strong>7:03 pm</strong></div><div><a href=\"city?id=31\">Read More...</a></div></div></div></div></div></div></div><a class=\"left carousel-control\" data-slide=\"prev\" href=\"#mainCarousel\"><span class=\"glyphicon glyphicon-chevron-left\"></span></a><a class=\"right carousel-control\" data-slide=\"next\" href=\"#mainCarousel\"><span class=\"glyphicon glyphicon-chevron-right\"></span></a></div><div class=\"container main-body\"><div class=\"row\"><div class=\"col-md-4\"><div class=\"highlight-box forecast-box\"><h3>Forecasts <em>2016-06-22 06:00 NPT</em></h3><div></div><div class=\"carousel slide\" data-ride=\"carousel\" id=\"forecast_carousel_1\"><ol class=\"carousel-indicators\"><li class=\"active\" data-placement=\"top\" data-ride=\"carousel\" data-slide-to=\"0\" data-target=\"#forecast_carousel_1\" data-toggle=\"tooltip\" title=\"Nepal\"></li></ol><div class=\"carousel-inner\"><div class=\"item active\"><div><h4>Nepal</h4><b>Today</b><p>Generally cloudy throughout the country. Rain likely to occur at some places of the western region and light to moderate rain likely to occur at some places of the eastern and central regions. </p><b>Tonight</b><p>Generally cloudy throughout the country. Brief rain or thundershowers likely to occur at some places in the country. </p></div></div></div><div class=\"text-center\"><a class=\"btn btn-info\" href=\"/weather/#forecasts\">More detail...</a></div></div></div></div><div class=\"col-md-4\"><div class=\"highlight-box recent-news-box\"><h3>Featured</h3><div class=\"content\"><div class=\"content-preview\"><a href=\"/content/?id=134\"><img class=\"thumb-left\"/></a><div class=\"content-preview-text\"><h4><a href=\"/content/?id=134\">Monsoon Onset in Nepal (2015)</a></h4><p>A weak surge of monsoon has entered in the eastern parts of Nepal today</p></div></div><div class=\"content-preview\"><a href=\"/content/?id=116\"><img class=\"thumb-right\"/></a><div class=\"content-preview-text\"><h4><a href=\"/content/?id=116\">Landslides block Kali Gandaki, locals flee for safety</a></h4><p>A massive landslide has blocked Kali Gandaki River at Baisari in Bhagwati VDC of  .................</p></div></div><div class=\"content-preview\"><a href=\"/content/?id=115\"><img class=\"thumb-left\"/></a><div class=\"content-preview-text\"><h4><a href=\"/content/?id=115\">हावाहुरी र वर्षाले जनजीवन प्रभावित</a></h4><p> काठमाडौं उपत्यकासहित देशभर हावाहुरीसँगै परेको पानीले  जनजीवन प्रभावित ..................</p></div></div></div></div></div><div class=\"col-md-4\"><div class=\"highlight-box forecast-box\"><h3>Mountain <em>2016-06-21 18:00 NPT</em></h3><div class=\"carousel slide\" data-ride=\"carousel\" id=\"forecast_carousel_2\"><ol class=\"carousel-indicators\"><li class=\"active\" data-placement=\"top\" data-ride=\"carousel\" data-slide-to=\"0\" data-target=\"#forecast_carousel_2\" data-toggle=\"tooltip\"></li></ol><div class=\"carousel-inner\"><div class=\"item active\"><div><h4>Forecasts for Expedition</h4><b>Western Region</b><p>Mostly cloudy with light to moderate snowfall at some places.</p><b>Central Region</b><p>Mostly cloudy with light to moderate snowfall at many places.</p><b>Eastern Region</b><p>Mostly cloudy with light to moderate snowfall at many places.</p><p style=\"border-top: 1px solid #eee; text-align:center\"><small>Valid for next 24 hours</small></p></div></div></div><div class=\"text-center\"><a class=\"btn btn-info\" href=\"/mountaineering\">More detail...</a></div></div></div></div></div><div class=\"row\"><div class=\"col-md-4\"><div class=\"highlight-box weather-data-table\"><h3>Observations <em>2016-06-21 17:45 NPT</em></h3><table class=\"table\" style=\"margin-bottom: 0px\"><tr><th>Station</th><th class=\"center\">Maximum Temp.<br/>(°C)</th><th class=\"center\">Minimum Temp.<br/>(°C)</th><th class=\"center\">24 hrs Rainfall<br/>(mm)</th></tr><tr><td>Dadeldhura</td><td class=\"center\">19.4</td><td class=\"center\">18.1</td><td class=\"center\">13.0</td></tr><tr><td>Dipayal</td><td class=\"center\">28.0</td><td class=\"center\">25.2</td><td class=\"center\">9.6</td></tr><tr><td>Dhangadi</td><td class=\"center\">28.7</td><td class=\"center\">24.0</td><td class=\"center\">88.3</td></tr><tr><td>Birendranagar</td><td class=\"center\">27.2</td><td class=\"center\">23.4</td><td class=\"center\">29.3</td></tr><tr><td>Nepalgunj</td><td class=\"center\">29.7</td><td class=\"center\">25.5</td><td class=\"center\">21.4</td></tr><tr><td>Jumla</td><td class=\"center\">23.7</td><td class=\"center\">16.5</td><td class=\"center\">6.2</td></tr><tr><td>Dang</td><td class=\"center\">29.2</td><td class=\"center\">24.5</td><td class=\"center\">5.4</td></tr><tr><td>Pokhara</td><td class=\"center\">25.7</td><td class=\"center\">22.4</td><td class=\"center\">24.5</td></tr><tr><td>Bhairahawa</td><td class=\"center\">27.6</td><td class=\"center\">27.5</td><td class=\"center\">73.5</td></tr><tr><td>Simara</td><td class=\"center\">31.8</td><td class=\"center\">27.0</td><td class=\"center\">29.2</td></tr><tr><td>Kathmandu</td><td class=\"center\">26.5</td><td class=\"center\">20.2</td><td class=\"center\">39.7</td></tr><tr><td>Okhaldhunga</td><td class=\"center\">24.5</td><td class=\"center\">18.0</td><td class=\"center\">21.4</td></tr><tr><td>Taplejung</td><td class=\"center\">23.5</td><td class=\"center\">18.2</td><td class=\"center\">2.0</td></tr><tr><td>Dhankuta</td><td class=\"center\">26.0</td><td class=\"center\">20.5</td><td class=\"center\">47.4</td></tr><tr><td>Biratnagar</td><td class=\"center\">26.3</td><td class=\"center\">25.2</td><td class=\"center\">62.9</td></tr><tr><td>Jomsom</td><td class=\"center\">21.5</td><td class=\"center\">13.4</td><td class=\"center\">7.0*</td></tr><tr><td>Dharan</td><td class=\"center\">28.5</td><td class=\"center\">22.9</td><td class=\"center\">109.6*</td></tr><tr><td>Lumle</td><td class=\"center\">21.0</td><td class=\"center\">18.0</td><td class=\"center\">32.0*</td></tr><tr><td>Jankapur</td><td class=\"center\">29.0</td><td class=\"center\">27.0</td><td class=\"center\">62.8*</td></tr><tr><td align=\"right\" colspan=\"4\"><small>* Daily rainfall data ending at 08:45 AM NPT</small></td></tr></table></div></div><div class=\"col-md-4\"><div class=\"highlight-box recent-news-box\"><h3>Recent News and Releases</h3><div class=\"content\"><div class=\"content-preview\"><a href=\"/content/?id=240\"><img class=\"thumb-left\"/></a><div class=\"content-preview-text\"><h4><a href=\"/content/?id=240\">मनसून Update</a></h4><p>यस वर्षको मनसून आज असार ५ गते (जुन १९), आइतबार, देशको सुदूर पश्चिम क्षेत्र सम्म पुगेको छ |</p></div></div><div class=\"content-preview\"><a href=\"/content/?id=239\"><img class=\"thumb-right\"/></a><div class=\"content-preview-text\"><h4><a href=\"/content/?id=239\">मनसुन Watch</a></h4><p>नेपालमा यस वर्षको मनसुन असार १ गते (१५ जुन), बुधबारदेखि पूर्वी क्षेत्रबाट प्रवेश गरेको छ। मौसमी नक्सा, भू-उपग्रहहरूबाट प्राप्त बादलका तस्विरका आधारमा आगामी केही दिन भित्रै मध्य क्षेत्र हुँदै मनसुन पश्चिम क्षेत्रसम्म पुग्ने आँकलन गरिएको छ।</p></div></div><div class=\"content-preview\"><a href=\"/content/?id=233\"><img class=\"thumb-left\" src=\"/mfd.gov.np/_files/117beaaed8700b9f8817de04656b451f.gif\"/></a><div class=\"content-preview-text\"><h4><a href=\"/content/?id=233\">यस वर्षको मनसुनको सरदर वर्षाको आंकलन</a></h4><p>साधरणतया जुन देखि सेप्टेम्वरको चार महिना सम्मको समयलाई दक्षिण एशियाली मानसुनको अवधि भनिन्छ। उक्त समयमा नेपालमा वार्षिक वर्षाको करिब ८०% वर्षा हुने गर्दछ।</p></div></div><div class=\"content-preview\"><a href=\"/content/?id=235\"><img class=\"thumb-right\"/></a><div class=\"content-preview-text\"><h4><a href=\"/content/?id=235\">प्रेश विज्ञप्ती</a></h4><p>सामान्यतया १० जुनमा पूर्वी नेपालवाट मनसुन प्रवेशगरि केहि दिनमा देशभर फैलिने गर्दछ। तर, यस वर्ष नेपालमा मनसुन सामान्य भन्दा केहि दिन ढिलो शुरु हुने अनूमान छ।</p></div></div><div class=\"content-preview\"><a href=\"/content/?id=232\"><img class=\"thumb-left\"/></a><div class=\"content-preview-text\"><h4><a href=\"/content/?id=232\">WEATHER UPDATE</a></h4><p>‘’ROANU’’ नामक चक्रवातले आज विहान ५ बजेर ४५ मिनेट मा भारतको Imphal मा ‘’DEPRESSION’’ को रुप लिइसकेको र अझै पुर्व उत्तर पुर्व तिर जाने क्रममा रहेको हँदा यसको प्रभाव नेपालमा नरहने देखिएको छ</p></div></div></div></div></div><div class=\"col-md-4\"><div><div><div class=\"highlight-box satellite-box\"><h3>Satellite Image</h3><a href=\"satellite/\"><img src=\"/mfd.gov.np/_files/images/FY2E_2016_06_22_00_46_L_PJ1_IR1.JPG\"/></a></div></div><div></div></div></div></div><div class=\"row\"></div></div><footer>\n",
       "<div class=\"container\">\n",
       "<div class=\"row\">\n",
       "<div class=\"col-sm-6\">\n",
       "<h3>Contact Us</h3>\n",
       "<h4>Meteorological Forecasting Division</h4>\n",
       "<p>Gauchar, Tribhuvan International Airport<br/>\n",
       "\t\t\t\t\tKathmandu, Nepal<br/>\n",
       "<abbr title=\"Phone\"><span class=\"glyphicon glyphicon-earphone\"></span></abbr>:\n",
       "\t\t\t\t\t+977 1 4486869<br/>\n",
       "<abbr title=\"Email\"><span class=\"glyphicon glyphicon-envelope\"></span></abbr>:\n",
       "\t\t\t\t\t<a href=\"mailto:info@mfd.gov.np\">info@mfd.gov.np</a>\n",
       "</p>\n",
       "<p><b>Please dial and listen to us for notice board service</b>\n",
       "<dl class=\"footer-number-list dl-horizontal\">\n",
       "<dt>Kathmandu:</dt><dd>1618 07 07 33333 (for daily weather updates)</dd>\n",
       "<dt>Surkhet:</dt><dd>1618 083 523519 (for daily weather data)</dd>\n",
       "<dt>Pokhara:</dt><dd>1618 061 465299 (for daily weather data)</dd>\n",
       "<dt>Dharan:</dt><dd>1618 025 520272 (for daily weather data)</dd>\n",
       "</dl>\n",
       "</p></div>\n",
       "<div class=\"col-sm-6\">\n",
       "<h3>Links</h3>\n",
       "<h4>\n",
       "<a href=\"http://www.dhm.gov.np\" target=\"_blank\">Department of Hydrology and\n",
       "\t\t\t\t\t\tMeteorology</a>\n",
       "</h4>\n",
       "<h4>\n",
       "<a href=\"http://www.hydrology.gov.np\" target=\"_blank\">Flood        Forecasting Division</a>\n",
       "</h4>\n",
       "<h4>\n",
       "<a href=\"http://www.mope.gov.np\" target=\"_blank\">Ministry of Population and Environment</a>\n",
       "</h4>\n",
       "</div>\n",
       "</div>\n",
       "</div>\n",
       "<iframe src=\"http://dhm.gov.np/commonfooter.php\" style=\"width:100%; border:none\"></iframe>\n",
       "</footer>\n",
       "<div class=\"copyright-line\">\n",
       "<div class=\"container\">\n",
       "<div class=\"row\">\n",
       "<div class=\"col-sm-6\">\n",
       "<p><small>Copyright © 2016 Meteorological Forecasting Divison, DHM</small></p>\n",
       "</div>\n",
       "<div class=\"col-sm-6\">\n",
       "<p><small>\n",
       "\n",
       "\t\t\t\t\t\tDesigned and developed by <a href=\"http://www.rts.com.np\">Real\n",
       "\n",
       "\t\t\t\t\t\t\tTime Solutions Pvt. Ltd.</a></small>\n",
       "</p>\n",
       "</div>\n",
       "</div>\n",
       "</div>\n",
       "</div>\n",
       "<script src=\"/mfd.gov.np/_jquery/jquery-1.11.0.min.js\"></script>\n",
       "<script src=\"/mfd.gov.np/_bootstrap/js/bootstrap.min.js\"></script>\n",
       "<script src=\"/mfd.gov.np/_js/highstock.js\"></script>\n",
       "<script> $('li').tooltip(); </script>\n",
       "<script>\n",
       "\t(function(i,s,o,g,r,a,m){i['GoogleAnalyticsObject']=r;i[r]=i[r]||function(){\n",
       "\t\t\t(i[r].q=i[r].q||[]).push(arguments)},i[r].l=1*new Date();a=s.createElement(o),\n",
       "\t\t\tm=s.getElementsByTagName(o)[0];a.async=1;a.src=g;m.parentNode.insertBefore(a,m)\n",
       "\t})(window,document,'script','//www.google-analytics.com/analytics.js','ga');\n",
       "\n",
       "\tga('create', 'UA-48154100-1', 'www.mfd.gov.np');\n",
       "\tga('send', 'pageview');\n",
       "\n",
       "</script>\n",
       "</body>\n",
       "</html>"
      ]
     },
     "execution_count": 11,
     "metadata": {},
     "output_type": "execute_result"
    }
   ],
   "source": [
    "soup"
   ]
  },
  {
   "cell_type": "code",
   "execution_count": 12,
   "metadata": {},
   "outputs": [
    {
     "data": {
      "text/plain": [
       "bs4.BeautifulSoup"
      ]
     },
     "execution_count": 12,
     "metadata": {},
     "output_type": "execute_result"
    }
   ],
   "source": [
    "type(soup)"
   ]
  },
  {
   "cell_type": "code",
   "execution_count": 13,
   "metadata": {},
   "outputs": [
    {
     "data": {
      "text/plain": [
       "['ASCII_SPACES',\n",
       " 'DEFAULT_BUILDER_FEATURES',\n",
       " 'HTML_FORMATTERS',\n",
       " 'NO_PARSER_SPECIFIED_WARNING',\n",
       " 'ROOT_TAG_NAME',\n",
       " 'XML_FORMATTERS',\n",
       " '__bool__',\n",
       " '__call__',\n",
       " '__class__',\n",
       " '__contains__',\n",
       " '__copy__',\n",
       " '__delattr__',\n",
       " '__delitem__',\n",
       " '__dict__',\n",
       " '__dir__',\n",
       " '__doc__',\n",
       " '__eq__',\n",
       " '__format__',\n",
       " '__ge__',\n",
       " '__getattr__',\n",
       " '__getattribute__',\n",
       " '__getitem__',\n",
       " '__getstate__',\n",
       " '__gt__',\n",
       " '__hash__',\n",
       " '__init__',\n",
       " '__iter__',\n",
       " '__le__',\n",
       " '__len__',\n",
       " '__lt__',\n",
       " '__module__',\n",
       " '__ne__',\n",
       " '__new__',\n",
       " '__reduce__',\n",
       " '__reduce_ex__',\n",
       " '__repr__',\n",
       " '__setattr__',\n",
       " '__setitem__',\n",
       " '__sizeof__',\n",
       " '__str__',\n",
       " '__subclasshook__',\n",
       " '__unicode__',\n",
       " '__weakref__',\n",
       " '_all_strings',\n",
       " '_attr_value_as_string',\n",
       " '_attribute_checker',\n",
       " '_feed',\n",
       " '_find_all',\n",
       " '_find_one',\n",
       " '_formatter_for_name',\n",
       " '_is_xml',\n",
       " '_lastRecursiveChild',\n",
       " '_last_descendant',\n",
       " '_most_recent_element',\n",
       " '_popToTag',\n",
       " '_select_debug',\n",
       " '_selector_combinators',\n",
       " '_should_pretty_print',\n",
       " '_tag_name_matches_and',\n",
       " 'append',\n",
       " 'attribselect_re',\n",
       " 'attrs',\n",
       " 'builder',\n",
       " 'can_be_empty_element',\n",
       " 'childGenerator',\n",
       " 'children',\n",
       " 'clear',\n",
       " 'contains_replacement_characters',\n",
       " 'contents',\n",
       " 'currentTag',\n",
       " 'current_data',\n",
       " 'declared_html_encoding',\n",
       " 'decode',\n",
       " 'decode_contents',\n",
       " 'decompose',\n",
       " 'descendants',\n",
       " 'encode',\n",
       " 'encode_contents',\n",
       " 'endData',\n",
       " 'extract',\n",
       " 'fetchNextSiblings',\n",
       " 'fetchParents',\n",
       " 'fetchPrevious',\n",
       " 'fetchPreviousSiblings',\n",
       " 'find',\n",
       " 'findAll',\n",
       " 'findAllNext',\n",
       " 'findAllPrevious',\n",
       " 'findChild',\n",
       " 'findChildren',\n",
       " 'findNext',\n",
       " 'findNextSibling',\n",
       " 'findNextSiblings',\n",
       " 'findParent',\n",
       " 'findParents',\n",
       " 'findPrevious',\n",
       " 'findPreviousSibling',\n",
       " 'findPreviousSiblings',\n",
       " 'find_all',\n",
       " 'find_all_next',\n",
       " 'find_all_previous',\n",
       " 'find_next',\n",
       " 'find_next_sibling',\n",
       " 'find_next_siblings',\n",
       " 'find_parent',\n",
       " 'find_parents',\n",
       " 'find_previous',\n",
       " 'find_previous_sibling',\n",
       " 'find_previous_siblings',\n",
       " 'format_string',\n",
       " 'get',\n",
       " 'getText',\n",
       " 'get_text',\n",
       " 'handle_data',\n",
       " 'handle_endtag',\n",
       " 'handle_starttag',\n",
       " 'has_attr',\n",
       " 'has_key',\n",
       " 'hidden',\n",
       " 'index',\n",
       " 'insert',\n",
       " 'insert_after',\n",
       " 'insert_before',\n",
       " 'isSelfClosing',\n",
       " 'is_empty_element',\n",
       " 'is_xml',\n",
       " 'markup',\n",
       " 'name',\n",
       " 'namespace',\n",
       " 'new_string',\n",
       " 'new_tag',\n",
       " 'next',\n",
       " 'nextGenerator',\n",
       " 'nextSibling',\n",
       " 'nextSiblingGenerator',\n",
       " 'next_element',\n",
       " 'next_elements',\n",
       " 'next_sibling',\n",
       " 'next_siblings',\n",
       " 'object_was_parsed',\n",
       " 'original_encoding',\n",
       " 'parent',\n",
       " 'parentGenerator',\n",
       " 'parents',\n",
       " 'parse_only',\n",
       " 'parserClass',\n",
       " 'parser_class',\n",
       " 'popTag',\n",
       " 'prefix',\n",
       " 'preserve_whitespace_tag_stack',\n",
       " 'prettify',\n",
       " 'previous',\n",
       " 'previousGenerator',\n",
       " 'previousSibling',\n",
       " 'previousSiblingGenerator',\n",
       " 'previous_element',\n",
       " 'previous_elements',\n",
       " 'previous_sibling',\n",
       " 'previous_siblings',\n",
       " 'pushTag',\n",
       " 'recursiveChildGenerator',\n",
       " 'renderContents',\n",
       " 'replaceWith',\n",
       " 'replaceWithChildren',\n",
       " 'replace_with',\n",
       " 'replace_with_children',\n",
       " 'reset',\n",
       " 'select',\n",
       " 'select_one',\n",
       " 'setup',\n",
       " 'string',\n",
       " 'strings',\n",
       " 'stripped_strings',\n",
       " 'tagStack',\n",
       " 'tag_name_re',\n",
       " 'text',\n",
       " 'unwrap',\n",
       " 'wrap']"
      ]
     },
     "execution_count": 13,
     "metadata": {},
     "output_type": "execute_result"
    }
   ],
   "source": [
    "dir(soup)"
   ]
  },
  {
   "cell_type": "code",
   "execution_count": 14,
   "metadata": {
    "collapsed": true
   },
   "outputs": [],
   "source": [
    "tables = soup.find_all('table')"
   ]
  },
  {
   "cell_type": "code",
   "execution_count": 15,
   "metadata": {},
   "outputs": [
    {
     "data": {
      "text/plain": [
       "[<table class=\"table\" style=\"margin-bottom: 0px\"><tr><th>Station</th><th class=\"center\">Maximum Temp.<br/>(°C)</th><th class=\"center\">Minimum Temp.<br/>(°C)</th><th class=\"center\">24 hrs Rainfall<br/>(mm)</th></tr><tr><td>Dadeldhura</td><td class=\"center\">19.4</td><td class=\"center\">18.1</td><td class=\"center\">13.0</td></tr><tr><td>Dipayal</td><td class=\"center\">28.0</td><td class=\"center\">25.2</td><td class=\"center\">9.6</td></tr><tr><td>Dhangadi</td><td class=\"center\">28.7</td><td class=\"center\">24.0</td><td class=\"center\">88.3</td></tr><tr><td>Birendranagar</td><td class=\"center\">27.2</td><td class=\"center\">23.4</td><td class=\"center\">29.3</td></tr><tr><td>Nepalgunj</td><td class=\"center\">29.7</td><td class=\"center\">25.5</td><td class=\"center\">21.4</td></tr><tr><td>Jumla</td><td class=\"center\">23.7</td><td class=\"center\">16.5</td><td class=\"center\">6.2</td></tr><tr><td>Dang</td><td class=\"center\">29.2</td><td class=\"center\">24.5</td><td class=\"center\">5.4</td></tr><tr><td>Pokhara</td><td class=\"center\">25.7</td><td class=\"center\">22.4</td><td class=\"center\">24.5</td></tr><tr><td>Bhairahawa</td><td class=\"center\">27.6</td><td class=\"center\">27.5</td><td class=\"center\">73.5</td></tr><tr><td>Simara</td><td class=\"center\">31.8</td><td class=\"center\">27.0</td><td class=\"center\">29.2</td></tr><tr><td>Kathmandu</td><td class=\"center\">26.5</td><td class=\"center\">20.2</td><td class=\"center\">39.7</td></tr><tr><td>Okhaldhunga</td><td class=\"center\">24.5</td><td class=\"center\">18.0</td><td class=\"center\">21.4</td></tr><tr><td>Taplejung</td><td class=\"center\">23.5</td><td class=\"center\">18.2</td><td class=\"center\">2.0</td></tr><tr><td>Dhankuta</td><td class=\"center\">26.0</td><td class=\"center\">20.5</td><td class=\"center\">47.4</td></tr><tr><td>Biratnagar</td><td class=\"center\">26.3</td><td class=\"center\">25.2</td><td class=\"center\">62.9</td></tr><tr><td>Jomsom</td><td class=\"center\">21.5</td><td class=\"center\">13.4</td><td class=\"center\">7.0*</td></tr><tr><td>Dharan</td><td class=\"center\">28.5</td><td class=\"center\">22.9</td><td class=\"center\">109.6*</td></tr><tr><td>Lumle</td><td class=\"center\">21.0</td><td class=\"center\">18.0</td><td class=\"center\">32.0*</td></tr><tr><td>Jankapur</td><td class=\"center\">29.0</td><td class=\"center\">27.0</td><td class=\"center\">62.8*</td></tr><tr><td align=\"right\" colspan=\"4\"><small>* Daily rainfall data ending at 08:45 AM NPT</small></td></tr></table>]"
      ]
     },
     "execution_count": 15,
     "metadata": {},
     "output_type": "execute_result"
    }
   ],
   "source": [
    "tables"
   ]
  },
  {
   "cell_type": "code",
   "execution_count": 16,
   "metadata": {},
   "outputs": [
    {
     "data": {
      "text/plain": [
       "1"
      ]
     },
     "execution_count": 16,
     "metadata": {},
     "output_type": "execute_result"
    }
   ],
   "source": [
    "len(tables)"
   ]
  },
  {
   "cell_type": "code",
   "execution_count": 17,
   "metadata": {},
   "outputs": [
    {
     "data": {
      "text/plain": [
       "<table class=\"table\" style=\"margin-bottom: 0px\"><tr><th>Station</th><th class=\"center\">Maximum Temp.<br/>(°C)</th><th class=\"center\">Minimum Temp.<br/>(°C)</th><th class=\"center\">24 hrs Rainfall<br/>(mm)</th></tr><tr><td>Dadeldhura</td><td class=\"center\">19.4</td><td class=\"center\">18.1</td><td class=\"center\">13.0</td></tr><tr><td>Dipayal</td><td class=\"center\">28.0</td><td class=\"center\">25.2</td><td class=\"center\">9.6</td></tr><tr><td>Dhangadi</td><td class=\"center\">28.7</td><td class=\"center\">24.0</td><td class=\"center\">88.3</td></tr><tr><td>Birendranagar</td><td class=\"center\">27.2</td><td class=\"center\">23.4</td><td class=\"center\">29.3</td></tr><tr><td>Nepalgunj</td><td class=\"center\">29.7</td><td class=\"center\">25.5</td><td class=\"center\">21.4</td></tr><tr><td>Jumla</td><td class=\"center\">23.7</td><td class=\"center\">16.5</td><td class=\"center\">6.2</td></tr><tr><td>Dang</td><td class=\"center\">29.2</td><td class=\"center\">24.5</td><td class=\"center\">5.4</td></tr><tr><td>Pokhara</td><td class=\"center\">25.7</td><td class=\"center\">22.4</td><td class=\"center\">24.5</td></tr><tr><td>Bhairahawa</td><td class=\"center\">27.6</td><td class=\"center\">27.5</td><td class=\"center\">73.5</td></tr><tr><td>Simara</td><td class=\"center\">31.8</td><td class=\"center\">27.0</td><td class=\"center\">29.2</td></tr><tr><td>Kathmandu</td><td class=\"center\">26.5</td><td class=\"center\">20.2</td><td class=\"center\">39.7</td></tr><tr><td>Okhaldhunga</td><td class=\"center\">24.5</td><td class=\"center\">18.0</td><td class=\"center\">21.4</td></tr><tr><td>Taplejung</td><td class=\"center\">23.5</td><td class=\"center\">18.2</td><td class=\"center\">2.0</td></tr><tr><td>Dhankuta</td><td class=\"center\">26.0</td><td class=\"center\">20.5</td><td class=\"center\">47.4</td></tr><tr><td>Biratnagar</td><td class=\"center\">26.3</td><td class=\"center\">25.2</td><td class=\"center\">62.9</td></tr><tr><td>Jomsom</td><td class=\"center\">21.5</td><td class=\"center\">13.4</td><td class=\"center\">7.0*</td></tr><tr><td>Dharan</td><td class=\"center\">28.5</td><td class=\"center\">22.9</td><td class=\"center\">109.6*</td></tr><tr><td>Lumle</td><td class=\"center\">21.0</td><td class=\"center\">18.0</td><td class=\"center\">32.0*</td></tr><tr><td>Jankapur</td><td class=\"center\">29.0</td><td class=\"center\">27.0</td><td class=\"center\">62.8*</td></tr><tr><td align=\"right\" colspan=\"4\"><small>* Daily rainfall data ending at 08:45 AM NPT</small></td></tr></table>"
      ]
     },
     "execution_count": 17,
     "metadata": {},
     "output_type": "execute_result"
    }
   ],
   "source": [
    "tables[0]"
   ]
  },
  {
   "cell_type": "code",
   "execution_count": 18,
   "metadata": {},
   "outputs": [
    {
     "data": {
      "text/plain": [
       "[<tr><th>Station</th><th class=\"center\">Maximum Temp.<br/>(°C)</th><th class=\"center\">Minimum Temp.<br/>(°C)</th><th class=\"center\">24 hrs Rainfall<br/>(mm)</th></tr>,\n",
       " <tr><td>Dadeldhura</td><td class=\"center\">19.4</td><td class=\"center\">18.1</td><td class=\"center\">13.0</td></tr>,\n",
       " <tr><td>Dipayal</td><td class=\"center\">28.0</td><td class=\"center\">25.2</td><td class=\"center\">9.6</td></tr>,\n",
       " <tr><td>Dhangadi</td><td class=\"center\">28.7</td><td class=\"center\">24.0</td><td class=\"center\">88.3</td></tr>,\n",
       " <tr><td>Birendranagar</td><td class=\"center\">27.2</td><td class=\"center\">23.4</td><td class=\"center\">29.3</td></tr>,\n",
       " <tr><td>Nepalgunj</td><td class=\"center\">29.7</td><td class=\"center\">25.5</td><td class=\"center\">21.4</td></tr>,\n",
       " <tr><td>Jumla</td><td class=\"center\">23.7</td><td class=\"center\">16.5</td><td class=\"center\">6.2</td></tr>,\n",
       " <tr><td>Dang</td><td class=\"center\">29.2</td><td class=\"center\">24.5</td><td class=\"center\">5.4</td></tr>,\n",
       " <tr><td>Pokhara</td><td class=\"center\">25.7</td><td class=\"center\">22.4</td><td class=\"center\">24.5</td></tr>,\n",
       " <tr><td>Bhairahawa</td><td class=\"center\">27.6</td><td class=\"center\">27.5</td><td class=\"center\">73.5</td></tr>,\n",
       " <tr><td>Simara</td><td class=\"center\">31.8</td><td class=\"center\">27.0</td><td class=\"center\">29.2</td></tr>,\n",
       " <tr><td>Kathmandu</td><td class=\"center\">26.5</td><td class=\"center\">20.2</td><td class=\"center\">39.7</td></tr>,\n",
       " <tr><td>Okhaldhunga</td><td class=\"center\">24.5</td><td class=\"center\">18.0</td><td class=\"center\">21.4</td></tr>,\n",
       " <tr><td>Taplejung</td><td class=\"center\">23.5</td><td class=\"center\">18.2</td><td class=\"center\">2.0</td></tr>,\n",
       " <tr><td>Dhankuta</td><td class=\"center\">26.0</td><td class=\"center\">20.5</td><td class=\"center\">47.4</td></tr>,\n",
       " <tr><td>Biratnagar</td><td class=\"center\">26.3</td><td class=\"center\">25.2</td><td class=\"center\">62.9</td></tr>,\n",
       " <tr><td>Jomsom</td><td class=\"center\">21.5</td><td class=\"center\">13.4</td><td class=\"center\">7.0*</td></tr>,\n",
       " <tr><td>Dharan</td><td class=\"center\">28.5</td><td class=\"center\">22.9</td><td class=\"center\">109.6*</td></tr>,\n",
       " <tr><td>Lumle</td><td class=\"center\">21.0</td><td class=\"center\">18.0</td><td class=\"center\">32.0*</td></tr>,\n",
       " <tr><td>Jankapur</td><td class=\"center\">29.0</td><td class=\"center\">27.0</td><td class=\"center\">62.8*</td></tr>,\n",
       " <tr><td align=\"right\" colspan=\"4\"><small>* Daily rainfall data ending at 08:45 AM NPT</small></td></tr>]"
      ]
     },
     "execution_count": 18,
     "metadata": {},
     "output_type": "execute_result"
    }
   ],
   "source": [
    "tables[0].find_all('tr')"
   ]
  },
  {
   "cell_type": "code",
   "execution_count": 34,
   "metadata": {},
   "outputs": [
    {
     "name": "stdout",
     "output_type": "stream",
     "text": [
      "[{'Minimum Temp.(°C)': '18.1', '24 hrs Rainfall(mm)': '13.0', 'Maximum Temp.(°C)': '19.4', 'Station': 'Dadeldhura'}, {'Minimum Temp.(°C)': '25.2', '24 hrs Rainfall(mm)': '9.6', 'Maximum Temp.(°C)': '28.0', 'Station': 'Dipayal'}, {'Minimum Temp.(°C)': '24.0', '24 hrs Rainfall(mm)': '88.3', 'Maximum Temp.(°C)': '28.7', 'Station': 'Dhangadi'}, {'Minimum Temp.(°C)': '23.4', '24 hrs Rainfall(mm)': '29.3', 'Maximum Temp.(°C)': '27.2', 'Station': 'Birendranagar'}, {'Minimum Temp.(°C)': '25.5', '24 hrs Rainfall(mm)': '21.4', 'Maximum Temp.(°C)': '29.7', 'Station': 'Nepalgunj'}, {'Minimum Temp.(°C)': '16.5', '24 hrs Rainfall(mm)': '6.2', 'Maximum Temp.(°C)': '23.7', 'Station': 'Jumla'}, {'Minimum Temp.(°C)': '24.5', '24 hrs Rainfall(mm)': '5.4', 'Maximum Temp.(°C)': '29.2', 'Station': 'Dang'}, {'Minimum Temp.(°C)': '22.4', '24 hrs Rainfall(mm)': '24.5', 'Maximum Temp.(°C)': '25.7', 'Station': 'Pokhara'}, {'Minimum Temp.(°C)': '27.5', '24 hrs Rainfall(mm)': '73.5', 'Maximum Temp.(°C)': '27.6', 'Station': 'Bhairahawa'}, {'Minimum Temp.(°C)': '27.0', '24 hrs Rainfall(mm)': '29.2', 'Maximum Temp.(°C)': '31.8', 'Station': 'Simara'}, {'Minimum Temp.(°C)': '20.2', '24 hrs Rainfall(mm)': '39.7', 'Maximum Temp.(°C)': '26.5', 'Station': 'Kathmandu'}, {'Minimum Temp.(°C)': '18.0', '24 hrs Rainfall(mm)': '21.4', 'Maximum Temp.(°C)': '24.5', 'Station': 'Okhaldhunga'}, {'Minimum Temp.(°C)': '18.2', '24 hrs Rainfall(mm)': '2.0', 'Maximum Temp.(°C)': '23.5', 'Station': 'Taplejung'}, {'Minimum Temp.(°C)': '20.5', '24 hrs Rainfall(mm)': '47.4', 'Maximum Temp.(°C)': '26.0', 'Station': 'Dhankuta'}, {'Minimum Temp.(°C)': '25.2', '24 hrs Rainfall(mm)': '62.9', 'Maximum Temp.(°C)': '26.3', 'Station': 'Biratnagar'}, {'Minimum Temp.(°C)': '13.4', '24 hrs Rainfall(mm)': '7.0*', 'Maximum Temp.(°C)': '21.5', 'Station': 'Jomsom'}, {'Minimum Temp.(°C)': '22.9', '24 hrs Rainfall(mm)': '109.6*', 'Maximum Temp.(°C)': '28.5', 'Station': 'Dharan'}, {'Minimum Temp.(°C)': '18.0', '24 hrs Rainfall(mm)': '32.0*', 'Maximum Temp.(°C)': '21.0', 'Station': 'Lumle'}, {'Minimum Temp.(°C)': '27.0', '24 hrs Rainfall(mm)': '62.8*', 'Maximum Temp.(°C)': '29.0', 'Station': 'Jankapur'}, {}]\n"
     ]
    }
   ],
   "source": [
    "cities = []\n",
    "headers = []\n",
    "for row in tables[0].find_all('tr'):\n",
    "    ths = row.find_all('th')\n",
    "    if ths:\n",
    "        headers = [th.text.strip() for th in ths]\n",
    "    else:\n",
    "        tds = row.find_all('td')\n",
    "        data = {}\n",
    "        if tds and len(tds) >= 4:\n",
    "            data[headers[0]] = tds[0].text.strip()\n",
    "            data[headers[1]] = tds[1].text.strip()\n",
    "            data[headers[2]] = tds[2].text.strip()\n",
    "            data[headers[3]] = tds[3].text.strip()\n",
    "        cities.append(data)\n",
    "print(cities)"
   ]
  },
  {
   "cell_type": "markdown",
   "metadata": {},
   "source": [
    "**Alternative Method**"
   ]
  },
  {
   "cell_type": "markdown",
   "metadata": {},
   "source": [
    "*in case of multiple tables within webpage, we can use css selectors*"
   ]
  },
  {
   "cell_type": "code",
   "execution_count": 35,
   "metadata": {},
   "outputs": [],
   "source": [
    "div = soup.find('div', attrs={'class': 'weather-data-table'})"
   ]
  },
  {
   "cell_type": "code",
   "execution_count": 36,
   "metadata": {},
   "outputs": [
    {
     "data": {
      "text/plain": [
       "<div class=\"highlight-box weather-data-table\"><h3>Observations <em>2016-06-21 17:45 NPT</em></h3><table class=\"table\" style=\"margin-bottom: 0px\"><tr><th>Station</th><th class=\"center\">Maximum Temp.<br/>(°C)</th><th class=\"center\">Minimum Temp.<br/>(°C)</th><th class=\"center\">24 hrs Rainfall<br/>(mm)</th></tr><tr><td>Dadeldhura</td><td class=\"center\">19.4</td><td class=\"center\">18.1</td><td class=\"center\">13.0</td></tr><tr><td>Dipayal</td><td class=\"center\">28.0</td><td class=\"center\">25.2</td><td class=\"center\">9.6</td></tr><tr><td>Dhangadi</td><td class=\"center\">28.7</td><td class=\"center\">24.0</td><td class=\"center\">88.3</td></tr><tr><td>Birendranagar</td><td class=\"center\">27.2</td><td class=\"center\">23.4</td><td class=\"center\">29.3</td></tr><tr><td>Nepalgunj</td><td class=\"center\">29.7</td><td class=\"center\">25.5</td><td class=\"center\">21.4</td></tr><tr><td>Jumla</td><td class=\"center\">23.7</td><td class=\"center\">16.5</td><td class=\"center\">6.2</td></tr><tr><td>Dang</td><td class=\"center\">29.2</td><td class=\"center\">24.5</td><td class=\"center\">5.4</td></tr><tr><td>Pokhara</td><td class=\"center\">25.7</td><td class=\"center\">22.4</td><td class=\"center\">24.5</td></tr><tr><td>Bhairahawa</td><td class=\"center\">27.6</td><td class=\"center\">27.5</td><td class=\"center\">73.5</td></tr><tr><td>Simara</td><td class=\"center\">31.8</td><td class=\"center\">27.0</td><td class=\"center\">29.2</td></tr><tr><td>Kathmandu</td><td class=\"center\">26.5</td><td class=\"center\">20.2</td><td class=\"center\">39.7</td></tr><tr><td>Okhaldhunga</td><td class=\"center\">24.5</td><td class=\"center\">18.0</td><td class=\"center\">21.4</td></tr><tr><td>Taplejung</td><td class=\"center\">23.5</td><td class=\"center\">18.2</td><td class=\"center\">2.0</td></tr><tr><td>Dhankuta</td><td class=\"center\">26.0</td><td class=\"center\">20.5</td><td class=\"center\">47.4</td></tr><tr><td>Biratnagar</td><td class=\"center\">26.3</td><td class=\"center\">25.2</td><td class=\"center\">62.9</td></tr><tr><td>Jomsom</td><td class=\"center\">21.5</td><td class=\"center\">13.4</td><td class=\"center\">7.0*</td></tr><tr><td>Dharan</td><td class=\"center\">28.5</td><td class=\"center\">22.9</td><td class=\"center\">109.6*</td></tr><tr><td>Lumle</td><td class=\"center\">21.0</td><td class=\"center\">18.0</td><td class=\"center\">32.0*</td></tr><tr><td>Jankapur</td><td class=\"center\">29.0</td><td class=\"center\">27.0</td><td class=\"center\">62.8*</td></tr><tr><td align=\"right\" colspan=\"4\"><small>* Daily rainfall data ending at 08:45 AM NPT</small></td></tr></table></div>"
      ]
     },
     "execution_count": 36,
     "metadata": {},
     "output_type": "execute_result"
    }
   ],
   "source": [
    "div"
   ]
  },
  {
   "cell_type": "code",
   "execution_count": 37,
   "metadata": {},
   "outputs": [],
   "source": [
    "table = div.find('table')"
   ]
  },
  {
   "cell_type": "code",
   "execution_count": 38,
   "metadata": {
    "collapsed": true
   },
   "outputs": [],
   "source": [
    "# first_table = tables[0]"
   ]
  },
  {
   "cell_type": "code",
   "execution_count": 39,
   "metadata": {},
   "outputs": [
    {
     "data": {
      "text/plain": [
       "[<th class=\"center\">Maximum Temp.<br/>(°C)</th>,\n",
       " <th class=\"center\">Minimum Temp.<br/>(°C)</th>,\n",
       " <th class=\"center\">24 hrs Rainfall<br/>(mm)</th>]"
      ]
     },
     "execution_count": 39,
     "metadata": {},
     "output_type": "execute_result"
    }
   ],
   "source": [
    "table.find_all('th', attrs={'class': 'center'})"
   ]
  },
  {
   "cell_type": "code",
   "execution_count": 40,
   "metadata": {},
   "outputs": [
    {
     "name": "stdout",
     "output_type": "stream",
     "text": [
      "[{'Rainfall': '13.0', 'Maximum': '19.4', 'Station': 'Dadeldhura', 'Minimum': '18.1'}, {'Rainfall': '9.6', 'Maximum': '28.0', 'Station': 'Dipayal', 'Minimum': '25.2'}, {'Rainfall': '88.3', 'Maximum': '28.7', 'Station': 'Dhangadi', 'Minimum': '24.0'}, {'Rainfall': '29.3', 'Maximum': '27.2', 'Station': 'Birendranagar', 'Minimum': '23.4'}, {'Rainfall': '21.4', 'Maximum': '29.7', 'Station': 'Nepalgunj', 'Minimum': '25.5'}, {'Rainfall': '6.2', 'Maximum': '23.7', 'Station': 'Jumla', 'Minimum': '16.5'}, {'Rainfall': '5.4', 'Maximum': '29.2', 'Station': 'Dang', 'Minimum': '24.5'}, {'Rainfall': '24.5', 'Maximum': '25.7', 'Station': 'Pokhara', 'Minimum': '22.4'}, {'Rainfall': '73.5', 'Maximum': '27.6', 'Station': 'Bhairahawa', 'Minimum': '27.5'}, {'Rainfall': '29.2', 'Maximum': '31.8', 'Station': 'Simara', 'Minimum': '27.0'}, {'Rainfall': '39.7', 'Maximum': '26.5', 'Station': 'Kathmandu', 'Minimum': '20.2'}, {'Rainfall': '21.4', 'Maximum': '24.5', 'Station': 'Okhaldhunga', 'Minimum': '18.0'}, {'Rainfall': '2.0', 'Maximum': '23.5', 'Station': 'Taplejung', 'Minimum': '18.2'}, {'Rainfall': '47.4', 'Maximum': '26.0', 'Station': 'Dhankuta', 'Minimum': '20.5'}, {'Rainfall': '62.9', 'Maximum': '26.3', 'Station': 'Biratnagar', 'Minimum': '25.2'}, {'Rainfall': '7.0*', 'Maximum': '21.5', 'Station': 'Jomsom', 'Minimum': '13.4'}, {'Rainfall': '109.6*', 'Maximum': '28.5', 'Station': 'Dharan', 'Minimum': '22.9'}, {'Rainfall': '32.0*', 'Maximum': '21.0', 'Station': 'Lumle', 'Minimum': '18.0'}, {'Rainfall': '62.8*', 'Maximum': '29.0', 'Station': 'Jankapur', 'Minimum': '27.0'}]\n"
     ]
    }
   ],
   "source": [
    "data_set = []\n",
    "for tr in table.find_all('tr'):\n",
    "    _data = {}\n",
    "    tds = tr.find_all('td')\n",
    "    if tds and len(tds) > 3:\n",
    "        # _data['Station'] = t\n",
    "        # print(tds)\n",
    "        _data['Station'] = tds[0].string\n",
    "        _data['Maximum'] = tds[1].string\n",
    "        _data['Minimum'] = tds[2].string\n",
    "        _data['Rainfall'] = tds[3].string\n",
    "        data_set.append(_data)\n",
    "print(data_set)"
   ]
  },
  {
   "cell_type": "code",
   "execution_count": 42,
   "metadata": {},
   "outputs": [
    {
     "data": {
      "text/plain": [
       "dict_keys(['Rainfall', 'Maximum', 'Station', 'Minimum'])"
      ]
     },
     "execution_count": 42,
     "metadata": {},
     "output_type": "execute_result"
    }
   ],
   "source": [
    "data_set[0].keys()"
   ]
  },
  {
   "cell_type": "markdown",
   "metadata": {},
   "source": [
    "*writing to csv file*"
   ]
  },
  {
   "cell_type": "code",
   "execution_count": 41,
   "metadata": {
    "collapsed": true
   },
   "outputs": [],
   "source": [
    "import csv"
   ]
  },
  {
   "cell_type": "code",
   "execution_count": 43,
   "metadata": {},
   "outputs": [],
   "source": [
    "with open('dataset.csv', 'w') as csvfile:\n",
    "    csvdoc = csv.DictWriter(csvfile, \n",
    "                            fieldnames=data_set[0].keys())\n",
    "    csvdoc.writeheader()\n",
    "    csvdoc.writerows(data_set)"
   ]
  },
  {
   "cell_type": "code",
   "execution_count": 44,
   "metadata": {},
   "outputs": [
    {
     "data": {
      "text/plain": [
       "{'Maximum': '19.4',\n",
       " 'Minimum': '18.1',\n",
       " 'Rainfall': '13.0',\n",
       " 'Station': 'Dadeldhura'}"
      ]
     },
     "execution_count": 44,
     "metadata": {},
     "output_type": "execute_result"
    }
   ],
   "source": [
    "data_set[0]"
   ]
  },
  {
   "cell_type": "code",
   "execution_count": 45,
   "metadata": {},
   "outputs": [
    {
     "data": {
      "text/plain": [
       "dict_keys(['Rainfall', 'Maximum', 'Station', 'Minimum'])"
      ]
     },
     "execution_count": 45,
     "metadata": {},
     "output_type": "execute_result"
    }
   ],
   "source": [
    "data_set[0].keys()"
   ]
  },
  {
   "cell_type": "code",
   "execution_count": null,
   "metadata": {
    "collapsed": true
   },
   "outputs": [],
   "source": []
  },
  {
   "cell_type": "markdown",
   "metadata": {
    "collapsed": true
   },
   "source": [
    "*json output*"
   ]
  },
  {
   "cell_type": "code",
   "execution_count": 46,
   "metadata": {
    "collapsed": true
   },
   "outputs": [],
   "source": [
    "import json"
   ]
  },
  {
   "cell_type": "code",
   "execution_count": 49,
   "metadata": {},
   "outputs": [],
   "source": [
    "json.dump(data_set, open('dataset.json', 'w'))"
   ]
  },
  {
   "cell_type": "code",
   "execution_count": 50,
   "metadata": {},
   "outputs": [
    {
     "data": {
      "text/plain": [
       "'[{\"Rainfall\": \"13.0\", \"Maximum\": \"19.4\", \"Station\": \"Dadeldhura\", \"Minimum\": \"18.1\"}, {\"Rainfall\": \"9.6\", \"Maximum\": \"28.0\", \"Station\": \"Dipayal\", \"Minimum\": \"25.2\"}, {\"Rainfall\": \"88.3\", \"Maximum\": \"28.7\", \"Station\": \"Dhangadi\", \"Minimum\": \"24.0\"}, {\"Rainfall\": \"29.3\", \"Maximum\": \"27.2\", \"Station\": \"Birendranagar\", \"Minimum\": \"23.4\"}, {\"Rainfall\": \"21.4\", \"Maximum\": \"29.7\", \"Station\": \"Nepalgunj\", \"Minimum\": \"25.5\"}, {\"Rainfall\": \"6.2\", \"Maximum\": \"23.7\", \"Station\": \"Jumla\", \"Minimum\": \"16.5\"}, {\"Rainfall\": \"5.4\", \"Maximum\": \"29.2\", \"Station\": \"Dang\", \"Minimum\": \"24.5\"}, {\"Rainfall\": \"24.5\", \"Maximum\": \"25.7\", \"Station\": \"Pokhara\", \"Minimum\": \"22.4\"}, {\"Rainfall\": \"73.5\", \"Maximum\": \"27.6\", \"Station\": \"Bhairahawa\", \"Minimum\": \"27.5\"}, {\"Rainfall\": \"29.2\", \"Maximum\": \"31.8\", \"Station\": \"Simara\", \"Minimum\": \"27.0\"}, {\"Rainfall\": \"39.7\", \"Maximum\": \"26.5\", \"Station\": \"Kathmandu\", \"Minimum\": \"20.2\"}, {\"Rainfall\": \"21.4\", \"Maximum\": \"24.5\", \"Station\": \"Okhaldhunga\", \"Minimum\": \"18.0\"}, {\"Rainfall\": \"2.0\", \"Maximum\": \"23.5\", \"Station\": \"Taplejung\", \"Minimum\": \"18.2\"}, {\"Rainfall\": \"47.4\", \"Maximum\": \"26.0\", \"Station\": \"Dhankuta\", \"Minimum\": \"20.5\"}, {\"Rainfall\": \"62.9\", \"Maximum\": \"26.3\", \"Station\": \"Biratnagar\", \"Minimum\": \"25.2\"}, {\"Rainfall\": \"7.0*\", \"Maximum\": \"21.5\", \"Station\": \"Jomsom\", \"Minimum\": \"13.4\"}, {\"Rainfall\": \"109.6*\", \"Maximum\": \"28.5\", \"Station\": \"Dharan\", \"Minimum\": \"22.9\"}, {\"Rainfall\": \"32.0*\", \"Maximum\": \"21.0\", \"Station\": \"Lumle\", \"Minimum\": \"18.0\"}, {\"Rainfall\": \"62.8*\", \"Maximum\": \"29.0\", \"Station\": \"Jankapur\", \"Minimum\": \"27.0\"}]'"
      ]
     },
     "execution_count": 50,
     "metadata": {},
     "output_type": "execute_result"
    }
   ],
   "source": [
    "json.dumps(data_set)"
   ]
  },
  {
   "cell_type": "code",
   "execution_count": null,
   "metadata": {
    "collapsed": true
   },
   "outputs": [],
   "source": []
  },
  {
   "cell_type": "markdown",
   "metadata": {},
   "source": [
    "**Practice ** *Obtain some data from any of website available*"
   ]
  },
  {
   "cell_type": "code",
   "execution_count": null,
   "metadata": {
    "collapsed": true
   },
   "outputs": [],
   "source": []
  }
 ],
 "metadata": {
  "anaconda-cloud": {},
  "kernelspec": {
   "display_name": "Python 3",
   "language": "python",
   "name": "python3"
  },
  "language_info": {
   "codemirror_mode": {
    "name": "ipython",
    "version": 3
   },
   "file_extension": ".py",
   "mimetype": "text/x-python",
   "name": "python",
   "nbconvert_exporter": "python",
   "pygments_lexer": "ipython3",
   "version": "3.6.2"
  }
 },
 "nbformat": 4,
 "nbformat_minor": 1
}
