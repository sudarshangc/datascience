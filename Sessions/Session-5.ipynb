{
 "cells": [
  {
   "cell_type": "markdown",
   "metadata": {},
   "source": [
    "## Web Scraping"
   ]
  },
  {
   "cell_type": "code",
   "execution_count": 1,
   "metadata": {
    "collapsed": true
   },
   "outputs": [],
   "source": [
    "import requests"
   ]
  },
  {
   "cell_type": "code",
   "execution_count": 2,
   "metadata": {
    "collapsed": true
   },
   "outputs": [],
   "source": [
    "res = requests.get('http://mfd.gov.np')"
   ]
  },
  {
   "cell_type": "code",
   "execution_count": 3,
   "metadata": {},
   "outputs": [
    {
     "data": {
      "text/plain": [
       "<Response [200]>"
      ]
     },
     "execution_count": 3,
     "metadata": {},
     "output_type": "execute_result"
    }
   ],
   "source": [
    "res"
   ]
  },
  {
   "cell_type": "code",
   "execution_count": 4,
   "metadata": {},
   "outputs": [
    {
     "data": {
      "text/plain": [
       "{'Date': 'Mon, 28 Aug 2017 02:19:05 GMT', 'Server': 'Apache/2.2.15 (CentOS)', 'X-Powered-By': 'PHP/5.3.3', 'Set-Cookie': 'PHPSESSID=mfdaijp82esoccditn1ddmjph6; path=/', 'Expires': 'Thu, 19 Nov 1981 08:52:00 GMT', 'Cache-Control': 'no-store, no-cache, must-revalidate, post-check=0, pre-check=0', 'Pragma': 'no-cache', 'Connection': 'close', 'Transfer-Encoding': 'chunked', 'Content-Type': 'text/html; charset=utf-8'}"
      ]
     },
     "execution_count": 4,
     "metadata": {},
     "output_type": "execute_result"
    }
   ],
   "source": [
    "res.headers"
   ]
  },
  {
   "cell_type": "code",
   "execution_count": 5,
   "metadata": {},
   "outputs": [
    {
     "data": {
      "text/plain": [
       "'<!DOCTYPE html>\\n<html>\\n<head>\\n<title>Meteorological Forecasting Division</title>\\n\\n\\t<meta name=\"viewport\"\\n\\tcontent=\"width=device-width, initial-scale=1.0, user-scalable=no\">\\n  <meta http-equiv=\"Content-Type\" content=\"text/html;charset=utf-8\"/>\\n\\t<link href=\"/mfd.gov.np/_bootstrap/css/bootstrap.css\"\\n\\trel=\"stylesheet\">\\n\\t<link href=\"/mfd.gov.np/_stylesheets/mfd.css\" rel=\"stylesheet\">\\n\\t<link rel=\"icon\"\\n      type=\"image/png\" \\n      href=\"/mfd.gov.np/_req/favicon.png\">\\n\\t\\t\\t\\t\\t\\t\\n\\t<!-- HTML5 Shim and Respond.js IE8 support of HTML5 elements and media queries -->\\n    <!-- WARNING: Respond.js doesn\\'t work if you view the page via file:// -->\\n    <!--[if lt IE 9]>\\n\\t<script src=\"/mfd.gov.np/_js/html5shiv.js\"></script>\\n\\t<script src=\"/mfd.gov.np/_js/respond.min.js\"></script>\\n\\n\\n\\t<![endif]-->\\n<style>\\n@media (min-width: 768px){\\n\\t.navbar-static-top {\\n\\t\\tborder-radius: 6px;\\n\\t}\\n}\\n</style>\\n</head>\\n\\n<body>\\n<div class=\"site-header\">\\n\\t<div class=\"container\">\\n\\t <div class=\"col-sm-4\">\\n\\t\\t<img width=\"64px\" src=\"/mfd.gov.np/_req/logo.png\" />\\n\\t\\t<h2 style=\"margin-bottom: 5px\">Government of Nepal</h2>\\n\\t\\t<h2>Department of Hydrology and Meteorology</h2>\\n\\t\\t<h1>Meteorological Forecasting Division</h1>\\n\\t </div>\\n\\t \\n\\t <div class=\"col-sm-8\" style=\"padding-top:10px;\">\\n\\t \\n\\t \\n\\t \\t<div class=\"navbar navbar-inverse navbar-static-top\" role=\"navigation\">\\n\\t\\t\\t<div class=\"navbar-header\">\\n\\t\\t\\t\\t<button type=\"button\" class=\"navbar-toggle\" data-toggle=\"collapse\"\\n\\t\\t\\t\\t\\t\\tdata-target=\".navbar-collapse\">\\n\\t\\t\\t\\t\\t<span class=\"sr-only\">Toggle navigation</span> <span\\n\\t\\t\\t\\t\\t\\t\\tclass=\"icon-bar\"></span> <span class=\"icon-bar\"></span> <span\\n\\t\\t\\t\\t\\t\\t\\tclass=\"icon-bar\"></span>\\n\\t\\t\\t\\t</button>\\n\\t\\t\\t\\t<!-- <a class=\"navbar-brand\" href=\"#\">MFD</a> -->\\n\\t\\t\\t</div>\\n\\t\\t\\t<div class=\"navbar-collapse collapse\">\\n\\t\\t\\t\\t<ul class=\"nav navbar-nav\">\\n\\t\\t\\t\\t\\t<li><a href=\"/\">Home</a></li><li><a href=\"/weather/\">Weather</a></li><li><a href=\"/nwp/\">NWP</a></li><li><a href=\"/satellite/\">Satellite</a></li><li><a href=\"/mountaineering/\">Mountaineering</a></li><li><a href=\"/report/\">Archives</a></li>\\n\\t\\t\\t\\t</ul>\\n\\t\\t\\t</div>\\n\\t\\t</div>\\n\\t \\n\\t </div>\\n\\t \\n\\t</div>\\n\\n</div>\\n\\t\\n<DIV class=\"carousel slide\" id=\"mainCarousel\" data-ride=\"carousel\"><ol class=\"carousel-indicators\"><li class=\"active\" data-target=\"#mainCarousel\" data-slide-to=\"0\" data-ride=\"carousel\"></li><li data-target=\"#mainCarousel\" data-slide-to=\"1\" data-ride=\"carousel\"></li><li data-target=\"#mainCarousel\" data-slide-to=\"2\" data-ride=\"carousel\"></li><li data-target=\"#mainCarousel\" data-slide-to=\"3\" data-ride=\"carousel\"></li></ol><div class=\"carousel-inner\"><div class=\"item active\"><img data-src=\"holder.js/749x500/audo/#666:#6a6a/text:SomeText\" src=\"/mfd.gov.np/_files/f927b55f77a8cf4ad32cdd88d3b6feae.jpg\"></img><div class=\"container\"><div class=\"carousel-caption\"><div class=\"station-highlight\"><a href=\"city?id=24\"><h1>Birendranagar</h1></a><div class=\"WeatherNow\"><img src=\"/mfd.gov.np/_req/weather_icons/3-moon-64.png\" /><div>At <strong>5:45 am</strong>,</div><div><label>Temperature: </label><strong>23.5 °C</strong></div><div><label>Humidity: </label><strong>96 %</strong></div><hr/></div><div><div class=\"SunInfo\">Sunrise: <strong>5:55 am</strong>, Sunset: <strong>6:45 pm</strong></div><div><a href=\"city?id=24\">Read More...</a></div></div></div></div></div></div><div class=\"item\"><img data-src=\"holder.js/749x500/audo/#666:#6a6a/text:SomeText\" src=\"/mfd.gov.np/_files/0f8207ee86bf76097055c962df157415.jpg\"></img><div class=\"container\"><div class=\"carousel-caption\"><div class=\"station-highlight\"><a href=\"city?id=28\"><h1>Pokhara</h1></a><div class=\"WeatherNow\"><img src=\"/mfd.gov.np/_req/weather_icons/19-moon-64.png\" /><div>At <strong>5:45 am</strong>,</div><div><label>Temperature: </label><strong>22 °C</strong></div><div><label>Humidity: </label><strong>96 %</strong></div><hr/></div><div><div class=\"SunInfo\">Sunrise: <strong>5:46 am</strong>, Sunset: <strong>6:36 pm</strong></div><div><a href=\"city?id=28\">Read More...</a></div></div></div></div></div></div><div class=\"item\"><img data-src=\"holder.js/749x500/audo/#666:#6a6a/text:SomeText\" src=\"/mfd.gov.np/_files/bf0ccd1466119e6785c7bc576b88851e.jpg\"></img><div class=\"container\"><div class=\"carousel-caption\"><div class=\"station-highlight\"><a href=\"city?id=31\"><h1>Kathmandu</h1></a><div class=\"WeatherNow\"><img src=\"/mfd.gov.np/_req/weather_icons/19-sun-64.png\" /><div>At <strong>5:45 am</strong>,</div><div><label>Temperature: </label><strong>20.6 °C</strong></div><div><label>Humidity: </label><strong>98 %</strong></div><hr/></div><div><div class=\"SunInfo\">Sunrise: <strong>5:41 am</strong>, Sunset: <strong>6:30 pm</strong></div><div><a href=\"city?id=31\">Read More...</a></div></div></div></div></div></div><div class=\"item\"><img data-src=\"holder.js/749x500/audo/#666:#6a6a/text:SomeText\" src=\"/mfd.gov.np/_files/8e9309b9514a49e5b0d09ab5139fe108.jpg\"></img><div class=\"container\"><div class=\"carousel-caption\"><div class=\"station-highlight\"><a href=\"city?id=33\"><h1>Dhankuta</h1></a><div class=\"WeatherNow\"><img src=\"/mfd.gov.np/_req/weather_icons/4-sun-64.png\" /><div>At <strong>5:45 am</strong>,</div><div><label>Temperature: </label><strong>21.2 °C</strong></div><div><label>Humidity: </label><strong>90 %</strong></div><hr/></div><div><div class=\"SunInfo\">Sunrise: <strong>5:34 am</strong>, Sunset: <strong>6:21 pm</strong></div><div><a href=\"city?id=33\">Read More...</a></div></div></div></div></div></div></div><a class=\"left carousel-control\" href=\"#mainCarousel\" data-slide=\"prev\"><span class=\"glyphicon glyphicon-chevron-left\"></span></a><a class=\"right carousel-control\" href=\"#mainCarousel\" data-slide=\"next\"><span class=\"glyphicon glyphicon-chevron-right\"></span></a></DIV><DIV class=\"container main-body\"><div class=\"row\"><div class=\"col-md-4\"><DIV class=\"highlight-box forecast-box\"><h3>Forecasts <em>2017-08-28 06:00 NPT</em></h3><div></div><div class=\"carousel slide\" data-ride=\"carousel\" id=\"forecast_carousel_1\"><ol class=\"carousel-indicators\"><li data-target=\"#forecast_carousel_1\" data-slide-to=\"0\" data-ride=\"carousel\" data-toggle=\"tooltip\" data-placement=\"top\" title=\"Nepal\" class=\"active\"></li></ol><div class=\"carousel-inner\"><div class=\"item active\"><div><h4>Nepal</h4><b>Today</b><p>Generally cloudy throughout the country. Light to moderate rain likely to occur at some places of the central and western regions and at a few places of the eastern region. </p><b>Tonight</b><p>Generally cloudy throughout the country. Light to moderate rain likely to occur at some places in the country. </p></div></div></div><div class=\"text-center\"><a class=\"btn btn-info\" href=\"/weather/#forecasts\">More detail...</a></div></div></DIV></div><div class=\"col-md-4\"><DIV class=\"highlight-box forecast-box\"><h3>Mountain <em>2017-08-27 18:00 NPT</em></h3><div class=\"carousel slide\" data-ride=\"carousel\" id=\"forecast_carousel_2\"><ol class=\"carousel-indicators\"><li data-target=\"#forecast_carousel_2\" data-slide-to=\"0\" data-ride=\"carousel\" data-toggle=\"tooltip\" data-placement=\"top\" class=\"active\"></li></ol><div class=\"carousel-inner\"><div class=\"item active\"><div><h4>Forecasts for Expedition</h4><b>Western Region</b><p>Generally cloudy with chances of light snowfall at some places.</p><b>Central Region</b><p>Generally cloudy with chances of light snowfall at some places.</p><b>Eastern Region</b><p>Generally cloudy with chances of light snowfall at some places.</p><p style=\"border-top: 1px solid #eee; text-align:center\"><small>Valid for next 24 hours</small></p></div></div></div><div class=\"text-center\"><a class=\"btn btn-info\" href=\"/mountaineering\">More detail...</a></div></div></DIV></div><div class=\"col-md-4\"><DIV class=\"highlight-box recent-news-box\"><h3>NWP Products</h3><div class=\"content\" style=\"text-align:center\"><a href=\"/nwp/\"><img src=\"/mfd.gov.np/_nwp/prec1h_0001.png\" height=\"350px\"></img></a></div></DIV></div></div><div class=\"row\"><div class=\"col-md-4\"><DIV class=\"highlight-box weather-data-table\"><h3>Observations <em>2017-08-27 17:45 NPT</em></h3><table class=\"table\" style=\"margin-bottom: 0px\"><tr><th>Station</th><th class=\"center\">Maximum Temp.<br/>(°C)</th><th class=\"center\">Minimum Temp.<br/>(°C)</th><th class=\"center\">24 hrs Rainfall<br/>(mm)</th></tr><tr><td>Dipayal</td><td class=\"center\">30.0</td><td class=\"center\">21.6</td><td class=\"center\">34.7</td></tr><tr><td>Dadeldhura</td><td class=\"center\">24.4</td><td class=\"center\">15.5</td><td class=\"center\">11.0</td></tr><tr><td>Dhangadi</td><td class=\"center\">31.9</td><td class=\"center\">25.5</td><td class=\"center\">1.0</td></tr><tr><td>Birendranagar</td><td class=\"center\">31.2</td><td class=\"center\">23.0</td><td class=\"center\">0.9</td></tr><tr><td>Nepalgunj</td><td class=\"center\">32.5</td><td class=\"center\">27.0</td><td class=\"center\">12.0</td></tr><tr><td>Jumla</td><td class=\"center\">24.5</td><td class=\"center\">15.5</td><td class=\"center\">4.5</td></tr><tr><td>Dang</td><td class=\"center\">30.2</td><td class=\"center\">24.0</td><td class=\"center\">72.0</td></tr><tr><td>Pokhara</td><td class=\"center\">31.5</td><td class=\"center\">22.5</td><td class=\"center\">13.4</td></tr><tr><td>Bhairahawa</td><td class=\"center\">34.5</td><td class=\"center\">24.9</td><td class=\"center\">14.6</td></tr><tr><td>Simara</td><td class=\"center\">33.0</td><td class=\"center\">26.0</td><td class=\"center\">Traces</td></tr><tr><td>Kathmandu</td><td class=\"center\">29.4</td><td class=\"center\">20.8</td><td class=\"center\">5.4</td></tr><tr><td>Okhaldhunga</td><td class=\"center\">23.3</td><td class=\"center\">18.0</td><td class=\"center\">11.9</td></tr><tr><td>Taplejung</td><td class=\"center\">23.7</td><td class=\"center\">18.6</td><td class=\"center\">4.7</td></tr><tr><td>Dhankuta</td><td class=\"center\">24.5</td><td class=\"center\">21.0</td><td class=\"center\">12.0</td></tr><tr><td>Biratnagar</td><td class=\"center\">28.8</td><td class=\"center\">25.4</td><td class=\"center\">31.6</td></tr><tr><td>Jomsom</td><td class=\"center\">23.7</td><td class=\"center\">13.5</td><td class=\"center\">Traces*</td></tr><tr><td>Dharan</td><td class=\"center\">29.4</td><td class=\"center\">25.0</td><td class=\"center\">20.3*</td></tr><tr><td>Lumle</td><td class=\"center\">25.0</td><td class=\"center\">17.8</td><td class=\"center\">5.5*</td></tr><tr><td>Jankapur</td><td class=\"center\">32.0</td><td class=\"center\">26.8</td><td class=\"center\">2.2*</td></tr><tr><td>Jiri</td><td class=\"center\">23.6</td><td class=\"center\">16.6</td><td class=\"center\">11.5*</td></tr><tr><td align=\"right\" colspan=\"4\"><small>* Daily rainfall data ending at 08:45 AM NPT</small></td></tr></table></DIV></div><div class=\"col-md-4\"><DIV class=\"highlight-box recent-news-box\"><h3>Recent News and Releases</h3><div class=\"content\"><div class=\"content-preview\"><a href=\"/content/?id=308\"><img class=\"thumb-left\"></img></a><div class=\"content-preview-text\"><h4><a href=\"/content/?id=308\">Monsoon Update</a></h4><p>मनसूनी न्यून चापीय रेखा अहिले नेपालको पहाडी क्षेत्र नजिकै रहेको र न्यून चापीय प्रणाली मध्य तथा आसपासको भागहरुमा बिध्यमान रहेको देखिन्छ |</p></div></div><div class=\"content-preview\"><a href=\"/content/?id=306\"><img class=\"thumb-right\"></img></a><div class=\"content-preview-text\"><h4><a href=\"/content/?id=306\">Monsoon Update 2017 </a></h4><p>मनसूनी न्यून चापीय रेखा अहिले नेपालको पहाडी क्षेत्र नजिकै रहेको र न्यून चापीय प्रणाली मध्य तथा आसपासको भागहरुमा बिध्यमान रहेको देखिन्छ |</p></div></div><div class=\"content-preview\"><a href=\"/content/?id=264\"><img class=\"thumb-left\"></img></a><div class=\"content-preview-text\"><h4><a href=\"/content/?id=264\">मनसुन सम्बन्धि अपडेट</a></h4><p>मनसुन सम्बन्धि अपडेट</p></div></div><div class=\"content-preview\"><a href=\"/content/?id=261\"><img class=\"thumb-right\"></img></a><div class=\"content-preview-text\"><h4><a href=\"/content/?id=261\">Monsoon Onset in Nepal (2017)</a></h4><p>हिजो, जेठ २९ गते (१२ जुन) बाट नेपालको पूर्वी भागमा मनसुन प्रवेश गरेको छ। तथापि, मनसुन पू्र्णरूपमा सक्रिय हुन र देशका बांकी भागमा फैलन अझै केहि दिन लाग्ने अनुमान छ।</p></div></div><div class=\"content-preview\"><a href=\"/content/?id=260\"><img class=\"thumb-left\"></img></a><div class=\"content-preview-text\"><h4><a href=\"/content/?id=260\">2. Monsoon Watch (2017)</a></h4><p>सामान्यतया नेपालमा मनसुन १० जुनमा पूर्वी नेपालबाट प्रवेश गरी केहि दिनमा देशभर फैलने गर्दछ। यस वर्ष मनसुन सामान्य भन्दा केहि दिन अगाडि सुरु हुने अनुमान गरिएको थियो तथापि विगत केहि दिन देखि बङ्गालको खाडिमा न्यून चापिय क्षेत्रको विकास स्थिर रहि रहेको कारणले गर्दा नेपालमा मनसुन केहि दिन ढिलो गरि प्रवेश हुने देखिएको छ। monsoon onset सम्बन्धि थप सूचना अर्को बुलेटिनमा जानकारि गराईनेछ।</p></div></div></div></DIV></div><div class=\"col-md-4\"><div><div><DIV class=\"highlight-box satellite-box\"><h3>Satellite Image</h3><a href=\"satellite/\"><img src=\"/mfd.gov.np/_files/images/FY2E_2017_08_28_01_31_L_PJ1_IR1.JPG\"></img></a></DIV></div><div></div></div></div></div><div class=\"row\"></div></DIV><footer>\\n\\t<div class=\"container\">\\n\\t\\t<div class=\"row\">\\n\\t\\t\\t<div class=\"col-sm-6\">\\n\\t\\t\\t\\t<h3>Contact Us</h3>\\n\\t\\t\\t\\t<h4>Meteorological Forecasting Division</h4>\\n\\t\\t\\t\\t<p>Gauchar, Tribhuvan International Airport<br/>\\n\\t\\t\\t\\t\\tKathmandu, Nepal<br/>\\n\\t\\t\\t\\t\\t<abbr title=\"Phone\"><span class=\"glyphicon glyphicon-earphone\"></span></abbr>:\\n\\t\\t\\t\\t\\t+977 1 4486869<br/>\\n\\t\\t\\t\\t\\t<abbr title=\"Email\"><span class=\"glyphicon glyphicon-envelope\"></span></abbr>:\\n\\t\\t\\t\\t\\t<a href=\"mailto:info@mfd.gov.np\">info@mfd.gov.np</a>\\n\\t\\t\\t\\t</p>\\n\\t\\t\\t\\t<p><b>Please dial and listen to us for notice board service</b>\\n\\t\\t\\t\\t<dl class=\"footer-number-list dl-horizontal\">\\n\\t\\t\\t\\t\\t<dt>Kathmandu:</dt><dd>1618 07 07 33333 (for daily weather updates)</dd>\\n\\t\\t\\t\\t\\t<dt>Surkhet:</dt><dd>1618 083 523519 (for daily weather data)</dd>\\n\\t\\t\\t\\t\\t<dt>Pokhara:</dt><dd>1618 061 465299 (for daily weather data)</dd>\\n\\t\\t\\t\\t\\t<dt>Dharan:</dt><dd>1618 025 520272 (for daily weather data)</dd>\\n\\t\\t\\t\\t</dl>\\n\\t\\t\\t</div>\\n\\t\\t\\t<div class=\"col-sm-6\">\\n\\t\\t\\t\\t<h3>Links</h3>\\n\\t\\t\\t\\t<h4>\\n\\t\\t\\t\\t\\t<a target=\"_blank\" href=\"http://www.dhm.gov.np\">Department of Hydrology and\\n\\t\\t\\t\\t\\t\\tMeteorology</a>\\n\\t\\t\\t\\t</h4>\\n\\n\\t\\t\\t\\t<h4>\\n\\t\\t\\t\\t\\t<a target=\"_blank\" href=\"http://www.hydrology.gov.np\">Flood        Forecasting Division</a>\\n\\t\\t\\t\\t</h4>\\n\\t\\t\\t\\t<h4>\\n\\t\\t\\t\\t\\t<a target=\"_blank\" href=\"http://www.mope.gov.np\">Ministry of Population and Environment</a>\\n\\t\\t\\t\\t</h4>\\n\\t\\t\\t</div>\\n\\t\\t</div>\\n\\t</div>\\n<iframe src =\"http://dhm.gov.np/commonfooter.php\" style=\"width:100%; border:none\" ></iframe>\\n\\n\\n</footer>\\n<div class=\"copyright-line\">\\n\\t<div class=\"container\">\\n\\n\\t\\t<div class=\"row\">\\n\\n\\t\\t\\t<div class=\"col-sm-6\">\\n\\n\\t\\t\\t\\t<p><small>Copyright &copy; 2017 Meteorological Forecasting Divison, DHM</small></p>\\n\\t\\t\\t</div>\\n\\n\\t\\t\\t<div class=\"col-sm-6\">\\n\\n\\t\\t\\t\\t<p><small>\\n\\n\\t\\t\\t\\t\\t\\tDesigned and developed by <a href=\"http://www.rts.com.np\">Real\\n\\n\\t\\t\\t\\t\\t\\t\\tTime Solutions Pvt. Ltd.</a></small>\\n\\t\\t\\t\\t</p>\\n\\t\\t\\t</div>\\n\\t\\t</div>\\n\\t</div>\\n</div>\\n<script src=\"/mfd.gov.np/_jquery/jquery-1.11.0.min.js\"></script>\\n<script src=\"/mfd.gov.np/_bootstrap/js/bootstrap.min.js\"></script>\\n\\n\\n\\n<script src=\"/mfd.gov.np/_js/highstock.js\"></script>\\n\\n<script > $(\\'li\\').tooltip(); </script>\\r\\n\\t\\n<script>\\n\\t(function(i,s,o,g,r,a,m){i[\\'GoogleAnalyticsObject\\']=r;i[r]=i[r]||function(){\\n\\t\\t\\t(i[r].q=i[r].q||[]).push(arguments)},i[r].l=1*new Date();a=s.createElement(o),\\n\\t\\t\\tm=s.getElementsByTagName(o)[0];a.async=1;a.src=g;m.parentNode.insertBefore(a,m)\\n\\t})(window,document,\\'script\\',\\'//www.google-analytics.com/analytics.js\\',\\'ga\\');\\n\\n\\tga(\\'create\\', \\'UA-48154100-1\\', \\'www.mfd.gov.np\\');\\n\\tga(\\'send\\', \\'pageview\\');\\n\\n</script>\\n\\n</body>\\n</html>'"
      ]
     },
     "execution_count": 5,
     "metadata": {},
     "output_type": "execute_result"
    }
   ],
   "source": [
    "res.text"
   ]
  },
  {
   "cell_type": "code",
   "execution_count": 6,
   "metadata": {
    "collapsed": true
   },
   "outputs": [],
   "source": [
    "from bs4 import BeautifulSoup"
   ]
  },
  {
   "cell_type": "code",
   "execution_count": 7,
   "metadata": {
    "collapsed": true
   },
   "outputs": [],
   "source": [
    "soup = BeautifulSoup(res.text, 'html5lib')"
   ]
  },
  {
   "cell_type": "code",
   "execution_count": 8,
   "metadata": {},
   "outputs": [
    {
     "data": {
      "text/plain": [
       "<!DOCTYPE html>\n",
       "<html><head>\n",
       "<title>Meteorological Forecasting Division</title>\n",
       "\n",
       "\t<meta content=\"width=device-width, initial-scale=1.0, user-scalable=no\" name=\"viewport\"/>\n",
       "  <meta content=\"text/html;charset=utf-8\" http-equiv=\"Content-Type\"/>\n",
       "\t<link href=\"/mfd.gov.np/_bootstrap/css/bootstrap.css\" rel=\"stylesheet\"/>\n",
       "\t<link href=\"/mfd.gov.np/_stylesheets/mfd.css\" rel=\"stylesheet\"/>\n",
       "\t<link href=\"/mfd.gov.np/_req/favicon.png\" rel=\"icon\" type=\"image/png\"/>\n",
       "\t\t\t\t\t\t\n",
       "\t<!-- HTML5 Shim and Respond.js IE8 support of HTML5 elements and media queries -->\n",
       "    <!-- WARNING: Respond.js doesn't work if you view the page via file:// -->\n",
       "    <!--[if lt IE 9]>\n",
       "\t<script src=\"/mfd.gov.np/_js/html5shiv.js\"></script>\n",
       "\t<script src=\"/mfd.gov.np/_js/respond.min.js\"></script>\n",
       "\n",
       "\n",
       "\t<![endif]-->\n",
       "<style>\n",
       "@media (min-width: 768px){\n",
       "\t.navbar-static-top {\n",
       "\t\tborder-radius: 6px;\n",
       "\t}\n",
       "}\n",
       "</style>\n",
       "</head>\n",
       "\n",
       "<body>\n",
       "<div class=\"site-header\">\n",
       "\t<div class=\"container\">\n",
       "\t <div class=\"col-sm-4\">\n",
       "\t\t<img src=\"/mfd.gov.np/_req/logo.png\" width=\"64px\"/>\n",
       "\t\t<h2 style=\"margin-bottom: 5px\">Government of Nepal</h2>\n",
       "\t\t<h2>Department of Hydrology and Meteorology</h2>\n",
       "\t\t<h1>Meteorological Forecasting Division</h1>\n",
       "\t </div>\n",
       "\t \n",
       "\t <div class=\"col-sm-8\" style=\"padding-top:10px;\">\n",
       "\t \n",
       "\t \n",
       "\t \t<div class=\"navbar navbar-inverse navbar-static-top\" role=\"navigation\">\n",
       "\t\t\t<div class=\"navbar-header\">\n",
       "\t\t\t\t<button class=\"navbar-toggle\" data-target=\".navbar-collapse\" data-toggle=\"collapse\" type=\"button\">\n",
       "\t\t\t\t\t<span class=\"sr-only\">Toggle navigation</span> <span class=\"icon-bar\"></span> <span class=\"icon-bar\"></span> <span class=\"icon-bar\"></span>\n",
       "\t\t\t\t</button>\n",
       "\t\t\t\t<!-- <a class=\"navbar-brand\" href=\"#\">MFD</a> -->\n",
       "\t\t\t</div>\n",
       "\t\t\t<div class=\"navbar-collapse collapse\">\n",
       "\t\t\t\t<ul class=\"nav navbar-nav\">\n",
       "\t\t\t\t\t<li><a href=\"/\">Home</a></li><li><a href=\"/weather/\">Weather</a></li><li><a href=\"/nwp/\">NWP</a></li><li><a href=\"/satellite/\">Satellite</a></li><li><a href=\"/mountaineering/\">Mountaineering</a></li><li><a href=\"/report/\">Archives</a></li>\n",
       "\t\t\t\t</ul>\n",
       "\t\t\t</div>\n",
       "\t\t</div>\n",
       "\t \n",
       "\t </div>\n",
       "\t \n",
       "\t</div>\n",
       "\n",
       "</div>\n",
       "\t\n",
       "<div class=\"carousel slide\" data-ride=\"carousel\" id=\"mainCarousel\"><ol class=\"carousel-indicators\"><li class=\"active\" data-ride=\"carousel\" data-slide-to=\"0\" data-target=\"#mainCarousel\"></li><li data-ride=\"carousel\" data-slide-to=\"1\" data-target=\"#mainCarousel\"></li><li data-ride=\"carousel\" data-slide-to=\"2\" data-target=\"#mainCarousel\"></li><li data-ride=\"carousel\" data-slide-to=\"3\" data-target=\"#mainCarousel\"></li></ol><div class=\"carousel-inner\"><div class=\"item active\"><img data-src=\"holder.js/749x500/audo/#666:#6a6a/text:SomeText\" src=\"/mfd.gov.np/_files/f927b55f77a8cf4ad32cdd88d3b6feae.jpg\"/><div class=\"container\"><div class=\"carousel-caption\"><div class=\"station-highlight\"><a href=\"city?id=24\"><h1>Birendranagar</h1></a><div class=\"WeatherNow\"><img src=\"/mfd.gov.np/_req/weather_icons/3-moon-64.png\"/><div>At <strong>5:45 am</strong>,</div><div><label>Temperature: </label><strong>23.5 °C</strong></div><div><label>Humidity: </label><strong>96 %</strong></div><hr/></div><div><div class=\"SunInfo\">Sunrise: <strong>5:55 am</strong>, Sunset: <strong>6:45 pm</strong></div><div><a href=\"city?id=24\">Read More...</a></div></div></div></div></div></div><div class=\"item\"><img data-src=\"holder.js/749x500/audo/#666:#6a6a/text:SomeText\" src=\"/mfd.gov.np/_files/0f8207ee86bf76097055c962df157415.jpg\"/><div class=\"container\"><div class=\"carousel-caption\"><div class=\"station-highlight\"><a href=\"city?id=28\"><h1>Pokhara</h1></a><div class=\"WeatherNow\"><img src=\"/mfd.gov.np/_req/weather_icons/19-moon-64.png\"/><div>At <strong>5:45 am</strong>,</div><div><label>Temperature: </label><strong>22 °C</strong></div><div><label>Humidity: </label><strong>96 %</strong></div><hr/></div><div><div class=\"SunInfo\">Sunrise: <strong>5:46 am</strong>, Sunset: <strong>6:36 pm</strong></div><div><a href=\"city?id=28\">Read More...</a></div></div></div></div></div></div><div class=\"item\"><img data-src=\"holder.js/749x500/audo/#666:#6a6a/text:SomeText\" src=\"/mfd.gov.np/_files/bf0ccd1466119e6785c7bc576b88851e.jpg\"/><div class=\"container\"><div class=\"carousel-caption\"><div class=\"station-highlight\"><a href=\"city?id=31\"><h1>Kathmandu</h1></a><div class=\"WeatherNow\"><img src=\"/mfd.gov.np/_req/weather_icons/19-sun-64.png\"/><div>At <strong>5:45 am</strong>,</div><div><label>Temperature: </label><strong>20.6 °C</strong></div><div><label>Humidity: </label><strong>98 %</strong></div><hr/></div><div><div class=\"SunInfo\">Sunrise: <strong>5:41 am</strong>, Sunset: <strong>6:30 pm</strong></div><div><a href=\"city?id=31\">Read More...</a></div></div></div></div></div></div><div class=\"item\"><img data-src=\"holder.js/749x500/audo/#666:#6a6a/text:SomeText\" src=\"/mfd.gov.np/_files/8e9309b9514a49e5b0d09ab5139fe108.jpg\"/><div class=\"container\"><div class=\"carousel-caption\"><div class=\"station-highlight\"><a href=\"city?id=33\"><h1>Dhankuta</h1></a><div class=\"WeatherNow\"><img src=\"/mfd.gov.np/_req/weather_icons/4-sun-64.png\"/><div>At <strong>5:45 am</strong>,</div><div><label>Temperature: </label><strong>21.2 °C</strong></div><div><label>Humidity: </label><strong>90 %</strong></div><hr/></div><div><div class=\"SunInfo\">Sunrise: <strong>5:34 am</strong>, Sunset: <strong>6:21 pm</strong></div><div><a href=\"city?id=33\">Read More...</a></div></div></div></div></div></div></div><a class=\"left carousel-control\" data-slide=\"prev\" href=\"#mainCarousel\"><span class=\"glyphicon glyphicon-chevron-left\"></span></a><a class=\"right carousel-control\" data-slide=\"next\" href=\"#mainCarousel\"><span class=\"glyphicon glyphicon-chevron-right\"></span></a></div><div class=\"container main-body\"><div class=\"row\"><div class=\"col-md-4\"><div class=\"highlight-box forecast-box\"><h3>Forecasts <em>2017-08-28 06:00 NPT</em></h3><div></div><div class=\"carousel slide\" data-ride=\"carousel\" id=\"forecast_carousel_1\"><ol class=\"carousel-indicators\"><li class=\"active\" data-placement=\"top\" data-ride=\"carousel\" data-slide-to=\"0\" data-target=\"#forecast_carousel_1\" data-toggle=\"tooltip\" title=\"Nepal\"></li></ol><div class=\"carousel-inner\"><div class=\"item active\"><div><h4>Nepal</h4><b>Today</b><p>Generally cloudy throughout the country. Light to moderate rain likely to occur at some places of the central and western regions and at a few places of the eastern region. </p><b>Tonight</b><p>Generally cloudy throughout the country. Light to moderate rain likely to occur at some places in the country. </p></div></div></div><div class=\"text-center\"><a class=\"btn btn-info\" href=\"/weather/#forecasts\">More detail...</a></div></div></div></div><div class=\"col-md-4\"><div class=\"highlight-box forecast-box\"><h3>Mountain <em>2017-08-27 18:00 NPT</em></h3><div class=\"carousel slide\" data-ride=\"carousel\" id=\"forecast_carousel_2\"><ol class=\"carousel-indicators\"><li class=\"active\" data-placement=\"top\" data-ride=\"carousel\" data-slide-to=\"0\" data-target=\"#forecast_carousel_2\" data-toggle=\"tooltip\"></li></ol><div class=\"carousel-inner\"><div class=\"item active\"><div><h4>Forecasts for Expedition</h4><b>Western Region</b><p>Generally cloudy with chances of light snowfall at some places.</p><b>Central Region</b><p>Generally cloudy with chances of light snowfall at some places.</p><b>Eastern Region</b><p>Generally cloudy with chances of light snowfall at some places.</p><p style=\"border-top: 1px solid #eee; text-align:center\"><small>Valid for next 24 hours</small></p></div></div></div><div class=\"text-center\"><a class=\"btn btn-info\" href=\"/mountaineering\">More detail...</a></div></div></div></div><div class=\"col-md-4\"><div class=\"highlight-box recent-news-box\"><h3>NWP Products</h3><div class=\"content\" style=\"text-align:center\"><a href=\"/nwp/\"><img height=\"350px\" src=\"/mfd.gov.np/_nwp/prec1h_0001.png\"/></a></div></div></div></div><div class=\"row\"><div class=\"col-md-4\"><div class=\"highlight-box weather-data-table\"><h3>Observations <em>2017-08-27 17:45 NPT</em></h3><table class=\"table\" style=\"margin-bottom: 0px\"><tbody><tr><th>Station</th><th class=\"center\">Maximum Temp.<br/>(°C)</th><th class=\"center\">Minimum Temp.<br/>(°C)</th><th class=\"center\">24 hrs Rainfall<br/>(mm)</th></tr><tr><td>Dipayal</td><td class=\"center\">30.0</td><td class=\"center\">21.6</td><td class=\"center\">34.7</td></tr><tr><td>Dadeldhura</td><td class=\"center\">24.4</td><td class=\"center\">15.5</td><td class=\"center\">11.0</td></tr><tr><td>Dhangadi</td><td class=\"center\">31.9</td><td class=\"center\">25.5</td><td class=\"center\">1.0</td></tr><tr><td>Birendranagar</td><td class=\"center\">31.2</td><td class=\"center\">23.0</td><td class=\"center\">0.9</td></tr><tr><td>Nepalgunj</td><td class=\"center\">32.5</td><td class=\"center\">27.0</td><td class=\"center\">12.0</td></tr><tr><td>Jumla</td><td class=\"center\">24.5</td><td class=\"center\">15.5</td><td class=\"center\">4.5</td></tr><tr><td>Dang</td><td class=\"center\">30.2</td><td class=\"center\">24.0</td><td class=\"center\">72.0</td></tr><tr><td>Pokhara</td><td class=\"center\">31.5</td><td class=\"center\">22.5</td><td class=\"center\">13.4</td></tr><tr><td>Bhairahawa</td><td class=\"center\">34.5</td><td class=\"center\">24.9</td><td class=\"center\">14.6</td></tr><tr><td>Simara</td><td class=\"center\">33.0</td><td class=\"center\">26.0</td><td class=\"center\">Traces</td></tr><tr><td>Kathmandu</td><td class=\"center\">29.4</td><td class=\"center\">20.8</td><td class=\"center\">5.4</td></tr><tr><td>Okhaldhunga</td><td class=\"center\">23.3</td><td class=\"center\">18.0</td><td class=\"center\">11.9</td></tr><tr><td>Taplejung</td><td class=\"center\">23.7</td><td class=\"center\">18.6</td><td class=\"center\">4.7</td></tr><tr><td>Dhankuta</td><td class=\"center\">24.5</td><td class=\"center\">21.0</td><td class=\"center\">12.0</td></tr><tr><td>Biratnagar</td><td class=\"center\">28.8</td><td class=\"center\">25.4</td><td class=\"center\">31.6</td></tr><tr><td>Jomsom</td><td class=\"center\">23.7</td><td class=\"center\">13.5</td><td class=\"center\">Traces*</td></tr><tr><td>Dharan</td><td class=\"center\">29.4</td><td class=\"center\">25.0</td><td class=\"center\">20.3*</td></tr><tr><td>Lumle</td><td class=\"center\">25.0</td><td class=\"center\">17.8</td><td class=\"center\">5.5*</td></tr><tr><td>Jankapur</td><td class=\"center\">32.0</td><td class=\"center\">26.8</td><td class=\"center\">2.2*</td></tr><tr><td>Jiri</td><td class=\"center\">23.6</td><td class=\"center\">16.6</td><td class=\"center\">11.5*</td></tr><tr><td align=\"right\" colspan=\"4\"><small>* Daily rainfall data ending at 08:45 AM NPT</small></td></tr></tbody></table></div></div><div class=\"col-md-4\"><div class=\"highlight-box recent-news-box\"><h3>Recent News and Releases</h3><div class=\"content\"><div class=\"content-preview\"><a href=\"/content/?id=308\"><img class=\"thumb-left\"/></a><div class=\"content-preview-text\"><h4><a href=\"/content/?id=308\">Monsoon Update</a></h4><p>मनसूनी न्यून चापीय रेखा अहिले नेपालको पहाडी क्षेत्र नजिकै रहेको र न्यून चापीय प्रणाली मध्य तथा आसपासको भागहरुमा बिध्यमान रहेको देखिन्छ |</p></div></div><div class=\"content-preview\"><a href=\"/content/?id=306\"><img class=\"thumb-right\"/></a><div class=\"content-preview-text\"><h4><a href=\"/content/?id=306\">Monsoon Update 2017 </a></h4><p>मनसूनी न्यून चापीय रेखा अहिले नेपालको पहाडी क्षेत्र नजिकै रहेको र न्यून चापीय प्रणाली मध्य तथा आसपासको भागहरुमा बिध्यमान रहेको देखिन्छ |</p></div></div><div class=\"content-preview\"><a href=\"/content/?id=264\"><img class=\"thumb-left\"/></a><div class=\"content-preview-text\"><h4><a href=\"/content/?id=264\">मनसुन सम्बन्धि अपडेट</a></h4><p>मनसुन सम्बन्धि अपडेट</p></div></div><div class=\"content-preview\"><a href=\"/content/?id=261\"><img class=\"thumb-right\"/></a><div class=\"content-preview-text\"><h4><a href=\"/content/?id=261\">Monsoon Onset in Nepal (2017)</a></h4><p>हिजो, जेठ २९ गते (१२ जुन) बाट नेपालको पूर्वी भागमा मनसुन प्रवेश गरेको छ। तथापि, मनसुन पू्र्णरूपमा सक्रिय हुन र देशका बांकी भागमा फैलन अझै केहि दिन लाग्ने अनुमान छ।</p></div></div><div class=\"content-preview\"><a href=\"/content/?id=260\"><img class=\"thumb-left\"/></a><div class=\"content-preview-text\"><h4><a href=\"/content/?id=260\">2. Monsoon Watch (2017)</a></h4><p>सामान्यतया नेपालमा मनसुन १० जुनमा पूर्वी नेपालबाट प्रवेश गरी केहि दिनमा देशभर फैलने गर्दछ। यस वर्ष मनसुन सामान्य भन्दा केहि दिन अगाडि सुरु हुने अनुमान गरिएको थियो तथापि विगत केहि दिन देखि बङ्गालको खाडिमा न्यून चापिय क्षेत्रको विकास स्थिर रहि रहेको कारणले गर्दा नेपालमा मनसुन केहि दिन ढिलो गरि प्रवेश हुने देखिएको छ। monsoon onset सम्बन्धि थप सूचना अर्को बुलेटिनमा जानकारि गराईनेछ।</p></div></div></div></div></div><div class=\"col-md-4\"><div><div><div class=\"highlight-box satellite-box\"><h3>Satellite Image</h3><a href=\"satellite/\"><img src=\"/mfd.gov.np/_files/images/FY2E_2017_08_28_01_31_L_PJ1_IR1.JPG\"/></a></div></div><div></div></div></div></div><div class=\"row\"></div></div><footer>\n",
       "\t<div class=\"container\">\n",
       "\t\t<div class=\"row\">\n",
       "\t\t\t<div class=\"col-sm-6\">\n",
       "\t\t\t\t<h3>Contact Us</h3>\n",
       "\t\t\t\t<h4>Meteorological Forecasting Division</h4>\n",
       "\t\t\t\t<p>Gauchar, Tribhuvan International Airport<br/>\n",
       "\t\t\t\t\tKathmandu, Nepal<br/>\n",
       "\t\t\t\t\t<abbr title=\"Phone\"><span class=\"glyphicon glyphicon-earphone\"></span></abbr>:\n",
       "\t\t\t\t\t+977 1 4486869<br/>\n",
       "\t\t\t\t\t<abbr title=\"Email\"><span class=\"glyphicon glyphicon-envelope\"></span></abbr>:\n",
       "\t\t\t\t\t<a href=\"mailto:info@mfd.gov.np\">info@mfd.gov.np</a>\n",
       "\t\t\t\t</p>\n",
       "\t\t\t\t<p><b>Please dial and listen to us for notice board service</b>\n",
       "\t\t\t\t</p><dl class=\"footer-number-list dl-horizontal\">\n",
       "\t\t\t\t\t<dt>Kathmandu:</dt><dd>1618 07 07 33333 (for daily weather updates)</dd>\n",
       "\t\t\t\t\t<dt>Surkhet:</dt><dd>1618 083 523519 (for daily weather data)</dd>\n",
       "\t\t\t\t\t<dt>Pokhara:</dt><dd>1618 061 465299 (for daily weather data)</dd>\n",
       "\t\t\t\t\t<dt>Dharan:</dt><dd>1618 025 520272 (for daily weather data)</dd>\n",
       "\t\t\t\t</dl>\n",
       "\t\t\t</div>\n",
       "\t\t\t<div class=\"col-sm-6\">\n",
       "\t\t\t\t<h3>Links</h3>\n",
       "\t\t\t\t<h4>\n",
       "\t\t\t\t\t<a href=\"http://www.dhm.gov.np\" target=\"_blank\">Department of Hydrology and\n",
       "\t\t\t\t\t\tMeteorology</a>\n",
       "\t\t\t\t</h4>\n",
       "\n",
       "\t\t\t\t<h4>\n",
       "\t\t\t\t\t<a href=\"http://www.hydrology.gov.np\" target=\"_blank\">Flood        Forecasting Division</a>\n",
       "\t\t\t\t</h4>\n",
       "\t\t\t\t<h4>\n",
       "\t\t\t\t\t<a href=\"http://www.mope.gov.np\" target=\"_blank\">Ministry of Population and Environment</a>\n",
       "\t\t\t\t</h4>\n",
       "\t\t\t</div>\n",
       "\t\t</div>\n",
       "\t</div>\n",
       "<iframe src=\"http://dhm.gov.np/commonfooter.php\" style=\"width:100%; border:none\"></iframe>\n",
       "\n",
       "\n",
       "</footer>\n",
       "<div class=\"copyright-line\">\n",
       "\t<div class=\"container\">\n",
       "\n",
       "\t\t<div class=\"row\">\n",
       "\n",
       "\t\t\t<div class=\"col-sm-6\">\n",
       "\n",
       "\t\t\t\t<p><small>Copyright © 2017 Meteorological Forecasting Divison, DHM</small></p>\n",
       "\t\t\t</div>\n",
       "\n",
       "\t\t\t<div class=\"col-sm-6\">\n",
       "\n",
       "\t\t\t\t<p><small>\n",
       "\n",
       "\t\t\t\t\t\tDesigned and developed by <a href=\"http://www.rts.com.np\">Real\n",
       "\n",
       "\t\t\t\t\t\t\tTime Solutions Pvt. Ltd.</a></small>\n",
       "\t\t\t\t</p>\n",
       "\t\t\t</div>\n",
       "\t\t</div>\n",
       "\t</div>\n",
       "</div>\n",
       "<script src=\"/mfd.gov.np/_jquery/jquery-1.11.0.min.js\"></script>\n",
       "<script src=\"/mfd.gov.np/_bootstrap/js/bootstrap.min.js\"></script>\n",
       "\n",
       "\n",
       "\n",
       "<script src=\"/mfd.gov.np/_js/highstock.js\"></script>\n",
       "\n",
       "<script> $('li').tooltip(); </script>\n",
       "\t\n",
       "<script>\n",
       "\t(function(i,s,o,g,r,a,m){i['GoogleAnalyticsObject']=r;i[r]=i[r]||function(){\n",
       "\t\t\t(i[r].q=i[r].q||[]).push(arguments)},i[r].l=1*new Date();a=s.createElement(o),\n",
       "\t\t\tm=s.getElementsByTagName(o)[0];a.async=1;a.src=g;m.parentNode.insertBefore(a,m)\n",
       "\t})(window,document,'script','//www.google-analytics.com/analytics.js','ga');\n",
       "\n",
       "\tga('create', 'UA-48154100-1', 'www.mfd.gov.np');\n",
       "\tga('send', 'pageview');\n",
       "\n",
       "</script>\n",
       "\n",
       "\n",
       "</body></html>"
      ]
     },
     "execution_count": 8,
     "metadata": {},
     "output_type": "execute_result"
    }
   ],
   "source": [
    "soup"
   ]
  },
  {
   "cell_type": "code",
   "execution_count": 9,
   "metadata": {},
   "outputs": [
    {
     "data": {
      "text/plain": [
       "<div class=\"site-header\">\n",
       "\t<div class=\"container\">\n",
       "\t <div class=\"col-sm-4\">\n",
       "\t\t<img src=\"/mfd.gov.np/_req/logo.png\" width=\"64px\"/>\n",
       "\t\t<h2 style=\"margin-bottom: 5px\">Government of Nepal</h2>\n",
       "\t\t<h2>Department of Hydrology and Meteorology</h2>\n",
       "\t\t<h1>Meteorological Forecasting Division</h1>\n",
       "\t </div>\n",
       "\t \n",
       "\t <div class=\"col-sm-8\" style=\"padding-top:10px;\">\n",
       "\t \n",
       "\t \n",
       "\t \t<div class=\"navbar navbar-inverse navbar-static-top\" role=\"navigation\">\n",
       "\t\t\t<div class=\"navbar-header\">\n",
       "\t\t\t\t<button class=\"navbar-toggle\" data-target=\".navbar-collapse\" data-toggle=\"collapse\" type=\"button\">\n",
       "\t\t\t\t\t<span class=\"sr-only\">Toggle navigation</span> <span class=\"icon-bar\"></span> <span class=\"icon-bar\"></span> <span class=\"icon-bar\"></span>\n",
       "\t\t\t\t</button>\n",
       "\t\t\t\t<!-- <a class=\"navbar-brand\" href=\"#\">MFD</a> -->\n",
       "\t\t\t</div>\n",
       "\t\t\t<div class=\"navbar-collapse collapse\">\n",
       "\t\t\t\t<ul class=\"nav navbar-nav\">\n",
       "\t\t\t\t\t<li><a href=\"/\">Home</a></li><li><a href=\"/weather/\">Weather</a></li><li><a href=\"/nwp/\">NWP</a></li><li><a href=\"/satellite/\">Satellite</a></li><li><a href=\"/mountaineering/\">Mountaineering</a></li><li><a href=\"/report/\">Archives</a></li>\n",
       "\t\t\t\t</ul>\n",
       "\t\t\t</div>\n",
       "\t\t</div>\n",
       "\t \n",
       "\t </div>\n",
       "\t \n",
       "\t</div>\n",
       "\n",
       "</div>"
      ]
     },
     "execution_count": 9,
     "metadata": {},
     "output_type": "execute_result"
    }
   ],
   "source": [
    "soup.find('div')"
   ]
  },
  {
   "cell_type": "code",
   "execution_count": 10,
   "metadata": {},
   "outputs": [
    {
     "data": {
      "text/plain": [
       "[<div class=\"site-header\">\n",
       " \t<div class=\"container\">\n",
       " \t <div class=\"col-sm-4\">\n",
       " \t\t<img src=\"/mfd.gov.np/_req/logo.png\" width=\"64px\"/>\n",
       " \t\t<h2 style=\"margin-bottom: 5px\">Government of Nepal</h2>\n",
       " \t\t<h2>Department of Hydrology and Meteorology</h2>\n",
       " \t\t<h1>Meteorological Forecasting Division</h1>\n",
       " \t </div>\n",
       " \t \n",
       " \t <div class=\"col-sm-8\" style=\"padding-top:10px;\">\n",
       " \t \n",
       " \t \n",
       " \t \t<div class=\"navbar navbar-inverse navbar-static-top\" role=\"navigation\">\n",
       " \t\t\t<div class=\"navbar-header\">\n",
       " \t\t\t\t<button class=\"navbar-toggle\" data-target=\".navbar-collapse\" data-toggle=\"collapse\" type=\"button\">\n",
       " \t\t\t\t\t<span class=\"sr-only\">Toggle navigation</span> <span class=\"icon-bar\"></span> <span class=\"icon-bar\"></span> <span class=\"icon-bar\"></span>\n",
       " \t\t\t\t</button>\n",
       " \t\t\t\t<!-- <a class=\"navbar-brand\" href=\"#\">MFD</a> -->\n",
       " \t\t\t</div>\n",
       " \t\t\t<div class=\"navbar-collapse collapse\">\n",
       " \t\t\t\t<ul class=\"nav navbar-nav\">\n",
       " \t\t\t\t\t<li><a href=\"/\">Home</a></li><li><a href=\"/weather/\">Weather</a></li><li><a href=\"/nwp/\">NWP</a></li><li><a href=\"/satellite/\">Satellite</a></li><li><a href=\"/mountaineering/\">Mountaineering</a></li><li><a href=\"/report/\">Archives</a></li>\n",
       " \t\t\t\t</ul>\n",
       " \t\t\t</div>\n",
       " \t\t</div>\n",
       " \t \n",
       " \t </div>\n",
       " \t \n",
       " \t</div>\n",
       " \n",
       " </div>, <div class=\"container\">\n",
       " \t <div class=\"col-sm-4\">\n",
       " \t\t<img src=\"/mfd.gov.np/_req/logo.png\" width=\"64px\"/>\n",
       " \t\t<h2 style=\"margin-bottom: 5px\">Government of Nepal</h2>\n",
       " \t\t<h2>Department of Hydrology and Meteorology</h2>\n",
       " \t\t<h1>Meteorological Forecasting Division</h1>\n",
       " \t </div>\n",
       " \t \n",
       " \t <div class=\"col-sm-8\" style=\"padding-top:10px;\">\n",
       " \t \n",
       " \t \n",
       " \t \t<div class=\"navbar navbar-inverse navbar-static-top\" role=\"navigation\">\n",
       " \t\t\t<div class=\"navbar-header\">\n",
       " \t\t\t\t<button class=\"navbar-toggle\" data-target=\".navbar-collapse\" data-toggle=\"collapse\" type=\"button\">\n",
       " \t\t\t\t\t<span class=\"sr-only\">Toggle navigation</span> <span class=\"icon-bar\"></span> <span class=\"icon-bar\"></span> <span class=\"icon-bar\"></span>\n",
       " \t\t\t\t</button>\n",
       " \t\t\t\t<!-- <a class=\"navbar-brand\" href=\"#\">MFD</a> -->\n",
       " \t\t\t</div>\n",
       " \t\t\t<div class=\"navbar-collapse collapse\">\n",
       " \t\t\t\t<ul class=\"nav navbar-nav\">\n",
       " \t\t\t\t\t<li><a href=\"/\">Home</a></li><li><a href=\"/weather/\">Weather</a></li><li><a href=\"/nwp/\">NWP</a></li><li><a href=\"/satellite/\">Satellite</a></li><li><a href=\"/mountaineering/\">Mountaineering</a></li><li><a href=\"/report/\">Archives</a></li>\n",
       " \t\t\t\t</ul>\n",
       " \t\t\t</div>\n",
       " \t\t</div>\n",
       " \t \n",
       " \t </div>\n",
       " \t \n",
       " \t</div>, <div class=\"col-sm-4\">\n",
       " \t\t<img src=\"/mfd.gov.np/_req/logo.png\" width=\"64px\"/>\n",
       " \t\t<h2 style=\"margin-bottom: 5px\">Government of Nepal</h2>\n",
       " \t\t<h2>Department of Hydrology and Meteorology</h2>\n",
       " \t\t<h1>Meteorological Forecasting Division</h1>\n",
       " \t </div>, <div class=\"col-sm-8\" style=\"padding-top:10px;\">\n",
       " \t \n",
       " \t \n",
       " \t \t<div class=\"navbar navbar-inverse navbar-static-top\" role=\"navigation\">\n",
       " \t\t\t<div class=\"navbar-header\">\n",
       " \t\t\t\t<button class=\"navbar-toggle\" data-target=\".navbar-collapse\" data-toggle=\"collapse\" type=\"button\">\n",
       " \t\t\t\t\t<span class=\"sr-only\">Toggle navigation</span> <span class=\"icon-bar\"></span> <span class=\"icon-bar\"></span> <span class=\"icon-bar\"></span>\n",
       " \t\t\t\t</button>\n",
       " \t\t\t\t<!-- <a class=\"navbar-brand\" href=\"#\">MFD</a> -->\n",
       " \t\t\t</div>\n",
       " \t\t\t<div class=\"navbar-collapse collapse\">\n",
       " \t\t\t\t<ul class=\"nav navbar-nav\">\n",
       " \t\t\t\t\t<li><a href=\"/\">Home</a></li><li><a href=\"/weather/\">Weather</a></li><li><a href=\"/nwp/\">NWP</a></li><li><a href=\"/satellite/\">Satellite</a></li><li><a href=\"/mountaineering/\">Mountaineering</a></li><li><a href=\"/report/\">Archives</a></li>\n",
       " \t\t\t\t</ul>\n",
       " \t\t\t</div>\n",
       " \t\t</div>\n",
       " \t \n",
       " \t </div>, <div class=\"navbar navbar-inverse navbar-static-top\" role=\"navigation\">\n",
       " \t\t\t<div class=\"navbar-header\">\n",
       " \t\t\t\t<button class=\"navbar-toggle\" data-target=\".navbar-collapse\" data-toggle=\"collapse\" type=\"button\">\n",
       " \t\t\t\t\t<span class=\"sr-only\">Toggle navigation</span> <span class=\"icon-bar\"></span> <span class=\"icon-bar\"></span> <span class=\"icon-bar\"></span>\n",
       " \t\t\t\t</button>\n",
       " \t\t\t\t<!-- <a class=\"navbar-brand\" href=\"#\">MFD</a> -->\n",
       " \t\t\t</div>\n",
       " \t\t\t<div class=\"navbar-collapse collapse\">\n",
       " \t\t\t\t<ul class=\"nav navbar-nav\">\n",
       " \t\t\t\t\t<li><a href=\"/\">Home</a></li><li><a href=\"/weather/\">Weather</a></li><li><a href=\"/nwp/\">NWP</a></li><li><a href=\"/satellite/\">Satellite</a></li><li><a href=\"/mountaineering/\">Mountaineering</a></li><li><a href=\"/report/\">Archives</a></li>\n",
       " \t\t\t\t</ul>\n",
       " \t\t\t</div>\n",
       " \t\t</div>, <div class=\"navbar-header\">\n",
       " \t\t\t\t<button class=\"navbar-toggle\" data-target=\".navbar-collapse\" data-toggle=\"collapse\" type=\"button\">\n",
       " \t\t\t\t\t<span class=\"sr-only\">Toggle navigation</span> <span class=\"icon-bar\"></span> <span class=\"icon-bar\"></span> <span class=\"icon-bar\"></span>\n",
       " \t\t\t\t</button>\n",
       " \t\t\t\t<!-- <a class=\"navbar-brand\" href=\"#\">MFD</a> -->\n",
       " \t\t\t</div>, <div class=\"navbar-collapse collapse\">\n",
       " \t\t\t\t<ul class=\"nav navbar-nav\">\n",
       " \t\t\t\t\t<li><a href=\"/\">Home</a></li><li><a href=\"/weather/\">Weather</a></li><li><a href=\"/nwp/\">NWP</a></li><li><a href=\"/satellite/\">Satellite</a></li><li><a href=\"/mountaineering/\">Mountaineering</a></li><li><a href=\"/report/\">Archives</a></li>\n",
       " \t\t\t\t</ul>\n",
       " \t\t\t</div>, <div class=\"carousel slide\" data-ride=\"carousel\" id=\"mainCarousel\"><ol class=\"carousel-indicators\"><li class=\"active\" data-ride=\"carousel\" data-slide-to=\"0\" data-target=\"#mainCarousel\"></li><li data-ride=\"carousel\" data-slide-to=\"1\" data-target=\"#mainCarousel\"></li><li data-ride=\"carousel\" data-slide-to=\"2\" data-target=\"#mainCarousel\"></li><li data-ride=\"carousel\" data-slide-to=\"3\" data-target=\"#mainCarousel\"></li></ol><div class=\"carousel-inner\"><div class=\"item active\"><img data-src=\"holder.js/749x500/audo/#666:#6a6a/text:SomeText\" src=\"/mfd.gov.np/_files/f927b55f77a8cf4ad32cdd88d3b6feae.jpg\"/><div class=\"container\"><div class=\"carousel-caption\"><div class=\"station-highlight\"><a href=\"city?id=24\"><h1>Birendranagar</h1></a><div class=\"WeatherNow\"><img src=\"/mfd.gov.np/_req/weather_icons/3-moon-64.png\"/><div>At <strong>5:45 am</strong>,</div><div><label>Temperature: </label><strong>23.5 °C</strong></div><div><label>Humidity: </label><strong>96 %</strong></div><hr/></div><div><div class=\"SunInfo\">Sunrise: <strong>5:55 am</strong>, Sunset: <strong>6:45 pm</strong></div><div><a href=\"city?id=24\">Read More...</a></div></div></div></div></div></div><div class=\"item\"><img data-src=\"holder.js/749x500/audo/#666:#6a6a/text:SomeText\" src=\"/mfd.gov.np/_files/0f8207ee86bf76097055c962df157415.jpg\"/><div class=\"container\"><div class=\"carousel-caption\"><div class=\"station-highlight\"><a href=\"city?id=28\"><h1>Pokhara</h1></a><div class=\"WeatherNow\"><img src=\"/mfd.gov.np/_req/weather_icons/19-moon-64.png\"/><div>At <strong>5:45 am</strong>,</div><div><label>Temperature: </label><strong>22 °C</strong></div><div><label>Humidity: </label><strong>96 %</strong></div><hr/></div><div><div class=\"SunInfo\">Sunrise: <strong>5:46 am</strong>, Sunset: <strong>6:36 pm</strong></div><div><a href=\"city?id=28\">Read More...</a></div></div></div></div></div></div><div class=\"item\"><img data-src=\"holder.js/749x500/audo/#666:#6a6a/text:SomeText\" src=\"/mfd.gov.np/_files/bf0ccd1466119e6785c7bc576b88851e.jpg\"/><div class=\"container\"><div class=\"carousel-caption\"><div class=\"station-highlight\"><a href=\"city?id=31\"><h1>Kathmandu</h1></a><div class=\"WeatherNow\"><img src=\"/mfd.gov.np/_req/weather_icons/19-sun-64.png\"/><div>At <strong>5:45 am</strong>,</div><div><label>Temperature: </label><strong>20.6 °C</strong></div><div><label>Humidity: </label><strong>98 %</strong></div><hr/></div><div><div class=\"SunInfo\">Sunrise: <strong>5:41 am</strong>, Sunset: <strong>6:30 pm</strong></div><div><a href=\"city?id=31\">Read More...</a></div></div></div></div></div></div><div class=\"item\"><img data-src=\"holder.js/749x500/audo/#666:#6a6a/text:SomeText\" src=\"/mfd.gov.np/_files/8e9309b9514a49e5b0d09ab5139fe108.jpg\"/><div class=\"container\"><div class=\"carousel-caption\"><div class=\"station-highlight\"><a href=\"city?id=33\"><h1>Dhankuta</h1></a><div class=\"WeatherNow\"><img src=\"/mfd.gov.np/_req/weather_icons/4-sun-64.png\"/><div>At <strong>5:45 am</strong>,</div><div><label>Temperature: </label><strong>21.2 °C</strong></div><div><label>Humidity: </label><strong>90 %</strong></div><hr/></div><div><div class=\"SunInfo\">Sunrise: <strong>5:34 am</strong>, Sunset: <strong>6:21 pm</strong></div><div><a href=\"city?id=33\">Read More...</a></div></div></div></div></div></div></div><a class=\"left carousel-control\" data-slide=\"prev\" href=\"#mainCarousel\"><span class=\"glyphicon glyphicon-chevron-left\"></span></a><a class=\"right carousel-control\" data-slide=\"next\" href=\"#mainCarousel\"><span class=\"glyphicon glyphicon-chevron-right\"></span></a></div>, <div class=\"carousel-inner\"><div class=\"item active\"><img data-src=\"holder.js/749x500/audo/#666:#6a6a/text:SomeText\" src=\"/mfd.gov.np/_files/f927b55f77a8cf4ad32cdd88d3b6feae.jpg\"/><div class=\"container\"><div class=\"carousel-caption\"><div class=\"station-highlight\"><a href=\"city?id=24\"><h1>Birendranagar</h1></a><div class=\"WeatherNow\"><img src=\"/mfd.gov.np/_req/weather_icons/3-moon-64.png\"/><div>At <strong>5:45 am</strong>,</div><div><label>Temperature: </label><strong>23.5 °C</strong></div><div><label>Humidity: </label><strong>96 %</strong></div><hr/></div><div><div class=\"SunInfo\">Sunrise: <strong>5:55 am</strong>, Sunset: <strong>6:45 pm</strong></div><div><a href=\"city?id=24\">Read More...</a></div></div></div></div></div></div><div class=\"item\"><img data-src=\"holder.js/749x500/audo/#666:#6a6a/text:SomeText\" src=\"/mfd.gov.np/_files/0f8207ee86bf76097055c962df157415.jpg\"/><div class=\"container\"><div class=\"carousel-caption\"><div class=\"station-highlight\"><a href=\"city?id=28\"><h1>Pokhara</h1></a><div class=\"WeatherNow\"><img src=\"/mfd.gov.np/_req/weather_icons/19-moon-64.png\"/><div>At <strong>5:45 am</strong>,</div><div><label>Temperature: </label><strong>22 °C</strong></div><div><label>Humidity: </label><strong>96 %</strong></div><hr/></div><div><div class=\"SunInfo\">Sunrise: <strong>5:46 am</strong>, Sunset: <strong>6:36 pm</strong></div><div><a href=\"city?id=28\">Read More...</a></div></div></div></div></div></div><div class=\"item\"><img data-src=\"holder.js/749x500/audo/#666:#6a6a/text:SomeText\" src=\"/mfd.gov.np/_files/bf0ccd1466119e6785c7bc576b88851e.jpg\"/><div class=\"container\"><div class=\"carousel-caption\"><div class=\"station-highlight\"><a href=\"city?id=31\"><h1>Kathmandu</h1></a><div class=\"WeatherNow\"><img src=\"/mfd.gov.np/_req/weather_icons/19-sun-64.png\"/><div>At <strong>5:45 am</strong>,</div><div><label>Temperature: </label><strong>20.6 °C</strong></div><div><label>Humidity: </label><strong>98 %</strong></div><hr/></div><div><div class=\"SunInfo\">Sunrise: <strong>5:41 am</strong>, Sunset: <strong>6:30 pm</strong></div><div><a href=\"city?id=31\">Read More...</a></div></div></div></div></div></div><div class=\"item\"><img data-src=\"holder.js/749x500/audo/#666:#6a6a/text:SomeText\" src=\"/mfd.gov.np/_files/8e9309b9514a49e5b0d09ab5139fe108.jpg\"/><div class=\"container\"><div class=\"carousel-caption\"><div class=\"station-highlight\"><a href=\"city?id=33\"><h1>Dhankuta</h1></a><div class=\"WeatherNow\"><img src=\"/mfd.gov.np/_req/weather_icons/4-sun-64.png\"/><div>At <strong>5:45 am</strong>,</div><div><label>Temperature: </label><strong>21.2 °C</strong></div><div><label>Humidity: </label><strong>90 %</strong></div><hr/></div><div><div class=\"SunInfo\">Sunrise: <strong>5:34 am</strong>, Sunset: <strong>6:21 pm</strong></div><div><a href=\"city?id=33\">Read More...</a></div></div></div></div></div></div></div>, <div class=\"item active\"><img data-src=\"holder.js/749x500/audo/#666:#6a6a/text:SomeText\" src=\"/mfd.gov.np/_files/f927b55f77a8cf4ad32cdd88d3b6feae.jpg\"/><div class=\"container\"><div class=\"carousel-caption\"><div class=\"station-highlight\"><a href=\"city?id=24\"><h1>Birendranagar</h1></a><div class=\"WeatherNow\"><img src=\"/mfd.gov.np/_req/weather_icons/3-moon-64.png\"/><div>At <strong>5:45 am</strong>,</div><div><label>Temperature: </label><strong>23.5 °C</strong></div><div><label>Humidity: </label><strong>96 %</strong></div><hr/></div><div><div class=\"SunInfo\">Sunrise: <strong>5:55 am</strong>, Sunset: <strong>6:45 pm</strong></div><div><a href=\"city?id=24\">Read More...</a></div></div></div></div></div></div>, <div class=\"container\"><div class=\"carousel-caption\"><div class=\"station-highlight\"><a href=\"city?id=24\"><h1>Birendranagar</h1></a><div class=\"WeatherNow\"><img src=\"/mfd.gov.np/_req/weather_icons/3-moon-64.png\"/><div>At <strong>5:45 am</strong>,</div><div><label>Temperature: </label><strong>23.5 °C</strong></div><div><label>Humidity: </label><strong>96 %</strong></div><hr/></div><div><div class=\"SunInfo\">Sunrise: <strong>5:55 am</strong>, Sunset: <strong>6:45 pm</strong></div><div><a href=\"city?id=24\">Read More...</a></div></div></div></div></div>, <div class=\"carousel-caption\"><div class=\"station-highlight\"><a href=\"city?id=24\"><h1>Birendranagar</h1></a><div class=\"WeatherNow\"><img src=\"/mfd.gov.np/_req/weather_icons/3-moon-64.png\"/><div>At <strong>5:45 am</strong>,</div><div><label>Temperature: </label><strong>23.5 °C</strong></div><div><label>Humidity: </label><strong>96 %</strong></div><hr/></div><div><div class=\"SunInfo\">Sunrise: <strong>5:55 am</strong>, Sunset: <strong>6:45 pm</strong></div><div><a href=\"city?id=24\">Read More...</a></div></div></div></div>, <div class=\"station-highlight\"><a href=\"city?id=24\"><h1>Birendranagar</h1></a><div class=\"WeatherNow\"><img src=\"/mfd.gov.np/_req/weather_icons/3-moon-64.png\"/><div>At <strong>5:45 am</strong>,</div><div><label>Temperature: </label><strong>23.5 °C</strong></div><div><label>Humidity: </label><strong>96 %</strong></div><hr/></div><div><div class=\"SunInfo\">Sunrise: <strong>5:55 am</strong>, Sunset: <strong>6:45 pm</strong></div><div><a href=\"city?id=24\">Read More...</a></div></div></div>, <div class=\"WeatherNow\"><img src=\"/mfd.gov.np/_req/weather_icons/3-moon-64.png\"/><div>At <strong>5:45 am</strong>,</div><div><label>Temperature: </label><strong>23.5 °C</strong></div><div><label>Humidity: </label><strong>96 %</strong></div><hr/></div>, <div>At <strong>5:45 am</strong>,</div>, <div><label>Temperature: </label><strong>23.5 °C</strong></div>, <div><label>Humidity: </label><strong>96 %</strong></div>, <div><div class=\"SunInfo\">Sunrise: <strong>5:55 am</strong>, Sunset: <strong>6:45 pm</strong></div><div><a href=\"city?id=24\">Read More...</a></div></div>, <div class=\"SunInfo\">Sunrise: <strong>5:55 am</strong>, Sunset: <strong>6:45 pm</strong></div>, <div><a href=\"city?id=24\">Read More...</a></div>, <div class=\"item\"><img data-src=\"holder.js/749x500/audo/#666:#6a6a/text:SomeText\" src=\"/mfd.gov.np/_files/0f8207ee86bf76097055c962df157415.jpg\"/><div class=\"container\"><div class=\"carousel-caption\"><div class=\"station-highlight\"><a href=\"city?id=28\"><h1>Pokhara</h1></a><div class=\"WeatherNow\"><img src=\"/mfd.gov.np/_req/weather_icons/19-moon-64.png\"/><div>At <strong>5:45 am</strong>,</div><div><label>Temperature: </label><strong>22 °C</strong></div><div><label>Humidity: </label><strong>96 %</strong></div><hr/></div><div><div class=\"SunInfo\">Sunrise: <strong>5:46 am</strong>, Sunset: <strong>6:36 pm</strong></div><div><a href=\"city?id=28\">Read More...</a></div></div></div></div></div></div>, <div class=\"container\"><div class=\"carousel-caption\"><div class=\"station-highlight\"><a href=\"city?id=28\"><h1>Pokhara</h1></a><div class=\"WeatherNow\"><img src=\"/mfd.gov.np/_req/weather_icons/19-moon-64.png\"/><div>At <strong>5:45 am</strong>,</div><div><label>Temperature: </label><strong>22 °C</strong></div><div><label>Humidity: </label><strong>96 %</strong></div><hr/></div><div><div class=\"SunInfo\">Sunrise: <strong>5:46 am</strong>, Sunset: <strong>6:36 pm</strong></div><div><a href=\"city?id=28\">Read More...</a></div></div></div></div></div>, <div class=\"carousel-caption\"><div class=\"station-highlight\"><a href=\"city?id=28\"><h1>Pokhara</h1></a><div class=\"WeatherNow\"><img src=\"/mfd.gov.np/_req/weather_icons/19-moon-64.png\"/><div>At <strong>5:45 am</strong>,</div><div><label>Temperature: </label><strong>22 °C</strong></div><div><label>Humidity: </label><strong>96 %</strong></div><hr/></div><div><div class=\"SunInfo\">Sunrise: <strong>5:46 am</strong>, Sunset: <strong>6:36 pm</strong></div><div><a href=\"city?id=28\">Read More...</a></div></div></div></div>, <div class=\"station-highlight\"><a href=\"city?id=28\"><h1>Pokhara</h1></a><div class=\"WeatherNow\"><img src=\"/mfd.gov.np/_req/weather_icons/19-moon-64.png\"/><div>At <strong>5:45 am</strong>,</div><div><label>Temperature: </label><strong>22 °C</strong></div><div><label>Humidity: </label><strong>96 %</strong></div><hr/></div><div><div class=\"SunInfo\">Sunrise: <strong>5:46 am</strong>, Sunset: <strong>6:36 pm</strong></div><div><a href=\"city?id=28\">Read More...</a></div></div></div>, <div class=\"WeatherNow\"><img src=\"/mfd.gov.np/_req/weather_icons/19-moon-64.png\"/><div>At <strong>5:45 am</strong>,</div><div><label>Temperature: </label><strong>22 °C</strong></div><div><label>Humidity: </label><strong>96 %</strong></div><hr/></div>, <div>At <strong>5:45 am</strong>,</div>, <div><label>Temperature: </label><strong>22 °C</strong></div>, <div><label>Humidity: </label><strong>96 %</strong></div>, <div><div class=\"SunInfo\">Sunrise: <strong>5:46 am</strong>, Sunset: <strong>6:36 pm</strong></div><div><a href=\"city?id=28\">Read More...</a></div></div>, <div class=\"SunInfo\">Sunrise: <strong>5:46 am</strong>, Sunset: <strong>6:36 pm</strong></div>, <div><a href=\"city?id=28\">Read More...</a></div>, <div class=\"item\"><img data-src=\"holder.js/749x500/audo/#666:#6a6a/text:SomeText\" src=\"/mfd.gov.np/_files/bf0ccd1466119e6785c7bc576b88851e.jpg\"/><div class=\"container\"><div class=\"carousel-caption\"><div class=\"station-highlight\"><a href=\"city?id=31\"><h1>Kathmandu</h1></a><div class=\"WeatherNow\"><img src=\"/mfd.gov.np/_req/weather_icons/19-sun-64.png\"/><div>At <strong>5:45 am</strong>,</div><div><label>Temperature: </label><strong>20.6 °C</strong></div><div><label>Humidity: </label><strong>98 %</strong></div><hr/></div><div><div class=\"SunInfo\">Sunrise: <strong>5:41 am</strong>, Sunset: <strong>6:30 pm</strong></div><div><a href=\"city?id=31\">Read More...</a></div></div></div></div></div></div>, <div class=\"container\"><div class=\"carousel-caption\"><div class=\"station-highlight\"><a href=\"city?id=31\"><h1>Kathmandu</h1></a><div class=\"WeatherNow\"><img src=\"/mfd.gov.np/_req/weather_icons/19-sun-64.png\"/><div>At <strong>5:45 am</strong>,</div><div><label>Temperature: </label><strong>20.6 °C</strong></div><div><label>Humidity: </label><strong>98 %</strong></div><hr/></div><div><div class=\"SunInfo\">Sunrise: <strong>5:41 am</strong>, Sunset: <strong>6:30 pm</strong></div><div><a href=\"city?id=31\">Read More...</a></div></div></div></div></div>, <div class=\"carousel-caption\"><div class=\"station-highlight\"><a href=\"city?id=31\"><h1>Kathmandu</h1></a><div class=\"WeatherNow\"><img src=\"/mfd.gov.np/_req/weather_icons/19-sun-64.png\"/><div>At <strong>5:45 am</strong>,</div><div><label>Temperature: </label><strong>20.6 °C</strong></div><div><label>Humidity: </label><strong>98 %</strong></div><hr/></div><div><div class=\"SunInfo\">Sunrise: <strong>5:41 am</strong>, Sunset: <strong>6:30 pm</strong></div><div><a href=\"city?id=31\">Read More...</a></div></div></div></div>, <div class=\"station-highlight\"><a href=\"city?id=31\"><h1>Kathmandu</h1></a><div class=\"WeatherNow\"><img src=\"/mfd.gov.np/_req/weather_icons/19-sun-64.png\"/><div>At <strong>5:45 am</strong>,</div><div><label>Temperature: </label><strong>20.6 °C</strong></div><div><label>Humidity: </label><strong>98 %</strong></div><hr/></div><div><div class=\"SunInfo\">Sunrise: <strong>5:41 am</strong>, Sunset: <strong>6:30 pm</strong></div><div><a href=\"city?id=31\">Read More...</a></div></div></div>, <div class=\"WeatherNow\"><img src=\"/mfd.gov.np/_req/weather_icons/19-sun-64.png\"/><div>At <strong>5:45 am</strong>,</div><div><label>Temperature: </label><strong>20.6 °C</strong></div><div><label>Humidity: </label><strong>98 %</strong></div><hr/></div>, <div>At <strong>5:45 am</strong>,</div>, <div><label>Temperature: </label><strong>20.6 °C</strong></div>, <div><label>Humidity: </label><strong>98 %</strong></div>, <div><div class=\"SunInfo\">Sunrise: <strong>5:41 am</strong>, Sunset: <strong>6:30 pm</strong></div><div><a href=\"city?id=31\">Read More...</a></div></div>, <div class=\"SunInfo\">Sunrise: <strong>5:41 am</strong>, Sunset: <strong>6:30 pm</strong></div>, <div><a href=\"city?id=31\">Read More...</a></div>, <div class=\"item\"><img data-src=\"holder.js/749x500/audo/#666:#6a6a/text:SomeText\" src=\"/mfd.gov.np/_files/8e9309b9514a49e5b0d09ab5139fe108.jpg\"/><div class=\"container\"><div class=\"carousel-caption\"><div class=\"station-highlight\"><a href=\"city?id=33\"><h1>Dhankuta</h1></a><div class=\"WeatherNow\"><img src=\"/mfd.gov.np/_req/weather_icons/4-sun-64.png\"/><div>At <strong>5:45 am</strong>,</div><div><label>Temperature: </label><strong>21.2 °C</strong></div><div><label>Humidity: </label><strong>90 %</strong></div><hr/></div><div><div class=\"SunInfo\">Sunrise: <strong>5:34 am</strong>, Sunset: <strong>6:21 pm</strong></div><div><a href=\"city?id=33\">Read More...</a></div></div></div></div></div></div>, <div class=\"container\"><div class=\"carousel-caption\"><div class=\"station-highlight\"><a href=\"city?id=33\"><h1>Dhankuta</h1></a><div class=\"WeatherNow\"><img src=\"/mfd.gov.np/_req/weather_icons/4-sun-64.png\"/><div>At <strong>5:45 am</strong>,</div><div><label>Temperature: </label><strong>21.2 °C</strong></div><div><label>Humidity: </label><strong>90 %</strong></div><hr/></div><div><div class=\"SunInfo\">Sunrise: <strong>5:34 am</strong>, Sunset: <strong>6:21 pm</strong></div><div><a href=\"city?id=33\">Read More...</a></div></div></div></div></div>, <div class=\"carousel-caption\"><div class=\"station-highlight\"><a href=\"city?id=33\"><h1>Dhankuta</h1></a><div class=\"WeatherNow\"><img src=\"/mfd.gov.np/_req/weather_icons/4-sun-64.png\"/><div>At <strong>5:45 am</strong>,</div><div><label>Temperature: </label><strong>21.2 °C</strong></div><div><label>Humidity: </label><strong>90 %</strong></div><hr/></div><div><div class=\"SunInfo\">Sunrise: <strong>5:34 am</strong>, Sunset: <strong>6:21 pm</strong></div><div><a href=\"city?id=33\">Read More...</a></div></div></div></div>, <div class=\"station-highlight\"><a href=\"city?id=33\"><h1>Dhankuta</h1></a><div class=\"WeatherNow\"><img src=\"/mfd.gov.np/_req/weather_icons/4-sun-64.png\"/><div>At <strong>5:45 am</strong>,</div><div><label>Temperature: </label><strong>21.2 °C</strong></div><div><label>Humidity: </label><strong>90 %</strong></div><hr/></div><div><div class=\"SunInfo\">Sunrise: <strong>5:34 am</strong>, Sunset: <strong>6:21 pm</strong></div><div><a href=\"city?id=33\">Read More...</a></div></div></div>, <div class=\"WeatherNow\"><img src=\"/mfd.gov.np/_req/weather_icons/4-sun-64.png\"/><div>At <strong>5:45 am</strong>,</div><div><label>Temperature: </label><strong>21.2 °C</strong></div><div><label>Humidity: </label><strong>90 %</strong></div><hr/></div>, <div>At <strong>5:45 am</strong>,</div>, <div><label>Temperature: </label><strong>21.2 °C</strong></div>, <div><label>Humidity: </label><strong>90 %</strong></div>, <div><div class=\"SunInfo\">Sunrise: <strong>5:34 am</strong>, Sunset: <strong>6:21 pm</strong></div><div><a href=\"city?id=33\">Read More...</a></div></div>, <div class=\"SunInfo\">Sunrise: <strong>5:34 am</strong>, Sunset: <strong>6:21 pm</strong></div>, <div><a href=\"city?id=33\">Read More...</a></div>, <div class=\"container main-body\"><div class=\"row\"><div class=\"col-md-4\"><div class=\"highlight-box forecast-box\"><h3>Forecasts <em>2017-08-28 06:00 NPT</em></h3><div></div><div class=\"carousel slide\" data-ride=\"carousel\" id=\"forecast_carousel_1\"><ol class=\"carousel-indicators\"><li class=\"active\" data-placement=\"top\" data-ride=\"carousel\" data-slide-to=\"0\" data-target=\"#forecast_carousel_1\" data-toggle=\"tooltip\" title=\"Nepal\"></li></ol><div class=\"carousel-inner\"><div class=\"item active\"><div><h4>Nepal</h4><b>Today</b><p>Generally cloudy throughout the country. Light to moderate rain likely to occur at some places of the central and western regions and at a few places of the eastern region. </p><b>Tonight</b><p>Generally cloudy throughout the country. Light to moderate rain likely to occur at some places in the country. </p></div></div></div><div class=\"text-center\"><a class=\"btn btn-info\" href=\"/weather/#forecasts\">More detail...</a></div></div></div></div><div class=\"col-md-4\"><div class=\"highlight-box forecast-box\"><h3>Mountain <em>2017-08-27 18:00 NPT</em></h3><div class=\"carousel slide\" data-ride=\"carousel\" id=\"forecast_carousel_2\"><ol class=\"carousel-indicators\"><li class=\"active\" data-placement=\"top\" data-ride=\"carousel\" data-slide-to=\"0\" data-target=\"#forecast_carousel_2\" data-toggle=\"tooltip\"></li></ol><div class=\"carousel-inner\"><div class=\"item active\"><div><h4>Forecasts for Expedition</h4><b>Western Region</b><p>Generally cloudy with chances of light snowfall at some places.</p><b>Central Region</b><p>Generally cloudy with chances of light snowfall at some places.</p><b>Eastern Region</b><p>Generally cloudy with chances of light snowfall at some places.</p><p style=\"border-top: 1px solid #eee; text-align:center\"><small>Valid for next 24 hours</small></p></div></div></div><div class=\"text-center\"><a class=\"btn btn-info\" href=\"/mountaineering\">More detail...</a></div></div></div></div><div class=\"col-md-4\"><div class=\"highlight-box recent-news-box\"><h3>NWP Products</h3><div class=\"content\" style=\"text-align:center\"><a href=\"/nwp/\"><img height=\"350px\" src=\"/mfd.gov.np/_nwp/prec1h_0001.png\"/></a></div></div></div></div><div class=\"row\"><div class=\"col-md-4\"><div class=\"highlight-box weather-data-table\"><h3>Observations <em>2017-08-27 17:45 NPT</em></h3><table class=\"table\" style=\"margin-bottom: 0px\"><tbody><tr><th>Station</th><th class=\"center\">Maximum Temp.<br/>(°C)</th><th class=\"center\">Minimum Temp.<br/>(°C)</th><th class=\"center\">24 hrs Rainfall<br/>(mm)</th></tr><tr><td>Dipayal</td><td class=\"center\">30.0</td><td class=\"center\">21.6</td><td class=\"center\">34.7</td></tr><tr><td>Dadeldhura</td><td class=\"center\">24.4</td><td class=\"center\">15.5</td><td class=\"center\">11.0</td></tr><tr><td>Dhangadi</td><td class=\"center\">31.9</td><td class=\"center\">25.5</td><td class=\"center\">1.0</td></tr><tr><td>Birendranagar</td><td class=\"center\">31.2</td><td class=\"center\">23.0</td><td class=\"center\">0.9</td></tr><tr><td>Nepalgunj</td><td class=\"center\">32.5</td><td class=\"center\">27.0</td><td class=\"center\">12.0</td></tr><tr><td>Jumla</td><td class=\"center\">24.5</td><td class=\"center\">15.5</td><td class=\"center\">4.5</td></tr><tr><td>Dang</td><td class=\"center\">30.2</td><td class=\"center\">24.0</td><td class=\"center\">72.0</td></tr><tr><td>Pokhara</td><td class=\"center\">31.5</td><td class=\"center\">22.5</td><td class=\"center\">13.4</td></tr><tr><td>Bhairahawa</td><td class=\"center\">34.5</td><td class=\"center\">24.9</td><td class=\"center\">14.6</td></tr><tr><td>Simara</td><td class=\"center\">33.0</td><td class=\"center\">26.0</td><td class=\"center\">Traces</td></tr><tr><td>Kathmandu</td><td class=\"center\">29.4</td><td class=\"center\">20.8</td><td class=\"center\">5.4</td></tr><tr><td>Okhaldhunga</td><td class=\"center\">23.3</td><td class=\"center\">18.0</td><td class=\"center\">11.9</td></tr><tr><td>Taplejung</td><td class=\"center\">23.7</td><td class=\"center\">18.6</td><td class=\"center\">4.7</td></tr><tr><td>Dhankuta</td><td class=\"center\">24.5</td><td class=\"center\">21.0</td><td class=\"center\">12.0</td></tr><tr><td>Biratnagar</td><td class=\"center\">28.8</td><td class=\"center\">25.4</td><td class=\"center\">31.6</td></tr><tr><td>Jomsom</td><td class=\"center\">23.7</td><td class=\"center\">13.5</td><td class=\"center\">Traces*</td></tr><tr><td>Dharan</td><td class=\"center\">29.4</td><td class=\"center\">25.0</td><td class=\"center\">20.3*</td></tr><tr><td>Lumle</td><td class=\"center\">25.0</td><td class=\"center\">17.8</td><td class=\"center\">5.5*</td></tr><tr><td>Jankapur</td><td class=\"center\">32.0</td><td class=\"center\">26.8</td><td class=\"center\">2.2*</td></tr><tr><td>Jiri</td><td class=\"center\">23.6</td><td class=\"center\">16.6</td><td class=\"center\">11.5*</td></tr><tr><td align=\"right\" colspan=\"4\"><small>* Daily rainfall data ending at 08:45 AM NPT</small></td></tr></tbody></table></div></div><div class=\"col-md-4\"><div class=\"highlight-box recent-news-box\"><h3>Recent News and Releases</h3><div class=\"content\"><div class=\"content-preview\"><a href=\"/content/?id=308\"><img class=\"thumb-left\"/></a><div class=\"content-preview-text\"><h4><a href=\"/content/?id=308\">Monsoon Update</a></h4><p>मनसूनी न्यून चापीय रेखा अहिले नेपालको पहाडी क्षेत्र नजिकै रहेको र न्यून चापीय प्रणाली मध्य तथा आसपासको भागहरुमा बिध्यमान रहेको देखिन्छ |</p></div></div><div class=\"content-preview\"><a href=\"/content/?id=306\"><img class=\"thumb-right\"/></a><div class=\"content-preview-text\"><h4><a href=\"/content/?id=306\">Monsoon Update 2017 </a></h4><p>मनसूनी न्यून चापीय रेखा अहिले नेपालको पहाडी क्षेत्र नजिकै रहेको र न्यून चापीय प्रणाली मध्य तथा आसपासको भागहरुमा बिध्यमान रहेको देखिन्छ |</p></div></div><div class=\"content-preview\"><a href=\"/content/?id=264\"><img class=\"thumb-left\"/></a><div class=\"content-preview-text\"><h4><a href=\"/content/?id=264\">मनसुन सम्बन्धि अपडेट</a></h4><p>मनसुन सम्बन्धि अपडेट</p></div></div><div class=\"content-preview\"><a href=\"/content/?id=261\"><img class=\"thumb-right\"/></a><div class=\"content-preview-text\"><h4><a href=\"/content/?id=261\">Monsoon Onset in Nepal (2017)</a></h4><p>हिजो, जेठ २९ गते (१२ जुन) बाट नेपालको पूर्वी भागमा मनसुन प्रवेश गरेको छ। तथापि, मनसुन पू्र्णरूपमा सक्रिय हुन र देशका बांकी भागमा फैलन अझै केहि दिन लाग्ने अनुमान छ।</p></div></div><div class=\"content-preview\"><a href=\"/content/?id=260\"><img class=\"thumb-left\"/></a><div class=\"content-preview-text\"><h4><a href=\"/content/?id=260\">2. Monsoon Watch (2017)</a></h4><p>सामान्यतया नेपालमा मनसुन १० जुनमा पूर्वी नेपालबाट प्रवेश गरी केहि दिनमा देशभर फैलने गर्दछ। यस वर्ष मनसुन सामान्य भन्दा केहि दिन अगाडि सुरु हुने अनुमान गरिएको थियो तथापि विगत केहि दिन देखि बङ्गालको खाडिमा न्यून चापिय क्षेत्रको विकास स्थिर रहि रहेको कारणले गर्दा नेपालमा मनसुन केहि दिन ढिलो गरि प्रवेश हुने देखिएको छ। monsoon onset सम्बन्धि थप सूचना अर्को बुलेटिनमा जानकारि गराईनेछ।</p></div></div></div></div></div><div class=\"col-md-4\"><div><div><div class=\"highlight-box satellite-box\"><h3>Satellite Image</h3><a href=\"satellite/\"><img src=\"/mfd.gov.np/_files/images/FY2E_2017_08_28_01_31_L_PJ1_IR1.JPG\"/></a></div></div><div></div></div></div></div><div class=\"row\"></div></div>, <div class=\"row\"><div class=\"col-md-4\"><div class=\"highlight-box forecast-box\"><h3>Forecasts <em>2017-08-28 06:00 NPT</em></h3><div></div><div class=\"carousel slide\" data-ride=\"carousel\" id=\"forecast_carousel_1\"><ol class=\"carousel-indicators\"><li class=\"active\" data-placement=\"top\" data-ride=\"carousel\" data-slide-to=\"0\" data-target=\"#forecast_carousel_1\" data-toggle=\"tooltip\" title=\"Nepal\"></li></ol><div class=\"carousel-inner\"><div class=\"item active\"><div><h4>Nepal</h4><b>Today</b><p>Generally cloudy throughout the country. Light to moderate rain likely to occur at some places of the central and western regions and at a few places of the eastern region. </p><b>Tonight</b><p>Generally cloudy throughout the country. Light to moderate rain likely to occur at some places in the country. </p></div></div></div><div class=\"text-center\"><a class=\"btn btn-info\" href=\"/weather/#forecasts\">More detail...</a></div></div></div></div><div class=\"col-md-4\"><div class=\"highlight-box forecast-box\"><h3>Mountain <em>2017-08-27 18:00 NPT</em></h3><div class=\"carousel slide\" data-ride=\"carousel\" id=\"forecast_carousel_2\"><ol class=\"carousel-indicators\"><li class=\"active\" data-placement=\"top\" data-ride=\"carousel\" data-slide-to=\"0\" data-target=\"#forecast_carousel_2\" data-toggle=\"tooltip\"></li></ol><div class=\"carousel-inner\"><div class=\"item active\"><div><h4>Forecasts for Expedition</h4><b>Western Region</b><p>Generally cloudy with chances of light snowfall at some places.</p><b>Central Region</b><p>Generally cloudy with chances of light snowfall at some places.</p><b>Eastern Region</b><p>Generally cloudy with chances of light snowfall at some places.</p><p style=\"border-top: 1px solid #eee; text-align:center\"><small>Valid for next 24 hours</small></p></div></div></div><div class=\"text-center\"><a class=\"btn btn-info\" href=\"/mountaineering\">More detail...</a></div></div></div></div><div class=\"col-md-4\"><div class=\"highlight-box recent-news-box\"><h3>NWP Products</h3><div class=\"content\" style=\"text-align:center\"><a href=\"/nwp/\"><img height=\"350px\" src=\"/mfd.gov.np/_nwp/prec1h_0001.png\"/></a></div></div></div></div>, <div class=\"col-md-4\"><div class=\"highlight-box forecast-box\"><h3>Forecasts <em>2017-08-28 06:00 NPT</em></h3><div></div><div class=\"carousel slide\" data-ride=\"carousel\" id=\"forecast_carousel_1\"><ol class=\"carousel-indicators\"><li class=\"active\" data-placement=\"top\" data-ride=\"carousel\" data-slide-to=\"0\" data-target=\"#forecast_carousel_1\" data-toggle=\"tooltip\" title=\"Nepal\"></li></ol><div class=\"carousel-inner\"><div class=\"item active\"><div><h4>Nepal</h4><b>Today</b><p>Generally cloudy throughout the country. Light to moderate rain likely to occur at some places of the central and western regions and at a few places of the eastern region. </p><b>Tonight</b><p>Generally cloudy throughout the country. Light to moderate rain likely to occur at some places in the country. </p></div></div></div><div class=\"text-center\"><a class=\"btn btn-info\" href=\"/weather/#forecasts\">More detail...</a></div></div></div></div>, <div class=\"highlight-box forecast-box\"><h3>Forecasts <em>2017-08-28 06:00 NPT</em></h3><div></div><div class=\"carousel slide\" data-ride=\"carousel\" id=\"forecast_carousel_1\"><ol class=\"carousel-indicators\"><li class=\"active\" data-placement=\"top\" data-ride=\"carousel\" data-slide-to=\"0\" data-target=\"#forecast_carousel_1\" data-toggle=\"tooltip\" title=\"Nepal\"></li></ol><div class=\"carousel-inner\"><div class=\"item active\"><div><h4>Nepal</h4><b>Today</b><p>Generally cloudy throughout the country. Light to moderate rain likely to occur at some places of the central and western regions and at a few places of the eastern region. </p><b>Tonight</b><p>Generally cloudy throughout the country. Light to moderate rain likely to occur at some places in the country. </p></div></div></div><div class=\"text-center\"><a class=\"btn btn-info\" href=\"/weather/#forecasts\">More detail...</a></div></div></div>, <div></div>, <div class=\"carousel slide\" data-ride=\"carousel\" id=\"forecast_carousel_1\"><ol class=\"carousel-indicators\"><li class=\"active\" data-placement=\"top\" data-ride=\"carousel\" data-slide-to=\"0\" data-target=\"#forecast_carousel_1\" data-toggle=\"tooltip\" title=\"Nepal\"></li></ol><div class=\"carousel-inner\"><div class=\"item active\"><div><h4>Nepal</h4><b>Today</b><p>Generally cloudy throughout the country. Light to moderate rain likely to occur at some places of the central and western regions and at a few places of the eastern region. </p><b>Tonight</b><p>Generally cloudy throughout the country. Light to moderate rain likely to occur at some places in the country. </p></div></div></div><div class=\"text-center\"><a class=\"btn btn-info\" href=\"/weather/#forecasts\">More detail...</a></div></div>, <div class=\"carousel-inner\"><div class=\"item active\"><div><h4>Nepal</h4><b>Today</b><p>Generally cloudy throughout the country. Light to moderate rain likely to occur at some places of the central and western regions and at a few places of the eastern region. </p><b>Tonight</b><p>Generally cloudy throughout the country. Light to moderate rain likely to occur at some places in the country. </p></div></div></div>, <div class=\"item active\"><div><h4>Nepal</h4><b>Today</b><p>Generally cloudy throughout the country. Light to moderate rain likely to occur at some places of the central and western regions and at a few places of the eastern region. </p><b>Tonight</b><p>Generally cloudy throughout the country. Light to moderate rain likely to occur at some places in the country. </p></div></div>, <div><h4>Nepal</h4><b>Today</b><p>Generally cloudy throughout the country. Light to moderate rain likely to occur at some places of the central and western regions and at a few places of the eastern region. </p><b>Tonight</b><p>Generally cloudy throughout the country. Light to moderate rain likely to occur at some places in the country. </p></div>, <div class=\"text-center\"><a class=\"btn btn-info\" href=\"/weather/#forecasts\">More detail...</a></div>, <div class=\"col-md-4\"><div class=\"highlight-box forecast-box\"><h3>Mountain <em>2017-08-27 18:00 NPT</em></h3><div class=\"carousel slide\" data-ride=\"carousel\" id=\"forecast_carousel_2\"><ol class=\"carousel-indicators\"><li class=\"active\" data-placement=\"top\" data-ride=\"carousel\" data-slide-to=\"0\" data-target=\"#forecast_carousel_2\" data-toggle=\"tooltip\"></li></ol><div class=\"carousel-inner\"><div class=\"item active\"><div><h4>Forecasts for Expedition</h4><b>Western Region</b><p>Generally cloudy with chances of light snowfall at some places.</p><b>Central Region</b><p>Generally cloudy with chances of light snowfall at some places.</p><b>Eastern Region</b><p>Generally cloudy with chances of light snowfall at some places.</p><p style=\"border-top: 1px solid #eee; text-align:center\"><small>Valid for next 24 hours</small></p></div></div></div><div class=\"text-center\"><a class=\"btn btn-info\" href=\"/mountaineering\">More detail...</a></div></div></div></div>, <div class=\"highlight-box forecast-box\"><h3>Mountain <em>2017-08-27 18:00 NPT</em></h3><div class=\"carousel slide\" data-ride=\"carousel\" id=\"forecast_carousel_2\"><ol class=\"carousel-indicators\"><li class=\"active\" data-placement=\"top\" data-ride=\"carousel\" data-slide-to=\"0\" data-target=\"#forecast_carousel_2\" data-toggle=\"tooltip\"></li></ol><div class=\"carousel-inner\"><div class=\"item active\"><div><h4>Forecasts for Expedition</h4><b>Western Region</b><p>Generally cloudy with chances of light snowfall at some places.</p><b>Central Region</b><p>Generally cloudy with chances of light snowfall at some places.</p><b>Eastern Region</b><p>Generally cloudy with chances of light snowfall at some places.</p><p style=\"border-top: 1px solid #eee; text-align:center\"><small>Valid for next 24 hours</small></p></div></div></div><div class=\"text-center\"><a class=\"btn btn-info\" href=\"/mountaineering\">More detail...</a></div></div></div>, <div class=\"carousel slide\" data-ride=\"carousel\" id=\"forecast_carousel_2\"><ol class=\"carousel-indicators\"><li class=\"active\" data-placement=\"top\" data-ride=\"carousel\" data-slide-to=\"0\" data-target=\"#forecast_carousel_2\" data-toggle=\"tooltip\"></li></ol><div class=\"carousel-inner\"><div class=\"item active\"><div><h4>Forecasts for Expedition</h4><b>Western Region</b><p>Generally cloudy with chances of light snowfall at some places.</p><b>Central Region</b><p>Generally cloudy with chances of light snowfall at some places.</p><b>Eastern Region</b><p>Generally cloudy with chances of light snowfall at some places.</p><p style=\"border-top: 1px solid #eee; text-align:center\"><small>Valid for next 24 hours</small></p></div></div></div><div class=\"text-center\"><a class=\"btn btn-info\" href=\"/mountaineering\">More detail...</a></div></div>, <div class=\"carousel-inner\"><div class=\"item active\"><div><h4>Forecasts for Expedition</h4><b>Western Region</b><p>Generally cloudy with chances of light snowfall at some places.</p><b>Central Region</b><p>Generally cloudy with chances of light snowfall at some places.</p><b>Eastern Region</b><p>Generally cloudy with chances of light snowfall at some places.</p><p style=\"border-top: 1px solid #eee; text-align:center\"><small>Valid for next 24 hours</small></p></div></div></div>, <div class=\"item active\"><div><h4>Forecasts for Expedition</h4><b>Western Region</b><p>Generally cloudy with chances of light snowfall at some places.</p><b>Central Region</b><p>Generally cloudy with chances of light snowfall at some places.</p><b>Eastern Region</b><p>Generally cloudy with chances of light snowfall at some places.</p><p style=\"border-top: 1px solid #eee; text-align:center\"><small>Valid for next 24 hours</small></p></div></div>, <div><h4>Forecasts for Expedition</h4><b>Western Region</b><p>Generally cloudy with chances of light snowfall at some places.</p><b>Central Region</b><p>Generally cloudy with chances of light snowfall at some places.</p><b>Eastern Region</b><p>Generally cloudy with chances of light snowfall at some places.</p><p style=\"border-top: 1px solid #eee; text-align:center\"><small>Valid for next 24 hours</small></p></div>, <div class=\"text-center\"><a class=\"btn btn-info\" href=\"/mountaineering\">More detail...</a></div>, <div class=\"col-md-4\"><div class=\"highlight-box recent-news-box\"><h3>NWP Products</h3><div class=\"content\" style=\"text-align:center\"><a href=\"/nwp/\"><img height=\"350px\" src=\"/mfd.gov.np/_nwp/prec1h_0001.png\"/></a></div></div></div>, <div class=\"highlight-box recent-news-box\"><h3>NWP Products</h3><div class=\"content\" style=\"text-align:center\"><a href=\"/nwp/\"><img height=\"350px\" src=\"/mfd.gov.np/_nwp/prec1h_0001.png\"/></a></div></div>, <div class=\"content\" style=\"text-align:center\"><a href=\"/nwp/\"><img height=\"350px\" src=\"/mfd.gov.np/_nwp/prec1h_0001.png\"/></a></div>, <div class=\"row\"><div class=\"col-md-4\"><div class=\"highlight-box weather-data-table\"><h3>Observations <em>2017-08-27 17:45 NPT</em></h3><table class=\"table\" style=\"margin-bottom: 0px\"><tbody><tr><th>Station</th><th class=\"center\">Maximum Temp.<br/>(°C)</th><th class=\"center\">Minimum Temp.<br/>(°C)</th><th class=\"center\">24 hrs Rainfall<br/>(mm)</th></tr><tr><td>Dipayal</td><td class=\"center\">30.0</td><td class=\"center\">21.6</td><td class=\"center\">34.7</td></tr><tr><td>Dadeldhura</td><td class=\"center\">24.4</td><td class=\"center\">15.5</td><td class=\"center\">11.0</td></tr><tr><td>Dhangadi</td><td class=\"center\">31.9</td><td class=\"center\">25.5</td><td class=\"center\">1.0</td></tr><tr><td>Birendranagar</td><td class=\"center\">31.2</td><td class=\"center\">23.0</td><td class=\"center\">0.9</td></tr><tr><td>Nepalgunj</td><td class=\"center\">32.5</td><td class=\"center\">27.0</td><td class=\"center\">12.0</td></tr><tr><td>Jumla</td><td class=\"center\">24.5</td><td class=\"center\">15.5</td><td class=\"center\">4.5</td></tr><tr><td>Dang</td><td class=\"center\">30.2</td><td class=\"center\">24.0</td><td class=\"center\">72.0</td></tr><tr><td>Pokhara</td><td class=\"center\">31.5</td><td class=\"center\">22.5</td><td class=\"center\">13.4</td></tr><tr><td>Bhairahawa</td><td class=\"center\">34.5</td><td class=\"center\">24.9</td><td class=\"center\">14.6</td></tr><tr><td>Simara</td><td class=\"center\">33.0</td><td class=\"center\">26.0</td><td class=\"center\">Traces</td></tr><tr><td>Kathmandu</td><td class=\"center\">29.4</td><td class=\"center\">20.8</td><td class=\"center\">5.4</td></tr><tr><td>Okhaldhunga</td><td class=\"center\">23.3</td><td class=\"center\">18.0</td><td class=\"center\">11.9</td></tr><tr><td>Taplejung</td><td class=\"center\">23.7</td><td class=\"center\">18.6</td><td class=\"center\">4.7</td></tr><tr><td>Dhankuta</td><td class=\"center\">24.5</td><td class=\"center\">21.0</td><td class=\"center\">12.0</td></tr><tr><td>Biratnagar</td><td class=\"center\">28.8</td><td class=\"center\">25.4</td><td class=\"center\">31.6</td></tr><tr><td>Jomsom</td><td class=\"center\">23.7</td><td class=\"center\">13.5</td><td class=\"center\">Traces*</td></tr><tr><td>Dharan</td><td class=\"center\">29.4</td><td class=\"center\">25.0</td><td class=\"center\">20.3*</td></tr><tr><td>Lumle</td><td class=\"center\">25.0</td><td class=\"center\">17.8</td><td class=\"center\">5.5*</td></tr><tr><td>Jankapur</td><td class=\"center\">32.0</td><td class=\"center\">26.8</td><td class=\"center\">2.2*</td></tr><tr><td>Jiri</td><td class=\"center\">23.6</td><td class=\"center\">16.6</td><td class=\"center\">11.5*</td></tr><tr><td align=\"right\" colspan=\"4\"><small>* Daily rainfall data ending at 08:45 AM NPT</small></td></tr></tbody></table></div></div><div class=\"col-md-4\"><div class=\"highlight-box recent-news-box\"><h3>Recent News and Releases</h3><div class=\"content\"><div class=\"content-preview\"><a href=\"/content/?id=308\"><img class=\"thumb-left\"/></a><div class=\"content-preview-text\"><h4><a href=\"/content/?id=308\">Monsoon Update</a></h4><p>मनसूनी न्यून चापीय रेखा अहिले नेपालको पहाडी क्षेत्र नजिकै रहेको र न्यून चापीय प्रणाली मध्य तथा आसपासको भागहरुमा बिध्यमान रहेको देखिन्छ |</p></div></div><div class=\"content-preview\"><a href=\"/content/?id=306\"><img class=\"thumb-right\"/></a><div class=\"content-preview-text\"><h4><a href=\"/content/?id=306\">Monsoon Update 2017 </a></h4><p>मनसूनी न्यून चापीय रेखा अहिले नेपालको पहाडी क्षेत्र नजिकै रहेको र न्यून चापीय प्रणाली मध्य तथा आसपासको भागहरुमा बिध्यमान रहेको देखिन्छ |</p></div></div><div class=\"content-preview\"><a href=\"/content/?id=264\"><img class=\"thumb-left\"/></a><div class=\"content-preview-text\"><h4><a href=\"/content/?id=264\">मनसुन सम्बन्धि अपडेट</a></h4><p>मनसुन सम्बन्धि अपडेट</p></div></div><div class=\"content-preview\"><a href=\"/content/?id=261\"><img class=\"thumb-right\"/></a><div class=\"content-preview-text\"><h4><a href=\"/content/?id=261\">Monsoon Onset in Nepal (2017)</a></h4><p>हिजो, जेठ २९ गते (१२ जुन) बाट नेपालको पूर्वी भागमा मनसुन प्रवेश गरेको छ। तथापि, मनसुन पू्र्णरूपमा सक्रिय हुन र देशका बांकी भागमा फैलन अझै केहि दिन लाग्ने अनुमान छ।</p></div></div><div class=\"content-preview\"><a href=\"/content/?id=260\"><img class=\"thumb-left\"/></a><div class=\"content-preview-text\"><h4><a href=\"/content/?id=260\">2. Monsoon Watch (2017)</a></h4><p>सामान्यतया नेपालमा मनसुन १० जुनमा पूर्वी नेपालबाट प्रवेश गरी केहि दिनमा देशभर फैलने गर्दछ। यस वर्ष मनसुन सामान्य भन्दा केहि दिन अगाडि सुरु हुने अनुमान गरिएको थियो तथापि विगत केहि दिन देखि बङ्गालको खाडिमा न्यून चापिय क्षेत्रको विकास स्थिर रहि रहेको कारणले गर्दा नेपालमा मनसुन केहि दिन ढिलो गरि प्रवेश हुने देखिएको छ। monsoon onset सम्बन्धि थप सूचना अर्को बुलेटिनमा जानकारि गराईनेछ।</p></div></div></div></div></div><div class=\"col-md-4\"><div><div><div class=\"highlight-box satellite-box\"><h3>Satellite Image</h3><a href=\"satellite/\"><img src=\"/mfd.gov.np/_files/images/FY2E_2017_08_28_01_31_L_PJ1_IR1.JPG\"/></a></div></div><div></div></div></div></div>, <div class=\"col-md-4\"><div class=\"highlight-box weather-data-table\"><h3>Observations <em>2017-08-27 17:45 NPT</em></h3><table class=\"table\" style=\"margin-bottom: 0px\"><tbody><tr><th>Station</th><th class=\"center\">Maximum Temp.<br/>(°C)</th><th class=\"center\">Minimum Temp.<br/>(°C)</th><th class=\"center\">24 hrs Rainfall<br/>(mm)</th></tr><tr><td>Dipayal</td><td class=\"center\">30.0</td><td class=\"center\">21.6</td><td class=\"center\">34.7</td></tr><tr><td>Dadeldhura</td><td class=\"center\">24.4</td><td class=\"center\">15.5</td><td class=\"center\">11.0</td></tr><tr><td>Dhangadi</td><td class=\"center\">31.9</td><td class=\"center\">25.5</td><td class=\"center\">1.0</td></tr><tr><td>Birendranagar</td><td class=\"center\">31.2</td><td class=\"center\">23.0</td><td class=\"center\">0.9</td></tr><tr><td>Nepalgunj</td><td class=\"center\">32.5</td><td class=\"center\">27.0</td><td class=\"center\">12.0</td></tr><tr><td>Jumla</td><td class=\"center\">24.5</td><td class=\"center\">15.5</td><td class=\"center\">4.5</td></tr><tr><td>Dang</td><td class=\"center\">30.2</td><td class=\"center\">24.0</td><td class=\"center\">72.0</td></tr><tr><td>Pokhara</td><td class=\"center\">31.5</td><td class=\"center\">22.5</td><td class=\"center\">13.4</td></tr><tr><td>Bhairahawa</td><td class=\"center\">34.5</td><td class=\"center\">24.9</td><td class=\"center\">14.6</td></tr><tr><td>Simara</td><td class=\"center\">33.0</td><td class=\"center\">26.0</td><td class=\"center\">Traces</td></tr><tr><td>Kathmandu</td><td class=\"center\">29.4</td><td class=\"center\">20.8</td><td class=\"center\">5.4</td></tr><tr><td>Okhaldhunga</td><td class=\"center\">23.3</td><td class=\"center\">18.0</td><td class=\"center\">11.9</td></tr><tr><td>Taplejung</td><td class=\"center\">23.7</td><td class=\"center\">18.6</td><td class=\"center\">4.7</td></tr><tr><td>Dhankuta</td><td class=\"center\">24.5</td><td class=\"center\">21.0</td><td class=\"center\">12.0</td></tr><tr><td>Biratnagar</td><td class=\"center\">28.8</td><td class=\"center\">25.4</td><td class=\"center\">31.6</td></tr><tr><td>Jomsom</td><td class=\"center\">23.7</td><td class=\"center\">13.5</td><td class=\"center\">Traces*</td></tr><tr><td>Dharan</td><td class=\"center\">29.4</td><td class=\"center\">25.0</td><td class=\"center\">20.3*</td></tr><tr><td>Lumle</td><td class=\"center\">25.0</td><td class=\"center\">17.8</td><td class=\"center\">5.5*</td></tr><tr><td>Jankapur</td><td class=\"center\">32.0</td><td class=\"center\">26.8</td><td class=\"center\">2.2*</td></tr><tr><td>Jiri</td><td class=\"center\">23.6</td><td class=\"center\">16.6</td><td class=\"center\">11.5*</td></tr><tr><td align=\"right\" colspan=\"4\"><small>* Daily rainfall data ending at 08:45 AM NPT</small></td></tr></tbody></table></div></div>, <div class=\"highlight-box weather-data-table\"><h3>Observations <em>2017-08-27 17:45 NPT</em></h3><table class=\"table\" style=\"margin-bottom: 0px\"><tbody><tr><th>Station</th><th class=\"center\">Maximum Temp.<br/>(°C)</th><th class=\"center\">Minimum Temp.<br/>(°C)</th><th class=\"center\">24 hrs Rainfall<br/>(mm)</th></tr><tr><td>Dipayal</td><td class=\"center\">30.0</td><td class=\"center\">21.6</td><td class=\"center\">34.7</td></tr><tr><td>Dadeldhura</td><td class=\"center\">24.4</td><td class=\"center\">15.5</td><td class=\"center\">11.0</td></tr><tr><td>Dhangadi</td><td class=\"center\">31.9</td><td class=\"center\">25.5</td><td class=\"center\">1.0</td></tr><tr><td>Birendranagar</td><td class=\"center\">31.2</td><td class=\"center\">23.0</td><td class=\"center\">0.9</td></tr><tr><td>Nepalgunj</td><td class=\"center\">32.5</td><td class=\"center\">27.0</td><td class=\"center\">12.0</td></tr><tr><td>Jumla</td><td class=\"center\">24.5</td><td class=\"center\">15.5</td><td class=\"center\">4.5</td></tr><tr><td>Dang</td><td class=\"center\">30.2</td><td class=\"center\">24.0</td><td class=\"center\">72.0</td></tr><tr><td>Pokhara</td><td class=\"center\">31.5</td><td class=\"center\">22.5</td><td class=\"center\">13.4</td></tr><tr><td>Bhairahawa</td><td class=\"center\">34.5</td><td class=\"center\">24.9</td><td class=\"center\">14.6</td></tr><tr><td>Simara</td><td class=\"center\">33.0</td><td class=\"center\">26.0</td><td class=\"center\">Traces</td></tr><tr><td>Kathmandu</td><td class=\"center\">29.4</td><td class=\"center\">20.8</td><td class=\"center\">5.4</td></tr><tr><td>Okhaldhunga</td><td class=\"center\">23.3</td><td class=\"center\">18.0</td><td class=\"center\">11.9</td></tr><tr><td>Taplejung</td><td class=\"center\">23.7</td><td class=\"center\">18.6</td><td class=\"center\">4.7</td></tr><tr><td>Dhankuta</td><td class=\"center\">24.5</td><td class=\"center\">21.0</td><td class=\"center\">12.0</td></tr><tr><td>Biratnagar</td><td class=\"center\">28.8</td><td class=\"center\">25.4</td><td class=\"center\">31.6</td></tr><tr><td>Jomsom</td><td class=\"center\">23.7</td><td class=\"center\">13.5</td><td class=\"center\">Traces*</td></tr><tr><td>Dharan</td><td class=\"center\">29.4</td><td class=\"center\">25.0</td><td class=\"center\">20.3*</td></tr><tr><td>Lumle</td><td class=\"center\">25.0</td><td class=\"center\">17.8</td><td class=\"center\">5.5*</td></tr><tr><td>Jankapur</td><td class=\"center\">32.0</td><td class=\"center\">26.8</td><td class=\"center\">2.2*</td></tr><tr><td>Jiri</td><td class=\"center\">23.6</td><td class=\"center\">16.6</td><td class=\"center\">11.5*</td></tr><tr><td align=\"right\" colspan=\"4\"><small>* Daily rainfall data ending at 08:45 AM NPT</small></td></tr></tbody></table></div>, <div class=\"col-md-4\"><div class=\"highlight-box recent-news-box\"><h3>Recent News and Releases</h3><div class=\"content\"><div class=\"content-preview\"><a href=\"/content/?id=308\"><img class=\"thumb-left\"/></a><div class=\"content-preview-text\"><h4><a href=\"/content/?id=308\">Monsoon Update</a></h4><p>मनसूनी न्यून चापीय रेखा अहिले नेपालको पहाडी क्षेत्र नजिकै रहेको र न्यून चापीय प्रणाली मध्य तथा आसपासको भागहरुमा बिध्यमान रहेको देखिन्छ |</p></div></div><div class=\"content-preview\"><a href=\"/content/?id=306\"><img class=\"thumb-right\"/></a><div class=\"content-preview-text\"><h4><a href=\"/content/?id=306\">Monsoon Update 2017 </a></h4><p>मनसूनी न्यून चापीय रेखा अहिले नेपालको पहाडी क्षेत्र नजिकै रहेको र न्यून चापीय प्रणाली मध्य तथा आसपासको भागहरुमा बिध्यमान रहेको देखिन्छ |</p></div></div><div class=\"content-preview\"><a href=\"/content/?id=264\"><img class=\"thumb-left\"/></a><div class=\"content-preview-text\"><h4><a href=\"/content/?id=264\">मनसुन सम्बन्धि अपडेट</a></h4><p>मनसुन सम्बन्धि अपडेट</p></div></div><div class=\"content-preview\"><a href=\"/content/?id=261\"><img class=\"thumb-right\"/></a><div class=\"content-preview-text\"><h4><a href=\"/content/?id=261\">Monsoon Onset in Nepal (2017)</a></h4><p>हिजो, जेठ २९ गते (१२ जुन) बाट नेपालको पूर्वी भागमा मनसुन प्रवेश गरेको छ। तथापि, मनसुन पू्र्णरूपमा सक्रिय हुन र देशका बांकी भागमा फैलन अझै केहि दिन लाग्ने अनुमान छ।</p></div></div><div class=\"content-preview\"><a href=\"/content/?id=260\"><img class=\"thumb-left\"/></a><div class=\"content-preview-text\"><h4><a href=\"/content/?id=260\">2. Monsoon Watch (2017)</a></h4><p>सामान्यतया नेपालमा मनसुन १० जुनमा पूर्वी नेपालबाट प्रवेश गरी केहि दिनमा देशभर फैलने गर्दछ। यस वर्ष मनसुन सामान्य भन्दा केहि दिन अगाडि सुरु हुने अनुमान गरिएको थियो तथापि विगत केहि दिन देखि बङ्गालको खाडिमा न्यून चापिय क्षेत्रको विकास स्थिर रहि रहेको कारणले गर्दा नेपालमा मनसुन केहि दिन ढिलो गरि प्रवेश हुने देखिएको छ। monsoon onset सम्बन्धि थप सूचना अर्को बुलेटिनमा जानकारि गराईनेछ।</p></div></div></div></div></div>, <div class=\"highlight-box recent-news-box\"><h3>Recent News and Releases</h3><div class=\"content\"><div class=\"content-preview\"><a href=\"/content/?id=308\"><img class=\"thumb-left\"/></a><div class=\"content-preview-text\"><h4><a href=\"/content/?id=308\">Monsoon Update</a></h4><p>मनसूनी न्यून चापीय रेखा अहिले नेपालको पहाडी क्षेत्र नजिकै रहेको र न्यून चापीय प्रणाली मध्य तथा आसपासको भागहरुमा बिध्यमान रहेको देखिन्छ |</p></div></div><div class=\"content-preview\"><a href=\"/content/?id=306\"><img class=\"thumb-right\"/></a><div class=\"content-preview-text\"><h4><a href=\"/content/?id=306\">Monsoon Update 2017 </a></h4><p>मनसूनी न्यून चापीय रेखा अहिले नेपालको पहाडी क्षेत्र नजिकै रहेको र न्यून चापीय प्रणाली मध्य तथा आसपासको भागहरुमा बिध्यमान रहेको देखिन्छ |</p></div></div><div class=\"content-preview\"><a href=\"/content/?id=264\"><img class=\"thumb-left\"/></a><div class=\"content-preview-text\"><h4><a href=\"/content/?id=264\">मनसुन सम्बन्धि अपडेट</a></h4><p>मनसुन सम्बन्धि अपडेट</p></div></div><div class=\"content-preview\"><a href=\"/content/?id=261\"><img class=\"thumb-right\"/></a><div class=\"content-preview-text\"><h4><a href=\"/content/?id=261\">Monsoon Onset in Nepal (2017)</a></h4><p>हिजो, जेठ २९ गते (१२ जुन) बाट नेपालको पूर्वी भागमा मनसुन प्रवेश गरेको छ। तथापि, मनसुन पू्र्णरूपमा सक्रिय हुन र देशका बांकी भागमा फैलन अझै केहि दिन लाग्ने अनुमान छ।</p></div></div><div class=\"content-preview\"><a href=\"/content/?id=260\"><img class=\"thumb-left\"/></a><div class=\"content-preview-text\"><h4><a href=\"/content/?id=260\">2. Monsoon Watch (2017)</a></h4><p>सामान्यतया नेपालमा मनसुन १० जुनमा पूर्वी नेपालबाट प्रवेश गरी केहि दिनमा देशभर फैलने गर्दछ। यस वर्ष मनसुन सामान्य भन्दा केहि दिन अगाडि सुरु हुने अनुमान गरिएको थियो तथापि विगत केहि दिन देखि बङ्गालको खाडिमा न्यून चापिय क्षेत्रको विकास स्थिर रहि रहेको कारणले गर्दा नेपालमा मनसुन केहि दिन ढिलो गरि प्रवेश हुने देखिएको छ। monsoon onset सम्बन्धि थप सूचना अर्को बुलेटिनमा जानकारि गराईनेछ।</p></div></div></div></div>, <div class=\"content\"><div class=\"content-preview\"><a href=\"/content/?id=308\"><img class=\"thumb-left\"/></a><div class=\"content-preview-text\"><h4><a href=\"/content/?id=308\">Monsoon Update</a></h4><p>मनसूनी न्यून चापीय रेखा अहिले नेपालको पहाडी क्षेत्र नजिकै रहेको र न्यून चापीय प्रणाली मध्य तथा आसपासको भागहरुमा बिध्यमान रहेको देखिन्छ |</p></div></div><div class=\"content-preview\"><a href=\"/content/?id=306\"><img class=\"thumb-right\"/></a><div class=\"content-preview-text\"><h4><a href=\"/content/?id=306\">Monsoon Update 2017 </a></h4><p>मनसूनी न्यून चापीय रेखा अहिले नेपालको पहाडी क्षेत्र नजिकै रहेको र न्यून चापीय प्रणाली मध्य तथा आसपासको भागहरुमा बिध्यमान रहेको देखिन्छ |</p></div></div><div class=\"content-preview\"><a href=\"/content/?id=264\"><img class=\"thumb-left\"/></a><div class=\"content-preview-text\"><h4><a href=\"/content/?id=264\">मनसुन सम्बन्धि अपडेट</a></h4><p>मनसुन सम्बन्धि अपडेट</p></div></div><div class=\"content-preview\"><a href=\"/content/?id=261\"><img class=\"thumb-right\"/></a><div class=\"content-preview-text\"><h4><a href=\"/content/?id=261\">Monsoon Onset in Nepal (2017)</a></h4><p>हिजो, जेठ २९ गते (१२ जुन) बाट नेपालको पूर्वी भागमा मनसुन प्रवेश गरेको छ। तथापि, मनसुन पू्र्णरूपमा सक्रिय हुन र देशका बांकी भागमा फैलन अझै केहि दिन लाग्ने अनुमान छ।</p></div></div><div class=\"content-preview\"><a href=\"/content/?id=260\"><img class=\"thumb-left\"/></a><div class=\"content-preview-text\"><h4><a href=\"/content/?id=260\">2. Monsoon Watch (2017)</a></h4><p>सामान्यतया नेपालमा मनसुन १० जुनमा पूर्वी नेपालबाट प्रवेश गरी केहि दिनमा देशभर फैलने गर्दछ। यस वर्ष मनसुन सामान्य भन्दा केहि दिन अगाडि सुरु हुने अनुमान गरिएको थियो तथापि विगत केहि दिन देखि बङ्गालको खाडिमा न्यून चापिय क्षेत्रको विकास स्थिर रहि रहेको कारणले गर्दा नेपालमा मनसुन केहि दिन ढिलो गरि प्रवेश हुने देखिएको छ। monsoon onset सम्बन्धि थप सूचना अर्को बुलेटिनमा जानकारि गराईनेछ।</p></div></div></div>, <div class=\"content-preview\"><a href=\"/content/?id=308\"><img class=\"thumb-left\"/></a><div class=\"content-preview-text\"><h4><a href=\"/content/?id=308\">Monsoon Update</a></h4><p>मनसूनी न्यून चापीय रेखा अहिले नेपालको पहाडी क्षेत्र नजिकै रहेको र न्यून चापीय प्रणाली मध्य तथा आसपासको भागहरुमा बिध्यमान रहेको देखिन्छ |</p></div></div>, <div class=\"content-preview-text\"><h4><a href=\"/content/?id=308\">Monsoon Update</a></h4><p>मनसूनी न्यून चापीय रेखा अहिले नेपालको पहाडी क्षेत्र नजिकै रहेको र न्यून चापीय प्रणाली मध्य तथा आसपासको भागहरुमा बिध्यमान रहेको देखिन्छ |</p></div>, <div class=\"content-preview\"><a href=\"/content/?id=306\"><img class=\"thumb-right\"/></a><div class=\"content-preview-text\"><h4><a href=\"/content/?id=306\">Monsoon Update 2017 </a></h4><p>मनसूनी न्यून चापीय रेखा अहिले नेपालको पहाडी क्षेत्र नजिकै रहेको र न्यून चापीय प्रणाली मध्य तथा आसपासको भागहरुमा बिध्यमान रहेको देखिन्छ |</p></div></div>, <div class=\"content-preview-text\"><h4><a href=\"/content/?id=306\">Monsoon Update 2017 </a></h4><p>मनसूनी न्यून चापीय रेखा अहिले नेपालको पहाडी क्षेत्र नजिकै रहेको र न्यून चापीय प्रणाली मध्य तथा आसपासको भागहरुमा बिध्यमान रहेको देखिन्छ |</p></div>, <div class=\"content-preview\"><a href=\"/content/?id=264\"><img class=\"thumb-left\"/></a><div class=\"content-preview-text\"><h4><a href=\"/content/?id=264\">मनसुन सम्बन्धि अपडेट</a></h4><p>मनसुन सम्बन्धि अपडेट</p></div></div>, <div class=\"content-preview-text\"><h4><a href=\"/content/?id=264\">मनसुन सम्बन्धि अपडेट</a></h4><p>मनसुन सम्बन्धि अपडेट</p></div>, <div class=\"content-preview\"><a href=\"/content/?id=261\"><img class=\"thumb-right\"/></a><div class=\"content-preview-text\"><h4><a href=\"/content/?id=261\">Monsoon Onset in Nepal (2017)</a></h4><p>हिजो, जेठ २९ गते (१२ जुन) बाट नेपालको पूर्वी भागमा मनसुन प्रवेश गरेको छ। तथापि, मनसुन पू्र्णरूपमा सक्रिय हुन र देशका बांकी भागमा फैलन अझै केहि दिन लाग्ने अनुमान छ।</p></div></div>, <div class=\"content-preview-text\"><h4><a href=\"/content/?id=261\">Monsoon Onset in Nepal (2017)</a></h4><p>हिजो, जेठ २९ गते (१२ जुन) बाट नेपालको पूर्वी भागमा मनसुन प्रवेश गरेको छ। तथापि, मनसुन पू्र्णरूपमा सक्रिय हुन र देशका बांकी भागमा फैलन अझै केहि दिन लाग्ने अनुमान छ।</p></div>, <div class=\"content-preview\"><a href=\"/content/?id=260\"><img class=\"thumb-left\"/></a><div class=\"content-preview-text\"><h4><a href=\"/content/?id=260\">2. Monsoon Watch (2017)</a></h4><p>सामान्यतया नेपालमा मनसुन १० जुनमा पूर्वी नेपालबाट प्रवेश गरी केहि दिनमा देशभर फैलने गर्दछ। यस वर्ष मनसुन सामान्य भन्दा केहि दिन अगाडि सुरु हुने अनुमान गरिएको थियो तथापि विगत केहि दिन देखि बङ्गालको खाडिमा न्यून चापिय क्षेत्रको विकास स्थिर रहि रहेको कारणले गर्दा नेपालमा मनसुन केहि दिन ढिलो गरि प्रवेश हुने देखिएको छ। monsoon onset सम्बन्धि थप सूचना अर्को बुलेटिनमा जानकारि गराईनेछ।</p></div></div>, <div class=\"content-preview-text\"><h4><a href=\"/content/?id=260\">2. Monsoon Watch (2017)</a></h4><p>सामान्यतया नेपालमा मनसुन १० जुनमा पूर्वी नेपालबाट प्रवेश गरी केहि दिनमा देशभर फैलने गर्दछ। यस वर्ष मनसुन सामान्य भन्दा केहि दिन अगाडि सुरु हुने अनुमान गरिएको थियो तथापि विगत केहि दिन देखि बङ्गालको खाडिमा न्यून चापिय क्षेत्रको विकास स्थिर रहि रहेको कारणले गर्दा नेपालमा मनसुन केहि दिन ढिलो गरि प्रवेश हुने देखिएको छ। monsoon onset सम्बन्धि थप सूचना अर्को बुलेटिनमा जानकारि गराईनेछ।</p></div>, <div class=\"col-md-4\"><div><div><div class=\"highlight-box satellite-box\"><h3>Satellite Image</h3><a href=\"satellite/\"><img src=\"/mfd.gov.np/_files/images/FY2E_2017_08_28_01_31_L_PJ1_IR1.JPG\"/></a></div></div><div></div></div></div>, <div><div><div class=\"highlight-box satellite-box\"><h3>Satellite Image</h3><a href=\"satellite/\"><img src=\"/mfd.gov.np/_files/images/FY2E_2017_08_28_01_31_L_PJ1_IR1.JPG\"/></a></div></div><div></div></div>, <div><div class=\"highlight-box satellite-box\"><h3>Satellite Image</h3><a href=\"satellite/\"><img src=\"/mfd.gov.np/_files/images/FY2E_2017_08_28_01_31_L_PJ1_IR1.JPG\"/></a></div></div>, <div class=\"highlight-box satellite-box\"><h3>Satellite Image</h3><a href=\"satellite/\"><img src=\"/mfd.gov.np/_files/images/FY2E_2017_08_28_01_31_L_PJ1_IR1.JPG\"/></a></div>, <div></div>, <div class=\"row\"></div>, <div class=\"container\">\n",
       " \t\t<div class=\"row\">\n",
       " \t\t\t<div class=\"col-sm-6\">\n",
       " \t\t\t\t<h3>Contact Us</h3>\n",
       " \t\t\t\t<h4>Meteorological Forecasting Division</h4>\n",
       " \t\t\t\t<p>Gauchar, Tribhuvan International Airport<br/>\n",
       " \t\t\t\t\tKathmandu, Nepal<br/>\n",
       " \t\t\t\t\t<abbr title=\"Phone\"><span class=\"glyphicon glyphicon-earphone\"></span></abbr>:\n",
       " \t\t\t\t\t+977 1 4486869<br/>\n",
       " \t\t\t\t\t<abbr title=\"Email\"><span class=\"glyphicon glyphicon-envelope\"></span></abbr>:\n",
       " \t\t\t\t\t<a href=\"mailto:info@mfd.gov.np\">info@mfd.gov.np</a>\n",
       " \t\t\t\t</p>\n",
       " \t\t\t\t<p><b>Please dial and listen to us for notice board service</b>\n",
       " \t\t\t\t</p><dl class=\"footer-number-list dl-horizontal\">\n",
       " \t\t\t\t\t<dt>Kathmandu:</dt><dd>1618 07 07 33333 (for daily weather updates)</dd>\n",
       " \t\t\t\t\t<dt>Surkhet:</dt><dd>1618 083 523519 (for daily weather data)</dd>\n",
       " \t\t\t\t\t<dt>Pokhara:</dt><dd>1618 061 465299 (for daily weather data)</dd>\n",
       " \t\t\t\t\t<dt>Dharan:</dt><dd>1618 025 520272 (for daily weather data)</dd>\n",
       " \t\t\t\t</dl>\n",
       " \t\t\t</div>\n",
       " \t\t\t<div class=\"col-sm-6\">\n",
       " \t\t\t\t<h3>Links</h3>\n",
       " \t\t\t\t<h4>\n",
       " \t\t\t\t\t<a href=\"http://www.dhm.gov.np\" target=\"_blank\">Department of Hydrology and\n",
       " \t\t\t\t\t\tMeteorology</a>\n",
       " \t\t\t\t</h4>\n",
       " \n",
       " \t\t\t\t<h4>\n",
       " \t\t\t\t\t<a href=\"http://www.hydrology.gov.np\" target=\"_blank\">Flood        Forecasting Division</a>\n",
       " \t\t\t\t</h4>\n",
       " \t\t\t\t<h4>\n",
       " \t\t\t\t\t<a href=\"http://www.mope.gov.np\" target=\"_blank\">Ministry of Population and Environment</a>\n",
       " \t\t\t\t</h4>\n",
       " \t\t\t</div>\n",
       " \t\t</div>\n",
       " \t</div>, <div class=\"row\">\n",
       " \t\t\t<div class=\"col-sm-6\">\n",
       " \t\t\t\t<h3>Contact Us</h3>\n",
       " \t\t\t\t<h4>Meteorological Forecasting Division</h4>\n",
       " \t\t\t\t<p>Gauchar, Tribhuvan International Airport<br/>\n",
       " \t\t\t\t\tKathmandu, Nepal<br/>\n",
       " \t\t\t\t\t<abbr title=\"Phone\"><span class=\"glyphicon glyphicon-earphone\"></span></abbr>:\n",
       " \t\t\t\t\t+977 1 4486869<br/>\n",
       " \t\t\t\t\t<abbr title=\"Email\"><span class=\"glyphicon glyphicon-envelope\"></span></abbr>:\n",
       " \t\t\t\t\t<a href=\"mailto:info@mfd.gov.np\">info@mfd.gov.np</a>\n",
       " \t\t\t\t</p>\n",
       " \t\t\t\t<p><b>Please dial and listen to us for notice board service</b>\n",
       " \t\t\t\t</p><dl class=\"footer-number-list dl-horizontal\">\n",
       " \t\t\t\t\t<dt>Kathmandu:</dt><dd>1618 07 07 33333 (for daily weather updates)</dd>\n",
       " \t\t\t\t\t<dt>Surkhet:</dt><dd>1618 083 523519 (for daily weather data)</dd>\n",
       " \t\t\t\t\t<dt>Pokhara:</dt><dd>1618 061 465299 (for daily weather data)</dd>\n",
       " \t\t\t\t\t<dt>Dharan:</dt><dd>1618 025 520272 (for daily weather data)</dd>\n",
       " \t\t\t\t</dl>\n",
       " \t\t\t</div>\n",
       " \t\t\t<div class=\"col-sm-6\">\n",
       " \t\t\t\t<h3>Links</h3>\n",
       " \t\t\t\t<h4>\n",
       " \t\t\t\t\t<a href=\"http://www.dhm.gov.np\" target=\"_blank\">Department of Hydrology and\n",
       " \t\t\t\t\t\tMeteorology</a>\n",
       " \t\t\t\t</h4>\n",
       " \n",
       " \t\t\t\t<h4>\n",
       " \t\t\t\t\t<a href=\"http://www.hydrology.gov.np\" target=\"_blank\">Flood        Forecasting Division</a>\n",
       " \t\t\t\t</h4>\n",
       " \t\t\t\t<h4>\n",
       " \t\t\t\t\t<a href=\"http://www.mope.gov.np\" target=\"_blank\">Ministry of Population and Environment</a>\n",
       " \t\t\t\t</h4>\n",
       " \t\t\t</div>\n",
       " \t\t</div>, <div class=\"col-sm-6\">\n",
       " \t\t\t\t<h3>Contact Us</h3>\n",
       " \t\t\t\t<h4>Meteorological Forecasting Division</h4>\n",
       " \t\t\t\t<p>Gauchar, Tribhuvan International Airport<br/>\n",
       " \t\t\t\t\tKathmandu, Nepal<br/>\n",
       " \t\t\t\t\t<abbr title=\"Phone\"><span class=\"glyphicon glyphicon-earphone\"></span></abbr>:\n",
       " \t\t\t\t\t+977 1 4486869<br/>\n",
       " \t\t\t\t\t<abbr title=\"Email\"><span class=\"glyphicon glyphicon-envelope\"></span></abbr>:\n",
       " \t\t\t\t\t<a href=\"mailto:info@mfd.gov.np\">info@mfd.gov.np</a>\n",
       " \t\t\t\t</p>\n",
       " \t\t\t\t<p><b>Please dial and listen to us for notice board service</b>\n",
       " \t\t\t\t</p><dl class=\"footer-number-list dl-horizontal\">\n",
       " \t\t\t\t\t<dt>Kathmandu:</dt><dd>1618 07 07 33333 (for daily weather updates)</dd>\n",
       " \t\t\t\t\t<dt>Surkhet:</dt><dd>1618 083 523519 (for daily weather data)</dd>\n",
       " \t\t\t\t\t<dt>Pokhara:</dt><dd>1618 061 465299 (for daily weather data)</dd>\n",
       " \t\t\t\t\t<dt>Dharan:</dt><dd>1618 025 520272 (for daily weather data)</dd>\n",
       " \t\t\t\t</dl>\n",
       " \t\t\t</div>, <div class=\"col-sm-6\">\n",
       " \t\t\t\t<h3>Links</h3>\n",
       " \t\t\t\t<h4>\n",
       " \t\t\t\t\t<a href=\"http://www.dhm.gov.np\" target=\"_blank\">Department of Hydrology and\n",
       " \t\t\t\t\t\tMeteorology</a>\n",
       " \t\t\t\t</h4>\n",
       " \n",
       " \t\t\t\t<h4>\n",
       " \t\t\t\t\t<a href=\"http://www.hydrology.gov.np\" target=\"_blank\">Flood        Forecasting Division</a>\n",
       " \t\t\t\t</h4>\n",
       " \t\t\t\t<h4>\n",
       " \t\t\t\t\t<a href=\"http://www.mope.gov.np\" target=\"_blank\">Ministry of Population and Environment</a>\n",
       " \t\t\t\t</h4>\n",
       " \t\t\t</div>, <div class=\"copyright-line\">\n",
       " \t<div class=\"container\">\n",
       " \n",
       " \t\t<div class=\"row\">\n",
       " \n",
       " \t\t\t<div class=\"col-sm-6\">\n",
       " \n",
       " \t\t\t\t<p><small>Copyright © 2017 Meteorological Forecasting Divison, DHM</small></p>\n",
       " \t\t\t</div>\n",
       " \n",
       " \t\t\t<div class=\"col-sm-6\">\n",
       " \n",
       " \t\t\t\t<p><small>\n",
       " \n",
       " \t\t\t\t\t\tDesigned and developed by <a href=\"http://www.rts.com.np\">Real\n",
       " \n",
       " \t\t\t\t\t\t\tTime Solutions Pvt. Ltd.</a></small>\n",
       " \t\t\t\t</p>\n",
       " \t\t\t</div>\n",
       " \t\t</div>\n",
       " \t</div>\n",
       " </div>, <div class=\"container\">\n",
       " \n",
       " \t\t<div class=\"row\">\n",
       " \n",
       " \t\t\t<div class=\"col-sm-6\">\n",
       " \n",
       " \t\t\t\t<p><small>Copyright © 2017 Meteorological Forecasting Divison, DHM</small></p>\n",
       " \t\t\t</div>\n",
       " \n",
       " \t\t\t<div class=\"col-sm-6\">\n",
       " \n",
       " \t\t\t\t<p><small>\n",
       " \n",
       " \t\t\t\t\t\tDesigned and developed by <a href=\"http://www.rts.com.np\">Real\n",
       " \n",
       " \t\t\t\t\t\t\tTime Solutions Pvt. Ltd.</a></small>\n",
       " \t\t\t\t</p>\n",
       " \t\t\t</div>\n",
       " \t\t</div>\n",
       " \t</div>, <div class=\"row\">\n",
       " \n",
       " \t\t\t<div class=\"col-sm-6\">\n",
       " \n",
       " \t\t\t\t<p><small>Copyright © 2017 Meteorological Forecasting Divison, DHM</small></p>\n",
       " \t\t\t</div>\n",
       " \n",
       " \t\t\t<div class=\"col-sm-6\">\n",
       " \n",
       " \t\t\t\t<p><small>\n",
       " \n",
       " \t\t\t\t\t\tDesigned and developed by <a href=\"http://www.rts.com.np\">Real\n",
       " \n",
       " \t\t\t\t\t\t\tTime Solutions Pvt. Ltd.</a></small>\n",
       " \t\t\t\t</p>\n",
       " \t\t\t</div>\n",
       " \t\t</div>, <div class=\"col-sm-6\">\n",
       " \n",
       " \t\t\t\t<p><small>Copyright © 2017 Meteorological Forecasting Divison, DHM</small></p>\n",
       " \t\t\t</div>, <div class=\"col-sm-6\">\n",
       " \n",
       " \t\t\t\t<p><small>\n",
       " \n",
       " \t\t\t\t\t\tDesigned and developed by <a href=\"http://www.rts.com.np\">Real\n",
       " \n",
       " \t\t\t\t\t\t\tTime Solutions Pvt. Ltd.</a></small>\n",
       " \t\t\t\t</p>\n",
       " \t\t\t</div>]"
      ]
     },
     "execution_count": 10,
     "metadata": {},
     "output_type": "execute_result"
    }
   ],
   "source": [
    "soup.find_all('div')"
   ]
  },
  {
   "cell_type": "code",
   "execution_count": 11,
   "metadata": {},
   "outputs": [
    {
     "name": "stdout",
     "output_type": "stream",
     "text": [
      "Help on method find in module bs4.element:\n",
      "\n",
      "find(name=None, attrs={}, recursive=True, text=None, **kwargs) method of bs4.BeautifulSoup instance\n",
      "    Return only the first child of this Tag matching the given\n",
      "    criteria.\n",
      "\n"
     ]
    }
   ],
   "source": [
    "help(soup.find)"
   ]
  },
  {
   "cell_type": "code",
   "execution_count": 12,
   "metadata": {},
   "outputs": [
    {
     "data": {
      "text/plain": [
       "<div class=\"carousel slide\" data-ride=\"carousel\" id=\"mainCarousel\"><ol class=\"carousel-indicators\"><li class=\"active\" data-ride=\"carousel\" data-slide-to=\"0\" data-target=\"#mainCarousel\"></li><li data-ride=\"carousel\" data-slide-to=\"1\" data-target=\"#mainCarousel\"></li><li data-ride=\"carousel\" data-slide-to=\"2\" data-target=\"#mainCarousel\"></li><li data-ride=\"carousel\" data-slide-to=\"3\" data-target=\"#mainCarousel\"></li></ol><div class=\"carousel-inner\"><div class=\"item active\"><img data-src=\"holder.js/749x500/audo/#666:#6a6a/text:SomeText\" src=\"/mfd.gov.np/_files/f927b55f77a8cf4ad32cdd88d3b6feae.jpg\"/><div class=\"container\"><div class=\"carousel-caption\"><div class=\"station-highlight\"><a href=\"city?id=24\"><h1>Birendranagar</h1></a><div class=\"WeatherNow\"><img src=\"/mfd.gov.np/_req/weather_icons/3-moon-64.png\"/><div>At <strong>5:45 am</strong>,</div><div><label>Temperature: </label><strong>23.5 °C</strong></div><div><label>Humidity: </label><strong>96 %</strong></div><hr/></div><div><div class=\"SunInfo\">Sunrise: <strong>5:55 am</strong>, Sunset: <strong>6:45 pm</strong></div><div><a href=\"city?id=24\">Read More...</a></div></div></div></div></div></div><div class=\"item\"><img data-src=\"holder.js/749x500/audo/#666:#6a6a/text:SomeText\" src=\"/mfd.gov.np/_files/0f8207ee86bf76097055c962df157415.jpg\"/><div class=\"container\"><div class=\"carousel-caption\"><div class=\"station-highlight\"><a href=\"city?id=28\"><h1>Pokhara</h1></a><div class=\"WeatherNow\"><img src=\"/mfd.gov.np/_req/weather_icons/19-moon-64.png\"/><div>At <strong>5:45 am</strong>,</div><div><label>Temperature: </label><strong>22 °C</strong></div><div><label>Humidity: </label><strong>96 %</strong></div><hr/></div><div><div class=\"SunInfo\">Sunrise: <strong>5:46 am</strong>, Sunset: <strong>6:36 pm</strong></div><div><a href=\"city?id=28\">Read More...</a></div></div></div></div></div></div><div class=\"item\"><img data-src=\"holder.js/749x500/audo/#666:#6a6a/text:SomeText\" src=\"/mfd.gov.np/_files/bf0ccd1466119e6785c7bc576b88851e.jpg\"/><div class=\"container\"><div class=\"carousel-caption\"><div class=\"station-highlight\"><a href=\"city?id=31\"><h1>Kathmandu</h1></a><div class=\"WeatherNow\"><img src=\"/mfd.gov.np/_req/weather_icons/19-sun-64.png\"/><div>At <strong>5:45 am</strong>,</div><div><label>Temperature: </label><strong>20.6 °C</strong></div><div><label>Humidity: </label><strong>98 %</strong></div><hr/></div><div><div class=\"SunInfo\">Sunrise: <strong>5:41 am</strong>, Sunset: <strong>6:30 pm</strong></div><div><a href=\"city?id=31\">Read More...</a></div></div></div></div></div></div><div class=\"item\"><img data-src=\"holder.js/749x500/audo/#666:#6a6a/text:SomeText\" src=\"/mfd.gov.np/_files/8e9309b9514a49e5b0d09ab5139fe108.jpg\"/><div class=\"container\"><div class=\"carousel-caption\"><div class=\"station-highlight\"><a href=\"city?id=33\"><h1>Dhankuta</h1></a><div class=\"WeatherNow\"><img src=\"/mfd.gov.np/_req/weather_icons/4-sun-64.png\"/><div>At <strong>5:45 am</strong>,</div><div><label>Temperature: </label><strong>21.2 °C</strong></div><div><label>Humidity: </label><strong>90 %</strong></div><hr/></div><div><div class=\"SunInfo\">Sunrise: <strong>5:34 am</strong>, Sunset: <strong>6:21 pm</strong></div><div><a href=\"city?id=33\">Read More...</a></div></div></div></div></div></div></div><a class=\"left carousel-control\" data-slide=\"prev\" href=\"#mainCarousel\"><span class=\"glyphicon glyphicon-chevron-left\"></span></a><a class=\"right carousel-control\" data-slide=\"next\" href=\"#mainCarousel\"><span class=\"glyphicon glyphicon-chevron-right\"></span></a></div>"
      ]
     },
     "execution_count": 12,
     "metadata": {},
     "output_type": "execute_result"
    }
   ],
   "source": [
    "soup.find('div', attrs={'class': 'carousel'})"
   ]
  },
  {
   "cell_type": "code",
   "execution_count": 13,
   "metadata": {},
   "outputs": [
    {
     "data": {
      "text/plain": [
       "<table class=\"table\" style=\"margin-bottom: 0px\"><tbody><tr><th>Station</th><th class=\"center\">Maximum Temp.<br/>(°C)</th><th class=\"center\">Minimum Temp.<br/>(°C)</th><th class=\"center\">24 hrs Rainfall<br/>(mm)</th></tr><tr><td>Dipayal</td><td class=\"center\">30.0</td><td class=\"center\">21.6</td><td class=\"center\">34.7</td></tr><tr><td>Dadeldhura</td><td class=\"center\">24.4</td><td class=\"center\">15.5</td><td class=\"center\">11.0</td></tr><tr><td>Dhangadi</td><td class=\"center\">31.9</td><td class=\"center\">25.5</td><td class=\"center\">1.0</td></tr><tr><td>Birendranagar</td><td class=\"center\">31.2</td><td class=\"center\">23.0</td><td class=\"center\">0.9</td></tr><tr><td>Nepalgunj</td><td class=\"center\">32.5</td><td class=\"center\">27.0</td><td class=\"center\">12.0</td></tr><tr><td>Jumla</td><td class=\"center\">24.5</td><td class=\"center\">15.5</td><td class=\"center\">4.5</td></tr><tr><td>Dang</td><td class=\"center\">30.2</td><td class=\"center\">24.0</td><td class=\"center\">72.0</td></tr><tr><td>Pokhara</td><td class=\"center\">31.5</td><td class=\"center\">22.5</td><td class=\"center\">13.4</td></tr><tr><td>Bhairahawa</td><td class=\"center\">34.5</td><td class=\"center\">24.9</td><td class=\"center\">14.6</td></tr><tr><td>Simara</td><td class=\"center\">33.0</td><td class=\"center\">26.0</td><td class=\"center\">Traces</td></tr><tr><td>Kathmandu</td><td class=\"center\">29.4</td><td class=\"center\">20.8</td><td class=\"center\">5.4</td></tr><tr><td>Okhaldhunga</td><td class=\"center\">23.3</td><td class=\"center\">18.0</td><td class=\"center\">11.9</td></tr><tr><td>Taplejung</td><td class=\"center\">23.7</td><td class=\"center\">18.6</td><td class=\"center\">4.7</td></tr><tr><td>Dhankuta</td><td class=\"center\">24.5</td><td class=\"center\">21.0</td><td class=\"center\">12.0</td></tr><tr><td>Biratnagar</td><td class=\"center\">28.8</td><td class=\"center\">25.4</td><td class=\"center\">31.6</td></tr><tr><td>Jomsom</td><td class=\"center\">23.7</td><td class=\"center\">13.5</td><td class=\"center\">Traces*</td></tr><tr><td>Dharan</td><td class=\"center\">29.4</td><td class=\"center\">25.0</td><td class=\"center\">20.3*</td></tr><tr><td>Lumle</td><td class=\"center\">25.0</td><td class=\"center\">17.8</td><td class=\"center\">5.5*</td></tr><tr><td>Jankapur</td><td class=\"center\">32.0</td><td class=\"center\">26.8</td><td class=\"center\">2.2*</td></tr><tr><td>Jiri</td><td class=\"center\">23.6</td><td class=\"center\">16.6</td><td class=\"center\">11.5*</td></tr><tr><td align=\"right\" colspan=\"4\"><small>* Daily rainfall data ending at 08:45 AM NPT</small></td></tr></tbody></table>"
      ]
     },
     "execution_count": 13,
     "metadata": {},
     "output_type": "execute_result"
    }
   ],
   "source": [
    "soup.find('table')"
   ]
  },
  {
   "cell_type": "code",
   "execution_count": 14,
   "metadata": {
    "collapsed": true
   },
   "outputs": [],
   "source": [
    "maindiv = soup.find('div', attrs={'class': 'weather-data-table'})"
   ]
  },
  {
   "cell_type": "code",
   "execution_count": 15,
   "metadata": {},
   "outputs": [
    {
     "data": {
      "text/plain": [
       "<div class=\"highlight-box weather-data-table\"><h3>Observations <em>2017-08-27 17:45 NPT</em></h3><table class=\"table\" style=\"margin-bottom: 0px\"><tbody><tr><th>Station</th><th class=\"center\">Maximum Temp.<br/>(°C)</th><th class=\"center\">Minimum Temp.<br/>(°C)</th><th class=\"center\">24 hrs Rainfall<br/>(mm)</th></tr><tr><td>Dipayal</td><td class=\"center\">30.0</td><td class=\"center\">21.6</td><td class=\"center\">34.7</td></tr><tr><td>Dadeldhura</td><td class=\"center\">24.4</td><td class=\"center\">15.5</td><td class=\"center\">11.0</td></tr><tr><td>Dhangadi</td><td class=\"center\">31.9</td><td class=\"center\">25.5</td><td class=\"center\">1.0</td></tr><tr><td>Birendranagar</td><td class=\"center\">31.2</td><td class=\"center\">23.0</td><td class=\"center\">0.9</td></tr><tr><td>Nepalgunj</td><td class=\"center\">32.5</td><td class=\"center\">27.0</td><td class=\"center\">12.0</td></tr><tr><td>Jumla</td><td class=\"center\">24.5</td><td class=\"center\">15.5</td><td class=\"center\">4.5</td></tr><tr><td>Dang</td><td class=\"center\">30.2</td><td class=\"center\">24.0</td><td class=\"center\">72.0</td></tr><tr><td>Pokhara</td><td class=\"center\">31.5</td><td class=\"center\">22.5</td><td class=\"center\">13.4</td></tr><tr><td>Bhairahawa</td><td class=\"center\">34.5</td><td class=\"center\">24.9</td><td class=\"center\">14.6</td></tr><tr><td>Simara</td><td class=\"center\">33.0</td><td class=\"center\">26.0</td><td class=\"center\">Traces</td></tr><tr><td>Kathmandu</td><td class=\"center\">29.4</td><td class=\"center\">20.8</td><td class=\"center\">5.4</td></tr><tr><td>Okhaldhunga</td><td class=\"center\">23.3</td><td class=\"center\">18.0</td><td class=\"center\">11.9</td></tr><tr><td>Taplejung</td><td class=\"center\">23.7</td><td class=\"center\">18.6</td><td class=\"center\">4.7</td></tr><tr><td>Dhankuta</td><td class=\"center\">24.5</td><td class=\"center\">21.0</td><td class=\"center\">12.0</td></tr><tr><td>Biratnagar</td><td class=\"center\">28.8</td><td class=\"center\">25.4</td><td class=\"center\">31.6</td></tr><tr><td>Jomsom</td><td class=\"center\">23.7</td><td class=\"center\">13.5</td><td class=\"center\">Traces*</td></tr><tr><td>Dharan</td><td class=\"center\">29.4</td><td class=\"center\">25.0</td><td class=\"center\">20.3*</td></tr><tr><td>Lumle</td><td class=\"center\">25.0</td><td class=\"center\">17.8</td><td class=\"center\">5.5*</td></tr><tr><td>Jankapur</td><td class=\"center\">32.0</td><td class=\"center\">26.8</td><td class=\"center\">2.2*</td></tr><tr><td>Jiri</td><td class=\"center\">23.6</td><td class=\"center\">16.6</td><td class=\"center\">11.5*</td></tr><tr><td align=\"right\" colspan=\"4\"><small>* Daily rainfall data ending at 08:45 AM NPT</small></td></tr></tbody></table></div>"
      ]
     },
     "execution_count": 15,
     "metadata": {},
     "output_type": "execute_result"
    }
   ],
   "source": [
    "maindiv"
   ]
  },
  {
   "cell_type": "code",
   "execution_count": 16,
   "metadata": {},
   "outputs": [
    {
     "data": {
      "text/plain": [
       "<table class=\"table\" style=\"margin-bottom: 0px\"><tbody><tr><th>Station</th><th class=\"center\">Maximum Temp.<br/>(°C)</th><th class=\"center\">Minimum Temp.<br/>(°C)</th><th class=\"center\">24 hrs Rainfall<br/>(mm)</th></tr><tr><td>Dipayal</td><td class=\"center\">30.0</td><td class=\"center\">21.6</td><td class=\"center\">34.7</td></tr><tr><td>Dadeldhura</td><td class=\"center\">24.4</td><td class=\"center\">15.5</td><td class=\"center\">11.0</td></tr><tr><td>Dhangadi</td><td class=\"center\">31.9</td><td class=\"center\">25.5</td><td class=\"center\">1.0</td></tr><tr><td>Birendranagar</td><td class=\"center\">31.2</td><td class=\"center\">23.0</td><td class=\"center\">0.9</td></tr><tr><td>Nepalgunj</td><td class=\"center\">32.5</td><td class=\"center\">27.0</td><td class=\"center\">12.0</td></tr><tr><td>Jumla</td><td class=\"center\">24.5</td><td class=\"center\">15.5</td><td class=\"center\">4.5</td></tr><tr><td>Dang</td><td class=\"center\">30.2</td><td class=\"center\">24.0</td><td class=\"center\">72.0</td></tr><tr><td>Pokhara</td><td class=\"center\">31.5</td><td class=\"center\">22.5</td><td class=\"center\">13.4</td></tr><tr><td>Bhairahawa</td><td class=\"center\">34.5</td><td class=\"center\">24.9</td><td class=\"center\">14.6</td></tr><tr><td>Simara</td><td class=\"center\">33.0</td><td class=\"center\">26.0</td><td class=\"center\">Traces</td></tr><tr><td>Kathmandu</td><td class=\"center\">29.4</td><td class=\"center\">20.8</td><td class=\"center\">5.4</td></tr><tr><td>Okhaldhunga</td><td class=\"center\">23.3</td><td class=\"center\">18.0</td><td class=\"center\">11.9</td></tr><tr><td>Taplejung</td><td class=\"center\">23.7</td><td class=\"center\">18.6</td><td class=\"center\">4.7</td></tr><tr><td>Dhankuta</td><td class=\"center\">24.5</td><td class=\"center\">21.0</td><td class=\"center\">12.0</td></tr><tr><td>Biratnagar</td><td class=\"center\">28.8</td><td class=\"center\">25.4</td><td class=\"center\">31.6</td></tr><tr><td>Jomsom</td><td class=\"center\">23.7</td><td class=\"center\">13.5</td><td class=\"center\">Traces*</td></tr><tr><td>Dharan</td><td class=\"center\">29.4</td><td class=\"center\">25.0</td><td class=\"center\">20.3*</td></tr><tr><td>Lumle</td><td class=\"center\">25.0</td><td class=\"center\">17.8</td><td class=\"center\">5.5*</td></tr><tr><td>Jankapur</td><td class=\"center\">32.0</td><td class=\"center\">26.8</td><td class=\"center\">2.2*</td></tr><tr><td>Jiri</td><td class=\"center\">23.6</td><td class=\"center\">16.6</td><td class=\"center\">11.5*</td></tr><tr><td align=\"right\" colspan=\"4\"><small>* Daily rainfall data ending at 08:45 AM NPT</small></td></tr></tbody></table>"
      ]
     },
     "execution_count": 16,
     "metadata": {},
     "output_type": "execute_result"
    }
   ],
   "source": [
    "maindiv.find('table')"
   ]
  },
  {
   "cell_type": "code",
   "execution_count": 17,
   "metadata": {},
   "outputs": [
    {
     "data": {
      "text/plain": [
       "[<tr><th>Station</th><th class=\"center\">Maximum Temp.<br/>(°C)</th><th class=\"center\">Minimum Temp.<br/>(°C)</th><th class=\"center\">24 hrs Rainfall<br/>(mm)</th></tr>,\n",
       " <tr><td>Dipayal</td><td class=\"center\">30.0</td><td class=\"center\">21.6</td><td class=\"center\">34.7</td></tr>,\n",
       " <tr><td>Dadeldhura</td><td class=\"center\">24.4</td><td class=\"center\">15.5</td><td class=\"center\">11.0</td></tr>,\n",
       " <tr><td>Dhangadi</td><td class=\"center\">31.9</td><td class=\"center\">25.5</td><td class=\"center\">1.0</td></tr>,\n",
       " <tr><td>Birendranagar</td><td class=\"center\">31.2</td><td class=\"center\">23.0</td><td class=\"center\">0.9</td></tr>,\n",
       " <tr><td>Nepalgunj</td><td class=\"center\">32.5</td><td class=\"center\">27.0</td><td class=\"center\">12.0</td></tr>,\n",
       " <tr><td>Jumla</td><td class=\"center\">24.5</td><td class=\"center\">15.5</td><td class=\"center\">4.5</td></tr>,\n",
       " <tr><td>Dang</td><td class=\"center\">30.2</td><td class=\"center\">24.0</td><td class=\"center\">72.0</td></tr>,\n",
       " <tr><td>Pokhara</td><td class=\"center\">31.5</td><td class=\"center\">22.5</td><td class=\"center\">13.4</td></tr>,\n",
       " <tr><td>Bhairahawa</td><td class=\"center\">34.5</td><td class=\"center\">24.9</td><td class=\"center\">14.6</td></tr>,\n",
       " <tr><td>Simara</td><td class=\"center\">33.0</td><td class=\"center\">26.0</td><td class=\"center\">Traces</td></tr>,\n",
       " <tr><td>Kathmandu</td><td class=\"center\">29.4</td><td class=\"center\">20.8</td><td class=\"center\">5.4</td></tr>,\n",
       " <tr><td>Okhaldhunga</td><td class=\"center\">23.3</td><td class=\"center\">18.0</td><td class=\"center\">11.9</td></tr>,\n",
       " <tr><td>Taplejung</td><td class=\"center\">23.7</td><td class=\"center\">18.6</td><td class=\"center\">4.7</td></tr>,\n",
       " <tr><td>Dhankuta</td><td class=\"center\">24.5</td><td class=\"center\">21.0</td><td class=\"center\">12.0</td></tr>,\n",
       " <tr><td>Biratnagar</td><td class=\"center\">28.8</td><td class=\"center\">25.4</td><td class=\"center\">31.6</td></tr>,\n",
       " <tr><td>Jomsom</td><td class=\"center\">23.7</td><td class=\"center\">13.5</td><td class=\"center\">Traces*</td></tr>,\n",
       " <tr><td>Dharan</td><td class=\"center\">29.4</td><td class=\"center\">25.0</td><td class=\"center\">20.3*</td></tr>,\n",
       " <tr><td>Lumle</td><td class=\"center\">25.0</td><td class=\"center\">17.8</td><td class=\"center\">5.5*</td></tr>,\n",
       " <tr><td>Jankapur</td><td class=\"center\">32.0</td><td class=\"center\">26.8</td><td class=\"center\">2.2*</td></tr>,\n",
       " <tr><td>Jiri</td><td class=\"center\">23.6</td><td class=\"center\">16.6</td><td class=\"center\">11.5*</td></tr>,\n",
       " <tr><td align=\"right\" colspan=\"4\"><small>* Daily rainfall data ending at 08:45 AM NPT</small></td></tr>]"
      ]
     },
     "execution_count": 17,
     "metadata": {},
     "output_type": "execute_result"
    }
   ],
   "source": [
    "maindiv.find('table').find('tbody').find_all('tr')"
   ]
  },
  {
   "cell_type": "code",
   "execution_count": 18,
   "metadata": {},
   "outputs": [
    {
     "name": "stdout",
     "output_type": "stream",
     "text": [
      "<tr><th>Station</th><th class=\"center\">Maximum Temp.<br/>(°C)</th><th class=\"center\">Minimum Temp.<br/>(°C)</th><th class=\"center\">24 hrs Rainfall<br/>(mm)</th></tr>\n"
     ]
    }
   ],
   "source": [
    "for row in maindiv.find('table').find('tbody').find_all('tr'):\n",
    "    print(row)\n",
    "    break"
   ]
  },
  {
   "cell_type": "code",
   "execution_count": 20,
   "metadata": {},
   "outputs": [
    {
     "data": {
      "text/plain": [
       "['HTML_FORMATTERS',\n",
       " 'XML_FORMATTERS',\n",
       " '__bool__',\n",
       " '__call__',\n",
       " '__class__',\n",
       " '__contains__',\n",
       " '__copy__',\n",
       " '__delattr__',\n",
       " '__delitem__',\n",
       " '__dict__',\n",
       " '__dir__',\n",
       " '__doc__',\n",
       " '__eq__',\n",
       " '__format__',\n",
       " '__ge__',\n",
       " '__getattr__',\n",
       " '__getattribute__',\n",
       " '__getitem__',\n",
       " '__gt__',\n",
       " '__hash__',\n",
       " '__init__',\n",
       " '__init_subclass__',\n",
       " '__iter__',\n",
       " '__le__',\n",
       " '__len__',\n",
       " '__lt__',\n",
       " '__module__',\n",
       " '__ne__',\n",
       " '__new__',\n",
       " '__reduce__',\n",
       " '__reduce_ex__',\n",
       " '__repr__',\n",
       " '__setattr__',\n",
       " '__setitem__',\n",
       " '__sizeof__',\n",
       " '__str__',\n",
       " '__subclasshook__',\n",
       " '__unicode__',\n",
       " '__weakref__',\n",
       " '_all_strings',\n",
       " '_attr_value_as_string',\n",
       " '_attribute_checker',\n",
       " '_find_all',\n",
       " '_find_one',\n",
       " '_formatter_for_name',\n",
       " '_is_xml',\n",
       " '_lastRecursiveChild',\n",
       " '_last_descendant',\n",
       " '_select_debug',\n",
       " '_selector_combinators',\n",
       " '_should_pretty_print',\n",
       " '_tag_name_matches_and',\n",
       " 'append',\n",
       " 'attribselect_re',\n",
       " 'attrs',\n",
       " 'can_be_empty_element',\n",
       " 'childGenerator',\n",
       " 'children',\n",
       " 'clear',\n",
       " 'contents',\n",
       " 'decode',\n",
       " 'decode_contents',\n",
       " 'decompose',\n",
       " 'descendants',\n",
       " 'encode',\n",
       " 'encode_contents',\n",
       " 'extract',\n",
       " 'fetchNextSiblings',\n",
       " 'fetchParents',\n",
       " 'fetchPrevious',\n",
       " 'fetchPreviousSiblings',\n",
       " 'find',\n",
       " 'findAll',\n",
       " 'findAllNext',\n",
       " 'findAllPrevious',\n",
       " 'findChild',\n",
       " 'findChildren',\n",
       " 'findNext',\n",
       " 'findNextSibling',\n",
       " 'findNextSiblings',\n",
       " 'findParent',\n",
       " 'findParents',\n",
       " 'findPrevious',\n",
       " 'findPreviousSibling',\n",
       " 'findPreviousSiblings',\n",
       " 'find_all',\n",
       " 'find_all_next',\n",
       " 'find_all_previous',\n",
       " 'find_next',\n",
       " 'find_next_sibling',\n",
       " 'find_next_siblings',\n",
       " 'find_parent',\n",
       " 'find_parents',\n",
       " 'find_previous',\n",
       " 'find_previous_sibling',\n",
       " 'find_previous_siblings',\n",
       " 'format_string',\n",
       " 'get',\n",
       " 'getText',\n",
       " 'get_attribute_list',\n",
       " 'get_text',\n",
       " 'has_attr',\n",
       " 'has_key',\n",
       " 'hidden',\n",
       " 'index',\n",
       " 'insert',\n",
       " 'insert_after',\n",
       " 'insert_before',\n",
       " 'isSelfClosing',\n",
       " 'is_empty_element',\n",
       " 'known_xml',\n",
       " 'name',\n",
       " 'namespace',\n",
       " 'next',\n",
       " 'nextGenerator',\n",
       " 'nextSibling',\n",
       " 'nextSiblingGenerator',\n",
       " 'next_element',\n",
       " 'next_elements',\n",
       " 'next_sibling',\n",
       " 'next_siblings',\n",
       " 'parent',\n",
       " 'parentGenerator',\n",
       " 'parents',\n",
       " 'parserClass',\n",
       " 'parser_class',\n",
       " 'prefix',\n",
       " 'preserve_whitespace_tags',\n",
       " 'prettify',\n",
       " 'previous',\n",
       " 'previousGenerator',\n",
       " 'previousSibling',\n",
       " 'previousSiblingGenerator',\n",
       " 'previous_element',\n",
       " 'previous_elements',\n",
       " 'previous_sibling',\n",
       " 'previous_siblings',\n",
       " 'quoted_colon',\n",
       " 'recursiveChildGenerator',\n",
       " 'renderContents',\n",
       " 'replaceWith',\n",
       " 'replaceWithChildren',\n",
       " 'replace_with',\n",
       " 'replace_with_children',\n",
       " 'select',\n",
       " 'select_one',\n",
       " 'setup',\n",
       " 'string',\n",
       " 'strings',\n",
       " 'stripped_strings',\n",
       " 'tag_name_re',\n",
       " 'text',\n",
       " 'unwrap',\n",
       " 'wrap']"
      ]
     },
     "execution_count": 20,
     "metadata": {},
     "output_type": "execute_result"
    }
   ],
   "source": [
    "dir(maindiv)"
   ]
  },
  {
   "cell_type": "code",
   "execution_count": 22,
   "metadata": {},
   "outputs": [
    {
     "name": "stdout",
     "output_type": "stream",
     "text": [
      "<th>Station</th>\n",
      "None\n",
      "<tr><td>Dipayal</td><td class=\"center\">30.0</td><td class=\"center\">21.6</td><td class=\"center\">34.7</td></tr>\n"
     ]
    }
   ],
   "source": [
    "for row in maindiv.find('table').find('tbody').find_all('tr'):\n",
    "    print(row.find('th'))\n",
    "    if row.find('th'):\n",
    "        continue\n",
    "    print(row)\n",
    "    break"
   ]
  },
  {
   "cell_type": "code",
   "execution_count": 24,
   "metadata": {},
   "outputs": [
    {
     "name": "stdout",
     "output_type": "stream",
     "text": [
      "[<td>Dipayal</td>, <td class=\"center\">30.0</td>, <td class=\"center\">21.6</td>, <td class=\"center\">34.7</td>]\n",
      "Station Dipayal\n",
      "Maximum 30.0\n",
      "Minimum 21.6\n",
      "Rainfall 34.7\n"
     ]
    }
   ],
   "source": [
    "for row in maindiv.find('table').find('tbody').find_all('tr'):\n",
    "    if row.find('th'):\n",
    "        continue\n",
    "    tds = row.find_all('td')\n",
    "    print(tds)\n",
    "    print(\"Station\", tds[0].text)\n",
    "    print(\"Maximum\", tds[1].text)\n",
    "    print(\"Minimum\", tds[2].text)\n",
    "    print(\"Rainfall\", tds[3].text)\n",
    "    break"
   ]
  },
  {
   "cell_type": "code",
   "execution_count": 26,
   "metadata": {
    "collapsed": true
   },
   "outputs": [],
   "source": [
    "import csv"
   ]
  },
  {
   "cell_type": "code",
   "execution_count": 27,
   "metadata": {},
   "outputs": [],
   "source": [
    "with open('../Data/sample.csv', 'w') as csvfile:\n",
    "    csvwriter = csv.DictWriter(csvfile, \n",
    "                               fieldnames=['Station', 'Maximum', 'Minimum', 'Rainfall'])\n",
    "    csvwriter.writeheader()\n",
    "    \n",
    "    data = []\n",
    "    for row in maindiv.find('table').find('tbody').find_all('tr'):\n",
    "        _rowdata = {}\n",
    "        if row.find('th'):\n",
    "            continue\n",
    "        tds = row.find_all('td')\n",
    "        if len(tds) < 4:\n",
    "            continue\n",
    "        _rowdata[\"Maximum\"] = tds[1].text.strip()\n",
    "        _rowdata[\"Minimum\"] = tds[2].text.strip()\n",
    "        _rowdata[\"Rainfall\"] = tds[3].text.strip()\n",
    "        _rowdata[\"Station\"] = tds[0].text.strip()\n",
    "        data.append(_rowdata)\n",
    "    csvwriter.writerows(data)"
   ]
  },
  {
   "cell_type": "code",
   "execution_count": null,
   "metadata": {
    "collapsed": true
   },
   "outputs": [],
   "source": []
  }
 ],
 "metadata": {
  "kernelspec": {
   "display_name": "Python 3",
   "language": "python",
   "name": "python3"
  },
  "language_info": {
   "codemirror_mode": {
    "name": "ipython",
    "version": 3
   },
   "file_extension": ".py",
   "mimetype": "text/x-python",
   "name": "python",
   "nbconvert_exporter": "python",
   "pygments_lexer": "ipython3",
   "version": "3.6.2"
  }
 },
 "nbformat": 4,
 "nbformat_minor": 2
}
