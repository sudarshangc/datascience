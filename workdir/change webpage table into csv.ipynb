{
 "cells": [
  {
   "cell_type": "code",
   "execution_count": 1,
   "metadata": {
    "collapsed": true
   },
   "outputs": [],
   "source": [
    "import requests\n"
   ]
  },
  {
   "cell_type": "code",
   "execution_count": 2,
   "metadata": {
    "collapsed": true
   },
   "outputs": [],
   "source": [
    "A=requests.get(\"http://mfd.gov.np/\")"
   ]
  },
  {
   "cell_type": "code",
   "execution_count": 3,
   "metadata": {},
   "outputs": [
    {
     "data": {
      "text/plain": [
       "<Response [200]>"
      ]
     },
     "execution_count": 3,
     "metadata": {},
     "output_type": "execute_result"
    }
   ],
   "source": [
    "A"
   ]
  },
  {
   "cell_type": "code",
   "execution_count": 4,
   "metadata": {},
   "outputs": [
    {
     "data": {
      "text/plain": [
       "{'Date': 'Tue, 29 Aug 2017 15:29:44 GMT', 'Server': 'Apache/2.2.15 (CentOS)', 'X-Powered-By': 'PHP/5.3.3', 'Set-Cookie': 'PHPSESSID=cohaujp2mad16bkp8hbh23o5f0; path=/', 'Expires': 'Thu, 19 Nov 1981 08:52:00 GMT', 'Cache-Control': 'no-store, no-cache, must-revalidate, post-check=0, pre-check=0', 'Pragma': 'no-cache', 'Connection': 'close', 'Transfer-Encoding': 'chunked', 'Content-Type': 'text/html; charset=utf-8'}"
      ]
     },
     "execution_count": 4,
     "metadata": {},
     "output_type": "execute_result"
    }
   ],
   "source": [
    "A.headers\n",
    "\n"
   ]
  },
  {
   "cell_type": "code",
   "execution_count": 5,
   "metadata": {},
   "outputs": [
    {
     "data": {
      "text/plain": [
       "'<!DOCTYPE html>\\n<html>\\n<head>\\n<title>Meteorological Forecasting Division</title>\\n\\n\\t<meta name=\"viewport\"\\n\\tcontent=\"width=device-width, initial-scale=1.0, user-scalable=no\">\\n  <meta http-equiv=\"Content-Type\" content=\"text/html;charset=utf-8\"/>\\n\\t<link href=\"/mfd.gov.np/_bootstrap/css/bootstrap.css\"\\n\\trel=\"stylesheet\">\\n\\t<link href=\"/mfd.gov.np/_stylesheets/mfd.css\" rel=\"stylesheet\">\\n\\t<link rel=\"icon\"\\n      type=\"image/png\" \\n      href=\"/mfd.gov.np/_req/favicon.png\">\\n\\t\\t\\t\\t\\t\\t\\n\\t<!-- HTML5 Shim and Respond.js IE8 support of HTML5 elements and media queries -->\\n    <!-- WARNING: Respond.js doesn\\'t work if you view the page via file:// -->\\n    <!--[if lt IE 9]>\\n\\t<script src=\"/mfd.gov.np/_js/html5shiv.js\"></script>\\n\\t<script src=\"/mfd.gov.np/_js/respond.min.js\"></script>\\n\\n\\n\\t<![endif]-->\\n<style>\\n@media (min-width: 768px){\\n\\t.navbar-static-top {\\n\\t\\tborder-radius: 6px;\\n\\t}\\n}\\n</style>\\n</head>\\n\\n<body>\\n<div class=\"site-header\">\\n\\t<div class=\"container\">\\n\\t <div class=\"col-sm-4\">\\n\\t\\t<img width=\"64px\" src=\"/mfd.gov.np/_req/logo.png\" />\\n\\t\\t<h2 style=\"margin-bottom: 5px\">Government of Nepal</h2>\\n\\t\\t<h2>Department of Hydrology and Meteorology</h2>\\n\\t\\t<h1>Meteorological Forecasting Division</h1>\\n\\t </div>\\n\\t \\n\\t <div class=\"col-sm-8\" style=\"padding-top:10px;\">\\n\\t \\n\\t \\n\\t \\t<div class=\"navbar navbar-inverse navbar-static-top\" role=\"navigation\">\\n\\t\\t\\t<div class=\"navbar-header\">\\n\\t\\t\\t\\t<button type=\"button\" class=\"navbar-toggle\" data-toggle=\"collapse\"\\n\\t\\t\\t\\t\\t\\tdata-target=\".navbar-collapse\">\\n\\t\\t\\t\\t\\t<span class=\"sr-only\">Toggle navigation</span> <span\\n\\t\\t\\t\\t\\t\\t\\tclass=\"icon-bar\"></span> <span class=\"icon-bar\"></span> <span\\n\\t\\t\\t\\t\\t\\t\\tclass=\"icon-bar\"></span>\\n\\t\\t\\t\\t</button>\\n\\t\\t\\t\\t<!-- <a class=\"navbar-brand\" href=\"#\">MFD</a> -->\\n\\t\\t\\t</div>\\n\\t\\t\\t<div class=\"navbar-collapse collapse\">\\n\\t\\t\\t\\t<ul class=\"nav navbar-nav\">\\n\\t\\t\\t\\t\\t<li><a href=\"/\">Home</a></li><li><a href=\"/weather/\">Weather</a></li><li><a href=\"/nwp/\">NWP</a></li><li><a href=\"/satellite/\">Satellite</a></li><li><a href=\"/mountaineering/\">Mountaineering</a></li><li><a href=\"/report/\">Archives</a></li>\\n\\t\\t\\t\\t</ul>\\n\\t\\t\\t</div>\\n\\t\\t</div>\\n\\t \\n\\t </div>\\n\\t \\n\\t</div>\\n\\n</div>\\n\\t\\n<DIV class=\"carousel slide\" id=\"mainCarousel\" data-ride=\"carousel\"><ol class=\"carousel-indicators\"><li class=\"active\" data-target=\"#mainCarousel\" data-slide-to=\"0\" data-ride=\"carousel\"></li><li data-target=\"#mainCarousel\" data-slide-to=\"1\" data-ride=\"carousel\"></li><li data-target=\"#mainCarousel\" data-slide-to=\"2\" data-ride=\"carousel\"></li><li data-target=\"#mainCarousel\" data-slide-to=\"3\" data-ride=\"carousel\"></li><li data-target=\"#mainCarousel\" data-slide-to=\"4\" data-ride=\"carousel\"></li></ol><div class=\"carousel-inner\"><div class=\"item active\"><img data-src=\"holder.js/749x500/audo/#666:#6a6a/text:SomeText\" src=\"/mfd.gov.np/_files/e0653490535cdd82fe487260b6c6f6f5.png\"></img><div class=\"container\"><div class=\"carousel-caption\"><div class=\"station-highlight\"><a href=\"city?id=22\"><h1>Dipayal</h1></a><div class=\"WeatherNow\"><img src=\"/mfd.gov.np/_req/weather_icons/2-sun-64.png\" /><div>At <strong>5:45 pm</strong>,</div><div><label>Temperature: </label><strong>30.6 °C</strong></div><div><label>Humidity: </label><strong>75 %</strong></div><hr/></div><div><div class=\"SunInfo\">Sunrise: <strong>5:58 am</strong>, Sunset: <strong>6:48 pm</strong></div><div><a href=\"city?id=22\">Read More...</a></div></div></div></div></div></div><div class=\"item\"><img data-src=\"holder.js/749x500/audo/#666:#6a6a/text:SomeText\" src=\"/mfd.gov.np/_files/f927b55f77a8cf4ad32cdd88d3b6feae.jpg\"></img><div class=\"container\"><div class=\"carousel-caption\"><div class=\"station-highlight\"><a href=\"city?id=24\"><h1>Birendranagar</h1></a><div class=\"WeatherNow\"><img src=\"/mfd.gov.np/_req/weather_icons/2-sun-64.png\" /><div>At <strong>5:45 pm</strong>,</div><div><label>Temperature: </label><strong>28.8 °C</strong></div><div><label>Humidity: </label><strong>79 %</strong></div><hr/></div><div><div class=\"SunInfo\">Sunrise: <strong>5:56 am</strong>, Sunset: <strong>6:44 pm</strong></div><div><a href=\"city?id=24\">Read More...</a></div></div></div></div></div></div><div class=\"item\"><img data-src=\"holder.js/749x500/audo/#666:#6a6a/text:SomeText\" src=\"/mfd.gov.np/_files/0f8207ee86bf76097055c962df157415.jpg\"></img><div class=\"container\"><div class=\"carousel-caption\"><div class=\"station-highlight\"><a href=\"city?id=28\"><h1>Pokhara</h1></a><div class=\"WeatherNow\"><img src=\"/mfd.gov.np/_req/weather_icons/2-sun-64.png\" /><div>At <strong>5:45 pm</strong>,</div><div><label>Temperature: </label><strong>30.1 °C</strong></div><div><label>Humidity: </label><strong>69 %</strong></div><hr/></div><div><div class=\"SunInfo\">Sunrise: <strong>5:47 am</strong>, Sunset: <strong>6:35 pm</strong></div><div><a href=\"city?id=28\">Read More...</a></div></div></div></div></div></div><div class=\"item\"><img data-src=\"holder.js/749x500/audo/#666:#6a6a/text:SomeText\" src=\"/mfd.gov.np/_files/bf0ccd1466119e6785c7bc576b88851e.jpg\"></img><div class=\"container\"><div class=\"carousel-caption\"><div class=\"station-highlight\"><a href=\"city?id=31\"><h1>Kathmandu</h1></a><div class=\"WeatherNow\"><img src=\"/mfd.gov.np/_req/weather_icons/3-sun-64.png\" /><div>At <strong>5:45 pm</strong>,</div><div><label>Temperature: </label><strong>24.8 °C</strong></div><div><label>Humidity: </label><strong>80 %</strong></div><hr/></div><div><div class=\"SunInfo\">Sunrise: <strong>5:41 am</strong>, Sunset: <strong>6:28 pm</strong></div><div><a href=\"city?id=31\">Read More...</a></div></div></div></div></div></div><div class=\"item\"><img data-src=\"holder.js/749x500/audo/#666:#6a6a/text:SomeText\" src=\"/mfd.gov.np/_files/8e9309b9514a49e5b0d09ab5139fe108.jpg\"></img><div class=\"container\"><div class=\"carousel-caption\"><div class=\"station-highlight\"><a href=\"city?id=33\"><h1>Dhankuta</h1></a><div class=\"WeatherNow\"><img src=\"/mfd.gov.np/_req/weather_icons/2-sun-64.png\" /><div>At <strong>5:45 pm</strong>,</div><div><label>Temperature: </label><strong>23.8 °C</strong></div><div><label>Humidity: </label><strong>89 %</strong></div><hr/></div><div><div class=\"SunInfo\">Sunrise: <strong>5:34 am</strong>, Sunset: <strong>6:20 pm</strong></div><div><a href=\"city?id=33\">Read More...</a></div></div></div></div></div></div></div><a class=\"left carousel-control\" href=\"#mainCarousel\" data-slide=\"prev\"><span class=\"glyphicon glyphicon-chevron-left\"></span></a><a class=\"right carousel-control\" href=\"#mainCarousel\" data-slide=\"next\"><span class=\"glyphicon glyphicon-chevron-right\"></span></a></DIV><DIV class=\"container main-body\"><div class=\"row\"><div class=\"col-md-4\"><DIV class=\"highlight-box forecast-box\"><h3>Forecasts <em>2017-08-29 18:00 NPT</em></h3><div></div><div class=\"carousel slide\" data-ride=\"carousel\" id=\"forecast_carousel_1\"><ol class=\"carousel-indicators\"><li data-target=\"#forecast_carousel_1\" data-slide-to=\"0\" data-ride=\"carousel\" data-toggle=\"tooltip\" data-placement=\"top\" title=\"Nepal\" class=\"active\"></li></ol><div class=\"carousel-inner\"><div class=\"item active\"><div><h4>Nepal</h4><b>Tonight</b><p>Generally cloudy throughout the country. Light rain likely to occur at some places of the hilly regions. </p><b>Tomorrow</b><p>Generally cloudy throughout the country. Light rain likely to occur at some places in the country. </p></div></div></div><div class=\"text-center\"><a class=\"btn btn-info\" href=\"/weather/#forecasts\">More detail...</a></div></div></DIV></div><div class=\"col-md-4\"><DIV class=\"highlight-box forecast-box\"><h3>Mountain <em>2017-08-29 18:00 NPT</em></h3><div class=\"carousel slide\" data-ride=\"carousel\" id=\"forecast_carousel_2\"><ol class=\"carousel-indicators\"><li data-target=\"#forecast_carousel_2\" data-slide-to=\"0\" data-ride=\"carousel\" data-toggle=\"tooltip\" data-placement=\"top\" class=\"active\"></li></ol><div class=\"carousel-inner\"><div class=\"item active\"><div><h4>Forecasts for Expedition</h4><b>Western Region</b><p>Generally cloudy with chances of light snowfall at a few places.</p><b>Central Region</b><p>Generally cloudy with chances of light snowfall at a few places.</p><b>Eastern Region</b><p>Generally cloudy with chances of light snowfall at a few places.</p><p style=\"border-top: 1px solid #eee; text-align:center\"><small>Valid for next 24 hours</small></p></div></div></div><div class=\"text-center\"><a class=\"btn btn-info\" href=\"/mountaineering\">More detail...</a></div></div></DIV></div><div class=\"col-md-4\"><DIV class=\"highlight-box recent-news-box\"><h3>NWP Products</h3><div class=\"content\" style=\"text-align:center\"><a href=\"/nwp/\"><img src=\"/mfd.gov.np/_nwp/prec1h_0001.png\" height=\"350px\"></img></a></div></DIV></div></div><div class=\"row\"><div class=\"col-md-4\"><DIV class=\"highlight-box weather-data-table\"><h3>Observations <em>2017-08-29 17:45 NPT</em></h3><table class=\"table\" style=\"margin-bottom: 0px\"><tr><th>Station</th><th class=\"center\">Maximum Temp.<br/>(°C)</th><th class=\"center\">Minimum Temp.<br/>(°C)</th><th class=\"center\">24 hrs Rainfall<br/>(mm)</th></tr><tr><td>Dipayal</td><td class=\"center\">35.8</td><td class=\"center\">23.0</td><td class=\"center\">0.0</td></tr><tr><td>Dadeldhura</td><td class=\"center\">26.0</td><td class=\"center\">17.6</td><td class=\"center\">6.8</td></tr><tr><td>Dhangadi</td><td class=\"center\">35.0</td><td class=\"center\">26.2</td><td class=\"center\">0.0</td></tr><tr><td>Birendranagar</td><td class=\"center\">32.7</td><td class=\"center\">22.8</td><td class=\"center\">0.0</td></tr><tr><td>Nepalgunj</td><td class=\"center\">34.6</td><td class=\"center\">25.2</td><td class=\"center\">0.0</td></tr><tr><td>Jumla</td><td class=\"center\">25.3</td><td class=\"center\">15.8</td><td class=\"center\">13.9</td></tr><tr><td>Dang</td><td class=\"center\">31.3</td><td class=\"center\">23.5</td><td class=\"center\">0.6</td></tr><tr><td>Pokhara</td><td class=\"center\">32.3</td><td class=\"center\">23.5</td><td class=\"center\">0.0</td></tr><tr><td>Bhairahawa</td><td class=\"center\">-</td><td class=\"center\">27.0</td><td class=\"center\">-</td></tr><tr><td>Simara</td><td class=\"center\">34.0</td><td class=\"center\">26.8</td><td class=\"center\">0.0</td></tr><tr><td>Kathmandu</td><td class=\"center\">29.5</td><td class=\"center\">19.4</td><td class=\"center\">0.0</td></tr><tr><td>Okhaldhunga</td><td class=\"center\">25.7</td><td class=\"center\">17.0</td><td class=\"center\">0.0</td></tr><tr><td>Taplejung</td><td class=\"center\">27.4</td><td class=\"center\">18.6</td><td class=\"center\">0.0</td></tr><tr><td>Dhankuta</td><td class=\"center\">28.4</td><td class=\"center\">19.9</td><td class=\"center\">2.1</td></tr><tr><td>Biratnagar</td><td class=\"center\">34.5</td><td class=\"center\">26.2</td><td class=\"center\">0.0</td></tr><tr><td>Jomsom</td><td class=\"center\">22.0</td><td class=\"center\">13.0</td><td class=\"center\">5.5*</td></tr><tr><td>Dharan</td><td class=\"center\">33.5</td><td class=\"center\">24.5</td><td class=\"center\">14.4*</td></tr><tr><td>Lumle</td><td class=\"center\">24.0</td><td class=\"center\">18.1</td><td class=\"center\">3.5*</td></tr><tr><td>Jankapur</td><td class=\"center\">34.2</td><td class=\"center\">27.2</td><td class=\"center\">Traces*</td></tr><tr><td>Jiri</td><td class=\"center\">24.4</td><td class=\"center\">16.1</td><td class=\"center\">2.3*</td></tr><tr><td align=\"right\" colspan=\"4\"><small>* Daily rainfall data ending at 08:45 AM NPT</small></td></tr></table></DIV></div><div class=\"col-md-4\"><DIV class=\"highlight-box recent-news-box\"><h3>Recent News and Releases</h3><div class=\"content\"><div class=\"content-preview\"><a href=\"/content/?id=308\"><img class=\"thumb-left\"></img></a><div class=\"content-preview-text\"><h4><a href=\"/content/?id=308\">Monsoon Update</a></h4><p>मनसूनी न्यून चापीय रेखा अहिले नेपालको पहाडी क्षेत्र नजिकै रहेको र न्यून चापीय प्रणाली मध्य तथा आसपासको भागहरुमा बिध्यमान रहेको देखिन्छ |</p></div></div><div class=\"content-preview\"><a href=\"/content/?id=306\"><img class=\"thumb-right\"></img></a><div class=\"content-preview-text\"><h4><a href=\"/content/?id=306\">Monsoon Update 2017 </a></h4><p>मनसूनी न्यून चापीय रेखा अहिले नेपालको पहाडी क्षेत्र नजिकै रहेको र न्यून चापीय प्रणाली मध्य तथा आसपासको भागहरुमा बिध्यमान रहेको देखिन्छ |</p></div></div><div class=\"content-preview\"><a href=\"/content/?id=264\"><img class=\"thumb-left\"></img></a><div class=\"content-preview-text\"><h4><a href=\"/content/?id=264\">मनसुन सम्बन्धि अपडेट</a></h4><p>मनसुन सम्बन्धि अपडेट</p></div></div><div class=\"content-preview\"><a href=\"/content/?id=261\"><img class=\"thumb-right\"></img></a><div class=\"content-preview-text\"><h4><a href=\"/content/?id=261\">Monsoon Onset in Nepal (2017)</a></h4><p>हिजो, जेठ २९ गते (१२ जुन) बाट नेपालको पूर्वी भागमा मनसुन प्रवेश गरेको छ। तथापि, मनसुन पू्र्णरूपमा सक्रिय हुन र देशका बांकी भागमा फैलन अझै केहि दिन लाग्ने अनुमान छ।</p></div></div><div class=\"content-preview\"><a href=\"/content/?id=260\"><img class=\"thumb-left\"></img></a><div class=\"content-preview-text\"><h4><a href=\"/content/?id=260\">2. Monsoon Watch (2017)</a></h4><p>सामान्यतया नेपालमा मनसुन १० जुनमा पूर्वी नेपालबाट प्रवेश गरी केहि दिनमा देशभर फैलने गर्दछ। यस वर्ष मनसुन सामान्य भन्दा केहि दिन अगाडि सुरु हुने अनुमान गरिएको थियो तथापि विगत केहि दिन देखि बङ्गालको खाडिमा न्यून चापिय क्षेत्रको विकास स्थिर रहि रहेको कारणले गर्दा नेपालमा मनसुन केहि दिन ढिलो गरि प्रवेश हुने देखिएको छ। monsoon onset सम्बन्धि थप सूचना अर्को बुलेटिनमा जानकारि गराईनेछ।</p></div></div></div></DIV></div><div class=\"col-md-4\"><div><div><DIV class=\"highlight-box satellite-box\"><h3>Satellite Image</h3><a href=\"satellite/\"><img src=\"/mfd.gov.np/_files/images/FY2E_2017_08_29_14_32_L_PJ1_IR1.JPG\"></img></a></DIV></div><div></div></div></div></div><div class=\"row\"></div></DIV><footer>\\n\\t<div class=\"container\">\\n\\t\\t<div class=\"row\">\\n\\t\\t\\t<div class=\"col-sm-6\">\\n\\t\\t\\t\\t<h3>Contact Us</h3>\\n\\t\\t\\t\\t<h4>Meteorological Forecasting Division</h4>\\n\\t\\t\\t\\t<p>Gauchar, Tribhuvan International Airport<br/>\\n\\t\\t\\t\\t\\tKathmandu, Nepal<br/>\\n\\t\\t\\t\\t\\t<abbr title=\"Phone\"><span class=\"glyphicon glyphicon-earphone\"></span></abbr>:\\n\\t\\t\\t\\t\\t+977 1 4486869<br/>\\n\\t\\t\\t\\t\\t<abbr title=\"Email\"><span class=\"glyphicon glyphicon-envelope\"></span></abbr>:\\n\\t\\t\\t\\t\\t<a href=\"mailto:info@mfd.gov.np\">info@mfd.gov.np</a>\\n\\t\\t\\t\\t</p>\\n\\t\\t\\t\\t<p><b>Please dial and listen to us for notice board service</b>\\n\\t\\t\\t\\t<dl class=\"footer-number-list dl-horizontal\">\\n\\t\\t\\t\\t\\t<dt>Kathmandu:</dt><dd>1618 07 07 33333 (for daily weather updates)</dd>\\n\\t\\t\\t\\t\\t<dt>Surkhet:</dt><dd>1618 083 523519 (for daily weather data)</dd>\\n\\t\\t\\t\\t\\t<dt>Pokhara:</dt><dd>1618 061 465299 (for daily weather data)</dd>\\n\\t\\t\\t\\t\\t<dt>Dharan:</dt><dd>1618 025 520272 (for daily weather data)</dd>\\n\\t\\t\\t\\t</dl>\\n\\t\\t\\t</div>\\n\\t\\t\\t<div class=\"col-sm-6\">\\n\\t\\t\\t\\t<h3>Links</h3>\\n\\t\\t\\t\\t<h4>\\n\\t\\t\\t\\t\\t<a target=\"_blank\" href=\"http://www.dhm.gov.np\">Department of Hydrology and\\n\\t\\t\\t\\t\\t\\tMeteorology</a>\\n\\t\\t\\t\\t</h4>\\n\\n\\t\\t\\t\\t<h4>\\n\\t\\t\\t\\t\\t<a target=\"_blank\" href=\"http://www.hydrology.gov.np\">Flood        Forecasting Division</a>\\n\\t\\t\\t\\t</h4>\\n\\t\\t\\t\\t<h4>\\n\\t\\t\\t\\t\\t<a target=\"_blank\" href=\"http://www.mope.gov.np\">Ministry of Population and Environment</a>\\n\\t\\t\\t\\t</h4>\\n\\t\\t\\t</div>\\n\\t\\t</div>\\n\\t</div>\\n<iframe src =\"http://dhm.gov.np/commonfooter.php\" style=\"width:100%; border:none\" ></iframe>\\n\\n\\n</footer>\\n<div class=\"copyright-line\">\\n\\t<div class=\"container\">\\n\\n\\t\\t<div class=\"row\">\\n\\n\\t\\t\\t<div class=\"col-sm-6\">\\n\\n\\t\\t\\t\\t<p><small>Copyright &copy; 2017 Meteorological Forecasting Divison, DHM</small></p>\\n\\t\\t\\t</div>\\n\\n\\t\\t\\t<div class=\"col-sm-6\">\\n\\n\\t\\t\\t\\t<p><small>\\n\\n\\t\\t\\t\\t\\t\\tDesigned and developed by <a href=\"http://www.rts.com.np\">Real\\n\\n\\t\\t\\t\\t\\t\\t\\tTime Solutions Pvt. Ltd.</a></small>\\n\\t\\t\\t\\t</p>\\n\\t\\t\\t</div>\\n\\t\\t</div>\\n\\t</div>\\n</div>\\n<script src=\"/mfd.gov.np/_jquery/jquery-1.11.0.min.js\"></script>\\n<script src=\"/mfd.gov.np/_bootstrap/js/bootstrap.min.js\"></script>\\n\\n\\n\\n<script src=\"/mfd.gov.np/_js/highstock.js\"></script>\\n\\n<script > $(\\'li\\').tooltip(); </script>\\r\\n\\t\\n<script>\\n\\t(function(i,s,o,g,r,a,m){i[\\'GoogleAnalyticsObject\\']=r;i[r]=i[r]||function(){\\n\\t\\t\\t(i[r].q=i[r].q||[]).push(arguments)},i[r].l=1*new Date();a=s.createElement(o),\\n\\t\\t\\tm=s.getElementsByTagName(o)[0];a.async=1;a.src=g;m.parentNode.insertBefore(a,m)\\n\\t})(window,document,\\'script\\',\\'//www.google-analytics.com/analytics.js\\',\\'ga\\');\\n\\n\\tga(\\'create\\', \\'UA-48154100-1\\', \\'www.mfd.gov.np\\');\\n\\tga(\\'send\\', \\'pageview\\');\\n\\n</script>\\n\\n</body>\\n</html>'"
      ]
     },
     "execution_count": 5,
     "metadata": {},
     "output_type": "execute_result"
    }
   ],
   "source": [
    "A.text"
   ]
  },
  {
   "cell_type": "markdown",
   "metadata": {},
   "source": [
    "# for table, beautifulsoup is needed"
   ]
  },
  {
   "cell_type": "code",
   "execution_count": 6,
   "metadata": {
    "collapsed": true
   },
   "outputs": [],
   "source": [
    "from bs4 import BeautifulSoup"
   ]
  },
  {
   "cell_type": "code",
   "execution_count": 7,
   "metadata": {
    "collapsed": true
   },
   "outputs": [],
   "source": [
    "soup=BeautifulSoup(A.text,\"html5lib\")"
   ]
  },
  {
   "cell_type": "code",
   "execution_count": 8,
   "metadata": {},
   "outputs": [
    {
     "data": {
      "text/plain": [
       "<!DOCTYPE html>\n",
       "<html><head>\n",
       "<title>Meteorological Forecasting Division</title>\n",
       "\n",
       "\t<meta content=\"width=device-width, initial-scale=1.0, user-scalable=no\" name=\"viewport\"/>\n",
       "  <meta content=\"text/html;charset=utf-8\" http-equiv=\"Content-Type\"/>\n",
       "\t<link href=\"/mfd.gov.np/_bootstrap/css/bootstrap.css\" rel=\"stylesheet\"/>\n",
       "\t<link href=\"/mfd.gov.np/_stylesheets/mfd.css\" rel=\"stylesheet\"/>\n",
       "\t<link href=\"/mfd.gov.np/_req/favicon.png\" rel=\"icon\" type=\"image/png\"/>\n",
       "\t\t\t\t\t\t\n",
       "\t<!-- HTML5 Shim and Respond.js IE8 support of HTML5 elements and media queries -->\n",
       "    <!-- WARNING: Respond.js doesn't work if you view the page via file:// -->\n",
       "    <!--[if lt IE 9]>\n",
       "\t<script src=\"/mfd.gov.np/_js/html5shiv.js\"></script>\n",
       "\t<script src=\"/mfd.gov.np/_js/respond.min.js\"></script>\n",
       "\n",
       "\n",
       "\t<![endif]-->\n",
       "<style>\n",
       "@media (min-width: 768px){\n",
       "\t.navbar-static-top {\n",
       "\t\tborder-radius: 6px;\n",
       "\t}\n",
       "}\n",
       "</style>\n",
       "</head>\n",
       "\n",
       "<body>\n",
       "<div class=\"site-header\">\n",
       "\t<div class=\"container\">\n",
       "\t <div class=\"col-sm-4\">\n",
       "\t\t<img src=\"/mfd.gov.np/_req/logo.png\" width=\"64px\"/>\n",
       "\t\t<h2 style=\"margin-bottom: 5px\">Government of Nepal</h2>\n",
       "\t\t<h2>Department of Hydrology and Meteorology</h2>\n",
       "\t\t<h1>Meteorological Forecasting Division</h1>\n",
       "\t </div>\n",
       "\t \n",
       "\t <div class=\"col-sm-8\" style=\"padding-top:10px;\">\n",
       "\t \n",
       "\t \n",
       "\t \t<div class=\"navbar navbar-inverse navbar-static-top\" role=\"navigation\">\n",
       "\t\t\t<div class=\"navbar-header\">\n",
       "\t\t\t\t<button class=\"navbar-toggle\" data-target=\".navbar-collapse\" data-toggle=\"collapse\" type=\"button\">\n",
       "\t\t\t\t\t<span class=\"sr-only\">Toggle navigation</span> <span class=\"icon-bar\"></span> <span class=\"icon-bar\"></span> <span class=\"icon-bar\"></span>\n",
       "\t\t\t\t</button>\n",
       "\t\t\t\t<!-- <a class=\"navbar-brand\" href=\"#\">MFD</a> -->\n",
       "\t\t\t</div>\n",
       "\t\t\t<div class=\"navbar-collapse collapse\">\n",
       "\t\t\t\t<ul class=\"nav navbar-nav\">\n",
       "\t\t\t\t\t<li><a href=\"/\">Home</a></li><li><a href=\"/weather/\">Weather</a></li><li><a href=\"/nwp/\">NWP</a></li><li><a href=\"/satellite/\">Satellite</a></li><li><a href=\"/mountaineering/\">Mountaineering</a></li><li><a href=\"/report/\">Archives</a></li>\n",
       "\t\t\t\t</ul>\n",
       "\t\t\t</div>\n",
       "\t\t</div>\n",
       "\t \n",
       "\t </div>\n",
       "\t \n",
       "\t</div>\n",
       "\n",
       "</div>\n",
       "\t\n",
       "<div class=\"carousel slide\" data-ride=\"carousel\" id=\"mainCarousel\"><ol class=\"carousel-indicators\"><li class=\"active\" data-ride=\"carousel\" data-slide-to=\"0\" data-target=\"#mainCarousel\"></li><li data-ride=\"carousel\" data-slide-to=\"1\" data-target=\"#mainCarousel\"></li><li data-ride=\"carousel\" data-slide-to=\"2\" data-target=\"#mainCarousel\"></li><li data-ride=\"carousel\" data-slide-to=\"3\" data-target=\"#mainCarousel\"></li><li data-ride=\"carousel\" data-slide-to=\"4\" data-target=\"#mainCarousel\"></li></ol><div class=\"carousel-inner\"><div class=\"item active\"><img data-src=\"holder.js/749x500/audo/#666:#6a6a/text:SomeText\" src=\"/mfd.gov.np/_files/e0653490535cdd82fe487260b6c6f6f5.png\"/><div class=\"container\"><div class=\"carousel-caption\"><div class=\"station-highlight\"><a href=\"city?id=22\"><h1>Dipayal</h1></a><div class=\"WeatherNow\"><img src=\"/mfd.gov.np/_req/weather_icons/2-sun-64.png\"/><div>At <strong>5:45 pm</strong>,</div><div><label>Temperature: </label><strong>30.6 °C</strong></div><div><label>Humidity: </label><strong>75 %</strong></div><hr/></div><div><div class=\"SunInfo\">Sunrise: <strong>5:58 am</strong>, Sunset: <strong>6:48 pm</strong></div><div><a href=\"city?id=22\">Read More...</a></div></div></div></div></div></div><div class=\"item\"><img data-src=\"holder.js/749x500/audo/#666:#6a6a/text:SomeText\" src=\"/mfd.gov.np/_files/f927b55f77a8cf4ad32cdd88d3b6feae.jpg\"/><div class=\"container\"><div class=\"carousel-caption\"><div class=\"station-highlight\"><a href=\"city?id=24\"><h1>Birendranagar</h1></a><div class=\"WeatherNow\"><img src=\"/mfd.gov.np/_req/weather_icons/2-sun-64.png\"/><div>At <strong>5:45 pm</strong>,</div><div><label>Temperature: </label><strong>28.8 °C</strong></div><div><label>Humidity: </label><strong>79 %</strong></div><hr/></div><div><div class=\"SunInfo\">Sunrise: <strong>5:56 am</strong>, Sunset: <strong>6:44 pm</strong></div><div><a href=\"city?id=24\">Read More...</a></div></div></div></div></div></div><div class=\"item\"><img data-src=\"holder.js/749x500/audo/#666:#6a6a/text:SomeText\" src=\"/mfd.gov.np/_files/0f8207ee86bf76097055c962df157415.jpg\"/><div class=\"container\"><div class=\"carousel-caption\"><div class=\"station-highlight\"><a href=\"city?id=28\"><h1>Pokhara</h1></a><div class=\"WeatherNow\"><img src=\"/mfd.gov.np/_req/weather_icons/2-sun-64.png\"/><div>At <strong>5:45 pm</strong>,</div><div><label>Temperature: </label><strong>30.1 °C</strong></div><div><label>Humidity: </label><strong>69 %</strong></div><hr/></div><div><div class=\"SunInfo\">Sunrise: <strong>5:47 am</strong>, Sunset: <strong>6:35 pm</strong></div><div><a href=\"city?id=28\">Read More...</a></div></div></div></div></div></div><div class=\"item\"><img data-src=\"holder.js/749x500/audo/#666:#6a6a/text:SomeText\" src=\"/mfd.gov.np/_files/bf0ccd1466119e6785c7bc576b88851e.jpg\"/><div class=\"container\"><div class=\"carousel-caption\"><div class=\"station-highlight\"><a href=\"city?id=31\"><h1>Kathmandu</h1></a><div class=\"WeatherNow\"><img src=\"/mfd.gov.np/_req/weather_icons/3-sun-64.png\"/><div>At <strong>5:45 pm</strong>,</div><div><label>Temperature: </label><strong>24.8 °C</strong></div><div><label>Humidity: </label><strong>80 %</strong></div><hr/></div><div><div class=\"SunInfo\">Sunrise: <strong>5:41 am</strong>, Sunset: <strong>6:28 pm</strong></div><div><a href=\"city?id=31\">Read More...</a></div></div></div></div></div></div><div class=\"item\"><img data-src=\"holder.js/749x500/audo/#666:#6a6a/text:SomeText\" src=\"/mfd.gov.np/_files/8e9309b9514a49e5b0d09ab5139fe108.jpg\"/><div class=\"container\"><div class=\"carousel-caption\"><div class=\"station-highlight\"><a href=\"city?id=33\"><h1>Dhankuta</h1></a><div class=\"WeatherNow\"><img src=\"/mfd.gov.np/_req/weather_icons/2-sun-64.png\"/><div>At <strong>5:45 pm</strong>,</div><div><label>Temperature: </label><strong>23.8 °C</strong></div><div><label>Humidity: </label><strong>89 %</strong></div><hr/></div><div><div class=\"SunInfo\">Sunrise: <strong>5:34 am</strong>, Sunset: <strong>6:20 pm</strong></div><div><a href=\"city?id=33\">Read More...</a></div></div></div></div></div></div></div><a class=\"left carousel-control\" data-slide=\"prev\" href=\"#mainCarousel\"><span class=\"glyphicon glyphicon-chevron-left\"></span></a><a class=\"right carousel-control\" data-slide=\"next\" href=\"#mainCarousel\"><span class=\"glyphicon glyphicon-chevron-right\"></span></a></div><div class=\"container main-body\"><div class=\"row\"><div class=\"col-md-4\"><div class=\"highlight-box forecast-box\"><h3>Forecasts <em>2017-08-29 18:00 NPT</em></h3><div></div><div class=\"carousel slide\" data-ride=\"carousel\" id=\"forecast_carousel_1\"><ol class=\"carousel-indicators\"><li class=\"active\" data-placement=\"top\" data-ride=\"carousel\" data-slide-to=\"0\" data-target=\"#forecast_carousel_1\" data-toggle=\"tooltip\" title=\"Nepal\"></li></ol><div class=\"carousel-inner\"><div class=\"item active\"><div><h4>Nepal</h4><b>Tonight</b><p>Generally cloudy throughout the country. Light rain likely to occur at some places of the hilly regions. </p><b>Tomorrow</b><p>Generally cloudy throughout the country. Light rain likely to occur at some places in the country. </p></div></div></div><div class=\"text-center\"><a class=\"btn btn-info\" href=\"/weather/#forecasts\">More detail...</a></div></div></div></div><div class=\"col-md-4\"><div class=\"highlight-box forecast-box\"><h3>Mountain <em>2017-08-29 18:00 NPT</em></h3><div class=\"carousel slide\" data-ride=\"carousel\" id=\"forecast_carousel_2\"><ol class=\"carousel-indicators\"><li class=\"active\" data-placement=\"top\" data-ride=\"carousel\" data-slide-to=\"0\" data-target=\"#forecast_carousel_2\" data-toggle=\"tooltip\"></li></ol><div class=\"carousel-inner\"><div class=\"item active\"><div><h4>Forecasts for Expedition</h4><b>Western Region</b><p>Generally cloudy with chances of light snowfall at a few places.</p><b>Central Region</b><p>Generally cloudy with chances of light snowfall at a few places.</p><b>Eastern Region</b><p>Generally cloudy with chances of light snowfall at a few places.</p><p style=\"border-top: 1px solid #eee; text-align:center\"><small>Valid for next 24 hours</small></p></div></div></div><div class=\"text-center\"><a class=\"btn btn-info\" href=\"/mountaineering\">More detail...</a></div></div></div></div><div class=\"col-md-4\"><div class=\"highlight-box recent-news-box\"><h3>NWP Products</h3><div class=\"content\" style=\"text-align:center\"><a href=\"/nwp/\"><img height=\"350px\" src=\"/mfd.gov.np/_nwp/prec1h_0001.png\"/></a></div></div></div></div><div class=\"row\"><div class=\"col-md-4\"><div class=\"highlight-box weather-data-table\"><h3>Observations <em>2017-08-29 17:45 NPT</em></h3><table class=\"table\" style=\"margin-bottom: 0px\"><tbody><tr><th>Station</th><th class=\"center\">Maximum Temp.<br/>(°C)</th><th class=\"center\">Minimum Temp.<br/>(°C)</th><th class=\"center\">24 hrs Rainfall<br/>(mm)</th></tr><tr><td>Dipayal</td><td class=\"center\">35.8</td><td class=\"center\">23.0</td><td class=\"center\">0.0</td></tr><tr><td>Dadeldhura</td><td class=\"center\">26.0</td><td class=\"center\">17.6</td><td class=\"center\">6.8</td></tr><tr><td>Dhangadi</td><td class=\"center\">35.0</td><td class=\"center\">26.2</td><td class=\"center\">0.0</td></tr><tr><td>Birendranagar</td><td class=\"center\">32.7</td><td class=\"center\">22.8</td><td class=\"center\">0.0</td></tr><tr><td>Nepalgunj</td><td class=\"center\">34.6</td><td class=\"center\">25.2</td><td class=\"center\">0.0</td></tr><tr><td>Jumla</td><td class=\"center\">25.3</td><td class=\"center\">15.8</td><td class=\"center\">13.9</td></tr><tr><td>Dang</td><td class=\"center\">31.3</td><td class=\"center\">23.5</td><td class=\"center\">0.6</td></tr><tr><td>Pokhara</td><td class=\"center\">32.3</td><td class=\"center\">23.5</td><td class=\"center\">0.0</td></tr><tr><td>Bhairahawa</td><td class=\"center\">-</td><td class=\"center\">27.0</td><td class=\"center\">-</td></tr><tr><td>Simara</td><td class=\"center\">34.0</td><td class=\"center\">26.8</td><td class=\"center\">0.0</td></tr><tr><td>Kathmandu</td><td class=\"center\">29.5</td><td class=\"center\">19.4</td><td class=\"center\">0.0</td></tr><tr><td>Okhaldhunga</td><td class=\"center\">25.7</td><td class=\"center\">17.0</td><td class=\"center\">0.0</td></tr><tr><td>Taplejung</td><td class=\"center\">27.4</td><td class=\"center\">18.6</td><td class=\"center\">0.0</td></tr><tr><td>Dhankuta</td><td class=\"center\">28.4</td><td class=\"center\">19.9</td><td class=\"center\">2.1</td></tr><tr><td>Biratnagar</td><td class=\"center\">34.5</td><td class=\"center\">26.2</td><td class=\"center\">0.0</td></tr><tr><td>Jomsom</td><td class=\"center\">22.0</td><td class=\"center\">13.0</td><td class=\"center\">5.5*</td></tr><tr><td>Dharan</td><td class=\"center\">33.5</td><td class=\"center\">24.5</td><td class=\"center\">14.4*</td></tr><tr><td>Lumle</td><td class=\"center\">24.0</td><td class=\"center\">18.1</td><td class=\"center\">3.5*</td></tr><tr><td>Jankapur</td><td class=\"center\">34.2</td><td class=\"center\">27.2</td><td class=\"center\">Traces*</td></tr><tr><td>Jiri</td><td class=\"center\">24.4</td><td class=\"center\">16.1</td><td class=\"center\">2.3*</td></tr><tr><td align=\"right\" colspan=\"4\"><small>* Daily rainfall data ending at 08:45 AM NPT</small></td></tr></tbody></table></div></div><div class=\"col-md-4\"><div class=\"highlight-box recent-news-box\"><h3>Recent News and Releases</h3><div class=\"content\"><div class=\"content-preview\"><a href=\"/content/?id=308\"><img class=\"thumb-left\"/></a><div class=\"content-preview-text\"><h4><a href=\"/content/?id=308\">Monsoon Update</a></h4><p>मनसूनी न्यून चापीय रेखा अहिले नेपालको पहाडी क्षेत्र नजिकै रहेको र न्यून चापीय प्रणाली मध्य तथा आसपासको भागहरुमा बिध्यमान रहेको देखिन्छ |</p></div></div><div class=\"content-preview\"><a href=\"/content/?id=306\"><img class=\"thumb-right\"/></a><div class=\"content-preview-text\"><h4><a href=\"/content/?id=306\">Monsoon Update 2017 </a></h4><p>मनसूनी न्यून चापीय रेखा अहिले नेपालको पहाडी क्षेत्र नजिकै रहेको र न्यून चापीय प्रणाली मध्य तथा आसपासको भागहरुमा बिध्यमान रहेको देखिन्छ |</p></div></div><div class=\"content-preview\"><a href=\"/content/?id=264\"><img class=\"thumb-left\"/></a><div class=\"content-preview-text\"><h4><a href=\"/content/?id=264\">मनसुन सम्बन्धि अपडेट</a></h4><p>मनसुन सम्बन्धि अपडेट</p></div></div><div class=\"content-preview\"><a href=\"/content/?id=261\"><img class=\"thumb-right\"/></a><div class=\"content-preview-text\"><h4><a href=\"/content/?id=261\">Monsoon Onset in Nepal (2017)</a></h4><p>हिजो, जेठ २९ गते (१२ जुन) बाट नेपालको पूर्वी भागमा मनसुन प्रवेश गरेको छ। तथापि, मनसुन पू्र्णरूपमा सक्रिय हुन र देशका बांकी भागमा फैलन अझै केहि दिन लाग्ने अनुमान छ।</p></div></div><div class=\"content-preview\"><a href=\"/content/?id=260\"><img class=\"thumb-left\"/></a><div class=\"content-preview-text\"><h4><a href=\"/content/?id=260\">2. Monsoon Watch (2017)</a></h4><p>सामान्यतया नेपालमा मनसुन १० जुनमा पूर्वी नेपालबाट प्रवेश गरी केहि दिनमा देशभर फैलने गर्दछ। यस वर्ष मनसुन सामान्य भन्दा केहि दिन अगाडि सुरु हुने अनुमान गरिएको थियो तथापि विगत केहि दिन देखि बङ्गालको खाडिमा न्यून चापिय क्षेत्रको विकास स्थिर रहि रहेको कारणले गर्दा नेपालमा मनसुन केहि दिन ढिलो गरि प्रवेश हुने देखिएको छ। monsoon onset सम्बन्धि थप सूचना अर्को बुलेटिनमा जानकारि गराईनेछ।</p></div></div></div></div></div><div class=\"col-md-4\"><div><div><div class=\"highlight-box satellite-box\"><h3>Satellite Image</h3><a href=\"satellite/\"><img src=\"/mfd.gov.np/_files/images/FY2E_2017_08_29_14_32_L_PJ1_IR1.JPG\"/></a></div></div><div></div></div></div></div><div class=\"row\"></div></div><footer>\n",
       "\t<div class=\"container\">\n",
       "\t\t<div class=\"row\">\n",
       "\t\t\t<div class=\"col-sm-6\">\n",
       "\t\t\t\t<h3>Contact Us</h3>\n",
       "\t\t\t\t<h4>Meteorological Forecasting Division</h4>\n",
       "\t\t\t\t<p>Gauchar, Tribhuvan International Airport<br/>\n",
       "\t\t\t\t\tKathmandu, Nepal<br/>\n",
       "\t\t\t\t\t<abbr title=\"Phone\"><span class=\"glyphicon glyphicon-earphone\"></span></abbr>:\n",
       "\t\t\t\t\t+977 1 4486869<br/>\n",
       "\t\t\t\t\t<abbr title=\"Email\"><span class=\"glyphicon glyphicon-envelope\"></span></abbr>:\n",
       "\t\t\t\t\t<a href=\"mailto:info@mfd.gov.np\">info@mfd.gov.np</a>\n",
       "\t\t\t\t</p>\n",
       "\t\t\t\t<p><b>Please dial and listen to us for notice board service</b>\n",
       "\t\t\t\t</p><dl class=\"footer-number-list dl-horizontal\">\n",
       "\t\t\t\t\t<dt>Kathmandu:</dt><dd>1618 07 07 33333 (for daily weather updates)</dd>\n",
       "\t\t\t\t\t<dt>Surkhet:</dt><dd>1618 083 523519 (for daily weather data)</dd>\n",
       "\t\t\t\t\t<dt>Pokhara:</dt><dd>1618 061 465299 (for daily weather data)</dd>\n",
       "\t\t\t\t\t<dt>Dharan:</dt><dd>1618 025 520272 (for daily weather data)</dd>\n",
       "\t\t\t\t</dl>\n",
       "\t\t\t</div>\n",
       "\t\t\t<div class=\"col-sm-6\">\n",
       "\t\t\t\t<h3>Links</h3>\n",
       "\t\t\t\t<h4>\n",
       "\t\t\t\t\t<a href=\"http://www.dhm.gov.np\" target=\"_blank\">Department of Hydrology and\n",
       "\t\t\t\t\t\tMeteorology</a>\n",
       "\t\t\t\t</h4>\n",
       "\n",
       "\t\t\t\t<h4>\n",
       "\t\t\t\t\t<a href=\"http://www.hydrology.gov.np\" target=\"_blank\">Flood        Forecasting Division</a>\n",
       "\t\t\t\t</h4>\n",
       "\t\t\t\t<h4>\n",
       "\t\t\t\t\t<a href=\"http://www.mope.gov.np\" target=\"_blank\">Ministry of Population and Environment</a>\n",
       "\t\t\t\t</h4>\n",
       "\t\t\t</div>\n",
       "\t\t</div>\n",
       "\t</div>\n",
       "<iframe src=\"http://dhm.gov.np/commonfooter.php\" style=\"width:100%; border:none\"></iframe>\n",
       "\n",
       "\n",
       "</footer>\n",
       "<div class=\"copyright-line\">\n",
       "\t<div class=\"container\">\n",
       "\n",
       "\t\t<div class=\"row\">\n",
       "\n",
       "\t\t\t<div class=\"col-sm-6\">\n",
       "\n",
       "\t\t\t\t<p><small>Copyright © 2017 Meteorological Forecasting Divison, DHM</small></p>\n",
       "\t\t\t</div>\n",
       "\n",
       "\t\t\t<div class=\"col-sm-6\">\n",
       "\n",
       "\t\t\t\t<p><small>\n",
       "\n",
       "\t\t\t\t\t\tDesigned and developed by <a href=\"http://www.rts.com.np\">Real\n",
       "\n",
       "\t\t\t\t\t\t\tTime Solutions Pvt. Ltd.</a></small>\n",
       "\t\t\t\t</p>\n",
       "\t\t\t</div>\n",
       "\t\t</div>\n",
       "\t</div>\n",
       "</div>\n",
       "<script src=\"/mfd.gov.np/_jquery/jquery-1.11.0.min.js\"></script>\n",
       "<script src=\"/mfd.gov.np/_bootstrap/js/bootstrap.min.js\"></script>\n",
       "\n",
       "\n",
       "\n",
       "<script src=\"/mfd.gov.np/_js/highstock.js\"></script>\n",
       "\n",
       "<script> $('li').tooltip(); </script>\n",
       "\t\n",
       "<script>\n",
       "\t(function(i,s,o,g,r,a,m){i['GoogleAnalyticsObject']=r;i[r]=i[r]||function(){\n",
       "\t\t\t(i[r].q=i[r].q||[]).push(arguments)},i[r].l=1*new Date();a=s.createElement(o),\n",
       "\t\t\tm=s.getElementsByTagName(o)[0];a.async=1;a.src=g;m.parentNode.insertBefore(a,m)\n",
       "\t})(window,document,'script','//www.google-analytics.com/analytics.js','ga');\n",
       "\n",
       "\tga('create', 'UA-48154100-1', 'www.mfd.gov.np');\n",
       "\tga('send', 'pageview');\n",
       "\n",
       "</script>\n",
       "\n",
       "\n",
       "</body></html>"
      ]
     },
     "execution_count": 8,
     "metadata": {},
     "output_type": "execute_result"
    }
   ],
   "source": [
    "soup\n"
   ]
  },
  {
   "cell_type": "code",
   "execution_count": 9,
   "metadata": {
    "collapsed": true
   },
   "outputs": [],
   "source": [
    "Table=soup.find('div', attrs={'class': 'highlight-box weather-data-table'})"
   ]
  },
  {
   "cell_type": "code",
   "execution_count": 10,
   "metadata": {},
   "outputs": [
    {
     "data": {
      "text/plain": [
       "<div class=\"highlight-box weather-data-table\"><h3>Observations <em>2017-08-29 17:45 NPT</em></h3><table class=\"table\" style=\"margin-bottom: 0px\"><tbody><tr><th>Station</th><th class=\"center\">Maximum Temp.<br/>(°C)</th><th class=\"center\">Minimum Temp.<br/>(°C)</th><th class=\"center\">24 hrs Rainfall<br/>(mm)</th></tr><tr><td>Dipayal</td><td class=\"center\">35.8</td><td class=\"center\">23.0</td><td class=\"center\">0.0</td></tr><tr><td>Dadeldhura</td><td class=\"center\">26.0</td><td class=\"center\">17.6</td><td class=\"center\">6.8</td></tr><tr><td>Dhangadi</td><td class=\"center\">35.0</td><td class=\"center\">26.2</td><td class=\"center\">0.0</td></tr><tr><td>Birendranagar</td><td class=\"center\">32.7</td><td class=\"center\">22.8</td><td class=\"center\">0.0</td></tr><tr><td>Nepalgunj</td><td class=\"center\">34.6</td><td class=\"center\">25.2</td><td class=\"center\">0.0</td></tr><tr><td>Jumla</td><td class=\"center\">25.3</td><td class=\"center\">15.8</td><td class=\"center\">13.9</td></tr><tr><td>Dang</td><td class=\"center\">31.3</td><td class=\"center\">23.5</td><td class=\"center\">0.6</td></tr><tr><td>Pokhara</td><td class=\"center\">32.3</td><td class=\"center\">23.5</td><td class=\"center\">0.0</td></tr><tr><td>Bhairahawa</td><td class=\"center\">-</td><td class=\"center\">27.0</td><td class=\"center\">-</td></tr><tr><td>Simara</td><td class=\"center\">34.0</td><td class=\"center\">26.8</td><td class=\"center\">0.0</td></tr><tr><td>Kathmandu</td><td class=\"center\">29.5</td><td class=\"center\">19.4</td><td class=\"center\">0.0</td></tr><tr><td>Okhaldhunga</td><td class=\"center\">25.7</td><td class=\"center\">17.0</td><td class=\"center\">0.0</td></tr><tr><td>Taplejung</td><td class=\"center\">27.4</td><td class=\"center\">18.6</td><td class=\"center\">0.0</td></tr><tr><td>Dhankuta</td><td class=\"center\">28.4</td><td class=\"center\">19.9</td><td class=\"center\">2.1</td></tr><tr><td>Biratnagar</td><td class=\"center\">34.5</td><td class=\"center\">26.2</td><td class=\"center\">0.0</td></tr><tr><td>Jomsom</td><td class=\"center\">22.0</td><td class=\"center\">13.0</td><td class=\"center\">5.5*</td></tr><tr><td>Dharan</td><td class=\"center\">33.5</td><td class=\"center\">24.5</td><td class=\"center\">14.4*</td></tr><tr><td>Lumle</td><td class=\"center\">24.0</td><td class=\"center\">18.1</td><td class=\"center\">3.5*</td></tr><tr><td>Jankapur</td><td class=\"center\">34.2</td><td class=\"center\">27.2</td><td class=\"center\">Traces*</td></tr><tr><td>Jiri</td><td class=\"center\">24.4</td><td class=\"center\">16.1</td><td class=\"center\">2.3*</td></tr><tr><td align=\"right\" colspan=\"4\"><small>* Daily rainfall data ending at 08:45 AM NPT</small></td></tr></tbody></table></div>"
      ]
     },
     "execution_count": 10,
     "metadata": {},
     "output_type": "execute_result"
    }
   ],
   "source": [
    "Table"
   ]
  },
  {
   "cell_type": "code",
   "execution_count": 11,
   "metadata": {
    "collapsed": true
   },
   "outputs": [],
   "source": [
    "soup1=BeautifulSoup(Table.text,\"html5lib\")"
   ]
  },
  {
   "cell_type": "code",
   "execution_count": 12,
   "metadata": {},
   "outputs": [
    {
     "data": {
      "text/plain": [
       "<html><head></head><body>Observations 2017-08-29 17:45 NPTStationMaximum Temp.(°C)Minimum Temp.(°C)24 hrs Rainfall(mm)Dipayal35.823.00.0Dadeldhura26.017.66.8Dhangadi35.026.20.0Birendranagar32.722.80.0Nepalgunj34.625.20.0Jumla25.315.813.9Dang31.323.50.6Pokhara32.323.50.0Bhairahawa-27.0-Simara34.026.80.0Kathmandu29.519.40.0Okhaldhunga25.717.00.0Taplejung27.418.60.0Dhankuta28.419.92.1Biratnagar34.526.20.0Jomsom22.013.05.5*Dharan33.524.514.4*Lumle24.018.13.5*Jankapur34.227.2Traces*Jiri24.416.12.3** Daily rainfall data ending at 08:45 AM NPT</body></html>"
      ]
     },
     "execution_count": 12,
     "metadata": {},
     "output_type": "execute_result"
    }
   ],
   "source": [
    "soup1"
   ]
  },
  {
   "cell_type": "code",
   "execution_count": 14,
   "metadata": {},
   "outputs": [
    {
     "name": "stdout",
     "output_type": "stream",
     "text": [
      "<tr><th>Station</th><th class=\"center\">Maximum Temp.<br/>(°C)</th><th class=\"center\">Minimum Temp.<br/>(°C)</th><th class=\"center\">24 hrs Rainfall<br/>(mm)</th></tr>\n"
     ]
    }
   ],
   "source": [
    "for row in Table.find('table').find('tbody').find_all('tr'):\n",
    "    print(row)\n",
    "    break"
   ]
  },
  {
   "cell_type": "code",
   "execution_count": 20,
   "metadata": {},
   "outputs": [
    {
     "name": "stdout",
     "output_type": "stream",
     "text": [
      "[<td>Dipayal</td>, <td class=\"center\">35.8</td>, <td class=\"center\">23.0</td>, <td class=\"center\">0.0</td>]\n",
      "Station Dipayal\n",
      "Maximum 35.8\n",
      "Minimum 23.0\n",
      "Rainfall 0.0\n"
     ]
    }
   ],
   "source": [
    "for row in Table .find('table').find_all('tr'):\n",
    "    if row.find('th'):\n",
    "        continue\n",
    "    tds = row.find_all('td')\n",
    "    print(tds)\n",
    "    print(\"Station\", tds[0].text)\n",
    "    print(\"Maximum\", tds[1].text)\n",
    "    print(\"Minimum\", tds[2].text)\n",
    "    print(\"Rainfall\", tds[3].text)\n",
    "    break"
   ]
  },
  {
   "cell_type": "code",
   "execution_count": 23,
   "metadata": {},
   "outputs": [],
   "source": [
    "data=[]\n",
    "for row in Table.find('table').find('tbody').find_all('tr'):\n",
    "        _rowdata = {}\n",
    "        if row.find('th'):\n",
    "            continue\n",
    "        tds = row.find_all('td')\n",
    "        if len(tds) < 4:\n",
    "            continue\n",
    "        _rowdata[\"Maximum\"] = tds[1].text.strip()\n",
    "        _rowdata[\"Minimum\"] = tds[2].text.strip()\n",
    "        _rowdata[\"Rainfall\"] = tds[3].text.strip()\n",
    "        _rowdata[\"Station\"] = tds[0].text.strip()\n",
    "        data.append(_rowdata)"
   ]
  },
  {
   "cell_type": "code",
   "execution_count": 24,
   "metadata": {},
   "outputs": [
    {
     "data": {
      "text/plain": [
       "{}"
      ]
     },
     "execution_count": 24,
     "metadata": {},
     "output_type": "execute_result"
    }
   ],
   "source": [
    "_rowdata"
   ]
  },
  {
   "cell_type": "code",
   "execution_count": null,
   "metadata": {
    "collapsed": true
   },
   "outputs": [],
   "source": []
  }
 ],
 "metadata": {
  "kernelspec": {
   "display_name": "Python 3",
   "language": "python",
   "name": "python3"
  },
  "language_info": {
   "codemirror_mode": {
    "name": "ipython",
    "version": 3
   },
   "file_extension": ".py",
   "mimetype": "text/x-python",
   "name": "python",
   "nbconvert_exporter": "python",
   "pygments_lexer": "ipython3",
   "version": "3.6.1"
  }
 },
 "nbformat": 4,
 "nbformat_minor": 2
}
